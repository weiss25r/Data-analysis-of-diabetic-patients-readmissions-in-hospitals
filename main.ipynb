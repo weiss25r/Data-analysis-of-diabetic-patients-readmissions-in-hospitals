{
 "cells": [
  {
   "cell_type": "markdown",
   "metadata": {},
   "source": [
    "# Introduction"
   ]
  },
  {
   "cell_type": "markdown",
   "metadata": {},
   "source": []
  },
  {
   "cell_type": "markdown",
   "metadata": {},
   "source": [
    "# Preparatory analysis"
   ]
  },
  {
   "cell_type": "code",
   "execution_count": 272,
   "metadata": {},
   "outputs": [],
   "source": [
    "import numpy as np\n",
    "import pandas as pd\n",
    "import matplotlib.pyplot as plt\n",
    "from scipy import stats"
   ]
  },
  {
   "cell_type": "code",
   "execution_count": 273,
   "metadata": {},
   "outputs": [],
   "source": [
    "data = pd.read_csv('data/diabetic_data.csv')"
   ]
  },
  {
   "cell_type": "code",
   "execution_count": 274,
   "metadata": {},
   "outputs": [],
   "source": [
    "data.rename(columns={'glyburide-metformin':'glyburide_metformin', 'glipizide-metformin': 'glipizide_metformin', \n",
    "             'glimepiride-pioglitazone': 'glimepiride_pioglitazone', 'metformin-rosiglitazone': 'metformin_rosiglitazone', \n",
    "             'metformin-pioglitazone': 'metformin_pioglitazone'}, inplace=True)"
   ]
  },
  {
   "cell_type": "code",
   "execution_count": 275,
   "metadata": {},
   "outputs": [
    {
     "data": {
      "text/html": [
       "<div>\n",
       "<style scoped>\n",
       "    .dataframe tbody tr th:only-of-type {\n",
       "        vertical-align: middle;\n",
       "    }\n",
       "\n",
       "    .dataframe tbody tr th {\n",
       "        vertical-align: top;\n",
       "    }\n",
       "\n",
       "    .dataframe thead th {\n",
       "        text-align: right;\n",
       "    }\n",
       "</style>\n",
       "<table border=\"1\" class=\"dataframe\">\n",
       "  <thead>\n",
       "    <tr style=\"text-align: right;\">\n",
       "      <th></th>\n",
       "      <th>encounter_id</th>\n",
       "      <th>patient_nbr</th>\n",
       "      <th>race</th>\n",
       "      <th>gender</th>\n",
       "      <th>age</th>\n",
       "      <th>weight</th>\n",
       "      <th>admission_type_id</th>\n",
       "      <th>discharge_disposition_id</th>\n",
       "      <th>admission_source_id</th>\n",
       "      <th>time_in_hospital</th>\n",
       "      <th>...</th>\n",
       "      <th>citoglipton</th>\n",
       "      <th>insulin</th>\n",
       "      <th>glyburide_metformin</th>\n",
       "      <th>glipizide_metformin</th>\n",
       "      <th>glimepiride_pioglitazone</th>\n",
       "      <th>metformin_rosiglitazone</th>\n",
       "      <th>metformin_pioglitazone</th>\n",
       "      <th>change</th>\n",
       "      <th>diabetesMed</th>\n",
       "      <th>readmitted</th>\n",
       "    </tr>\n",
       "  </thead>\n",
       "  <tbody>\n",
       "    <tr>\n",
       "      <th>0</th>\n",
       "      <td>2278392</td>\n",
       "      <td>8222157</td>\n",
       "      <td>Caucasian</td>\n",
       "      <td>Female</td>\n",
       "      <td>[0-10)</td>\n",
       "      <td>?</td>\n",
       "      <td>6</td>\n",
       "      <td>25</td>\n",
       "      <td>1</td>\n",
       "      <td>1</td>\n",
       "      <td>...</td>\n",
       "      <td>No</td>\n",
       "      <td>No</td>\n",
       "      <td>No</td>\n",
       "      <td>No</td>\n",
       "      <td>No</td>\n",
       "      <td>No</td>\n",
       "      <td>No</td>\n",
       "      <td>No</td>\n",
       "      <td>No</td>\n",
       "      <td>NO</td>\n",
       "    </tr>\n",
       "    <tr>\n",
       "      <th>1</th>\n",
       "      <td>149190</td>\n",
       "      <td>55629189</td>\n",
       "      <td>Caucasian</td>\n",
       "      <td>Female</td>\n",
       "      <td>[10-20)</td>\n",
       "      <td>?</td>\n",
       "      <td>1</td>\n",
       "      <td>1</td>\n",
       "      <td>7</td>\n",
       "      <td>3</td>\n",
       "      <td>...</td>\n",
       "      <td>No</td>\n",
       "      <td>Up</td>\n",
       "      <td>No</td>\n",
       "      <td>No</td>\n",
       "      <td>No</td>\n",
       "      <td>No</td>\n",
       "      <td>No</td>\n",
       "      <td>Ch</td>\n",
       "      <td>Yes</td>\n",
       "      <td>&gt;30</td>\n",
       "    </tr>\n",
       "    <tr>\n",
       "      <th>2</th>\n",
       "      <td>64410</td>\n",
       "      <td>86047875</td>\n",
       "      <td>AfricanAmerican</td>\n",
       "      <td>Female</td>\n",
       "      <td>[20-30)</td>\n",
       "      <td>?</td>\n",
       "      <td>1</td>\n",
       "      <td>1</td>\n",
       "      <td>7</td>\n",
       "      <td>2</td>\n",
       "      <td>...</td>\n",
       "      <td>No</td>\n",
       "      <td>No</td>\n",
       "      <td>No</td>\n",
       "      <td>No</td>\n",
       "      <td>No</td>\n",
       "      <td>No</td>\n",
       "      <td>No</td>\n",
       "      <td>No</td>\n",
       "      <td>Yes</td>\n",
       "      <td>NO</td>\n",
       "    </tr>\n",
       "    <tr>\n",
       "      <th>3</th>\n",
       "      <td>500364</td>\n",
       "      <td>82442376</td>\n",
       "      <td>Caucasian</td>\n",
       "      <td>Male</td>\n",
       "      <td>[30-40)</td>\n",
       "      <td>?</td>\n",
       "      <td>1</td>\n",
       "      <td>1</td>\n",
       "      <td>7</td>\n",
       "      <td>2</td>\n",
       "      <td>...</td>\n",
       "      <td>No</td>\n",
       "      <td>Up</td>\n",
       "      <td>No</td>\n",
       "      <td>No</td>\n",
       "      <td>No</td>\n",
       "      <td>No</td>\n",
       "      <td>No</td>\n",
       "      <td>Ch</td>\n",
       "      <td>Yes</td>\n",
       "      <td>NO</td>\n",
       "    </tr>\n",
       "    <tr>\n",
       "      <th>4</th>\n",
       "      <td>16680</td>\n",
       "      <td>42519267</td>\n",
       "      <td>Caucasian</td>\n",
       "      <td>Male</td>\n",
       "      <td>[40-50)</td>\n",
       "      <td>?</td>\n",
       "      <td>1</td>\n",
       "      <td>1</td>\n",
       "      <td>7</td>\n",
       "      <td>1</td>\n",
       "      <td>...</td>\n",
       "      <td>No</td>\n",
       "      <td>Steady</td>\n",
       "      <td>No</td>\n",
       "      <td>No</td>\n",
       "      <td>No</td>\n",
       "      <td>No</td>\n",
       "      <td>No</td>\n",
       "      <td>Ch</td>\n",
       "      <td>Yes</td>\n",
       "      <td>NO</td>\n",
       "    </tr>\n",
       "  </tbody>\n",
       "</table>\n",
       "<p>5 rows × 50 columns</p>\n",
       "</div>"
      ],
      "text/plain": [
       "   encounter_id  patient_nbr             race  gender      age weight  \\\n",
       "0       2278392      8222157        Caucasian  Female   [0-10)      ?   \n",
       "1        149190     55629189        Caucasian  Female  [10-20)      ?   \n",
       "2         64410     86047875  AfricanAmerican  Female  [20-30)      ?   \n",
       "3        500364     82442376        Caucasian    Male  [30-40)      ?   \n",
       "4         16680     42519267        Caucasian    Male  [40-50)      ?   \n",
       "\n",
       "   admission_type_id  discharge_disposition_id  admission_source_id  \\\n",
       "0                  6                        25                    1   \n",
       "1                  1                         1                    7   \n",
       "2                  1                         1                    7   \n",
       "3                  1                         1                    7   \n",
       "4                  1                         1                    7   \n",
       "\n",
       "   time_in_hospital  ... citoglipton insulin  glyburide_metformin  \\\n",
       "0                 1  ...          No      No                   No   \n",
       "1                 3  ...          No      Up                   No   \n",
       "2                 2  ...          No      No                   No   \n",
       "3                 2  ...          No      Up                   No   \n",
       "4                 1  ...          No  Steady                   No   \n",
       "\n",
       "   glipizide_metformin  glimepiride_pioglitazone  metformin_rosiglitazone  \\\n",
       "0                   No                        No                       No   \n",
       "1                   No                        No                       No   \n",
       "2                   No                        No                       No   \n",
       "3                   No                        No                       No   \n",
       "4                   No                        No                       No   \n",
       "\n",
       "   metformin_pioglitazone  change diabetesMed readmitted  \n",
       "0                      No      No          No         NO  \n",
       "1                      No      Ch         Yes        >30  \n",
       "2                      No      No         Yes         NO  \n",
       "3                      No      Ch         Yes         NO  \n",
       "4                      No      Ch         Yes         NO  \n",
       "\n",
       "[5 rows x 50 columns]"
      ]
     },
     "execution_count": 275,
     "metadata": {},
     "output_type": "execute_result"
    }
   ],
   "source": [
    "data.head()"
   ]
  },
  {
   "cell_type": "markdown",
   "metadata": {},
   "source": [
    "## Counting missing values for each feature"
   ]
  },
  {
   "cell_type": "markdown",
   "metadata": {},
   "source": [
    "### Nan Values"
   ]
  },
  {
   "cell_type": "code",
   "execution_count": 276,
   "metadata": {},
   "outputs": [
    {
     "data": {
      "text/plain": [
       "(101766, 50)"
      ]
     },
     "execution_count": 276,
     "metadata": {},
     "output_type": "execute_result"
    }
   ],
   "source": [
    "data.shape"
   ]
  },
  {
   "cell_type": "code",
   "execution_count": 277,
   "metadata": {},
   "outputs": [
    {
     "name": "stdout",
     "output_type": "stream",
     "text": [
      "max_glu_serum    94.746772\n",
      "A1Cresult        83.277322\n",
      "dtype: float64\n"
     ]
    }
   ],
   "source": [
    "na_values = data.isna().sum(axis=0)\n",
    "\n",
    "print(na_values[na_values > 0]/len(data) * 100)"
   ]
  },
  {
   "cell_type": "markdown",
   "metadata": {},
   "source": [
    "Apparently, max_glu_serum and A1Cresults are the only features with 'Nan' values. We can easily drop these columns, as these features are categorical so they cannot be inferred in any way. \n"
   ]
  },
  {
   "cell_type": "code",
   "execution_count": 278,
   "metadata": {},
   "outputs": [
    {
     "data": {
      "text/plain": [
       "array([nan, '>300', 'Norm', '>200'], dtype=object)"
      ]
     },
     "execution_count": 278,
     "metadata": {},
     "output_type": "execute_result"
    }
   ],
   "source": [
    "data['max_glu_serum'].unique()"
   ]
  },
  {
   "cell_type": "code",
   "execution_count": 279,
   "metadata": {},
   "outputs": [
    {
     "data": {
      "text/plain": [
       "array([nan, '>7', '>8', 'Norm'], dtype=object)"
      ]
     },
     "execution_count": 279,
     "metadata": {},
     "output_type": "execute_result"
    }
   ],
   "source": [
    "data['A1Cresult'].unique()"
   ]
  },
  {
   "cell_type": "code",
   "execution_count": 280,
   "metadata": {},
   "outputs": [],
   "source": [
    "data = data.drop(columns=['max_glu_serum', 'A1Cresult'])"
   ]
  },
  {
   "cell_type": "markdown",
   "metadata": {},
   "source": [
    "### Other missing values"
   ]
  },
  {
   "cell_type": "markdown",
   "metadata": {},
   "source": [
    "Taking a look at the datasaet, it is clear that for some features missing values are indicated by a question mark rathen than being nan values. Let's count missing values for each column"
   ]
  },
  {
   "cell_type": "code",
   "execution_count": 281,
   "metadata": {},
   "outputs": [
    {
     "name": "stdout",
     "output_type": "stream",
     "text": [
      "race [2.23355541]\n",
      "weight [96.85847926]\n",
      "payer_code [39.55741603]\n",
      "medical_specialty [49.0822082]\n",
      "diag_1 [0.02063558]\n",
      "diag_2 [0.35178743]\n",
      "diag_3 [1.39830592]\n"
     ]
    }
   ],
   "source": [
    "for col in data.columns:\n",
    "    missing_values = data.loc[data[col] == '?', col].value_counts()\n",
    "    if len(missing_values.values > 0):\n",
    "        print(col, missing_values.values/len(data) * 100)"
   ]
  },
  {
   "cell_type": "markdown",
   "metadata": {},
   "source": [
    "From the results above, we find that the feature 'weight' is available only for 3% of the observations! This column can be dropped. We also find that 49% of observations do not have values for medical_speciality and 39% do not have values for payer_code. These two are both categorical variables, so we cannot use the mean or other statistics to replace missing values. So, they can easily be dropped\n",
    "diag_1, diag_2 and diag_3 are diagnosis so they cannot be inferred. In a classification setting these features can cleary be useful. Suppose the primary diagnosis is correct: intuitevely, a patient with a correct diagnosis has a less probability of returning to the hospital rather than a patient with n incorrect diaagnosis. Rather than drop the columns it is wiser to drop the observations with missing diagnosis."
   ]
  },
  {
   "cell_type": "code",
   "execution_count": 282,
   "metadata": {},
   "outputs": [],
   "source": [
    "data = data.drop(columns=['weight', 'payer_code', 'medical_specialty'])"
   ]
  },
  {
   "cell_type": "code",
   "execution_count": 283,
   "metadata": {},
   "outputs": [],
   "source": [
    "#FARLO DOPO ANALISI ESPLORATIVA, ALTRIMENTI ALCUNE OSSERVAZIONI UTILI SI PERDONO\n",
    "\n",
    "#labels = (data['diag_1'] == '?') | (data['diag_2'] == '?') | (data['diag_3'] == '?')\n",
    "#data.drop(data[labels].index, inplace=True) # data[~labels] OP"
   ]
  },
  {
   "cell_type": "code",
   "execution_count": 284,
   "metadata": {},
   "outputs": [
    {
     "data": {
      "text/plain": [
       "(101766, 45)"
      ]
     },
     "execution_count": 284,
     "metadata": {},
     "output_type": "execute_result"
    }
   ],
   "source": [
    "data.shape"
   ]
  },
  {
   "cell_type": "code",
   "execution_count": 285,
   "metadata": {},
   "outputs": [
    {
     "data": {
      "text/html": [
       "<div>\n",
       "<style scoped>\n",
       "    .dataframe tbody tr th:only-of-type {\n",
       "        vertical-align: middle;\n",
       "    }\n",
       "\n",
       "    .dataframe tbody tr th {\n",
       "        vertical-align: top;\n",
       "    }\n",
       "\n",
       "    .dataframe thead th {\n",
       "        text-align: right;\n",
       "    }\n",
       "</style>\n",
       "<table border=\"1\" class=\"dataframe\">\n",
       "  <thead>\n",
       "    <tr style=\"text-align: right;\">\n",
       "      <th></th>\n",
       "      <th>encounter_id</th>\n",
       "      <th>patient_nbr</th>\n",
       "      <th>race</th>\n",
       "      <th>gender</th>\n",
       "      <th>age</th>\n",
       "      <th>admission_type_id</th>\n",
       "      <th>discharge_disposition_id</th>\n",
       "      <th>admission_source_id</th>\n",
       "      <th>time_in_hospital</th>\n",
       "      <th>num_lab_procedures</th>\n",
       "      <th>...</th>\n",
       "      <th>citoglipton</th>\n",
       "      <th>insulin</th>\n",
       "      <th>glyburide_metformin</th>\n",
       "      <th>glipizide_metformin</th>\n",
       "      <th>glimepiride_pioglitazone</th>\n",
       "      <th>metformin_rosiglitazone</th>\n",
       "      <th>metformin_pioglitazone</th>\n",
       "      <th>change</th>\n",
       "      <th>diabetesMed</th>\n",
       "      <th>readmitted</th>\n",
       "    </tr>\n",
       "  </thead>\n",
       "  <tbody>\n",
       "    <tr>\n",
       "      <th>0</th>\n",
       "      <td>2278392</td>\n",
       "      <td>8222157</td>\n",
       "      <td>Caucasian</td>\n",
       "      <td>Female</td>\n",
       "      <td>[0-10)</td>\n",
       "      <td>6</td>\n",
       "      <td>25</td>\n",
       "      <td>1</td>\n",
       "      <td>1</td>\n",
       "      <td>41</td>\n",
       "      <td>...</td>\n",
       "      <td>No</td>\n",
       "      <td>No</td>\n",
       "      <td>No</td>\n",
       "      <td>No</td>\n",
       "      <td>No</td>\n",
       "      <td>No</td>\n",
       "      <td>No</td>\n",
       "      <td>No</td>\n",
       "      <td>No</td>\n",
       "      <td>NO</td>\n",
       "    </tr>\n",
       "    <tr>\n",
       "      <th>1</th>\n",
       "      <td>149190</td>\n",
       "      <td>55629189</td>\n",
       "      <td>Caucasian</td>\n",
       "      <td>Female</td>\n",
       "      <td>[10-20)</td>\n",
       "      <td>1</td>\n",
       "      <td>1</td>\n",
       "      <td>7</td>\n",
       "      <td>3</td>\n",
       "      <td>59</td>\n",
       "      <td>...</td>\n",
       "      <td>No</td>\n",
       "      <td>Up</td>\n",
       "      <td>No</td>\n",
       "      <td>No</td>\n",
       "      <td>No</td>\n",
       "      <td>No</td>\n",
       "      <td>No</td>\n",
       "      <td>Ch</td>\n",
       "      <td>Yes</td>\n",
       "      <td>&gt;30</td>\n",
       "    </tr>\n",
       "    <tr>\n",
       "      <th>2</th>\n",
       "      <td>64410</td>\n",
       "      <td>86047875</td>\n",
       "      <td>AfricanAmerican</td>\n",
       "      <td>Female</td>\n",
       "      <td>[20-30)</td>\n",
       "      <td>1</td>\n",
       "      <td>1</td>\n",
       "      <td>7</td>\n",
       "      <td>2</td>\n",
       "      <td>11</td>\n",
       "      <td>...</td>\n",
       "      <td>No</td>\n",
       "      <td>No</td>\n",
       "      <td>No</td>\n",
       "      <td>No</td>\n",
       "      <td>No</td>\n",
       "      <td>No</td>\n",
       "      <td>No</td>\n",
       "      <td>No</td>\n",
       "      <td>Yes</td>\n",
       "      <td>NO</td>\n",
       "    </tr>\n",
       "    <tr>\n",
       "      <th>3</th>\n",
       "      <td>500364</td>\n",
       "      <td>82442376</td>\n",
       "      <td>Caucasian</td>\n",
       "      <td>Male</td>\n",
       "      <td>[30-40)</td>\n",
       "      <td>1</td>\n",
       "      <td>1</td>\n",
       "      <td>7</td>\n",
       "      <td>2</td>\n",
       "      <td>44</td>\n",
       "      <td>...</td>\n",
       "      <td>No</td>\n",
       "      <td>Up</td>\n",
       "      <td>No</td>\n",
       "      <td>No</td>\n",
       "      <td>No</td>\n",
       "      <td>No</td>\n",
       "      <td>No</td>\n",
       "      <td>Ch</td>\n",
       "      <td>Yes</td>\n",
       "      <td>NO</td>\n",
       "    </tr>\n",
       "    <tr>\n",
       "      <th>4</th>\n",
       "      <td>16680</td>\n",
       "      <td>42519267</td>\n",
       "      <td>Caucasian</td>\n",
       "      <td>Male</td>\n",
       "      <td>[40-50)</td>\n",
       "      <td>1</td>\n",
       "      <td>1</td>\n",
       "      <td>7</td>\n",
       "      <td>1</td>\n",
       "      <td>51</td>\n",
       "      <td>...</td>\n",
       "      <td>No</td>\n",
       "      <td>Steady</td>\n",
       "      <td>No</td>\n",
       "      <td>No</td>\n",
       "      <td>No</td>\n",
       "      <td>No</td>\n",
       "      <td>No</td>\n",
       "      <td>Ch</td>\n",
       "      <td>Yes</td>\n",
       "      <td>NO</td>\n",
       "    </tr>\n",
       "  </tbody>\n",
       "</table>\n",
       "<p>5 rows × 45 columns</p>\n",
       "</div>"
      ],
      "text/plain": [
       "   encounter_id  patient_nbr             race  gender      age  \\\n",
       "0       2278392      8222157        Caucasian  Female   [0-10)   \n",
       "1        149190     55629189        Caucasian  Female  [10-20)   \n",
       "2         64410     86047875  AfricanAmerican  Female  [20-30)   \n",
       "3        500364     82442376        Caucasian    Male  [30-40)   \n",
       "4         16680     42519267        Caucasian    Male  [40-50)   \n",
       "\n",
       "   admission_type_id  discharge_disposition_id  admission_source_id  \\\n",
       "0                  6                        25                    1   \n",
       "1                  1                         1                    7   \n",
       "2                  1                         1                    7   \n",
       "3                  1                         1                    7   \n",
       "4                  1                         1                    7   \n",
       "\n",
       "   time_in_hospital  num_lab_procedures  ...  citoglipton  insulin  \\\n",
       "0                 1                  41  ...           No       No   \n",
       "1                 3                  59  ...           No       Up   \n",
       "2                 2                  11  ...           No       No   \n",
       "3                 2                  44  ...           No       Up   \n",
       "4                 1                  51  ...           No   Steady   \n",
       "\n",
       "   glyburide_metformin  glipizide_metformin  glimepiride_pioglitazone  \\\n",
       "0                   No                   No                        No   \n",
       "1                   No                   No                        No   \n",
       "2                   No                   No                        No   \n",
       "3                   No                   No                        No   \n",
       "4                   No                   No                        No   \n",
       "\n",
       "  metformin_rosiglitazone metformin_pioglitazone change  diabetesMed  \\\n",
       "0                      No                     No     No           No   \n",
       "1                      No                     No     Ch          Yes   \n",
       "2                      No                     No     No          Yes   \n",
       "3                      No                     No     Ch          Yes   \n",
       "4                      No                     No     Ch          Yes   \n",
       "\n",
       "  readmitted  \n",
       "0         NO  \n",
       "1        >30  \n",
       "2         NO  \n",
       "3         NO  \n",
       "4         NO  \n",
       "\n",
       "[5 rows x 45 columns]"
      ]
     },
     "execution_count": 285,
     "metadata": {},
     "output_type": "execute_result"
    }
   ],
   "source": [
    "data.head()"
   ]
  },
  {
   "cell_type": "markdown",
   "metadata": {},
   "source": [
    "Data is now ready for the analysis pipeline!"
   ]
  },
  {
   "cell_type": "markdown",
   "metadata": {},
   "source": [
    "# Renaiming some columns"
   ]
  },
  {
   "cell_type": "markdown",
   "metadata": {},
   "source": [
    "To avoid potential failure when using statsmodel, we rename the columns that contains a '-' in their name."
   ]
  },
  {
   "cell_type": "code",
   "execution_count": 286,
   "metadata": {},
   "outputs": [],
   "source": [
    "data.rename(columns={'glyburide-metformin':'glyburide_metformin', 'glipizide-metformin': 'glipizide_metformin', \n",
    "             'glimepiride-pioglitazone': 'glimepiride_pioglitazone', 'metformin-rosiglitazone': 'metformin_rosiglitazone', \n",
    "             'metformin-pioglitazone': 'metformin_pioglitazone'}, inplace=True)"
   ]
  },
  {
   "cell_type": "markdown",
   "metadata": {},
   "source": [
    "## Changing unique values for some columns"
   ]
  },
  {
   "cell_type": "markdown",
   "metadata": {},
   "source": [
    "Is this safe for logistic regression?"
   ]
  },
  {
   "cell_type": "code",
   "execution_count": 287,
   "metadata": {},
   "outputs": [
    {
     "name": "stderr",
     "output_type": "stream",
     "text": [
      "C:\\Users\\Raffaele\\AppData\\Local\\Temp\\ipykernel_19568\\3821934187.py:1: FutureWarning: Downcasting behavior in `replace` is deprecated and will be removed in a future version. To retain the old behavior, explicitly call `result.infer_objects(copy=False)`. To opt-in to the future behavior, set `pd.set_option('future.no_silent_downcasting', True)`\n",
      "  data.replace(['NO', '>30', '<30'], [0, 1, 2], inplace=True)\n",
      "C:\\Users\\Raffaele\\AppData\\Local\\Temp\\ipykernel_19568\\3821934187.py:2: FutureWarning: Downcasting behavior in `replace` is deprecated and will be removed in a future version. To retain the old behavior, explicitly call `result.infer_objects(copy=False)`. To opt-in to the future behavior, set `pd.set_option('future.no_silent_downcasting', True)`\n",
      "  data.replace('No', 0, inplace=True)\n",
      "C:\\Users\\Raffaele\\AppData\\Local\\Temp\\ipykernel_19568\\3821934187.py:3: FutureWarning: Downcasting behavior in `replace` is deprecated and will be removed in a future version. To retain the old behavior, explicitly call `result.infer_objects(copy=False)`. To opt-in to the future behavior, set `pd.set_option('future.no_silent_downcasting', True)`\n",
      "  data.replace('Ch', 1, inplace=True)\n",
      "C:\\Users\\Raffaele\\AppData\\Local\\Temp\\ipykernel_19568\\3821934187.py:4: FutureWarning: Downcasting behavior in `replace` is deprecated and will be removed in a future version. To retain the old behavior, explicitly call `result.infer_objects(copy=False)`. To opt-in to the future behavior, set `pd.set_option('future.no_silent_downcasting', True)`\n",
      "  data.replace('Yes', 1, inplace=True)\n",
      "C:\\Users\\Raffaele\\AppData\\Local\\Temp\\ipykernel_19568\\3821934187.py:5: FutureWarning: Downcasting behavior in `replace` is deprecated and will be removed in a future version. To retain the old behavior, explicitly call `result.infer_objects(copy=False)`. To opt-in to the future behavior, set `pd.set_option('future.no_silent_downcasting', True)`\n",
      "  data.replace(['Steady', 'Up', 'Down'], [1, 2, 3], inplace=True) #non ottimale\n"
     ]
    }
   ],
   "source": [
    "data.replace(['NO', '>30', '<30'], [0, 1, 2], inplace=True)\n",
    "data.replace('No', 0, inplace=True)\n",
    "data.replace('Ch', 1, inplace=True)\n",
    "data.replace('Yes', 1, inplace=True)\n",
    "data.replace(['Steady', 'Up', 'Down'], [1, 2, 3], inplace=True) #non ottimale"
   ]
  },
  {
   "cell_type": "code",
   "execution_count": 288,
   "metadata": {},
   "outputs": [
    {
     "data": {
      "text/plain": [
       "array(['[0-10)', '[10-20)', '[20-30)', '[30-40)', '[40-50)', '[50-60)',\n",
       "       '[60-70)', '[70-80)', '[80-90)', '[90-100)'], dtype=object)"
      ]
     },
     "execution_count": 288,
     "metadata": {},
     "output_type": "execute_result"
    }
   ],
   "source": [
    "data['age'].unique()"
   ]
  },
  {
   "cell_type": "code",
   "execution_count": 289,
   "metadata": {},
   "outputs": [
    {
     "name": "stderr",
     "output_type": "stream",
     "text": [
      "C:\\Users\\Raffaele\\AppData\\Local\\Temp\\ipykernel_19568\\3077306244.py:2: FutureWarning: Downcasting behavior in `replace` is deprecated and will be removed in a future version. To retain the old behavior, explicitly call `result.infer_objects(copy=False)`. To opt-in to the future behavior, set `pd.set_option('future.no_silent_downcasting', True)`\n",
      "  data.replace(dict, inplace=True)\n"
     ]
    }
   ],
   "source": [
    "dict = {'[0-10)':0, '[10-20)':1, '[20-30)':2, '[30-40)':3, '[40-50)':4, '[50-60)':5, '[60-70)':6, '[70-80)':7, '[80-90)':8, '[90-100)':9}\n",
    "data.replace(dict, inplace=True)"
   ]
  },
  {
   "cell_type": "code",
   "execution_count": 290,
   "metadata": {},
   "outputs": [
    {
     "data": {
      "text/html": [
       "<div>\n",
       "<style scoped>\n",
       "    .dataframe tbody tr th:only-of-type {\n",
       "        vertical-align: middle;\n",
       "    }\n",
       "\n",
       "    .dataframe tbody tr th {\n",
       "        vertical-align: top;\n",
       "    }\n",
       "\n",
       "    .dataframe thead th {\n",
       "        text-align: right;\n",
       "    }\n",
       "</style>\n",
       "<table border=\"1\" class=\"dataframe\">\n",
       "  <thead>\n",
       "    <tr style=\"text-align: right;\">\n",
       "      <th></th>\n",
       "      <th>encounter_id</th>\n",
       "      <th>patient_nbr</th>\n",
       "      <th>race</th>\n",
       "      <th>gender</th>\n",
       "      <th>age</th>\n",
       "      <th>admission_type_id</th>\n",
       "      <th>discharge_disposition_id</th>\n",
       "      <th>admission_source_id</th>\n",
       "      <th>time_in_hospital</th>\n",
       "      <th>num_lab_procedures</th>\n",
       "      <th>...</th>\n",
       "      <th>citoglipton</th>\n",
       "      <th>insulin</th>\n",
       "      <th>glyburide_metformin</th>\n",
       "      <th>glipizide_metformin</th>\n",
       "      <th>glimepiride_pioglitazone</th>\n",
       "      <th>metformin_rosiglitazone</th>\n",
       "      <th>metformin_pioglitazone</th>\n",
       "      <th>change</th>\n",
       "      <th>diabetesMed</th>\n",
       "      <th>readmitted</th>\n",
       "    </tr>\n",
       "  </thead>\n",
       "  <tbody>\n",
       "    <tr>\n",
       "      <th>0</th>\n",
       "      <td>2278392</td>\n",
       "      <td>8222157</td>\n",
       "      <td>Caucasian</td>\n",
       "      <td>Female</td>\n",
       "      <td>0</td>\n",
       "      <td>6</td>\n",
       "      <td>25</td>\n",
       "      <td>1</td>\n",
       "      <td>1</td>\n",
       "      <td>41</td>\n",
       "      <td>...</td>\n",
       "      <td>0</td>\n",
       "      <td>0</td>\n",
       "      <td>0</td>\n",
       "      <td>0</td>\n",
       "      <td>0</td>\n",
       "      <td>0</td>\n",
       "      <td>0</td>\n",
       "      <td>0</td>\n",
       "      <td>0</td>\n",
       "      <td>0</td>\n",
       "    </tr>\n",
       "    <tr>\n",
       "      <th>1</th>\n",
       "      <td>149190</td>\n",
       "      <td>55629189</td>\n",
       "      <td>Caucasian</td>\n",
       "      <td>Female</td>\n",
       "      <td>1</td>\n",
       "      <td>1</td>\n",
       "      <td>1</td>\n",
       "      <td>7</td>\n",
       "      <td>3</td>\n",
       "      <td>59</td>\n",
       "      <td>...</td>\n",
       "      <td>0</td>\n",
       "      <td>2</td>\n",
       "      <td>0</td>\n",
       "      <td>0</td>\n",
       "      <td>0</td>\n",
       "      <td>0</td>\n",
       "      <td>0</td>\n",
       "      <td>1</td>\n",
       "      <td>1</td>\n",
       "      <td>1</td>\n",
       "    </tr>\n",
       "    <tr>\n",
       "      <th>2</th>\n",
       "      <td>64410</td>\n",
       "      <td>86047875</td>\n",
       "      <td>AfricanAmerican</td>\n",
       "      <td>Female</td>\n",
       "      <td>2</td>\n",
       "      <td>1</td>\n",
       "      <td>1</td>\n",
       "      <td>7</td>\n",
       "      <td>2</td>\n",
       "      <td>11</td>\n",
       "      <td>...</td>\n",
       "      <td>0</td>\n",
       "      <td>0</td>\n",
       "      <td>0</td>\n",
       "      <td>0</td>\n",
       "      <td>0</td>\n",
       "      <td>0</td>\n",
       "      <td>0</td>\n",
       "      <td>0</td>\n",
       "      <td>1</td>\n",
       "      <td>0</td>\n",
       "    </tr>\n",
       "    <tr>\n",
       "      <th>3</th>\n",
       "      <td>500364</td>\n",
       "      <td>82442376</td>\n",
       "      <td>Caucasian</td>\n",
       "      <td>Male</td>\n",
       "      <td>3</td>\n",
       "      <td>1</td>\n",
       "      <td>1</td>\n",
       "      <td>7</td>\n",
       "      <td>2</td>\n",
       "      <td>44</td>\n",
       "      <td>...</td>\n",
       "      <td>0</td>\n",
       "      <td>2</td>\n",
       "      <td>0</td>\n",
       "      <td>0</td>\n",
       "      <td>0</td>\n",
       "      <td>0</td>\n",
       "      <td>0</td>\n",
       "      <td>1</td>\n",
       "      <td>1</td>\n",
       "      <td>0</td>\n",
       "    </tr>\n",
       "    <tr>\n",
       "      <th>4</th>\n",
       "      <td>16680</td>\n",
       "      <td>42519267</td>\n",
       "      <td>Caucasian</td>\n",
       "      <td>Male</td>\n",
       "      <td>4</td>\n",
       "      <td>1</td>\n",
       "      <td>1</td>\n",
       "      <td>7</td>\n",
       "      <td>1</td>\n",
       "      <td>51</td>\n",
       "      <td>...</td>\n",
       "      <td>0</td>\n",
       "      <td>1</td>\n",
       "      <td>0</td>\n",
       "      <td>0</td>\n",
       "      <td>0</td>\n",
       "      <td>0</td>\n",
       "      <td>0</td>\n",
       "      <td>1</td>\n",
       "      <td>1</td>\n",
       "      <td>0</td>\n",
       "    </tr>\n",
       "    <tr>\n",
       "      <th>...</th>\n",
       "      <td>...</td>\n",
       "      <td>...</td>\n",
       "      <td>...</td>\n",
       "      <td>...</td>\n",
       "      <td>...</td>\n",
       "      <td>...</td>\n",
       "      <td>...</td>\n",
       "      <td>...</td>\n",
       "      <td>...</td>\n",
       "      <td>...</td>\n",
       "      <td>...</td>\n",
       "      <td>...</td>\n",
       "      <td>...</td>\n",
       "      <td>...</td>\n",
       "      <td>...</td>\n",
       "      <td>...</td>\n",
       "      <td>...</td>\n",
       "      <td>...</td>\n",
       "      <td>...</td>\n",
       "      <td>...</td>\n",
       "      <td>...</td>\n",
       "    </tr>\n",
       "    <tr>\n",
       "      <th>101761</th>\n",
       "      <td>443847548</td>\n",
       "      <td>100162476</td>\n",
       "      <td>AfricanAmerican</td>\n",
       "      <td>Male</td>\n",
       "      <td>7</td>\n",
       "      <td>1</td>\n",
       "      <td>3</td>\n",
       "      <td>7</td>\n",
       "      <td>3</td>\n",
       "      <td>51</td>\n",
       "      <td>...</td>\n",
       "      <td>0</td>\n",
       "      <td>3</td>\n",
       "      <td>0</td>\n",
       "      <td>0</td>\n",
       "      <td>0</td>\n",
       "      <td>0</td>\n",
       "      <td>0</td>\n",
       "      <td>1</td>\n",
       "      <td>1</td>\n",
       "      <td>1</td>\n",
       "    </tr>\n",
       "    <tr>\n",
       "      <th>101762</th>\n",
       "      <td>443847782</td>\n",
       "      <td>74694222</td>\n",
       "      <td>AfricanAmerican</td>\n",
       "      <td>Female</td>\n",
       "      <td>8</td>\n",
       "      <td>1</td>\n",
       "      <td>4</td>\n",
       "      <td>5</td>\n",
       "      <td>5</td>\n",
       "      <td>33</td>\n",
       "      <td>...</td>\n",
       "      <td>0</td>\n",
       "      <td>1</td>\n",
       "      <td>0</td>\n",
       "      <td>0</td>\n",
       "      <td>0</td>\n",
       "      <td>0</td>\n",
       "      <td>0</td>\n",
       "      <td>0</td>\n",
       "      <td>1</td>\n",
       "      <td>0</td>\n",
       "    </tr>\n",
       "    <tr>\n",
       "      <th>101763</th>\n",
       "      <td>443854148</td>\n",
       "      <td>41088789</td>\n",
       "      <td>Caucasian</td>\n",
       "      <td>Male</td>\n",
       "      <td>7</td>\n",
       "      <td>1</td>\n",
       "      <td>1</td>\n",
       "      <td>7</td>\n",
       "      <td>1</td>\n",
       "      <td>53</td>\n",
       "      <td>...</td>\n",
       "      <td>0</td>\n",
       "      <td>3</td>\n",
       "      <td>0</td>\n",
       "      <td>0</td>\n",
       "      <td>0</td>\n",
       "      <td>0</td>\n",
       "      <td>0</td>\n",
       "      <td>1</td>\n",
       "      <td>1</td>\n",
       "      <td>0</td>\n",
       "    </tr>\n",
       "    <tr>\n",
       "      <th>101764</th>\n",
       "      <td>443857166</td>\n",
       "      <td>31693671</td>\n",
       "      <td>Caucasian</td>\n",
       "      <td>Female</td>\n",
       "      <td>8</td>\n",
       "      <td>2</td>\n",
       "      <td>3</td>\n",
       "      <td>7</td>\n",
       "      <td>10</td>\n",
       "      <td>45</td>\n",
       "      <td>...</td>\n",
       "      <td>0</td>\n",
       "      <td>2</td>\n",
       "      <td>0</td>\n",
       "      <td>0</td>\n",
       "      <td>0</td>\n",
       "      <td>0</td>\n",
       "      <td>0</td>\n",
       "      <td>1</td>\n",
       "      <td>1</td>\n",
       "      <td>0</td>\n",
       "    </tr>\n",
       "    <tr>\n",
       "      <th>101765</th>\n",
       "      <td>443867222</td>\n",
       "      <td>175429310</td>\n",
       "      <td>Caucasian</td>\n",
       "      <td>Male</td>\n",
       "      <td>7</td>\n",
       "      <td>1</td>\n",
       "      <td>1</td>\n",
       "      <td>7</td>\n",
       "      <td>6</td>\n",
       "      <td>13</td>\n",
       "      <td>...</td>\n",
       "      <td>0</td>\n",
       "      <td>0</td>\n",
       "      <td>0</td>\n",
       "      <td>0</td>\n",
       "      <td>0</td>\n",
       "      <td>0</td>\n",
       "      <td>0</td>\n",
       "      <td>0</td>\n",
       "      <td>0</td>\n",
       "      <td>0</td>\n",
       "    </tr>\n",
       "  </tbody>\n",
       "</table>\n",
       "<p>101766 rows × 45 columns</p>\n",
       "</div>"
      ],
      "text/plain": [
       "        encounter_id  patient_nbr             race  gender  age  \\\n",
       "0            2278392      8222157        Caucasian  Female    0   \n",
       "1             149190     55629189        Caucasian  Female    1   \n",
       "2              64410     86047875  AfricanAmerican  Female    2   \n",
       "3             500364     82442376        Caucasian    Male    3   \n",
       "4              16680     42519267        Caucasian    Male    4   \n",
       "...              ...          ...              ...     ...  ...   \n",
       "101761     443847548    100162476  AfricanAmerican    Male    7   \n",
       "101762     443847782     74694222  AfricanAmerican  Female    8   \n",
       "101763     443854148     41088789        Caucasian    Male    7   \n",
       "101764     443857166     31693671        Caucasian  Female    8   \n",
       "101765     443867222    175429310        Caucasian    Male    7   \n",
       "\n",
       "        admission_type_id  discharge_disposition_id  admission_source_id  \\\n",
       "0                       6                        25                    1   \n",
       "1                       1                         1                    7   \n",
       "2                       1                         1                    7   \n",
       "3                       1                         1                    7   \n",
       "4                       1                         1                    7   \n",
       "...                   ...                       ...                  ...   \n",
       "101761                  1                         3                    7   \n",
       "101762                  1                         4                    5   \n",
       "101763                  1                         1                    7   \n",
       "101764                  2                         3                    7   \n",
       "101765                  1                         1                    7   \n",
       "\n",
       "        time_in_hospital  num_lab_procedures  ...  citoglipton  insulin  \\\n",
       "0                      1                  41  ...            0        0   \n",
       "1                      3                  59  ...            0        2   \n",
       "2                      2                  11  ...            0        0   \n",
       "3                      2                  44  ...            0        2   \n",
       "4                      1                  51  ...            0        1   \n",
       "...                  ...                 ...  ...          ...      ...   \n",
       "101761                 3                  51  ...            0        3   \n",
       "101762                 5                  33  ...            0        1   \n",
       "101763                 1                  53  ...            0        3   \n",
       "101764                10                  45  ...            0        2   \n",
       "101765                 6                  13  ...            0        0   \n",
       "\n",
       "        glyburide_metformin  glipizide_metformin  glimepiride_pioglitazone  \\\n",
       "0                         0                    0                         0   \n",
       "1                         0                    0                         0   \n",
       "2                         0                    0                         0   \n",
       "3                         0                    0                         0   \n",
       "4                         0                    0                         0   \n",
       "...                     ...                  ...                       ...   \n",
       "101761                    0                    0                         0   \n",
       "101762                    0                    0                         0   \n",
       "101763                    0                    0                         0   \n",
       "101764                    0                    0                         0   \n",
       "101765                    0                    0                         0   \n",
       "\n",
       "       metformin_rosiglitazone metformin_pioglitazone change  diabetesMed  \\\n",
       "0                            0                      0      0            0   \n",
       "1                            0                      0      1            1   \n",
       "2                            0                      0      0            1   \n",
       "3                            0                      0      1            1   \n",
       "4                            0                      0      1            1   \n",
       "...                        ...                    ...    ...          ...   \n",
       "101761                       0                      0      1            1   \n",
       "101762                       0                      0      0            1   \n",
       "101763                       0                      0      1            1   \n",
       "101764                       0                      0      1            1   \n",
       "101765                       0                      0      0            0   \n",
       "\n",
       "        readmitted  \n",
       "0                0  \n",
       "1                1  \n",
       "2                0  \n",
       "3                0  \n",
       "4                0  \n",
       "...            ...  \n",
       "101761           1  \n",
       "101762           0  \n",
       "101763           0  \n",
       "101764           0  \n",
       "101765           0  \n",
       "\n",
       "[101766 rows x 45 columns]"
      ]
     },
     "execution_count": 290,
     "metadata": {},
     "output_type": "execute_result"
    }
   ],
   "source": [
    "data"
   ]
  },
  {
   "cell_type": "markdown",
   "metadata": {},
   "source": [
    "# Exploratory data analysis"
   ]
  },
  {
   "cell_type": "markdown",
   "metadata": {},
   "source": [
    "## What is the most frequent readmission type?"
   ]
  },
  {
   "cell_type": "code",
   "execution_count": 291,
   "metadata": {},
   "outputs": [
    {
     "name": "stdout",
     "output_type": "stream",
     "text": [
      "readmitted\n",
      "0    0.539119\n",
      "1    0.349282\n",
      "2    0.111599\n",
      "Name: proportion, dtype: float64\n"
     ]
    }
   ],
   "source": [
    "freqs = data['readmitted'].value_counts(normalize=True).sort_index()\n",
    "print(freqs)"
   ]
  },
  {
   "cell_type": "code",
   "execution_count": 292,
   "metadata": {},
   "outputs": [
    {
     "data": {
      "text/plain": [
       "<Axes: xlabel='readmitted'>"
      ]
     },
     "execution_count": 292,
     "metadata": {},
     "output_type": "execute_result"
    },
    {
     "data": {
      "image/png": "[encoded data removed]",
      "text/plain": [
       "<Figure size 900x600 with 1 Axes>"
      ]
     },
     "metadata": {},
     "output_type": "display_data"
    }
   ],
   "source": [
    "freqs.plot.bar(figsize=(9, 6))"
   ]
  },
  {
   "cell_type": "markdown",
   "metadata": {},
   "source": [
    "Il 54% dei pazienti non è tornato in ospedale, il 35% è tornato in ospedale in un periodo che supera i 30 giorni e, infine, il restante 11% è tornato entro i 30 giorni. Da questo si evince che le valutazioni effettuate dai medici su #num pazienti si sono rivelate corrette e senza falle. ??"
   ]
  },
  {
   "cell_type": "code",
   "execution_count": 293,
   "metadata": {},
   "outputs": [],
   "source": [
    "#data['readmitted'].plot.bar()"
   ]
  },
  {
   "cell_type": "markdown",
   "metadata": {},
   "source": []
  },
  {
   "cell_type": "markdown",
   "metadata": {},
   "source": [
    "## What is the distribution of gender between readmissions?"
   ]
  },
  {
   "cell_type": "markdown",
   "metadata": {},
   "source": [
    "## Distribution of gender"
   ]
  },
  {
   "cell_type": "code",
   "execution_count": 294,
   "metadata": {},
   "outputs": [
    {
     "data": {
      "text/plain": [
       "array(['Female', 'Male', 'Unknown/Invalid'], dtype=object)"
      ]
     },
     "execution_count": 294,
     "metadata": {},
     "output_type": "execute_result"
    }
   ],
   "source": [
    "data['gender'].unique()"
   ]
  },
  {
   "cell_type": "code",
   "execution_count": 295,
   "metadata": {},
   "outputs": [
    {
     "name": "stdout",
     "output_type": "stream",
     "text": [
      "gender\n",
      "Female             0.537586\n",
      "Male               0.462384\n",
      "Unknown/Invalid    0.000029\n",
      "Name: proportion, dtype: float64\n"
     ]
    }
   ],
   "source": [
    "freqs = data['gender'].value_counts(normalize=True)\n",
    "print(freqs)"
   ]
  },
  {
   "cell_type": "code",
   "execution_count": 296,
   "metadata": {},
   "outputs": [
    {
     "data": {
      "text/plain": [
       "<Axes: xlabel='gender'>"
      ]
     },
     "execution_count": 296,
     "metadata": {},
     "output_type": "execute_result"
    },
    {
     "data": {
      "image/png": "[encoded data removed]",
      "text/plain": [
       "<Figure size 640x480 with 1 Axes>"
      ]
     },
     "metadata": {},
     "output_type": "display_data"
    }
   ],
   "source": [
    "freqs[0:-1].plot.bar()"
   ]
  },
  {
   "cell_type": "markdown",
   "metadata": {},
   "source": [
    "Let's count how many patients with 'unknown/invalid' gender are there in the dataset"
   ]
  },
  {
   "cell_type": "code",
   "execution_count": 297,
   "metadata": {},
   "outputs": [
    {
     "data": {
      "text/plain": [
       "gender\n",
       "Female             54708\n",
       "Male               47055\n",
       "Unknown/Invalid        3\n",
       "Name: count, dtype: int64"
      ]
     },
     "execution_count": 297,
     "metadata": {},
     "output_type": "execute_result"
    }
   ],
   "source": [
    "data['gender'].value_counts().sort_index()"
   ]
  },
  {
   "cell_type": "markdown",
   "metadata": {},
   "source": [
    "## Distribution of gender between readmissions"
   ]
  },
  {
   "cell_type": "code",
   "execution_count": 298,
   "metadata": {},
   "outputs": [
    {
     "name": "stdout",
     "output_type": "stream",
     "text": [
      "gender           readmitted\n",
      "Female           0             0.530782\n",
      "                 1             0.356767\n",
      "                 2             0.112452\n",
      "Male             0             0.548783\n",
      "                 1             0.340601\n",
      "                 2             0.110615\n",
      "Unknown/Invalid  0             1.000000\n",
      "Name: proportion, dtype: float64\n"
     ]
    }
   ],
   "source": [
    "d = data[['gender', 'readmitted']]\n",
    "\n",
    "freqs = (d.groupby('gender').value_counts(normalize=True))\n",
    "print(freqs)"
   ]
  },
  {
   "cell_type": "code",
   "execution_count": 299,
   "metadata": {},
   "outputs": [
    {
     "data": {
      "text/plain": [
       "<Axes: xlabel='gender,readmitted'>"
      ]
     },
     "execution_count": 299,
     "metadata": {},
     "output_type": "execute_result"
    },
    {
     "data": {
      "image/png": "[encoded data removed]",
      "text/plain": [
       "<Figure size 640x480 with 1 Axes>"
      ]
     },
     "metadata": {},
     "output_type": "display_data"
    }
   ],
   "source": [
    "freqs.plot.bar()"
   ]
  },
  {
   "cell_type": "markdown",
   "metadata": {},
   "source": [
    "## Distribution of age"
   ]
  },
  {
   "cell_type": "markdown",
   "metadata": {},
   "source": [
    "ecdf = data['age'].value_counts(normalize=True).sort_index().cumsum()\n",
    "\n",
    "plt.figure(figsize=(12, 8))\n",
    "plt.title('Empirative Cumulative Distribution Function of Age')\n",
    "plt.grid()\n",
    "plt.plot(ecdf.index, ecdf.values)"
   ]
  },
  {
   "cell_type": "code",
   "execution_count": 300,
   "metadata": {},
   "outputs": [
    {
     "data": {
      "image/png": "[encoded data removed]",
      "text/plain": [
       "<Figure size 640x480 with 1 Axes>"
      ]
     },
     "metadata": {},
     "output_type": "display_data"
    }
   ],
   "source": [
    "freqs = data['age'].value_counts().sort_index().plot.bar()"
   ]
  },
  {
   "cell_type": "code",
   "execution_count": 301,
   "metadata": {},
   "outputs": [
    {
     "data": {
      "text/html": [
       "<div>\n",
       "<style scoped>\n",
       "    .dataframe tbody tr th:only-of-type {\n",
       "        vertical-align: middle;\n",
       "    }\n",
       "\n",
       "    .dataframe tbody tr th {\n",
       "        vertical-align: top;\n",
       "    }\n",
       "\n",
       "    .dataframe thead th {\n",
       "        text-align: right;\n",
       "    }\n",
       "</style>\n",
       "<table border=\"1\" class=\"dataframe\">\n",
       "  <thead>\n",
       "    <tr style=\"text-align: right;\">\n",
       "      <th>readmitted</th>\n",
       "      <th>0</th>\n",
       "      <th>1</th>\n",
       "      <th>2</th>\n",
       "    </tr>\n",
       "    <tr>\n",
       "      <th>age</th>\n",
       "      <th></th>\n",
       "      <th></th>\n",
       "      <th></th>\n",
       "    </tr>\n",
       "  </thead>\n",
       "  <tbody>\n",
       "    <tr>\n",
       "      <th>0</th>\n",
       "      <td>0.001297</td>\n",
       "      <td>0.000255</td>\n",
       "      <td>0.000029</td>\n",
       "    </tr>\n",
       "    <tr>\n",
       "      <th>1</th>\n",
       "      <td>0.004196</td>\n",
       "      <td>0.002201</td>\n",
       "      <td>0.000393</td>\n",
       "    </tr>\n",
       "    <tr>\n",
       "      <th>2</th>\n",
       "      <td>0.008952</td>\n",
       "      <td>0.005011</td>\n",
       "      <td>0.002319</td>\n",
       "    </tr>\n",
       "    <tr>\n",
       "      <th>3</th>\n",
       "      <td>0.021264</td>\n",
       "      <td>0.011664</td>\n",
       "      <td>0.004166</td>\n",
       "    </tr>\n",
       "    <tr>\n",
       "      <th>4</th>\n",
       "      <td>0.052866</td>\n",
       "      <td>0.032211</td>\n",
       "      <td>0.010092</td>\n",
       "    </tr>\n",
       "    <tr>\n",
       "      <th>5</th>\n",
       "      <td>0.095032</td>\n",
       "      <td>0.058143</td>\n",
       "      <td>0.016391</td>\n",
       "    </tr>\n",
       "    <tr>\n",
       "      <th>6</th>\n",
       "      <td>0.118743</td>\n",
       "      <td>0.077600</td>\n",
       "      <td>0.024586</td>\n",
       "    </tr>\n",
       "    <tr>\n",
       "      <th>7</th>\n",
       "      <td>0.132893</td>\n",
       "      <td>0.093106</td>\n",
       "      <td>0.030157</td>\n",
       "    </tr>\n",
       "    <tr>\n",
       "      <th>8</th>\n",
       "      <td>0.087416</td>\n",
       "      <td>0.061150</td>\n",
       "      <td>0.020419</td>\n",
       "    </tr>\n",
       "    <tr>\n",
       "      <th>9</th>\n",
       "      <td>0.016459</td>\n",
       "      <td>0.007940</td>\n",
       "      <td>0.003046</td>\n",
       "    </tr>\n",
       "  </tbody>\n",
       "</table>\n",
       "</div>"
      ],
      "text/plain": [
       "readmitted         0         1         2\n",
       "age                                     \n",
       "0           0.001297  0.000255  0.000029\n",
       "1           0.004196  0.002201  0.000393\n",
       "2           0.008952  0.005011  0.002319\n",
       "3           0.021264  0.011664  0.004166\n",
       "4           0.052866  0.032211  0.010092\n",
       "5           0.095032  0.058143  0.016391\n",
       "6           0.118743  0.077600  0.024586\n",
       "7           0.132893  0.093106  0.030157\n",
       "8           0.087416  0.061150  0.020419\n",
       "9           0.016459  0.007940  0.003046"
      ]
     },
     "execution_count": 301,
     "metadata": {},
     "output_type": "execute_result"
    }
   ],
   "source": [
    "cont_table = pd.crosstab(index=data['age'], columns=data['readmitted'], normalize=True)\n",
    "cont_table"
   ]
  },
  {
   "cell_type": "code",
   "execution_count": 302,
   "metadata": {},
   "outputs": [
    {
     "data": {
      "text/plain": [
       "<Axes: xlabel='age'>"
      ]
     },
     "execution_count": 302,
     "metadata": {},
     "output_type": "execute_result"
    },
    {
     "data": {
      "image/png": "[encoded data removed]",
      "text/plain": [
       "<Figure size 1200x900 with 1 Axes>"
      ]
     },
     "metadata": {},
     "output_type": "display_data"
    }
   ],
   "source": [
    "cont_table.plot.bar(figsize=(12, 9))"
   ]
  },
  {
   "cell_type": "markdown",
   "metadata": {},
   "source": [
    "From the plot above, we can say that the distribution of age is similar between readmisssions types."
   ]
  },
  {
   "cell_type": "code",
   "execution_count": 303,
   "metadata": {},
   "outputs": [
    {
     "data": {
      "text/plain": [
       "<Axes: >"
      ]
     },
     "execution_count": 303,
     "metadata": {},
     "output_type": "execute_result"
    },
    {
     "data": {
      "image/png": "[encoded data removed]",
      "text/plain": [
       "<Figure size 640x480 with 1 Axes>"
      ]
     },
     "metadata": {},
     "output_type": "display_data"
    }
   ],
   "source": [
    "data['age'].hist(density=True, bins = range(0, 10))"
   ]
  },
  {
   "cell_type": "markdown",
   "metadata": {},
   "source": [
    "...."
   ]
  },
  {
   "cell_type": "markdown",
   "metadata": {},
   "source": [
    "# Inferential Analysis"
   ]
  },
  {
   "cell_type": "markdown",
   "metadata": {},
   "source": [
    "## What is the average time in hospital?"
   ]
  },
  {
   "cell_type": "code",
   "execution_count": 304,
   "metadata": {},
   "outputs": [
    {
     "name": "stdout",
     "output_type": "stream",
     "text": [
      "4.395986871843248\n"
     ]
    }
   ],
   "source": [
    "mean = data['time_in_hospital'].mean()\n",
    "print(mean)"
   ]
  },
  {
   "cell_type": "markdown",
   "metadata": {},
   "source": [
    "From the results above, we find that the average time in hospital is 4 days. Is this due to chance or is it statistically significant? Let's run a statistical test and find out."
   ]
  },
  {
   "cell_type": "code",
   "execution_count": 305,
   "metadata": {},
   "outputs": [
    {
     "name": "stdout",
     "output_type": "stream",
     "text": [
      "P value:  1.0 \n",
      "Alpha:  0.05\n"
     ]
    }
   ],
   "source": [
    "t, p = stats.ttest_1samp(data['time_in_hospital'], mean)\n",
    "alpha = 0.05\n",
    "print(\"P value: \", p, \"\\nAlpha: \", alpha)"
   ]
  },
  {
   "cell_type": "markdown",
   "metadata": {},
   "source": [
    "The p value is greater than the significance level, so we cannot reject the null hypothesis. <br>\n",
    "This means that data do not provide enough evidence to say that the true time in hospital differs from 4 and an half day."
   ]
  },
  {
   "cell_type": "code",
   "execution_count": 306,
   "metadata": {},
   "outputs": [
    {
     "data": {
      "text/plain": [
       "<Axes: >"
      ]
     },
     "execution_count": 306,
     "metadata": {},
     "output_type": "execute_result"
    },
    {
     "data": {
      "image/png": "[encoded data removed]",
      "text/plain": [
       "<Figure size 640x480 with 1 Axes>"
      ]
     },
     "metadata": {},
     "output_type": "display_data"
    }
   ],
   "source": [
    "data.boxplot(column=['time_in_hospital'])"
   ]
  },
  {
   "cell_type": "markdown",
   "metadata": {},
   "source": [
    "From the box plot above, we notice that values 13 and 14 are outliers. The median value is 4 and the third quantile is 6. "
   ]
  },
  {
   "cell_type": "markdown",
   "metadata": {},
   "source": [
    "## What is the average time in hospital between readmission classes?"
   ]
  },
  {
   "cell_type": "code",
   "execution_count": 307,
   "metadata": {},
   "outputs": [
    {
     "name": "stdout",
     "output_type": "stream",
     "text": [
      "4.254429133858268\n"
     ]
    }
   ],
   "source": [
    "not_readmitted = data.loc[data['readmitted'] == 0, 'time_in_hospital']\n",
    "mean_not_readmitted = not_readmitted.mean()\n",
    "print(mean_not_readmitted)"
   ]
  },
  {
   "cell_type": "code",
   "execution_count": 308,
   "metadata": {},
   "outputs": [
    {
     "name": "stdout",
     "output_type": "stream",
     "text": [
      "4.56157519935184\n"
     ]
    }
   ],
   "source": [
    "readmitted = data.loc[data['readmitted'] != 0, 'time_in_hospital']\n",
    "mean_readmitted = data.loc[data['readmitted'] != 0, 'time_in_hospital'].mean()\n",
    "print(mean_readmitted)"
   ]
  },
  {
   "cell_type": "markdown",
   "metadata": {},
   "source": [
    "Again, is this due to chance or is it statistically significant? Let's run a statistical test to see if we can reject the hypothesis that the two means are equal. "
   ]
  },
  {
   "cell_type": "code",
   "execution_count": 309,
   "metadata": {},
   "outputs": [
    {
     "name": "stdout",
     "output_type": "stream",
     "text": [
      "P value:  3.023396538894888e-60 \n",
      "Alpha:  0.05\n"
     ]
    }
   ],
   "source": [
    "t, p = stats.ttest_ind(readmitted, not_readmitted)\n",
    "alpha = 0.05\n",
    "print(\"P value: \", p, \"\\nAlpha: \", alpha)"
   ]
  },
  {
   "cell_type": "markdown",
   "metadata": {},
   "source": [
    "We can reject the null hyphothesis. It is safe to say that the two populations mean are different. \n",
    "Let's study the relationship between time_in_hospital and readmitted, using logistic regression."
   ]
  },
  {
   "cell_type": "markdown",
   "metadata": {},
   "source": [
    "Let's use a boxplot to study the distribution of time_in_hospital between readmissions."
   ]
  },
  {
   "cell_type": "code",
   "execution_count": 310,
   "metadata": {},
   "outputs": [
    {
     "data": {
      "text/plain": [
       "<Axes: title={'center': 'time_in_hospital'}, xlabel='readmitted'>"
      ]
     },
     "execution_count": 310,
     "metadata": {},
     "output_type": "execute_result"
    },
    {
     "data": {
      "image/png": "[encoded data removed]",
      "text/plain": [
       "<Figure size 640x480 with 1 Axes>"
      ]
     },
     "metadata": {},
     "output_type": "display_data"
    }
   ],
   "source": [
    "data.boxplot(by='readmitted', column='time_in_hospital') #todo: cambiare titolo"
   ]
  },
  {
   "cell_type": "markdown",
   "metadata": {},
   "source": [
    "For classes 1 and 2, bloxplots are indentical. For class 0, the median is lower than the other two. This means that the distribution of time_in_hospital for patients of class 0 is not symmetrical."
   ]
  },
  {
   "cell_type": "code",
   "execution_count": 311,
   "metadata": {},
   "outputs": [],
   "source": [
    "## Altro?"
   ]
  },
  {
   "cell_type": "markdown",
   "metadata": {},
   "source": [
    "## Logistic regression"
   ]
  },
  {
   "cell_type": "markdown",
   "metadata": {},
   "source": [
    "Let's fit a logistic regressor to study the relationship between time_in_hospital and readmitted. To do thiis, let's first study if an increase of the variable \"time_in_hospital\" leads to an increase in the probability that a patient will be readmitted or not. "
   ]
  },
  {
   "cell_type": "code",
   "execution_count": 312,
   "metadata": {},
   "outputs": [],
   "source": [
    "from statsmodels.formula.api import logit, mnlogit"
   ]
  },
  {
   "cell_type": "markdown",
   "metadata": {},
   "source": [
    "To do this, it is not necessary to use three class of readmissions, instead it sufficient to know that a patient has been readmitted or not."
   ]
  },
  {
   "cell_type": "code",
   "execution_count": 313,
   "metadata": {},
   "outputs": [],
   "source": [
    "view = data.replace({'readmitted': 2}, 1)"
   ]
  },
  {
   "cell_type": "code",
   "execution_count": 314,
   "metadata": {},
   "outputs": [
    {
     "data": {
      "text/plain": [
       "<matplotlib.collections.PathCollection at 0x15e30f5e0d0>"
      ]
     },
     "execution_count": 314,
     "metadata": {},
     "output_type": "execute_result"
    },
    {
     "data": {
      "image/png": "[encoded data removed]",
      "text/plain": [
       "<Figure size 640x480 with 1 Axes>"
      ]
     },
     "metadata": {},
     "output_type": "display_data"
    }
   ],
   "source": [
    "plt.scatter(x=view['time_in_hospital'], y=view['readmitted'])"
   ]
  },
  {
   "cell_type": "markdown",
   "metadata": {},
   "source": [
    "### Simple logit regression"
   ]
  },
  {
   "cell_type": "markdown",
   "metadata": {},
   "source": [
    "We can now fit a simple logit regressor"
   ]
  },
  {
   "cell_type": "code",
   "execution_count": 315,
   "metadata": {},
   "outputs": [
    {
     "name": "stdout",
     "output_type": "stream",
     "text": [
      "Optimization terminated successfully.\n",
      "         Current function value: 0.688770\n",
      "         Iterations 4\n"
     ]
    }
   ],
   "source": [
    "model = logit('readmitted ~ time_in_hospital', view).fit()"
   ]
  },
  {
   "cell_type": "code",
   "execution_count": 316,
   "metadata": {},
   "outputs": [
    {
     "data": {
      "text/html": [
       "<table class=\"simpletable\">\n",
       "<caption>Logit Regression Results</caption>\n",
       "<tr>\n",
       "  <th>Dep. Variable:</th>      <td>readmitted</td>    <th>  No. Observations:  </th>  <td>101766</td>  \n",
       "</tr>\n",
       "<tr>\n",
       "  <th>Model:</th>                 <td>Logit</td>      <th>  Df Residuals:      </th>  <td>101764</td>  \n",
       "</tr>\n",
       "<tr>\n",
       "  <th>Method:</th>                 <td>MLE</td>       <th>  Df Model:          </th>  <td>     1</td>  \n",
       "</tr>\n",
       "<tr>\n",
       "  <th>Date:</th>            <td>Thu, 27 Feb 2025</td> <th>  Pseudo R-squ.:     </th> <td>0.001903</td> \n",
       "</tr>\n",
       "<tr>\n",
       "  <th>Time:</th>                <td>20:02:47</td>     <th>  Log-Likelihood:    </th> <td> -70093.</td> \n",
       "</tr>\n",
       "<tr>\n",
       "  <th>converged:</th>             <td>True</td>       <th>  LL-Null:           </th> <td> -70227.</td> \n",
       "</tr>\n",
       "<tr>\n",
       "  <th>Covariance Type:</th>     <td>nonrobust</td>    <th>  LLR p-value:       </th> <td>4.311e-60</td>\n",
       "</tr>\n",
       "</table>\n",
       "<table class=\"simpletable\">\n",
       "<tr>\n",
       "          <td></td>            <th>coef</th>     <th>std err</th>      <th>z</th>      <th>P>|z|</th>  <th>[0.025</th>    <th>0.975]</th>  \n",
       "</tr>\n",
       "<tr>\n",
       "  <th>Intercept</th>        <td>   -0.3085</td> <td>    0.011</td> <td>  -27.469</td> <td> 0.000</td> <td>   -0.330</td> <td>   -0.286</td>\n",
       "</tr>\n",
       "<tr>\n",
       "  <th>time_in_hospital</th> <td>    0.0344</td> <td>    0.002</td> <td>   16.334</td> <td> 0.000</td> <td>    0.030</td> <td>    0.039</td>\n",
       "</tr>\n",
       "</table>"
      ],
      "text/latex": [
       "\\begin{center}\n",
       "\\begin{tabular}{lclc}\n",
       "\\toprule\n",
       "\\textbf{Dep. Variable:}     &    readmitted    & \\textbf{  No. Observations:  } &   101766    \\\\\n",
       "\\textbf{Model:}             &      Logit       & \\textbf{  Df Residuals:      } &   101764    \\\\\n",
       "\\textbf{Method:}            &       MLE        & \\textbf{  Df Model:          } &        1    \\\\\n",
       "\\textbf{Date:}              & Thu, 27 Feb 2025 & \\textbf{  Pseudo R-squ.:     } &  0.001903   \\\\\n",
       "\\textbf{Time:}              &     20:02:47     & \\textbf{  Log-Likelihood:    } &   -70093.   \\\\\n",
       "\\textbf{converged:}         &       True       & \\textbf{  LL-Null:           } &   -70227.   \\\\\n",
       "\\textbf{Covariance Type:}   &    nonrobust     & \\textbf{  LLR p-value:       } & 4.311e-60   \\\\\n",
       "\\bottomrule\n",
       "\\end{tabular}\n",
       "\\begin{tabular}{lcccccc}\n",
       "                            & \\textbf{coef} & \\textbf{std err} & \\textbf{z} & \\textbf{P$> |$z$|$} & \\textbf{[0.025} & \\textbf{0.975]}  \\\\\n",
       "\\midrule\n",
       "\\textbf{Intercept}          &      -0.3085  &        0.011     &   -27.469  &         0.000        &       -0.330    &       -0.286     \\\\\n",
       "\\textbf{time\\_in\\_hospital} &       0.0344  &        0.002     &    16.334  &         0.000        &        0.030    &        0.039     \\\\\n",
       "\\bottomrule\n",
       "\\end{tabular}\n",
       "%\\caption{Logit Regression Results}\n",
       "\\end{center}"
      ],
      "text/plain": [
       "<class 'statsmodels.iolib.summary.Summary'>\n",
       "\"\"\"\n",
       "                           Logit Regression Results                           \n",
       "==============================================================================\n",
       "Dep. Variable:             readmitted   No. Observations:               101766\n",
       "Model:                          Logit   Df Residuals:                   101764\n",
       "Method:                           MLE   Df Model:                            1\n",
       "Date:                Thu, 27 Feb 2025   Pseudo R-squ.:                0.001903\n",
       "Time:                        20:02:47   Log-Likelihood:                -70093.\n",
       "converged:                       True   LL-Null:                       -70227.\n",
       "Covariance Type:            nonrobust   LLR p-value:                 4.311e-60\n",
       "====================================================================================\n",
       "                       coef    std err          z      P>|z|      [0.025      0.975]\n",
       "------------------------------------------------------------------------------------\n",
       "Intercept           -0.3085      0.011    -27.469      0.000      -0.330      -0.286\n",
       "time_in_hospital     0.0344      0.002     16.334      0.000       0.030       0.039\n",
       "====================================================================================\n",
       "\"\"\""
      ]
     },
     "execution_count": 316,
     "metadata": {},
     "output_type": "execute_result"
    }
   ],
   "source": [
    "model.summary()"
   ]
  },
  {
   "cell_type": "markdown",
   "metadata": {},
   "source": [
    "The pseudo-R^2 is very small: the model do not explain well the data."
   ]
  },
  {
   "cell_type": "code",
   "execution_count": 317,
   "metadata": {},
   "outputs": [
    {
     "data": {
      "text/plain": [
       "np.float64(0.7345479521991701)"
      ]
     },
     "execution_count": 317,
     "metadata": {},
     "output_type": "execute_result"
    }
   ],
   "source": [
    "np.exp(-0.3085)"
   ]
  },
  {
   "cell_type": "markdown",
   "metadata": {},
   "source": [
    "when time_in_hospital is set to 0, unrealistically, the odds of a patient being readmitted rather than not is 0.73. "
   ]
  },
  {
   "cell_type": "code",
   "execution_count": 318,
   "metadata": {},
   "outputs": [
    {
     "data": {
      "text/plain": [
       "np.float64(1.0349985233486143)"
      ]
     },
     "execution_count": 318,
     "metadata": {},
     "output_type": "execute_result"
    }
   ],
   "source": [
    "np.exp(0.0344)"
   ]
  },
  {
   "cell_type": "markdown",
   "metadata": {},
   "source": [
    "Without considering other variables, an extra day in hospital corresponds to a multiplicative increase in the odds of a patient being readmitted rather than not of 1.034. That is, if a patient spend an extra day in the hospital, the odds of being readmitted increases by a (1-1.034)*100 = 3.4%"
   ]
  },
  {
   "cell_type": "code",
   "execution_count": 319,
   "metadata": {},
   "outputs": [
    {
     "name": "stdout",
     "output_type": "stream",
     "text": [
      "Optimization terminated successfully.\n",
      "         Current function value: 0.943557\n",
      "         Iterations 6\n"
     ]
    }
   ],
   "source": [
    "model = mnlogit('readmitted ~ time_in_hospital', data).fit()"
   ]
  },
  {
   "cell_type": "code",
   "execution_count": 320,
   "metadata": {},
   "outputs": [
    {
     "data": {
      "text/html": [
       "<table class=\"simpletable\">\n",
       "<caption>MNLogit Regression Results</caption>\n",
       "<tr>\n",
       "  <th>Dep. Variable:</th>      <td>readmitted</td>    <th>  No. Observations:  </th>  <td>101766</td>  \n",
       "</tr>\n",
       "<tr>\n",
       "  <th>Model:</th>                <td>MNLogit</td>     <th>  Df Residuals:      </th>  <td>101762</td>  \n",
       "</tr>\n",
       "<tr>\n",
       "  <th>Method:</th>                 <td>MLE</td>       <th>  Df Model:          </th>  <td>     2</td>  \n",
       "</tr>\n",
       "<tr>\n",
       "  <th>Date:</th>            <td>Thu, 27 Feb 2025</td> <th>  Pseudo R-squ.:     </th> <td>0.001737</td> \n",
       "</tr>\n",
       "<tr>\n",
       "  <th>Time:</th>                <td>20:02:49</td>     <th>  Log-Likelihood:    </th> <td> -96022.</td> \n",
       "</tr>\n",
       "<tr>\n",
       "  <th>converged:</th>             <td>True</td>       <th>  LL-Null:           </th> <td> -96189.</td> \n",
       "</tr>\n",
       "<tr>\n",
       "  <th>Covariance Type:</th>     <td>nonrobust</td>    <th>  LLR p-value:       </th> <td>2.868e-73</td>\n",
       "</tr>\n",
       "</table>\n",
       "<table class=\"simpletable\">\n",
       "<tr>\n",
       "    <th>readmitted=1</th>      <th>coef</th>     <th>std err</th>      <th>z</th>      <th>P>|z|</th>  <th>[0.025</th>    <th>0.975]</th>  \n",
       "</tr>\n",
       "<tr>\n",
       "  <th>Intercept</th>        <td>   -0.5537</td> <td>    0.012</td> <td>  -45.597</td> <td> 0.000</td> <td>   -0.578</td> <td>   -0.530</td>\n",
       "</tr>\n",
       "<tr>\n",
       "  <th>time_in_hospital</th> <td>    0.0274</td> <td>    0.002</td> <td>   11.967</td> <td> 0.000</td> <td>    0.023</td> <td>    0.032</td>\n",
       "</tr>\n",
       "<tr>\n",
       "    <th>readmitted=2</th>      <th>coef</th>     <th>std err</th>      <th>z</th>      <th>P>|z|</th>  <th>[0.025</th>    <th>0.975]</th>  \n",
       "</tr>\n",
       "<tr>\n",
       "  <th>Intercept</th>        <td>   -1.8254</td> <td>    0.019</td> <td>  -98.345</td> <td> 0.000</td> <td>   -1.862</td> <td>   -1.789</td>\n",
       "</tr>\n",
       "<tr>\n",
       "  <th>time_in_hospital</th> <td>    0.0556</td> <td>    0.003</td> <td>   16.819</td> <td> 0.000</td> <td>    0.049</td> <td>    0.062</td>\n",
       "</tr>\n",
       "</table>"
      ],
      "text/latex": [
       "\\begin{center}\n",
       "\\begin{tabular}{lclc}\n",
       "\\toprule\n",
       "\\textbf{Dep. Variable:}     &    readmitted    & \\textbf{  No. Observations:  } &   101766    \\\\\n",
       "\\textbf{Model:}             &     MNLogit      & \\textbf{  Df Residuals:      } &   101762    \\\\\n",
       "\\textbf{Method:}            &       MLE        & \\textbf{  Df Model:          } &        2    \\\\\n",
       "\\textbf{Date:}              & Thu, 27 Feb 2025 & \\textbf{  Pseudo R-squ.:     } &  0.001737   \\\\\n",
       "\\textbf{Time:}              &     20:02:49     & \\textbf{  Log-Likelihood:    } &   -96022.   \\\\\n",
       "\\textbf{converged:}         &       True       & \\textbf{  LL-Null:           } &   -96189.   \\\\\n",
       "\\textbf{Covariance Type:}   &    nonrobust     & \\textbf{  LLR p-value:       } & 2.868e-73   \\\\\n",
       "\\bottomrule\n",
       "\\end{tabular}\n",
       "\\begin{tabular}{ccccccc}\n",
       "   \\textbf{readmitted=1}    & \\textbf{coef} & \\textbf{std err} & \\textbf{z} & \\textbf{P$> |$z$|$} & \\textbf{[0.025} & \\textbf{0.975]}  \\\\\n",
       "\\midrule\n",
       "\\bottomrule\n",
       "\\end{tabular}\n",
       "\\begin{tabular}{lcccccc}\n",
       "\\textbf{Intercept}          &      -0.5537  &        0.012     &   -45.597  &         0.000        &       -0.578    &       -0.530     \\\\\n",
       "\\textbf{time\\_in\\_hospital} &       0.0274  &        0.002     &    11.967  &         0.000        &        0.023    &        0.032     \\\\\n",
       "\\bottomrule\n",
       "\\end{tabular}\n",
       "\\begin{tabular}{ccccccc}\n",
       "   \\textbf{readmitted=2}    & \\textbf{coef} & \\textbf{std err} & \\textbf{z} & \\textbf{P$> |$z$|$} & \\textbf{[0.025} & \\textbf{0.975]}  \\\\\n",
       "\\midrule\n",
       "\\bottomrule\n",
       "\\end{tabular}\n",
       "\\begin{tabular}{lcccccc}\n",
       "\\textbf{Intercept}          &      -1.8254  &        0.019     &   -98.345  &         0.000        &       -1.862    &       -1.789     \\\\\n",
       "\\textbf{time\\_in\\_hospital} &       0.0556  &        0.003     &    16.819  &         0.000        &        0.049    &        0.062     \\\\\n",
       "\\bottomrule\n",
       "\\end{tabular}\n",
       "%\\caption{MNLogit Regression Results}\n",
       "\\end{center}"
      ],
      "text/plain": [
       "<class 'statsmodels.iolib.summary.Summary'>\n",
       "\"\"\"\n",
       "                          MNLogit Regression Results                          \n",
       "==============================================================================\n",
       "Dep. Variable:             readmitted   No. Observations:               101766\n",
       "Model:                        MNLogit   Df Residuals:                   101762\n",
       "Method:                           MLE   Df Model:                            2\n",
       "Date:                Thu, 27 Feb 2025   Pseudo R-squ.:                0.001737\n",
       "Time:                        20:02:49   Log-Likelihood:                -96022.\n",
       "converged:                       True   LL-Null:                       -96189.\n",
       "Covariance Type:            nonrobust   LLR p-value:                 2.868e-73\n",
       "====================================================================================\n",
       "    readmitted=1       coef    std err          z      P>|z|      [0.025      0.975]\n",
       "------------------------------------------------------------------------------------\n",
       "Intercept           -0.5537      0.012    -45.597      0.000      -0.578      -0.530\n",
       "time_in_hospital     0.0274      0.002     11.967      0.000       0.023       0.032\n",
       "------------------------------------------------------------------------------------\n",
       "    readmitted=2       coef    std err          z      P>|z|      [0.025      0.975]\n",
       "------------------------------------------------------------------------------------\n",
       "Intercept           -1.8254      0.019    -98.345      0.000      -1.862      -1.789\n",
       "time_in_hospital     0.0556      0.003     16.819      0.000       0.049       0.062\n",
       "====================================================================================\n",
       "\"\"\""
      ]
     },
     "execution_count": 320,
     "metadata": {},
     "output_type": "execute_result"
    }
   ],
   "source": [
    "model.summary()"
   ]
  },
  {
   "cell_type": "code",
   "execution_count": 321,
   "metadata": {},
   "outputs": [
    {
     "data": {
      "text/plain": [
       "np.float64(1.0571747292596514)"
      ]
     },
     "execution_count": 321,
     "metadata": {},
     "output_type": "execute_result"
    }
   ],
   "source": [
    "np.exp(0.0556)"
   ]
  },
  {
   "cell_type": "code",
   "execution_count": 322,
   "metadata": {},
   "outputs": [
    {
     "data": {
      "text/plain": [
       "array(['Female', 'Male', 'Unknown/Invalid'], dtype=object)"
      ]
     },
     "execution_count": 322,
     "metadata": {},
     "output_type": "execute_result"
    }
   ],
   "source": [
    "data['gender'].unique()"
   ]
  },
  {
   "cell_type": "code",
   "execution_count": 323,
   "metadata": {},
   "outputs": [
    {
     "data": {
      "text/html": [
       "<div>\n",
       "<style scoped>\n",
       "    .dataframe tbody tr th:only-of-type {\n",
       "        vertical-align: middle;\n",
       "    }\n",
       "\n",
       "    .dataframe tbody tr th {\n",
       "        vertical-align: top;\n",
       "    }\n",
       "\n",
       "    .dataframe thead th {\n",
       "        text-align: right;\n",
       "    }\n",
       "</style>\n",
       "<table border=\"1\" class=\"dataframe\">\n",
       "  <thead>\n",
       "    <tr style=\"text-align: right;\">\n",
       "      <th></th>\n",
       "      <th>encounter_id</th>\n",
       "      <th>patient_nbr</th>\n",
       "      <th>race</th>\n",
       "      <th>gender</th>\n",
       "      <th>age</th>\n",
       "      <th>admission_type_id</th>\n",
       "      <th>discharge_disposition_id</th>\n",
       "      <th>admission_source_id</th>\n",
       "      <th>time_in_hospital</th>\n",
       "      <th>num_lab_procedures</th>\n",
       "      <th>...</th>\n",
       "      <th>citoglipton</th>\n",
       "      <th>insulin</th>\n",
       "      <th>glyburide_metformin</th>\n",
       "      <th>glipizide_metformin</th>\n",
       "      <th>glimepiride_pioglitazone</th>\n",
       "      <th>metformin_rosiglitazone</th>\n",
       "      <th>metformin_pioglitazone</th>\n",
       "      <th>change</th>\n",
       "      <th>diabetesMed</th>\n",
       "      <th>readmitted</th>\n",
       "    </tr>\n",
       "  </thead>\n",
       "  <tbody>\n",
       "    <tr>\n",
       "      <th>30506</th>\n",
       "      <td>98634858</td>\n",
       "      <td>100695042</td>\n",
       "      <td>Other</td>\n",
       "      <td>Unknown/Invalid</td>\n",
       "      <td>7</td>\n",
       "      <td>3</td>\n",
       "      <td>1</td>\n",
       "      <td>1</td>\n",
       "      <td>1</td>\n",
       "      <td>5</td>\n",
       "      <td>...</td>\n",
       "      <td>0</td>\n",
       "      <td>0</td>\n",
       "      <td>0</td>\n",
       "      <td>0</td>\n",
       "      <td>0</td>\n",
       "      <td>0</td>\n",
       "      <td>0</td>\n",
       "      <td>1</td>\n",
       "      <td>1</td>\n",
       "      <td>0</td>\n",
       "    </tr>\n",
       "    <tr>\n",
       "      <th>75551</th>\n",
       "      <td>226864668</td>\n",
       "      <td>60524946</td>\n",
       "      <td>?</td>\n",
       "      <td>Unknown/Invalid</td>\n",
       "      <td>6</td>\n",
       "      <td>1</td>\n",
       "      <td>1</td>\n",
       "      <td>7</td>\n",
       "      <td>1</td>\n",
       "      <td>38</td>\n",
       "      <td>...</td>\n",
       "      <td>0</td>\n",
       "      <td>0</td>\n",
       "      <td>0</td>\n",
       "      <td>0</td>\n",
       "      <td>0</td>\n",
       "      <td>0</td>\n",
       "      <td>0</td>\n",
       "      <td>0</td>\n",
       "      <td>0</td>\n",
       "      <td>0</td>\n",
       "    </tr>\n",
       "    <tr>\n",
       "      <th>82573</th>\n",
       "      <td>257364294</td>\n",
       "      <td>78119847</td>\n",
       "      <td>?</td>\n",
       "      <td>Unknown/Invalid</td>\n",
       "      <td>7</td>\n",
       "      <td>1</td>\n",
       "      <td>22</td>\n",
       "      <td>7</td>\n",
       "      <td>8</td>\n",
       "      <td>59</td>\n",
       "      <td>...</td>\n",
       "      <td>0</td>\n",
       "      <td>0</td>\n",
       "      <td>0</td>\n",
       "      <td>0</td>\n",
       "      <td>0</td>\n",
       "      <td>0</td>\n",
       "      <td>0</td>\n",
       "      <td>1</td>\n",
       "      <td>1</td>\n",
       "      <td>0</td>\n",
       "    </tr>\n",
       "  </tbody>\n",
       "</table>\n",
       "<p>3 rows × 45 columns</p>\n",
       "</div>"
      ],
      "text/plain": [
       "       encounter_id  patient_nbr   race           gender  age  \\\n",
       "30506      98634858    100695042  Other  Unknown/Invalid    7   \n",
       "75551     226864668     60524946      ?  Unknown/Invalid    6   \n",
       "82573     257364294     78119847      ?  Unknown/Invalid    7   \n",
       "\n",
       "       admission_type_id  discharge_disposition_id  admission_source_id  \\\n",
       "30506                  3                         1                    1   \n",
       "75551                  1                         1                    7   \n",
       "82573                  1                        22                    7   \n",
       "\n",
       "       time_in_hospital  num_lab_procedures  ...  citoglipton  insulin  \\\n",
       "30506                 1                   5  ...            0        0   \n",
       "75551                 1                  38  ...            0        0   \n",
       "82573                 8                  59  ...            0        0   \n",
       "\n",
       "       glyburide_metformin  glipizide_metformin  glimepiride_pioglitazone  \\\n",
       "30506                    0                    0                         0   \n",
       "75551                    0                    0                         0   \n",
       "82573                    0                    0                         0   \n",
       "\n",
       "      metformin_rosiglitazone metformin_pioglitazone change  diabetesMed  \\\n",
       "30506                       0                      0      1            1   \n",
       "75551                       0                      0      0            0   \n",
       "82573                       0                      0      1            1   \n",
       "\n",
       "       readmitted  \n",
       "30506           0  \n",
       "75551           0  \n",
       "82573           0  \n",
       "\n",
       "[3 rows x 45 columns]"
      ]
     },
     "execution_count": 323,
     "metadata": {},
     "output_type": "execute_result"
    }
   ],
   "source": [
    "data[data['gender'] == 'Unknown/Invalid']"
   ]
  },
  {
   "cell_type": "code",
   "execution_count": 324,
   "metadata": {},
   "outputs": [],
   "source": [
    "data = data.drop(index=[30506, 75551, 82573])"
   ]
  },
  {
   "cell_type": "markdown",
   "metadata": {},
   "source": [
    "## Multiple logit regressor"
   ]
  },
  {
   "cell_type": "markdown",
   "metadata": {},
   "source": [
    "Let's define a function that build the formula automatically"
   ]
  },
  {
   "cell_type": "code",
   "execution_count": 325,
   "metadata": {},
   "outputs": [],
   "source": [
    "def buildFormula(columns):\n",
    "    formula = 'readmitted ~ ' + columns[0]\n",
    "    \n",
    "    for s in columns[1:-1]:\n",
    "        formula = formula + ' + ' + s\n",
    "        \n",
    "    return formula"
   ]
  },
  {
   "cell_type": "code",
   "execution_count": 326,
   "metadata": {},
   "outputs": [],
   "source": [
    "view = data.replace({'readmitted': 2}, 1)"
   ]
  },
  {
   "cell_type": "markdown",
   "metadata": {},
   "source": [
    "Let's drop some variables about administrative data"
   ]
  },
  {
   "cell_type": "code",
   "execution_count": 327,
   "metadata": {},
   "outputs": [],
   "source": [
    "view = view.drop(columns=['encounter_id', 'patient_nbr', 'race', 'admission_type_id', 'discharge_disposition_id', 'admission_source_id', 'examide', 'citoglipton',\n",
    "                          'diag_1', 'diag_2', 'diag_3'])"
   ]
  },
  {
   "cell_type": "code",
   "execution_count": 328,
   "metadata": {},
   "outputs": [
    {
     "data": {
      "text/plain": [
       "Index(['gender', 'age', 'time_in_hospital', 'num_lab_procedures',\n",
       "       'num_procedures', 'num_medications', 'number_outpatient',\n",
       "       'number_emergency', 'number_inpatient', 'number_diagnoses', 'metformin',\n",
       "       'repaglinide', 'nateglinide', 'chlorpropamide', 'glimepiride',\n",
       "       'acetohexamide', 'glipizide', 'glyburide', 'tolbutamide',\n",
       "       'pioglitazone', 'rosiglitazone', 'acarbose', 'miglitol', 'troglitazone',\n",
       "       'tolazamide', 'insulin', 'glyburide_metformin', 'glipizide_metformin',\n",
       "       'glimepiride_pioglitazone', 'metformin_rosiglitazone',\n",
       "       'metformin_pioglitazone', 'change', 'diabetesMed', 'readmitted'],\n",
       "      dtype='object')"
      ]
     },
     "execution_count": 328,
     "metadata": {},
     "output_type": "execute_result"
    }
   ],
   "source": [
    "view.columns"
   ]
  },
  {
   "cell_type": "code",
   "execution_count": 329,
   "metadata": {},
   "outputs": [],
   "source": [
    "# gender + drop unknown"
   ]
  },
  {
   "cell_type": "markdown",
   "metadata": {},
   "source": [
    "Variables \"citoglipton\" and \"examide\" has identical values for each observations. They are correlated, so we need to remove them in order to build a regression model."
   ]
  },
  {
   "cell_type": "code",
   "execution_count": 330,
   "metadata": {},
   "outputs": [
    {
     "data": {
      "text/plain": [
       "array([0])"
      ]
     },
     "execution_count": 330,
     "metadata": {},
     "output_type": "execute_result"
    }
   ],
   "source": [
    "data['citoglipton'].unique()"
   ]
  },
  {
   "cell_type": "code",
   "execution_count": 331,
   "metadata": {},
   "outputs": [
    {
     "data": {
      "text/plain": [
       "array([0])"
      ]
     },
     "execution_count": 331,
     "metadata": {},
     "output_type": "execute_result"
    }
   ],
   "source": [
    "data['examide'].unique()"
   ]
  },
  {
   "cell_type": "code",
   "execution_count": 332,
   "metadata": {},
   "outputs": [],
   "source": [
    "formula = buildFormula(columns=view.columns)"
   ]
  },
  {
   "cell_type": "code",
   "execution_count": 333,
   "metadata": {},
   "outputs": [
    {
     "name": "stdout",
     "output_type": "stream",
     "text": [
      "Warning: Maximum number of iterations has been exceeded.\n",
      "         Current function value: 0.653006\n",
      "         Iterations: 35\n"
     ]
    },
    {
     "name": "stderr",
     "output_type": "stream",
     "text": [
      "c:\\Users\\Raffaele\\anaconda3\\envs\\fad\\Lib\\site-packages\\statsmodels\\base\\model.py:607: ConvergenceWarning: Maximum Likelihood optimization failed to converge. Check mle_retvals\n",
      "  warnings.warn(\"Maximum Likelihood optimization failed to \"\n"
     ]
    }
   ],
   "source": [
    "model = logit(formula, view).fit()"
   ]
  },
  {
   "cell_type": "code",
   "execution_count": 334,
   "metadata": {},
   "outputs": [
    {
     "data": {
      "text/html": [
       "<table class=\"simpletable\">\n",
       "<caption>Logit Regression Results</caption>\n",
       "<tr>\n",
       "  <th>Dep. Variable:</th>      <td>readmitted</td>    <th>  No. Observations:  </th>  <td>101763</td> \n",
       "</tr>\n",
       "<tr>\n",
       "  <th>Model:</th>                 <td>Logit</td>      <th>  Df Residuals:      </th>  <td>101729</td> \n",
       "</tr>\n",
       "<tr>\n",
       "  <th>Method:</th>                 <td>MLE</td>       <th>  Df Model:          </th>  <td>    33</td> \n",
       "</tr>\n",
       "<tr>\n",
       "  <th>Date:</th>            <td>Thu, 27 Feb 2025</td> <th>  Pseudo R-squ.:     </th>  <td>0.05373</td>\n",
       "</tr>\n",
       "<tr>\n",
       "  <th>Time:</th>                <td>20:02:51</td>     <th>  Log-Likelihood:    </th> <td> -66452.</td>\n",
       "</tr>\n",
       "<tr>\n",
       "  <th>converged:</th>             <td>False</td>      <th>  LL-Null:           </th> <td> -70225.</td>\n",
       "</tr>\n",
       "<tr>\n",
       "  <th>Covariance Type:</th>     <td>nonrobust</td>    <th>  LLR p-value:       </th>  <td> 0.000</td> \n",
       "</tr>\n",
       "</table>\n",
       "<table class=\"simpletable\">\n",
       "<tr>\n",
       "              <td></td>                <th>coef</th>     <th>std err</th>      <th>z</th>      <th>P>|z|</th>  <th>[0.025</th>    <th>0.975]</th>  \n",
       "</tr>\n",
       "<tr>\n",
       "  <th>Intercept</th>                <td>   -1.4069</td> <td>    0.038</td> <td>  -36.853</td> <td> 0.000</td> <td>   -1.482</td> <td>   -1.332</td>\n",
       "</tr>\n",
       "<tr>\n",
       "  <th>gender[T.Male]</th>           <td>   -0.0474</td> <td>    0.013</td> <td>   -3.598</td> <td> 0.000</td> <td>   -0.073</td> <td>   -0.022</td>\n",
       "</tr>\n",
       "<tr>\n",
       "  <th>age</th>                      <td>    0.0240</td> <td>    0.004</td> <td>    5.500</td> <td> 0.000</td> <td>    0.015</td> <td>    0.033</td>\n",
       "</tr>\n",
       "<tr>\n",
       "  <th>time_in_hospital</th>         <td>    0.0109</td> <td>    0.003</td> <td>    4.255</td> <td> 0.000</td> <td>    0.006</td> <td>    0.016</td>\n",
       "</tr>\n",
       "<tr>\n",
       "  <th>num_lab_procedures</th>       <td>    0.0014</td> <td>    0.000</td> <td>    3.935</td> <td> 0.000</td> <td>    0.001</td> <td>    0.002</td>\n",
       "</tr>\n",
       "<tr>\n",
       "  <th>num_procedures</th>           <td>   -0.0454</td> <td>    0.004</td> <td>  -10.682</td> <td> 0.000</td> <td>   -0.054</td> <td>   -0.037</td>\n",
       "</tr>\n",
       "<tr>\n",
       "  <th>num_medications</th>          <td>    0.0005</td> <td>    0.001</td> <td>    0.473</td> <td> 0.636</td> <td>   -0.002</td> <td>    0.003</td>\n",
       "</tr>\n",
       "<tr>\n",
       "  <th>number_outpatient</th>        <td>    0.0840</td> <td>    0.006</td> <td>   13.977</td> <td> 0.000</td> <td>    0.072</td> <td>    0.096</td>\n",
       "</tr>\n",
       "<tr>\n",
       "  <th>number_emergency</th>         <td>    0.2200</td> <td>    0.012</td> <td>   17.876</td> <td> 0.000</td> <td>    0.196</td> <td>    0.244</td>\n",
       "</tr>\n",
       "<tr>\n",
       "  <th>number_inpatient</th>         <td>    0.3697</td> <td>    0.007</td> <td>   53.324</td> <td> 0.000</td> <td>    0.356</td> <td>    0.383</td>\n",
       "</tr>\n",
       "<tr>\n",
       "  <th>number_diagnoses</th>         <td>    0.0780</td> <td>    0.004</td> <td>   21.012</td> <td> 0.000</td> <td>    0.071</td> <td>    0.085</td>\n",
       "</tr>\n",
       "<tr>\n",
       "  <th>metformin</th>                <td>   -0.0823</td> <td>    0.016</td> <td>   -5.119</td> <td> 0.000</td> <td>   -0.114</td> <td>   -0.051</td>\n",
       "</tr>\n",
       "<tr>\n",
       "  <th>repaglinide</th>              <td>    0.1187</td> <td>    0.045</td> <td>    2.645</td> <td> 0.008</td> <td>    0.031</td> <td>    0.207</td>\n",
       "</tr>\n",
       "<tr>\n",
       "  <th>nateglinide</th>              <td>    0.0400</td> <td>    0.071</td> <td>    0.565</td> <td> 0.572</td> <td>   -0.099</td> <td>    0.179</td>\n",
       "</tr>\n",
       "<tr>\n",
       "  <th>chlorpropamide</th>           <td>    0.1967</td> <td>    0.193</td> <td>    1.019</td> <td> 0.308</td> <td>   -0.182</td> <td>    0.575</td>\n",
       "</tr>\n",
       "<tr>\n",
       "  <th>glimepiride</th>              <td>    0.0124</td> <td>    0.025</td> <td>    0.489</td> <td> 0.625</td> <td>   -0.037</td> <td>    0.062</td>\n",
       "</tr>\n",
       "<tr>\n",
       "  <th>acetohexamide</th>            <td>   19.4977</td> <td> 1.53e+04</td> <td>    0.001</td> <td> 0.999</td> <td>-2.99e+04</td> <td>    3e+04</td>\n",
       "</tr>\n",
       "<tr>\n",
       "  <th>glipizide</th>                <td>    0.0952</td> <td>    0.018</td> <td>    5.301</td> <td> 0.000</td> <td>    0.060</td> <td>    0.130</td>\n",
       "</tr>\n",
       "<tr>\n",
       "  <th>glyburide</th>                <td>    0.0308</td> <td>    0.019</td> <td>    1.650</td> <td> 0.099</td> <td>   -0.006</td> <td>    0.067</td>\n",
       "</tr>\n",
       "<tr>\n",
       "  <th>tolbutamide</th>              <td>   -0.4037</td> <td>    0.444</td> <td>   -0.910</td> <td> 0.363</td> <td>   -1.273</td> <td>    0.466</td>\n",
       "</tr>\n",
       "<tr>\n",
       "  <th>pioglitazone</th>             <td>    0.0802</td> <td>    0.024</td> <td>    3.340</td> <td> 0.001</td> <td>    0.033</td> <td>    0.127</td>\n",
       "</tr>\n",
       "<tr>\n",
       "  <th>rosiglitazone</th>            <td>    0.0810</td> <td>    0.026</td> <td>    3.140</td> <td> 0.002</td> <td>    0.030</td> <td>    0.132</td>\n",
       "</tr>\n",
       "<tr>\n",
       "  <th>acarbose</th>                 <td>    0.4011</td> <td>    0.113</td> <td>    3.535</td> <td> 0.000</td> <td>    0.179</td> <td>    0.624</td>\n",
       "</tr>\n",
       "<tr>\n",
       "  <th>miglitol</th>                 <td>    0.5492</td> <td>    0.287</td> <td>    1.915</td> <td> 0.056</td> <td>   -0.013</td> <td>    1.111</td>\n",
       "</tr>\n",
       "<tr>\n",
       "  <th>troglitazone</th>             <td>    0.9092</td> <td>    1.225</td> <td>    0.742</td> <td> 0.458</td> <td>   -1.492</td> <td>    3.311</td>\n",
       "</tr>\n",
       "<tr>\n",
       "  <th>tolazamide</th>               <td>   -0.1985</td> <td>    0.327</td> <td>   -0.607</td> <td> 0.544</td> <td>   -0.839</td> <td>    0.442</td>\n",
       "</tr>\n",
       "<tr>\n",
       "  <th>insulin</th>                  <td>    0.0394</td> <td>    0.011</td> <td>    3.572</td> <td> 0.000</td> <td>    0.018</td> <td>    0.061</td>\n",
       "</tr>\n",
       "<tr>\n",
       "  <th>glyburide_metformin</th>      <td>    0.0535</td> <td>    0.074</td> <td>    0.720</td> <td> 0.472</td> <td>   -0.092</td> <td>    0.199</td>\n",
       "</tr>\n",
       "<tr>\n",
       "  <th>glipizide_metformin</th>      <td>    0.6658</td> <td>    0.580</td> <td>    1.148</td> <td> 0.251</td> <td>   -0.470</td> <td>    1.802</td>\n",
       "</tr>\n",
       "<tr>\n",
       "  <th>glimepiride_pioglitazone</th> <td>   18.5163</td> <td>  1.1e+04</td> <td>    0.002</td> <td> 0.999</td> <td>-2.15e+04</td> <td> 2.15e+04</td>\n",
       "</tr>\n",
       "<tr>\n",
       "  <th>metformin_rosiglitazone</th>  <td>  -18.3185</td> <td> 7292.412</td> <td>   -0.003</td> <td> 0.998</td> <td>-1.43e+04</td> <td> 1.43e+04</td>\n",
       "</tr>\n",
       "<tr>\n",
       "  <th>metformin_pioglitazone</th>   <td>  -17.1774</td> <td> 8137.267</td> <td>   -0.002</td> <td> 0.998</td> <td> -1.6e+04</td> <td> 1.59e+04</td>\n",
       "</tr>\n",
       "<tr>\n",
       "  <th>change</th>                   <td>   -0.0215</td> <td>    0.023</td> <td>   -0.926</td> <td> 0.355</td> <td>   -0.067</td> <td>    0.024</td>\n",
       "</tr>\n",
       "<tr>\n",
       "  <th>diabetesMed</th>              <td>    0.2062</td> <td>    0.021</td> <td>   10.036</td> <td> 0.000</td> <td>    0.166</td> <td>    0.246</td>\n",
       "</tr>\n",
       "</table>"
      ],
      "text/latex": [
       "\\begin{center}\n",
       "\\begin{tabular}{lclc}\n",
       "\\toprule\n",
       "\\textbf{Dep. Variable:}            &    readmitted    & \\textbf{  No. Observations:  } &   101763    \\\\\n",
       "\\textbf{Model:}                    &      Logit       & \\textbf{  Df Residuals:      } &   101729    \\\\\n",
       "\\textbf{Method:}                   &       MLE        & \\textbf{  Df Model:          } &       33    \\\\\n",
       "\\textbf{Date:}                     & Thu, 27 Feb 2025 & \\textbf{  Pseudo R-squ.:     } &  0.05373    \\\\\n",
       "\\textbf{Time:}                     &     20:02:51     & \\textbf{  Log-Likelihood:    } &   -66452.   \\\\\n",
       "\\textbf{converged:}                &      False       & \\textbf{  LL-Null:           } &   -70225.   \\\\\n",
       "\\textbf{Covariance Type:}          &    nonrobust     & \\textbf{  LLR p-value:       } &    0.000    \\\\\n",
       "\\bottomrule\n",
       "\\end{tabular}\n",
       "\\begin{tabular}{lcccccc}\n",
       "                                   & \\textbf{coef} & \\textbf{std err} & \\textbf{z} & \\textbf{P$> |$z$|$} & \\textbf{[0.025} & \\textbf{0.975]}  \\\\\n",
       "\\midrule\n",
       "\\textbf{Intercept}                 &      -1.4069  &        0.038     &   -36.853  &         0.000        &       -1.482    &       -1.332     \\\\\n",
       "\\textbf{gender[T.Male]}            &      -0.0474  &        0.013     &    -3.598  &         0.000        &       -0.073    &       -0.022     \\\\\n",
       "\\textbf{age}                       &       0.0240  &        0.004     &     5.500  &         0.000        &        0.015    &        0.033     \\\\\n",
       "\\textbf{time\\_in\\_hospital}        &       0.0109  &        0.003     &     4.255  &         0.000        &        0.006    &        0.016     \\\\\n",
       "\\textbf{num\\_lab\\_procedures}      &       0.0014  &        0.000     &     3.935  &         0.000        &        0.001    &        0.002     \\\\\n",
       "\\textbf{num\\_procedures}           &      -0.0454  &        0.004     &   -10.682  &         0.000        &       -0.054    &       -0.037     \\\\\n",
       "\\textbf{num\\_medications}          &       0.0005  &        0.001     &     0.473  &         0.636        &       -0.002    &        0.003     \\\\\n",
       "\\textbf{number\\_outpatient}        &       0.0840  &        0.006     &    13.977  &         0.000        &        0.072    &        0.096     \\\\\n",
       "\\textbf{number\\_emergency}         &       0.2200  &        0.012     &    17.876  &         0.000        &        0.196    &        0.244     \\\\\n",
       "\\textbf{number\\_inpatient}         &       0.3697  &        0.007     &    53.324  &         0.000        &        0.356    &        0.383     \\\\\n",
       "\\textbf{number\\_diagnoses}         &       0.0780  &        0.004     &    21.012  &         0.000        &        0.071    &        0.085     \\\\\n",
       "\\textbf{metformin}                 &      -0.0823  &        0.016     &    -5.119  &         0.000        &       -0.114    &       -0.051     \\\\\n",
       "\\textbf{repaglinide}               &       0.1187  &        0.045     &     2.645  &         0.008        &        0.031    &        0.207     \\\\\n",
       "\\textbf{nateglinide}               &       0.0400  &        0.071     &     0.565  &         0.572        &       -0.099    &        0.179     \\\\\n",
       "\\textbf{chlorpropamide}            &       0.1967  &        0.193     &     1.019  &         0.308        &       -0.182    &        0.575     \\\\\n",
       "\\textbf{glimepiride}               &       0.0124  &        0.025     &     0.489  &         0.625        &       -0.037    &        0.062     \\\\\n",
       "\\textbf{acetohexamide}             &      19.4977  &     1.53e+04     &     0.001  &         0.999        &    -2.99e+04    &        3e+04     \\\\\n",
       "\\textbf{glipizide}                 &       0.0952  &        0.018     &     5.301  &         0.000        &        0.060    &        0.130     \\\\\n",
       "\\textbf{glyburide}                 &       0.0308  &        0.019     &     1.650  &         0.099        &       -0.006    &        0.067     \\\\\n",
       "\\textbf{tolbutamide}               &      -0.4037  &        0.444     &    -0.910  &         0.363        &       -1.273    &        0.466     \\\\\n",
       "\\textbf{pioglitazone}              &       0.0802  &        0.024     &     3.340  &         0.001        &        0.033    &        0.127     \\\\\n",
       "\\textbf{rosiglitazone}             &       0.0810  &        0.026     &     3.140  &         0.002        &        0.030    &        0.132     \\\\\n",
       "\\textbf{acarbose}                  &       0.4011  &        0.113     &     3.535  &         0.000        &        0.179    &        0.624     \\\\\n",
       "\\textbf{miglitol}                  &       0.5492  &        0.287     &     1.915  &         0.056        &       -0.013    &        1.111     \\\\\n",
       "\\textbf{troglitazone}              &       0.9092  &        1.225     &     0.742  &         0.458        &       -1.492    &        3.311     \\\\\n",
       "\\textbf{tolazamide}                &      -0.1985  &        0.327     &    -0.607  &         0.544        &       -0.839    &        0.442     \\\\\n",
       "\\textbf{insulin}                   &       0.0394  &        0.011     &     3.572  &         0.000        &        0.018    &        0.061     \\\\\n",
       "\\textbf{glyburide\\_metformin}      &       0.0535  &        0.074     &     0.720  &         0.472        &       -0.092    &        0.199     \\\\\n",
       "\\textbf{glipizide\\_metformin}      &       0.6658  &        0.580     &     1.148  &         0.251        &       -0.470    &        1.802     \\\\\n",
       "\\textbf{glimepiride\\_pioglitazone} &      18.5163  &      1.1e+04     &     0.002  &         0.999        &    -2.15e+04    &     2.15e+04     \\\\\n",
       "\\textbf{metformin\\_rosiglitazone}  &     -18.3185  &     7292.412     &    -0.003  &         0.998        &    -1.43e+04    &     1.43e+04     \\\\\n",
       "\\textbf{metformin\\_pioglitazone}   &     -17.1774  &     8137.267     &    -0.002  &         0.998        &     -1.6e+04    &     1.59e+04     \\\\\n",
       "\\textbf{change}                    &      -0.0215  &        0.023     &    -0.926  &         0.355        &       -0.067    &        0.024     \\\\\n",
       "\\textbf{diabetesMed}               &       0.2062  &        0.021     &    10.036  &         0.000        &        0.166    &        0.246     \\\\\n",
       "\\bottomrule\n",
       "\\end{tabular}\n",
       "%\\caption{Logit Regression Results}\n",
       "\\end{center}"
      ],
      "text/plain": [
       "<class 'statsmodels.iolib.summary.Summary'>\n",
       "\"\"\"\n",
       "                           Logit Regression Results                           \n",
       "==============================================================================\n",
       "Dep. Variable:             readmitted   No. Observations:               101763\n",
       "Model:                          Logit   Df Residuals:                   101729\n",
       "Method:                           MLE   Df Model:                           33\n",
       "Date:                Thu, 27 Feb 2025   Pseudo R-squ.:                 0.05373\n",
       "Time:                        20:02:51   Log-Likelihood:                -66452.\n",
       "converged:                      False   LL-Null:                       -70225.\n",
       "Covariance Type:            nonrobust   LLR p-value:                     0.000\n",
       "============================================================================================\n",
       "                               coef    std err          z      P>|z|      [0.025      0.975]\n",
       "--------------------------------------------------------------------------------------------\n",
       "Intercept                   -1.4069      0.038    -36.853      0.000      -1.482      -1.332\n",
       "gender[T.Male]              -0.0474      0.013     -3.598      0.000      -0.073      -0.022\n",
       "age                          0.0240      0.004      5.500      0.000       0.015       0.033\n",
       "time_in_hospital             0.0109      0.003      4.255      0.000       0.006       0.016\n",
       "num_lab_procedures           0.0014      0.000      3.935      0.000       0.001       0.002\n",
       "num_procedures              -0.0454      0.004    -10.682      0.000      -0.054      -0.037\n",
       "num_medications              0.0005      0.001      0.473      0.636      -0.002       0.003\n",
       "number_outpatient            0.0840      0.006     13.977      0.000       0.072       0.096\n",
       "number_emergency             0.2200      0.012     17.876      0.000       0.196       0.244\n",
       "number_inpatient             0.3697      0.007     53.324      0.000       0.356       0.383\n",
       "number_diagnoses             0.0780      0.004     21.012      0.000       0.071       0.085\n",
       "metformin                   -0.0823      0.016     -5.119      0.000      -0.114      -0.051\n",
       "repaglinide                  0.1187      0.045      2.645      0.008       0.031       0.207\n",
       "nateglinide                  0.0400      0.071      0.565      0.572      -0.099       0.179\n",
       "chlorpropamide               0.1967      0.193      1.019      0.308      -0.182       0.575\n",
       "glimepiride                  0.0124      0.025      0.489      0.625      -0.037       0.062\n",
       "acetohexamide               19.4977   1.53e+04      0.001      0.999   -2.99e+04       3e+04\n",
       "glipizide                    0.0952      0.018      5.301      0.000       0.060       0.130\n",
       "glyburide                    0.0308      0.019      1.650      0.099      -0.006       0.067\n",
       "tolbutamide                 -0.4037      0.444     -0.910      0.363      -1.273       0.466\n",
       "pioglitazone                 0.0802      0.024      3.340      0.001       0.033       0.127\n",
       "rosiglitazone                0.0810      0.026      3.140      0.002       0.030       0.132\n",
       "acarbose                     0.4011      0.113      3.535      0.000       0.179       0.624\n",
       "miglitol                     0.5492      0.287      1.915      0.056      -0.013       1.111\n",
       "troglitazone                 0.9092      1.225      0.742      0.458      -1.492       3.311\n",
       "tolazamide                  -0.1985      0.327     -0.607      0.544      -0.839       0.442\n",
       "insulin                      0.0394      0.011      3.572      0.000       0.018       0.061\n",
       "glyburide_metformin          0.0535      0.074      0.720      0.472      -0.092       0.199\n",
       "glipizide_metformin          0.6658      0.580      1.148      0.251      -0.470       1.802\n",
       "glimepiride_pioglitazone    18.5163    1.1e+04      0.002      0.999   -2.15e+04    2.15e+04\n",
       "metformin_rosiglitazone    -18.3185   7292.412     -0.003      0.998   -1.43e+04    1.43e+04\n",
       "metformin_pioglitazone     -17.1774   8137.267     -0.002      0.998    -1.6e+04    1.59e+04\n",
       "change                      -0.0215      0.023     -0.926      0.355      -0.067       0.024\n",
       "diabetesMed                  0.2062      0.021     10.036      0.000       0.166       0.246\n",
       "============================================================================================\n",
       "\"\"\""
      ]
     },
     "execution_count": 334,
     "metadata": {},
     "output_type": "execute_result"
    }
   ],
   "source": [
    "model.summary()"
   ]
  },
  {
   "cell_type": "markdown",
   "metadata": {},
   "source": [
    "There are various variables with a very high p-value, meaning that they aren't statistically significant. We can perform backward selection to build a better model"
   ]
  },
  {
   "cell_type": "markdown",
   "metadata": {},
   "source": [
    "## Backward selection"
   ]
  },
  {
   "cell_type": "markdown",
   "metadata": {},
   "source": [
    "ha senso?\n",
    "\n",
    "view = view.drop(columns=['num_medications', 'nateglinide', 'glimepiride', 'chlorpropamide', 'acetohexamide', 'glyburide',\n",
    "                          'tolbutamide', 'miglitol', 'troglitazone', 'tolazamide', 'change', 'glyburide_metformin',\n",
    "                          'glipizide_metformin', 'glimepiride_pioglitazone', 'metformin_rosiglitazone', 'metformin_pioglitazone'])"
   ]
  },
  {
   "cell_type": "markdown",
   "metadata": {},
   "source": [
    "The variable with the highest p-value is acetohexamide, with a p-value of almost 1!"
   ]
  },
  {
   "cell_type": "code",
   "execution_count": 335,
   "metadata": {},
   "outputs": [
    {
     "name": "stdout",
     "output_type": "stream",
     "text": [
      "Warning: Maximum number of iterations has been exceeded.\n",
      "         Current function value: 0.653014\n",
      "         Iterations: 35\n"
     ]
    },
    {
     "name": "stderr",
     "output_type": "stream",
     "text": [
      "c:\\Users\\Raffaele\\anaconda3\\envs\\fad\\Lib\\site-packages\\statsmodels\\base\\model.py:607: ConvergenceWarning: Maximum Likelihood optimization failed to converge. Check mle_retvals\n",
      "  warnings.warn(\"Maximum Likelihood optimization failed to \"\n"
     ]
    },
    {
     "name": "stdout",
     "output_type": "stream",
     "text": [
      "Warning: Maximum number of iterations has been exceeded.\n",
      "         Current function value: 0.653020\n",
      "         Iterations: 35\n"
     ]
    },
    {
     "name": "stderr",
     "output_type": "stream",
     "text": [
      "c:\\Users\\Raffaele\\anaconda3\\envs\\fad\\Lib\\site-packages\\statsmodels\\base\\model.py:607: ConvergenceWarning: Maximum Likelihood optimization failed to converge. Check mle_retvals\n",
      "  warnings.warn(\"Maximum Likelihood optimization failed to \"\n"
     ]
    },
    {
     "name": "stdout",
     "output_type": "stream",
     "text": [
      "Warning: Maximum number of iterations has been exceeded.\n",
      "         Current function value: 0.653024\n",
      "         Iterations: 35\n"
     ]
    },
    {
     "name": "stderr",
     "output_type": "stream",
     "text": [
      "c:\\Users\\Raffaele\\anaconda3\\envs\\fad\\Lib\\site-packages\\statsmodels\\base\\model.py:607: ConvergenceWarning: Maximum Likelihood optimization failed to converge. Check mle_retvals\n",
      "  warnings.warn(\"Maximum Likelihood optimization failed to \"\n"
     ]
    },
    {
     "name": "stdout",
     "output_type": "stream",
     "text": [
      "Optimization terminated successfully.\n",
      "         Current function value: 0.653036\n",
      "         Iterations 6\n",
      "Optimization terminated successfully.\n",
      "         Current function value: 0.653037\n",
      "         Iterations 6\n",
      "Optimization terminated successfully.\n",
      "         Current function value: 0.653038\n",
      "         Iterations 6\n",
      "Optimization terminated successfully.\n",
      "         Current function value: 0.653039\n",
      "         Iterations 6\n",
      "Optimization terminated successfully.\n",
      "         Current function value: 0.653041\n",
      "         Iterations 6\n",
      "Optimization terminated successfully.\n",
      "         Current function value: 0.653044\n",
      "         Iterations 6\n",
      "Optimization terminated successfully.\n",
      "         Current function value: 0.653046\n",
      "         Iterations 6\n",
      "Optimization terminated successfully.\n",
      "         Current function value: 0.653049\n",
      "         Iterations 6\n",
      "Optimization terminated successfully.\n",
      "         Current function value: 0.653053\n",
      "         Iterations 6\n",
      "Optimization terminated successfully.\n",
      "         Current function value: 0.653058\n",
      "         Iterations 6\n",
      "Optimization terminated successfully.\n",
      "         Current function value: 0.653065\n",
      "         Iterations 6\n",
      "Optimization terminated successfully.\n",
      "         Current function value: 0.653074\n",
      "         Iterations 6\n",
      "Optimization terminated successfully.\n",
      "         Current function value: 0.653095\n",
      "         Iterations 6\n"
     ]
    }
   ],
   "source": [
    "a = 0.05 #significance level\n",
    "count = 1\n",
    "while True:\n",
    "    p = np.max(model.pvalues)\n",
    "    if p > a:\n",
    "        count = count + 1\n",
    "        #backward selection\n",
    "        i = np.argmax(model.pvalues)\n",
    "        view = view.drop(columns=model.pvalues.index[i])\n",
    "         \n",
    "        formula = buildFormula(view.columns)\n",
    "        model = logit(formula, view).fit()\n",
    "    else:\n",
    "        break"
   ]
  },
  {
   "cell_type": "code",
   "execution_count": 336,
   "metadata": {},
   "outputs": [
    {
     "name": "stdout",
     "output_type": "stream",
     "text": [
      "17 variables removed\n"
     ]
    }
   ],
   "source": [
    "print(count, \"variables removed\")"
   ]
  },
  {
   "cell_type": "code",
   "execution_count": 337,
   "metadata": {},
   "outputs": [
    {
     "data": {
      "text/html": [
       "<table class=\"simpletable\">\n",
       "<caption>Logit Regression Results</caption>\n",
       "<tr>\n",
       "  <th>Dep. Variable:</th>      <td>readmitted</td>    <th>  No. Observations:  </th>  <td>101763</td> \n",
       "</tr>\n",
       "<tr>\n",
       "  <th>Model:</th>                 <td>Logit</td>      <th>  Df Residuals:      </th>  <td>101745</td> \n",
       "</tr>\n",
       "<tr>\n",
       "  <th>Method:</th>                 <td>MLE</td>       <th>  Df Model:          </th>  <td>    17</td> \n",
       "</tr>\n",
       "<tr>\n",
       "  <th>Date:</th>            <td>Thu, 27 Feb 2025</td> <th>  Pseudo R-squ.:     </th>  <td>0.05360</td>\n",
       "</tr>\n",
       "<tr>\n",
       "  <th>Time:</th>                <td>20:03:02</td>     <th>  Log-Likelihood:    </th> <td> -66461.</td>\n",
       "</tr>\n",
       "<tr>\n",
       "  <th>converged:</th>             <td>True</td>       <th>  LL-Null:           </th> <td> -70225.</td>\n",
       "</tr>\n",
       "<tr>\n",
       "  <th>Covariance Type:</th>     <td>nonrobust</td>    <th>  LLR p-value:       </th>  <td> 0.000</td> \n",
       "</tr>\n",
       "</table>\n",
       "<table class=\"simpletable\">\n",
       "<tr>\n",
       "           <td></td>             <th>coef</th>     <th>std err</th>      <th>z</th>      <th>P>|z|</th>  <th>[0.025</th>    <th>0.975]</th>  \n",
       "</tr>\n",
       "<tr>\n",
       "  <th>Intercept</th>          <td>   -1.4095</td> <td>    0.038</td> <td>  -37.078</td> <td> 0.000</td> <td>   -1.484</td> <td>   -1.335</td>\n",
       "</tr>\n",
       "<tr>\n",
       "  <th>gender[T.Male]</th>     <td>   -0.0467</td> <td>    0.013</td> <td>   -3.555</td> <td> 0.000</td> <td>   -0.072</td> <td>   -0.021</td>\n",
       "</tr>\n",
       "<tr>\n",
       "  <th>age</th>                <td>    0.0247</td> <td>    0.004</td> <td>    5.668</td> <td> 0.000</td> <td>    0.016</td> <td>    0.033</td>\n",
       "</tr>\n",
       "<tr>\n",
       "  <th>time_in_hospital</th>   <td>    0.0116</td> <td>    0.002</td> <td>    4.814</td> <td> 0.000</td> <td>    0.007</td> <td>    0.016</td>\n",
       "</tr>\n",
       "<tr>\n",
       "  <th>num_lab_procedures</th> <td>    0.0014</td> <td>    0.000</td> <td>    4.054</td> <td> 0.000</td> <td>    0.001</td> <td>    0.002</td>\n",
       "</tr>\n",
       "<tr>\n",
       "  <th>num_procedures</th>     <td>   -0.0446</td> <td>    0.004</td> <td>  -11.301</td> <td> 0.000</td> <td>   -0.052</td> <td>   -0.037</td>\n",
       "</tr>\n",
       "<tr>\n",
       "  <th>number_outpatient</th>  <td>    0.0840</td> <td>    0.006</td> <td>   14.001</td> <td> 0.000</td> <td>    0.072</td> <td>    0.096</td>\n",
       "</tr>\n",
       "<tr>\n",
       "  <th>number_emergency</th>   <td>    0.2195</td> <td>    0.012</td> <td>   17.850</td> <td> 0.000</td> <td>    0.195</td> <td>    0.244</td>\n",
       "</tr>\n",
       "<tr>\n",
       "  <th>number_inpatient</th>   <td>    0.3696</td> <td>    0.007</td> <td>   53.378</td> <td> 0.000</td> <td>    0.356</td> <td>    0.383</td>\n",
       "</tr>\n",
       "<tr>\n",
       "  <th>number_diagnoses</th>   <td>    0.0781</td> <td>    0.004</td> <td>   21.303</td> <td> 0.000</td> <td>    0.071</td> <td>    0.085</td>\n",
       "</tr>\n",
       "<tr>\n",
       "  <th>metformin</th>          <td>   -0.0872</td> <td>    0.014</td> <td>   -6.020</td> <td> 0.000</td> <td>   -0.116</td> <td>   -0.059</td>\n",
       "</tr>\n",
       "<tr>\n",
       "  <th>repaglinide</th>        <td>    0.1107</td> <td>    0.044</td> <td>    2.491</td> <td> 0.013</td> <td>    0.024</td> <td>    0.198</td>\n",
       "</tr>\n",
       "<tr>\n",
       "  <th>glipizide</th>          <td>    0.0839</td> <td>    0.016</td> <td>    5.191</td> <td> 0.000</td> <td>    0.052</td> <td>    0.116</td>\n",
       "</tr>\n",
       "<tr>\n",
       "  <th>pioglitazone</th>       <td>    0.0744</td> <td>    0.023</td> <td>    3.242</td> <td> 0.001</td> <td>    0.029</td> <td>    0.119</td>\n",
       "</tr>\n",
       "<tr>\n",
       "  <th>rosiglitazone</th>      <td>    0.0753</td> <td>    0.025</td> <td>    3.033</td> <td> 0.002</td> <td>    0.027</td> <td>    0.124</td>\n",
       "</tr>\n",
       "<tr>\n",
       "  <th>acarbose</th>           <td>    0.3990</td> <td>    0.113</td> <td>    3.522</td> <td> 0.000</td> <td>    0.177</td> <td>    0.621</td>\n",
       "</tr>\n",
       "<tr>\n",
       "  <th>insulin</th>            <td>    0.0303</td> <td>    0.008</td> <td>    3.973</td> <td> 0.000</td> <td>    0.015</td> <td>    0.045</td>\n",
       "</tr>\n",
       "<tr>\n",
       "  <th>diabetesMed</th>        <td>    0.2173</td> <td>    0.020</td> <td>   11.129</td> <td> 0.000</td> <td>    0.179</td> <td>    0.256</td>\n",
       "</tr>\n",
       "</table>"
      ],
      "text/latex": [
       "\\begin{center}\n",
       "\\begin{tabular}{lclc}\n",
       "\\toprule\n",
       "\\textbf{Dep. Variable:}       &    readmitted    & \\textbf{  No. Observations:  } &   101763    \\\\\n",
       "\\textbf{Model:}               &      Logit       & \\textbf{  Df Residuals:      } &   101745    \\\\\n",
       "\\textbf{Method:}              &       MLE        & \\textbf{  Df Model:          } &       17    \\\\\n",
       "\\textbf{Date:}                & Thu, 27 Feb 2025 & \\textbf{  Pseudo R-squ.:     } &  0.05360    \\\\\n",
       "\\textbf{Time:}                &     20:03:02     & \\textbf{  Log-Likelihood:    } &   -66461.   \\\\\n",
       "\\textbf{converged:}           &       True       & \\textbf{  LL-Null:           } &   -70225.   \\\\\n",
       "\\textbf{Covariance Type:}     &    nonrobust     & \\textbf{  LLR p-value:       } &    0.000    \\\\\n",
       "\\bottomrule\n",
       "\\end{tabular}\n",
       "\\begin{tabular}{lcccccc}\n",
       "                              & \\textbf{coef} & \\textbf{std err} & \\textbf{z} & \\textbf{P$> |$z$|$} & \\textbf{[0.025} & \\textbf{0.975]}  \\\\\n",
       "\\midrule\n",
       "\\textbf{Intercept}            &      -1.4095  &        0.038     &   -37.078  &         0.000        &       -1.484    &       -1.335     \\\\\n",
       "\\textbf{gender[T.Male]}       &      -0.0467  &        0.013     &    -3.555  &         0.000        &       -0.072    &       -0.021     \\\\\n",
       "\\textbf{age}                  &       0.0247  &        0.004     &     5.668  &         0.000        &        0.016    &        0.033     \\\\\n",
       "\\textbf{time\\_in\\_hospital}   &       0.0116  &        0.002     &     4.814  &         0.000        &        0.007    &        0.016     \\\\\n",
       "\\textbf{num\\_lab\\_procedures} &       0.0014  &        0.000     &     4.054  &         0.000        &        0.001    &        0.002     \\\\\n",
       "\\textbf{num\\_procedures}      &      -0.0446  &        0.004     &   -11.301  &         0.000        &       -0.052    &       -0.037     \\\\\n",
       "\\textbf{number\\_outpatient}   &       0.0840  &        0.006     &    14.001  &         0.000        &        0.072    &        0.096     \\\\\n",
       "\\textbf{number\\_emergency}    &       0.2195  &        0.012     &    17.850  &         0.000        &        0.195    &        0.244     \\\\\n",
       "\\textbf{number\\_inpatient}    &       0.3696  &        0.007     &    53.378  &         0.000        &        0.356    &        0.383     \\\\\n",
       "\\textbf{number\\_diagnoses}    &       0.0781  &        0.004     &    21.303  &         0.000        &        0.071    &        0.085     \\\\\n",
       "\\textbf{metformin}            &      -0.0872  &        0.014     &    -6.020  &         0.000        &       -0.116    &       -0.059     \\\\\n",
       "\\textbf{repaglinide}          &       0.1107  &        0.044     &     2.491  &         0.013        &        0.024    &        0.198     \\\\\n",
       "\\textbf{glipizide}            &       0.0839  &        0.016     &     5.191  &         0.000        &        0.052    &        0.116     \\\\\n",
       "\\textbf{pioglitazone}         &       0.0744  &        0.023     &     3.242  &         0.001        &        0.029    &        0.119     \\\\\n",
       "\\textbf{rosiglitazone}        &       0.0753  &        0.025     &     3.033  &         0.002        &        0.027    &        0.124     \\\\\n",
       "\\textbf{acarbose}             &       0.3990  &        0.113     &     3.522  &         0.000        &        0.177    &        0.621     \\\\\n",
       "\\textbf{insulin}              &       0.0303  &        0.008     &     3.973  &         0.000        &        0.015    &        0.045     \\\\\n",
       "\\textbf{diabetesMed}          &       0.2173  &        0.020     &    11.129  &         0.000        &        0.179    &        0.256     \\\\\n",
       "\\bottomrule\n",
       "\\end{tabular}\n",
       "%\\caption{Logit Regression Results}\n",
       "\\end{center}"
      ],
      "text/plain": [
       "<class 'statsmodels.iolib.summary.Summary'>\n",
       "\"\"\"\n",
       "                           Logit Regression Results                           \n",
       "==============================================================================\n",
       "Dep. Variable:             readmitted   No. Observations:               101763\n",
       "Model:                          Logit   Df Residuals:                   101745\n",
       "Method:                           MLE   Df Model:                           17\n",
       "Date:                Thu, 27 Feb 2025   Pseudo R-squ.:                 0.05360\n",
       "Time:                        20:03:02   Log-Likelihood:                -66461.\n",
       "converged:                       True   LL-Null:                       -70225.\n",
       "Covariance Type:            nonrobust   LLR p-value:                     0.000\n",
       "======================================================================================\n",
       "                         coef    std err          z      P>|z|      [0.025      0.975]\n",
       "--------------------------------------------------------------------------------------\n",
       "Intercept             -1.4095      0.038    -37.078      0.000      -1.484      -1.335\n",
       "gender[T.Male]        -0.0467      0.013     -3.555      0.000      -0.072      -0.021\n",
       "age                    0.0247      0.004      5.668      0.000       0.016       0.033\n",
       "time_in_hospital       0.0116      0.002      4.814      0.000       0.007       0.016\n",
       "num_lab_procedures     0.0014      0.000      4.054      0.000       0.001       0.002\n",
       "num_procedures        -0.0446      0.004    -11.301      0.000      -0.052      -0.037\n",
       "number_outpatient      0.0840      0.006     14.001      0.000       0.072       0.096\n",
       "number_emergency       0.2195      0.012     17.850      0.000       0.195       0.244\n",
       "number_inpatient       0.3696      0.007     53.378      0.000       0.356       0.383\n",
       "number_diagnoses       0.0781      0.004     21.303      0.000       0.071       0.085\n",
       "metformin             -0.0872      0.014     -6.020      0.000      -0.116      -0.059\n",
       "repaglinide            0.1107      0.044      2.491      0.013       0.024       0.198\n",
       "glipizide              0.0839      0.016      5.191      0.000       0.052       0.116\n",
       "pioglitazone           0.0744      0.023      3.242      0.001       0.029       0.119\n",
       "rosiglitazone          0.0753      0.025      3.033      0.002       0.027       0.124\n",
       "acarbose               0.3990      0.113      3.522      0.000       0.177       0.621\n",
       "insulin                0.0303      0.008      3.973      0.000       0.015       0.045\n",
       "diabetesMed            0.2173      0.020     11.129      0.000       0.179       0.256\n",
       "======================================================================================\n",
       "\"\"\""
      ]
     },
     "execution_count": 337,
     "metadata": {},
     "output_type": "execute_result"
    }
   ],
   "source": [
    "model.summary()"
   ]
  },
  {
   "cell_type": "markdown",
   "metadata": {},
   "source": [
    "We have slightly decreased the pseudo $R^2$: from $0.05373$ to $0.05360$"
   ]
  },
  {
   "cell_type": "markdown",
   "metadata": {},
   "source": [
    "Despite performing backward selection, the pseudo $R^2$ very low: 0.05352. It seems that logistic regression is not a good model for explaining the dataset."
   ]
  },
  {
   "cell_type": "code",
   "execution_count": 338,
   "metadata": {},
   "outputs": [
    {
     "data": {
      "text/plain": [
       "np.int64(11)"
      ]
     },
     "execution_count": 338,
     "metadata": {},
     "output_type": "execute_result"
    }
   ],
   "source": [
    "np.argmax(model.pvalues)"
   ]
  },
  {
   "cell_type": "markdown",
   "metadata": {},
   "source": [
    "# Predictive Analysis"
   ]
  },
  {
   "cell_type": "markdown",
   "metadata": {},
   "source": [
    "## PCA + logistic regression\n",
    "## LDA\n",
    "## Naive Bayes"
   ]
  },
  {
   "cell_type": "markdown",
   "metadata": {},
   "source": [
    "# Conclusions"
   ]
  },
  {
   "cell_type": "markdown",
   "metadata": {},
   "source": []
  }
 ],
 "metadata": {
  "kernelspec": {
   "display_name": "fad",
   "language": "python",
   "name": "python3"
  },
  "language_info": {
   "codemirror_mode": {
    "name": "ipython",
    "version": 3
   },
   "file_extension": ".py",
   "mimetype": "text/x-python",
   "name": "python",
   "nbconvert_exporter": "python",
   "pygments_lexer": "ipython3",
   "version": "3.13.0"
  }
 },
 "nbformat": 4,
 "nbformat_minor": 2
}
