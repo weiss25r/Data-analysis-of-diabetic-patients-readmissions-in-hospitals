{
 "cells": [
  {
   "cell_type": "markdown",
   "metadata": {},
   "source": [
    "# Introduction"
   ]
  },
  {
   "cell_type": "markdown",
   "metadata": {},
   "source": []
  },
  {
   "cell_type": "markdown",
   "metadata": {},
   "source": [
    "# Preparatory analysis"
   ]
  },
  {
   "cell_type": "code",
   "execution_count": 138,
   "metadata": {},
   "outputs": [],
   "source": [
    "import numpy as np\n",
    "import pandas as pd\n",
    "import matplotlib.pyplot as plt\n",
    "from scipy import stats"
   ]
  },
  {
   "cell_type": "code",
   "execution_count": 139,
   "metadata": {},
   "outputs": [],
   "source": [
    "data = pd.read_csv('data/diabetic_data.csv')"
   ]
  },
  {
   "cell_type": "code",
   "execution_count": 140,
   "metadata": {},
   "outputs": [],
   "source": [
    "data.rename(columns={'glyburide-metformin':'glyburide_metformin', 'glipizide-metformin': 'glipizide_metformin', \n",
    "             'glimepiride-pioglitazone': 'glimepiride_pioglitazone', 'metformin-rosiglitazone': 'metformin_rosiglitazone', \n",
    "             'metformin-pioglitazone': 'metformin_pioglitazone'}, inplace=True)"
   ]
  },
  {
   "cell_type": "code",
   "execution_count": 141,
   "metadata": {},
   "outputs": [
    {
     "data": {
      "text/html": [
       "<div>\n",
       "<style scoped>\n",
       "    .dataframe tbody tr th:only-of-type {\n",
       "        vertical-align: middle;\n",
       "    }\n",
       "\n",
       "    .dataframe tbody tr th {\n",
       "        vertical-align: top;\n",
       "    }\n",
       "\n",
       "    .dataframe thead th {\n",
       "        text-align: right;\n",
       "    }\n",
       "</style>\n",
       "<table border=\"1\" class=\"dataframe\">\n",
       "  <thead>\n",
       "    <tr style=\"text-align: right;\">\n",
       "      <th></th>\n",
       "      <th>encounter_id</th>\n",
       "      <th>patient_nbr</th>\n",
       "      <th>race</th>\n",
       "      <th>gender</th>\n",
       "      <th>age</th>\n",
       "      <th>weight</th>\n",
       "      <th>admission_type_id</th>\n",
       "      <th>discharge_disposition_id</th>\n",
       "      <th>admission_source_id</th>\n",
       "      <th>time_in_hospital</th>\n",
       "      <th>...</th>\n",
       "      <th>citoglipton</th>\n",
       "      <th>insulin</th>\n",
       "      <th>glyburide_metformin</th>\n",
       "      <th>glipizide_metformin</th>\n",
       "      <th>glimepiride_pioglitazone</th>\n",
       "      <th>metformin_rosiglitazone</th>\n",
       "      <th>metformin_pioglitazone</th>\n",
       "      <th>change</th>\n",
       "      <th>diabetesMed</th>\n",
       "      <th>readmitted</th>\n",
       "    </tr>\n",
       "  </thead>\n",
       "  <tbody>\n",
       "    <tr>\n",
       "      <th>0</th>\n",
       "      <td>2278392</td>\n",
       "      <td>8222157</td>\n",
       "      <td>Caucasian</td>\n",
       "      <td>Female</td>\n",
       "      <td>[0-10)</td>\n",
       "      <td>?</td>\n",
       "      <td>6</td>\n",
       "      <td>25</td>\n",
       "      <td>1</td>\n",
       "      <td>1</td>\n",
       "      <td>...</td>\n",
       "      <td>No</td>\n",
       "      <td>No</td>\n",
       "      <td>No</td>\n",
       "      <td>No</td>\n",
       "      <td>No</td>\n",
       "      <td>No</td>\n",
       "      <td>No</td>\n",
       "      <td>No</td>\n",
       "      <td>No</td>\n",
       "      <td>NO</td>\n",
       "    </tr>\n",
       "    <tr>\n",
       "      <th>1</th>\n",
       "      <td>149190</td>\n",
       "      <td>55629189</td>\n",
       "      <td>Caucasian</td>\n",
       "      <td>Female</td>\n",
       "      <td>[10-20)</td>\n",
       "      <td>?</td>\n",
       "      <td>1</td>\n",
       "      <td>1</td>\n",
       "      <td>7</td>\n",
       "      <td>3</td>\n",
       "      <td>...</td>\n",
       "      <td>No</td>\n",
       "      <td>Up</td>\n",
       "      <td>No</td>\n",
       "      <td>No</td>\n",
       "      <td>No</td>\n",
       "      <td>No</td>\n",
       "      <td>No</td>\n",
       "      <td>Ch</td>\n",
       "      <td>Yes</td>\n",
       "      <td>&gt;30</td>\n",
       "    </tr>\n",
       "    <tr>\n",
       "      <th>2</th>\n",
       "      <td>64410</td>\n",
       "      <td>86047875</td>\n",
       "      <td>AfricanAmerican</td>\n",
       "      <td>Female</td>\n",
       "      <td>[20-30)</td>\n",
       "      <td>?</td>\n",
       "      <td>1</td>\n",
       "      <td>1</td>\n",
       "      <td>7</td>\n",
       "      <td>2</td>\n",
       "      <td>...</td>\n",
       "      <td>No</td>\n",
       "      <td>No</td>\n",
       "      <td>No</td>\n",
       "      <td>No</td>\n",
       "      <td>No</td>\n",
       "      <td>No</td>\n",
       "      <td>No</td>\n",
       "      <td>No</td>\n",
       "      <td>Yes</td>\n",
       "      <td>NO</td>\n",
       "    </tr>\n",
       "    <tr>\n",
       "      <th>3</th>\n",
       "      <td>500364</td>\n",
       "      <td>82442376</td>\n",
       "      <td>Caucasian</td>\n",
       "      <td>Male</td>\n",
       "      <td>[30-40)</td>\n",
       "      <td>?</td>\n",
       "      <td>1</td>\n",
       "      <td>1</td>\n",
       "      <td>7</td>\n",
       "      <td>2</td>\n",
       "      <td>...</td>\n",
       "      <td>No</td>\n",
       "      <td>Up</td>\n",
       "      <td>No</td>\n",
       "      <td>No</td>\n",
       "      <td>No</td>\n",
       "      <td>No</td>\n",
       "      <td>No</td>\n",
       "      <td>Ch</td>\n",
       "      <td>Yes</td>\n",
       "      <td>NO</td>\n",
       "    </tr>\n",
       "    <tr>\n",
       "      <th>4</th>\n",
       "      <td>16680</td>\n",
       "      <td>42519267</td>\n",
       "      <td>Caucasian</td>\n",
       "      <td>Male</td>\n",
       "      <td>[40-50)</td>\n",
       "      <td>?</td>\n",
       "      <td>1</td>\n",
       "      <td>1</td>\n",
       "      <td>7</td>\n",
       "      <td>1</td>\n",
       "      <td>...</td>\n",
       "      <td>No</td>\n",
       "      <td>Steady</td>\n",
       "      <td>No</td>\n",
       "      <td>No</td>\n",
       "      <td>No</td>\n",
       "      <td>No</td>\n",
       "      <td>No</td>\n",
       "      <td>Ch</td>\n",
       "      <td>Yes</td>\n",
       "      <td>NO</td>\n",
       "    </tr>\n",
       "  </tbody>\n",
       "</table>\n",
       "<p>5 rows × 50 columns</p>\n",
       "</div>"
      ],
      "text/plain": [
       "   encounter_id  patient_nbr             race  gender      age weight  \\\n",
       "0       2278392      8222157        Caucasian  Female   [0-10)      ?   \n",
       "1        149190     55629189        Caucasian  Female  [10-20)      ?   \n",
       "2         64410     86047875  AfricanAmerican  Female  [20-30)      ?   \n",
       "3        500364     82442376        Caucasian    Male  [30-40)      ?   \n",
       "4         16680     42519267        Caucasian    Male  [40-50)      ?   \n",
       "\n",
       "   admission_type_id  discharge_disposition_id  admission_source_id  \\\n",
       "0                  6                        25                    1   \n",
       "1                  1                         1                    7   \n",
       "2                  1                         1                    7   \n",
       "3                  1                         1                    7   \n",
       "4                  1                         1                    7   \n",
       "\n",
       "   time_in_hospital  ... citoglipton insulin  glyburide_metformin  \\\n",
       "0                 1  ...          No      No                   No   \n",
       "1                 3  ...          No      Up                   No   \n",
       "2                 2  ...          No      No                   No   \n",
       "3                 2  ...          No      Up                   No   \n",
       "4                 1  ...          No  Steady                   No   \n",
       "\n",
       "   glipizide_metformin  glimepiride_pioglitazone  metformin_rosiglitazone  \\\n",
       "0                   No                        No                       No   \n",
       "1                   No                        No                       No   \n",
       "2                   No                        No                       No   \n",
       "3                   No                        No                       No   \n",
       "4                   No                        No                       No   \n",
       "\n",
       "   metformin_pioglitazone  change diabetesMed readmitted  \n",
       "0                      No      No          No         NO  \n",
       "1                      No      Ch         Yes        >30  \n",
       "2                      No      No         Yes         NO  \n",
       "3                      No      Ch         Yes         NO  \n",
       "4                      No      Ch         Yes         NO  \n",
       "\n",
       "[5 rows x 50 columns]"
      ]
     },
     "execution_count": 141,
     "metadata": {},
     "output_type": "execute_result"
    }
   ],
   "source": [
    "data.head()"
   ]
  },
  {
   "cell_type": "markdown",
   "metadata": {},
   "source": [
    "## Counting missing values for each feature"
   ]
  },
  {
   "cell_type": "markdown",
   "metadata": {},
   "source": [
    "### Nan Values"
   ]
  },
  {
   "cell_type": "code",
   "execution_count": 142,
   "metadata": {},
   "outputs": [
    {
     "data": {
      "text/plain": [
       "(101766, 50)"
      ]
     },
     "execution_count": 142,
     "metadata": {},
     "output_type": "execute_result"
    }
   ],
   "source": [
    "data.shape"
   ]
  },
  {
   "cell_type": "code",
   "execution_count": 143,
   "metadata": {},
   "outputs": [
    {
     "name": "stdout",
     "output_type": "stream",
     "text": [
      "max_glu_serum    94.746772\n",
      "A1Cresult        83.277322\n",
      "dtype: float64\n"
     ]
    }
   ],
   "source": [
    "na_values = data.isna().sum(axis=0)\n",
    "\n",
    "print(na_values[na_values > 0]/len(data) * 100)"
   ]
  },
  {
   "cell_type": "markdown",
   "metadata": {},
   "source": [
    "Apparently, max_glu_serum and A1Cresults are the only features with 'Nan' values. We can easily drop these columns, as these features are categorical so they cannot be inferred in any way. \n"
   ]
  },
  {
   "cell_type": "code",
   "execution_count": 144,
   "metadata": {},
   "outputs": [
    {
     "data": {
      "text/plain": [
       "array([nan, '>300', 'Norm', '>200'], dtype=object)"
      ]
     },
     "execution_count": 144,
     "metadata": {},
     "output_type": "execute_result"
    }
   ],
   "source": [
    "data['max_glu_serum'].unique()"
   ]
  },
  {
   "cell_type": "code",
   "execution_count": 145,
   "metadata": {},
   "outputs": [
    {
     "data": {
      "text/plain": [
       "array([nan, '>7', '>8', 'Norm'], dtype=object)"
      ]
     },
     "execution_count": 145,
     "metadata": {},
     "output_type": "execute_result"
    }
   ],
   "source": [
    "data['A1Cresult'].unique()"
   ]
  },
  {
   "cell_type": "code",
   "execution_count": 146,
   "metadata": {},
   "outputs": [],
   "source": [
    "data = data.drop(columns=['max_glu_serum', 'A1Cresult'])"
   ]
  },
  {
   "cell_type": "markdown",
   "metadata": {},
   "source": [
    "### Other missing values"
   ]
  },
  {
   "cell_type": "markdown",
   "metadata": {},
   "source": [
    "Taking a look at the datasaet, it is clear that for some features missing values are indicated by a question mark rathen than being nan values. Let's count missing values for each column"
   ]
  },
  {
   "cell_type": "code",
   "execution_count": 147,
   "metadata": {},
   "outputs": [
    {
     "name": "stdout",
     "output_type": "stream",
     "text": [
      "race [2.23355541]\n",
      "weight [96.85847926]\n",
      "payer_code [39.55741603]\n",
      "medical_specialty [49.0822082]\n",
      "diag_1 [0.02063558]\n",
      "diag_2 [0.35178743]\n",
      "diag_3 [1.39830592]\n"
     ]
    }
   ],
   "source": [
    "for col in data.columns:\n",
    "    missing_values = data.loc[data[col] == '?', col].value_counts()\n",
    "    if len(missing_values.values > 0):\n",
    "        print(col, missing_values.values/len(data) * 100)"
   ]
  },
  {
   "cell_type": "markdown",
   "metadata": {},
   "source": [
    "From the results above, we find that the feature 'weight' is available only for 3% of the observations! This column can be dropped. We also find that 49% of observations do not have values for medical_speciality and 39% do not have values for payer_code. These two are both categorical variables, so we cannot use the mean or other statistics to replace missing values. So, they can easily be dropped\n",
    "diag_1, diag_2 and diag_3 are diagnosis so they cannot be inferred. In a classification setting these features can cleary be useful. Suppose the primary diagnosis is correct: intuitevely, a patient with a correct diagnosis has a less probability of returning to the hospital rather than a patient with n incorrect diaagnosis. Rather than drop the columns it is wiser to drop the observations with missing diagnosis."
   ]
  },
  {
   "cell_type": "code",
   "execution_count": 148,
   "metadata": {},
   "outputs": [],
   "source": [
    "data = data.drop(columns=['weight', 'payer_code', 'medical_specialty'])"
   ]
  },
  {
   "cell_type": "code",
   "execution_count": 149,
   "metadata": {},
   "outputs": [
    {
     "data": {
      "text/plain": [
       "(101766, 45)"
      ]
     },
     "execution_count": 149,
     "metadata": {},
     "output_type": "execute_result"
    }
   ],
   "source": [
    "data.shape"
   ]
  },
  {
   "cell_type": "code",
   "execution_count": 150,
   "metadata": {},
   "outputs": [
    {
     "data": {
      "text/html": [
       "<div>\n",
       "<style scoped>\n",
       "    .dataframe tbody tr th:only-of-type {\n",
       "        vertical-align: middle;\n",
       "    }\n",
       "\n",
       "    .dataframe tbody tr th {\n",
       "        vertical-align: top;\n",
       "    }\n",
       "\n",
       "    .dataframe thead th {\n",
       "        text-align: right;\n",
       "    }\n",
       "</style>\n",
       "<table border=\"1\" class=\"dataframe\">\n",
       "  <thead>\n",
       "    <tr style=\"text-align: right;\">\n",
       "      <th></th>\n",
       "      <th>encounter_id</th>\n",
       "      <th>patient_nbr</th>\n",
       "      <th>race</th>\n",
       "      <th>gender</th>\n",
       "      <th>age</th>\n",
       "      <th>admission_type_id</th>\n",
       "      <th>discharge_disposition_id</th>\n",
       "      <th>admission_source_id</th>\n",
       "      <th>time_in_hospital</th>\n",
       "      <th>num_lab_procedures</th>\n",
       "      <th>...</th>\n",
       "      <th>citoglipton</th>\n",
       "      <th>insulin</th>\n",
       "      <th>glyburide_metformin</th>\n",
       "      <th>glipizide_metformin</th>\n",
       "      <th>glimepiride_pioglitazone</th>\n",
       "      <th>metformin_rosiglitazone</th>\n",
       "      <th>metformin_pioglitazone</th>\n",
       "      <th>change</th>\n",
       "      <th>diabetesMed</th>\n",
       "      <th>readmitted</th>\n",
       "    </tr>\n",
       "  </thead>\n",
       "  <tbody>\n",
       "    <tr>\n",
       "      <th>0</th>\n",
       "      <td>2278392</td>\n",
       "      <td>8222157</td>\n",
       "      <td>Caucasian</td>\n",
       "      <td>Female</td>\n",
       "      <td>[0-10)</td>\n",
       "      <td>6</td>\n",
       "      <td>25</td>\n",
       "      <td>1</td>\n",
       "      <td>1</td>\n",
       "      <td>41</td>\n",
       "      <td>...</td>\n",
       "      <td>No</td>\n",
       "      <td>No</td>\n",
       "      <td>No</td>\n",
       "      <td>No</td>\n",
       "      <td>No</td>\n",
       "      <td>No</td>\n",
       "      <td>No</td>\n",
       "      <td>No</td>\n",
       "      <td>No</td>\n",
       "      <td>NO</td>\n",
       "    </tr>\n",
       "    <tr>\n",
       "      <th>1</th>\n",
       "      <td>149190</td>\n",
       "      <td>55629189</td>\n",
       "      <td>Caucasian</td>\n",
       "      <td>Female</td>\n",
       "      <td>[10-20)</td>\n",
       "      <td>1</td>\n",
       "      <td>1</td>\n",
       "      <td>7</td>\n",
       "      <td>3</td>\n",
       "      <td>59</td>\n",
       "      <td>...</td>\n",
       "      <td>No</td>\n",
       "      <td>Up</td>\n",
       "      <td>No</td>\n",
       "      <td>No</td>\n",
       "      <td>No</td>\n",
       "      <td>No</td>\n",
       "      <td>No</td>\n",
       "      <td>Ch</td>\n",
       "      <td>Yes</td>\n",
       "      <td>&gt;30</td>\n",
       "    </tr>\n",
       "    <tr>\n",
       "      <th>2</th>\n",
       "      <td>64410</td>\n",
       "      <td>86047875</td>\n",
       "      <td>AfricanAmerican</td>\n",
       "      <td>Female</td>\n",
       "      <td>[20-30)</td>\n",
       "      <td>1</td>\n",
       "      <td>1</td>\n",
       "      <td>7</td>\n",
       "      <td>2</td>\n",
       "      <td>11</td>\n",
       "      <td>...</td>\n",
       "      <td>No</td>\n",
       "      <td>No</td>\n",
       "      <td>No</td>\n",
       "      <td>No</td>\n",
       "      <td>No</td>\n",
       "      <td>No</td>\n",
       "      <td>No</td>\n",
       "      <td>No</td>\n",
       "      <td>Yes</td>\n",
       "      <td>NO</td>\n",
       "    </tr>\n",
       "    <tr>\n",
       "      <th>3</th>\n",
       "      <td>500364</td>\n",
       "      <td>82442376</td>\n",
       "      <td>Caucasian</td>\n",
       "      <td>Male</td>\n",
       "      <td>[30-40)</td>\n",
       "      <td>1</td>\n",
       "      <td>1</td>\n",
       "      <td>7</td>\n",
       "      <td>2</td>\n",
       "      <td>44</td>\n",
       "      <td>...</td>\n",
       "      <td>No</td>\n",
       "      <td>Up</td>\n",
       "      <td>No</td>\n",
       "      <td>No</td>\n",
       "      <td>No</td>\n",
       "      <td>No</td>\n",
       "      <td>No</td>\n",
       "      <td>Ch</td>\n",
       "      <td>Yes</td>\n",
       "      <td>NO</td>\n",
       "    </tr>\n",
       "    <tr>\n",
       "      <th>4</th>\n",
       "      <td>16680</td>\n",
       "      <td>42519267</td>\n",
       "      <td>Caucasian</td>\n",
       "      <td>Male</td>\n",
       "      <td>[40-50)</td>\n",
       "      <td>1</td>\n",
       "      <td>1</td>\n",
       "      <td>7</td>\n",
       "      <td>1</td>\n",
       "      <td>51</td>\n",
       "      <td>...</td>\n",
       "      <td>No</td>\n",
       "      <td>Steady</td>\n",
       "      <td>No</td>\n",
       "      <td>No</td>\n",
       "      <td>No</td>\n",
       "      <td>No</td>\n",
       "      <td>No</td>\n",
       "      <td>Ch</td>\n",
       "      <td>Yes</td>\n",
       "      <td>NO</td>\n",
       "    </tr>\n",
       "  </tbody>\n",
       "</table>\n",
       "<p>5 rows × 45 columns</p>\n",
       "</div>"
      ],
      "text/plain": [
       "   encounter_id  patient_nbr             race  gender      age  \\\n",
       "0       2278392      8222157        Caucasian  Female   [0-10)   \n",
       "1        149190     55629189        Caucasian  Female  [10-20)   \n",
       "2         64410     86047875  AfricanAmerican  Female  [20-30)   \n",
       "3        500364     82442376        Caucasian    Male  [30-40)   \n",
       "4         16680     42519267        Caucasian    Male  [40-50)   \n",
       "\n",
       "   admission_type_id  discharge_disposition_id  admission_source_id  \\\n",
       "0                  6                        25                    1   \n",
       "1                  1                         1                    7   \n",
       "2                  1                         1                    7   \n",
       "3                  1                         1                    7   \n",
       "4                  1                         1                    7   \n",
       "\n",
       "   time_in_hospital  num_lab_procedures  ...  citoglipton  insulin  \\\n",
       "0                 1                  41  ...           No       No   \n",
       "1                 3                  59  ...           No       Up   \n",
       "2                 2                  11  ...           No       No   \n",
       "3                 2                  44  ...           No       Up   \n",
       "4                 1                  51  ...           No   Steady   \n",
       "\n",
       "   glyburide_metformin  glipizide_metformin  glimepiride_pioglitazone  \\\n",
       "0                   No                   No                        No   \n",
       "1                   No                   No                        No   \n",
       "2                   No                   No                        No   \n",
       "3                   No                   No                        No   \n",
       "4                   No                   No                        No   \n",
       "\n",
       "  metformin_rosiglitazone metformin_pioglitazone change  diabetesMed  \\\n",
       "0                      No                     No     No           No   \n",
       "1                      No                     No     Ch          Yes   \n",
       "2                      No                     No     No          Yes   \n",
       "3                      No                     No     Ch          Yes   \n",
       "4                      No                     No     Ch          Yes   \n",
       "\n",
       "  readmitted  \n",
       "0         NO  \n",
       "1        >30  \n",
       "2         NO  \n",
       "3         NO  \n",
       "4         NO  \n",
       "\n",
       "[5 rows x 45 columns]"
      ]
     },
     "execution_count": 150,
     "metadata": {},
     "output_type": "execute_result"
    }
   ],
   "source": [
    "data.head()"
   ]
  },
  {
   "cell_type": "markdown",
   "metadata": {},
   "source": [
    "Data is now ready for the analysis pipeline!"
   ]
  },
  {
   "cell_type": "markdown",
   "metadata": {},
   "source": [
    "## Renaiming some columns"
   ]
  },
  {
   "cell_type": "markdown",
   "metadata": {},
   "source": [
    "To avoid potential failure when using statsmodel, we rename the columns that contains a '-' in their name."
   ]
  },
  {
   "cell_type": "code",
   "execution_count": 151,
   "metadata": {},
   "outputs": [],
   "source": [
    "data.rename(columns={'glyburide-metformin':'glyburide_metformin', 'glipizide-metformin': 'glipizide_metformin', \n",
    "             'glimepiride-pioglitazone': 'glimepiride_pioglitazone', 'metformin-rosiglitazone': 'metformin_rosiglitazone', \n",
    "             'metformin-pioglitazone': 'metformin_pioglitazone'}, inplace=True)"
   ]
  },
  {
   "cell_type": "markdown",
   "metadata": {},
   "source": [
    "## Removing outliers"
   ]
  },
  {
   "cell_type": "code",
   "execution_count": 152,
   "metadata": {},
   "outputs": [],
   "source": [
    "data[data['gender'] == 'Unknown/Invalid']\n",
    "data = data.drop(index=[30506, 75551, 82573])"
   ]
  },
  {
   "cell_type": "markdown",
   "metadata": {},
   "source": [
    "# Exploratory data analysis"
   ]
  },
  {
   "cell_type": "markdown",
   "metadata": {},
   "source": [
    "## What is the most frequent readmission type?"
   ]
  },
  {
   "cell_type": "code",
   "execution_count": 153,
   "metadata": {},
   "outputs": [
    {
     "name": "stdout",
     "output_type": "stream",
     "text": [
      "readmitted\n",
      "<30    0.111602\n",
      ">30    0.349292\n",
      "NO     0.539106\n",
      "Name: proportion, dtype: float64\n"
     ]
    }
   ],
   "source": [
    "freqs = data['readmitted'].value_counts(normalize=True).sort_index()\n",
    "print(freqs)"
   ]
  },
  {
   "cell_type": "code",
   "execution_count": 154,
   "metadata": {},
   "outputs": [
    {
     "data": {
      "text/plain": [
       "<Axes: xlabel='readmitted'>"
      ]
     },
     "execution_count": 154,
     "metadata": {},
     "output_type": "execute_result"
    },
    {
     "data": {
      "image/png": "[encoded data removed]",
      "text/plain": [
       "<Figure size 900x600 with 1 Axes>"
      ]
     },
     "metadata": {},
     "output_type": "display_data"
    }
   ],
   "source": [
    "freqs.plot.bar(figsize=(9, 6))"
   ]
  },
  {
   "cell_type": "markdown",
   "metadata": {},
   "source": [
    "The dataset is very imbalanced. Only 10% of observation represents class \"readmitted within 30 days\". "
   ]
  },
  {
   "cell_type": "code",
   "execution_count": 155,
   "metadata": {},
   "outputs": [],
   "source": [
    "#data['readmitted'].plot.bar()"
   ]
  },
  {
   "cell_type": "markdown",
   "metadata": {},
   "source": []
  },
  {
   "cell_type": "markdown",
   "metadata": {},
   "source": [
    "## What is the distribution of gender between readmissions?"
   ]
  },
  {
   "cell_type": "markdown",
   "metadata": {},
   "source": [
    "## Distribution of gender"
   ]
  },
  {
   "cell_type": "code",
   "execution_count": 156,
   "metadata": {},
   "outputs": [
    {
     "data": {
      "text/plain": [
       "array(['Female', 'Male'], dtype=object)"
      ]
     },
     "execution_count": 156,
     "metadata": {},
     "output_type": "execute_result"
    }
   ],
   "source": [
    "data['gender'].unique()"
   ]
  },
  {
   "cell_type": "code",
   "execution_count": 157,
   "metadata": {},
   "outputs": [
    {
     "name": "stdout",
     "output_type": "stream",
     "text": [
      "gender\n",
      "Female    0.537602\n",
      "Male      0.462398\n",
      "Name: proportion, dtype: float64\n"
     ]
    }
   ],
   "source": [
    "freqs = data['gender'].value_counts(normalize=True)\n",
    "print(freqs)"
   ]
  },
  {
   "cell_type": "code",
   "execution_count": 158,
   "metadata": {},
   "outputs": [
    {
     "data": {
      "text/plain": [
       "<Axes: xlabel='gender'>"
      ]
     },
     "execution_count": 158,
     "metadata": {},
     "output_type": "execute_result"
    },
    {
     "data": {
      "image/png": "[encoded data removed]",
      "text/plain": [
       "<Figure size 640x480 with 1 Axes>"
      ]
     },
     "metadata": {},
     "output_type": "display_data"
    }
   ],
   "source": [
    "freqs[0:-1].plot.bar()"
   ]
  },
  {
   "cell_type": "markdown",
   "metadata": {},
   "source": [
    "Let's count how many patients with 'unknown/invalid' gender are there in the dataset"
   ]
  },
  {
   "cell_type": "code",
   "execution_count": 159,
   "metadata": {},
   "outputs": [
    {
     "data": {
      "text/plain": [
       "gender\n",
       "Female    54708\n",
       "Male      47055\n",
       "Name: count, dtype: int64"
      ]
     },
     "execution_count": 159,
     "metadata": {},
     "output_type": "execute_result"
    }
   ],
   "source": [
    "data['gender'].value_counts().sort_index()"
   ]
  },
  {
   "cell_type": "markdown",
   "metadata": {},
   "source": [
    "## Distribution of gender between readmissions"
   ]
  },
  {
   "cell_type": "code",
   "execution_count": 160,
   "metadata": {},
   "outputs": [
    {
     "data": {
      "text/plain": [
       "<Axes: xlabel='gender'>"
      ]
     },
     "execution_count": 160,
     "metadata": {},
     "output_type": "execute_result"
    },
    {
     "data": {
      "image/png": "[encoded data removed]",
      "text/plain": [
       "<Figure size 1200x900 with 1 Axes>"
      ]
     },
     "metadata": {},
     "output_type": "display_data"
    }
   ],
   "source": [
    "d = data[['gender', 'readmitted']]\n",
    "\n",
    "cont_table = pd.crosstab(index=d['gender'], columns=data['readmitted'], normalize=True)\n",
    "\n",
    "cont_table.plot.bar(figsize=(12, 9))"
   ]
  },
  {
   "cell_type": "code",
   "execution_count": 161,
   "metadata": {},
   "outputs": [
    {
     "data": {
      "text/plain": [
       "<Axes: xlabel='gender'>"
      ]
     },
     "execution_count": 161,
     "metadata": {},
     "output_type": "execute_result"
    },
    {
     "data": {
      "image/png": "[encoded data removed]",
      "text/plain": [
       "<Figure size 640x480 with 1 Axes>"
      ]
     },
     "metadata": {},
     "output_type": "display_data"
    }
   ],
   "source": [
    "freqs.plot.bar()"
   ]
  },
  {
   "cell_type": "markdown",
   "metadata": {},
   "source": [
    "## Distribution of age"
   ]
  },
  {
   "cell_type": "markdown",
   "metadata": {},
   "source": [
    "ecdf = data['age'].value_counts(normalize=True).sort_index().cumsum()\n",
    "\n",
    "plt.figure(figsize=(12, 8))\n",
    "plt.title('Empirative Cumulative Distribution Function of Age')\n",
    "plt.grid()\n",
    "plt.plot(ecdf.index, ecdf.values)"
   ]
  },
  {
   "cell_type": "code",
   "execution_count": 162,
   "metadata": {},
   "outputs": [
    {
     "data": {
      "image/png": "[encoded data removed]",
      "text/plain": [
       "<Figure size 640x480 with 1 Axes>"
      ]
     },
     "metadata": {},
     "output_type": "display_data"
    }
   ],
   "source": [
    "freqs = data['age'].value_counts().sort_index().plot.bar()"
   ]
  },
  {
   "cell_type": "code",
   "execution_count": 163,
   "metadata": {},
   "outputs": [
    {
     "data": {
      "text/html": [
       "<div>\n",
       "<style scoped>\n",
       "    .dataframe tbody tr th:only-of-type {\n",
       "        vertical-align: middle;\n",
       "    }\n",
       "\n",
       "    .dataframe tbody tr th {\n",
       "        vertical-align: top;\n",
       "    }\n",
       "\n",
       "    .dataframe thead th {\n",
       "        text-align: right;\n",
       "    }\n",
       "</style>\n",
       "<table border=\"1\" class=\"dataframe\">\n",
       "  <thead>\n",
       "    <tr style=\"text-align: right;\">\n",
       "      <th>readmitted</th>\n",
       "      <th>&lt;30</th>\n",
       "      <th>&gt;30</th>\n",
       "      <th>NO</th>\n",
       "    </tr>\n",
       "    <tr>\n",
       "      <th>age</th>\n",
       "      <th></th>\n",
       "      <th></th>\n",
       "      <th></th>\n",
       "    </tr>\n",
       "  </thead>\n",
       "  <tbody>\n",
       "    <tr>\n",
       "      <th>[0-10)</th>\n",
       "      <td>0.000029</td>\n",
       "      <td>0.000255</td>\n",
       "      <td>0.001297</td>\n",
       "    </tr>\n",
       "    <tr>\n",
       "      <th>[10-20)</th>\n",
       "      <td>0.000393</td>\n",
       "      <td>0.002201</td>\n",
       "      <td>0.004196</td>\n",
       "    </tr>\n",
       "    <tr>\n",
       "      <th>[20-30)</th>\n",
       "      <td>0.002319</td>\n",
       "      <td>0.005012</td>\n",
       "      <td>0.008952</td>\n",
       "    </tr>\n",
       "    <tr>\n",
       "      <th>[30-40)</th>\n",
       "      <td>0.004167</td>\n",
       "      <td>0.011664</td>\n",
       "      <td>0.021265</td>\n",
       "    </tr>\n",
       "    <tr>\n",
       "      <th>[40-50)</th>\n",
       "      <td>0.010092</td>\n",
       "      <td>0.032212</td>\n",
       "      <td>0.052868</td>\n",
       "    </tr>\n",
       "    <tr>\n",
       "      <th>[50-60)</th>\n",
       "      <td>0.016391</td>\n",
       "      <td>0.058145</td>\n",
       "      <td>0.095035</td>\n",
       "    </tr>\n",
       "    <tr>\n",
       "      <th>[60-70)</th>\n",
       "      <td>0.024587</td>\n",
       "      <td>0.077602</td>\n",
       "      <td>0.118737</td>\n",
       "    </tr>\n",
       "    <tr>\n",
       "      <th>[70-80)</th>\n",
       "      <td>0.030158</td>\n",
       "      <td>0.093108</td>\n",
       "      <td>0.132877</td>\n",
       "    </tr>\n",
       "    <tr>\n",
       "      <th>[80-90)</th>\n",
       "      <td>0.020420</td>\n",
       "      <td>0.061152</td>\n",
       "      <td>0.087419</td>\n",
       "    </tr>\n",
       "    <tr>\n",
       "      <th>[90-100)</th>\n",
       "      <td>0.003046</td>\n",
       "      <td>0.007940</td>\n",
       "      <td>0.016460</td>\n",
       "    </tr>\n",
       "  </tbody>\n",
       "</table>\n",
       "</div>"
      ],
      "text/plain": [
       "readmitted       <30       >30        NO\n",
       "age                                     \n",
       "[0-10)      0.000029  0.000255  0.001297\n",
       "[10-20)     0.000393  0.002201  0.004196\n",
       "[20-30)     0.002319  0.005012  0.008952\n",
       "[30-40)     0.004167  0.011664  0.021265\n",
       "[40-50)     0.010092  0.032212  0.052868\n",
       "[50-60)     0.016391  0.058145  0.095035\n",
       "[60-70)     0.024587  0.077602  0.118737\n",
       "[70-80)     0.030158  0.093108  0.132877\n",
       "[80-90)     0.020420  0.061152  0.087419\n",
       "[90-100)    0.003046  0.007940  0.016460"
      ]
     },
     "execution_count": 163,
     "metadata": {},
     "output_type": "execute_result"
    }
   ],
   "source": [
    "cont_table = pd.crosstab(index=data['age'], columns=data['readmitted'], normalize=True)\n",
    "cont_table"
   ]
  },
  {
   "cell_type": "code",
   "execution_count": 164,
   "metadata": {},
   "outputs": [
    {
     "data": {
      "text/plain": [
       "<Axes: xlabel='age'>"
      ]
     },
     "execution_count": 164,
     "metadata": {},
     "output_type": "execute_result"
    },
    {
     "data": {
      "image/png": "[encoded data removed]",
      "text/plain": [
       "<Figure size 1200x900 with 1 Axes>"
      ]
     },
     "metadata": {},
     "output_type": "display_data"
    }
   ],
   "source": [
    "cont_table.plot.bar(figsize=(12, 9))"
   ]
  },
  {
   "cell_type": "markdown",
   "metadata": {},
   "source": [
    "From the plot above, we can say that the distribution of age is similar between readmisssions types."
   ]
  },
  {
   "cell_type": "markdown",
   "metadata": {},
   "source": [
    "# Preparing data for further analysis"
   ]
  },
  {
   "cell_type": "code",
   "execution_count": 165,
   "metadata": {},
   "outputs": [
    {
     "name": "stderr",
     "output_type": "stream",
     "text": [
      "C:\\Users\\Raffaele\\AppData\\Local\\Temp\\ipykernel_20352\\3738235945.py:1: FutureWarning: Downcasting behavior in `replace` is deprecated and will be removed in a future version. To retain the old behavior, explicitly call `result.infer_objects(copy=False)`. To opt-in to the future behavior, set `pd.set_option('future.no_silent_downcasting', True)`\n",
      "  data.replace({'readmitted': {'NO': 0, '>30': 1, '<30': 2}}, inplace=True)\n"
     ]
    }
   ],
   "source": [
    "data.replace({'readmitted': {'NO': 0, '>30': 1, '<30': 2}}, inplace=True)"
   ]
  },
  {
   "cell_type": "markdown",
   "metadata": {},
   "source": [
    "Let's drop some variables about administrative data"
   ]
  },
  {
   "cell_type": "code",
   "execution_count": 166,
   "metadata": {},
   "outputs": [],
   "source": [
    "data.drop(columns=['encounter_id', 'patient_nbr', 'age', 'race', 'admission_type_id', 'discharge_disposition_id', 'admission_source_id', 'examide', 'citoglipton',\n",
    "                          'diag_1', 'diag_2', 'diag_3'], inplace=True)"
   ]
  },
  {
   "cell_type": "markdown",
   "metadata": {},
   "source": [
    "Variables \"citoglipton\" and \"examide\" have identical values for each observations. so we need to remove them in order to build models for inferential or predictive analysis"
   ]
  },
  {
   "cell_type": "markdown",
   "metadata": {},
   "source": [
    "# Inferential Analysis"
   ]
  },
  {
   "cell_type": "markdown",
   "metadata": {},
   "source": [
    "## What is the average time in hospital?"
   ]
  },
  {
   "cell_type": "code",
   "execution_count": 167,
   "metadata": {},
   "outputs": [
    {
     "name": "stdout",
     "output_type": "stream",
     "text": [
      "4.396018199149003\n"
     ]
    }
   ],
   "source": [
    "mean = data['time_in_hospital'].mean()\n",
    "print(mean)"
   ]
  },
  {
   "cell_type": "markdown",
   "metadata": {},
   "source": [
    "From the results above, we find that the average time in hospital is 4 days. Is this due to chance or is it statistically significant? Let's run a statistical test and find out."
   ]
  },
  {
   "cell_type": "code",
   "execution_count": 168,
   "metadata": {},
   "outputs": [
    {
     "name": "stdout",
     "output_type": "stream",
     "text": [
      "P value:  1.0 \n",
      "Alpha:  0.05\n"
     ]
    }
   ],
   "source": [
    "t, p = stats.ttest_1samp(data['time_in_hospital'], mean)\n",
    "alpha = 0.05\n",
    "print(\"P value: \", p, \"\\nAlpha: \", alpha)"
   ]
  },
  {
   "cell_type": "markdown",
   "metadata": {},
   "source": [
    "The p value is greater than the significance level, so we cannot reject the null hypothesis. <br>\n",
    "This means that data do not provide enough evidence to say that the true time in hospital differs from 4 and an half day."
   ]
  },
  {
   "cell_type": "code",
   "execution_count": 169,
   "metadata": {},
   "outputs": [
    {
     "data": {
      "text/plain": [
       "<Axes: >"
      ]
     },
     "execution_count": 169,
     "metadata": {},
     "output_type": "execute_result"
    },
    {
     "data": {
      "image/png": "[encoded data removed]",
      "text/plain": [
       "<Figure size 640x480 with 1 Axes>"
      ]
     },
     "metadata": {},
     "output_type": "display_data"
    }
   ],
   "source": [
    "data.boxplot(column=['time_in_hospital'])"
   ]
  },
  {
   "cell_type": "markdown",
   "metadata": {},
   "source": [
    "From the box plot above, we notice that values 13 and 14 are outliers. The median value is 4 and the third quantile is 6. "
   ]
  },
  {
   "cell_type": "markdown",
   "metadata": {},
   "source": [
    "## What is the average time in hospital between readmission classes?"
   ]
  },
  {
   "cell_type": "code",
   "execution_count": 170,
   "metadata": {},
   "outputs": [
    {
     "name": "stdout",
     "output_type": "stream",
     "text": [
      "4.254479502743297\n"
     ]
    }
   ],
   "source": [
    "not_readmitted = data.loc[data['readmitted'] == 0, 'time_in_hospital']\n",
    "mean_not_readmitted = not_readmitted.mean()\n",
    "print(mean_not_readmitted)"
   ]
  },
  {
   "cell_type": "code",
   "execution_count": 171,
   "metadata": {},
   "outputs": [
    {
     "name": "stdout",
     "output_type": "stream",
     "text": [
      "4.56157519935184\n"
     ]
    }
   ],
   "source": [
    "readmitted = data.loc[data['readmitted'] != 0, 'time_in_hospital']\n",
    "mean_readmitted = data.loc[data['readmitted'] != 0, 'time_in_hospital'].mean()\n",
    "print(mean_readmitted)"
   ]
  },
  {
   "cell_type": "markdown",
   "metadata": {},
   "source": [
    "Again, is this due to chance or is it statistically significant? Let's run a statistical test to see if we can reject the hypothesis that the two means are equal. "
   ]
  },
  {
   "cell_type": "code",
   "execution_count": 172,
   "metadata": {},
   "outputs": [
    {
     "name": "stdout",
     "output_type": "stream",
     "text": [
      "P value:  3.1662864432201493e-60 \n",
      "Alpha:  0.05\n"
     ]
    }
   ],
   "source": [
    "t, p = stats.ttest_ind(readmitted, not_readmitted)\n",
    "alpha = 0.05\n",
    "print(\"P value: \", p, \"\\nAlpha: \", alpha)"
   ]
  },
  {
   "cell_type": "markdown",
   "metadata": {},
   "source": [
    "We can reject the null hyphothesis. It is safe to say that the two populations mean are different. \n",
    "Let's study the relationship between time_in_hospital and readmitted, using logistic regression."
   ]
  },
  {
   "cell_type": "markdown",
   "metadata": {},
   "source": [
    "Let's use a boxplot to study the distribution of time_in_hospital between readmissions."
   ]
  },
  {
   "cell_type": "code",
   "execution_count": 173,
   "metadata": {},
   "outputs": [
    {
     "data": {
      "text/plain": [
       "<Axes: title={'center': 'time_in_hospital'}, xlabel='readmitted'>"
      ]
     },
     "execution_count": 173,
     "metadata": {},
     "output_type": "execute_result"
    },
    {
     "data": {
      "image/png": "[encoded data removed]",
      "text/plain": [
       "<Figure size 640x480 with 1 Axes>"
      ]
     },
     "metadata": {},
     "output_type": "display_data"
    }
   ],
   "source": [
    "data.boxplot(by='readmitted', column='time_in_hospital') #todo: cambiare titolo"
   ]
  },
  {
   "cell_type": "markdown",
   "metadata": {},
   "source": [
    "For classes 1 and 2, bloxplots are indentical. For class 0, the median is lower than the other two. This means that the distribution of time_in_hospital for patients of class 0 is not symmetrical."
   ]
  },
  {
   "cell_type": "code",
   "execution_count": 174,
   "metadata": {},
   "outputs": [],
   "source": [
    "## Altro?"
   ]
  },
  {
   "cell_type": "markdown",
   "metadata": {},
   "source": [
    "## Simple logit regression"
   ]
  },
  {
   "cell_type": "markdown",
   "metadata": {},
   "source": [
    "Let's fit a logistic regressor to study the relationship between time_in_hospital and readmitted. Let's see if an increase of the variable \"time_in_hospital\" leads to an increase in the probability that a patient will be readmitted or not. "
   ]
  },
  {
   "cell_type": "code",
   "execution_count": 175,
   "metadata": {},
   "outputs": [],
   "source": [
    "from statsmodels.formula.api import logit, mnlogit"
   ]
  },
  {
   "cell_type": "markdown",
   "metadata": {},
   "source": [
    "### Preparing the data"
   ]
  },
  {
   "cell_type": "markdown",
   "metadata": {},
   "source": [
    "To do this, it is not necessary to use three class of readmissions, instead it sufficient to know if a patient has been readmitted or not."
   ]
  },
  {
   "cell_type": "code",
   "execution_count": 176,
   "metadata": {},
   "outputs": [
    {
     "data": {
      "text/plain": [
       "array([0, 1, 2])"
      ]
     },
     "execution_count": 176,
     "metadata": {},
     "output_type": "execute_result"
    }
   ],
   "source": [
    "data['readmitted'].unique()"
   ]
  },
  {
   "cell_type": "code",
   "execution_count": 177,
   "metadata": {},
   "outputs": [],
   "source": [
    "data.replace({'readmitted': {'NO': 0, '>30': 1, '<30': 2}}, inplace=True)"
   ]
  },
  {
   "cell_type": "code",
   "execution_count": 178,
   "metadata": {},
   "outputs": [],
   "source": [
    "view = data.replace({'readmitted': {2: 1}})"
   ]
  },
  {
   "cell_type": "code",
   "execution_count": 179,
   "metadata": {},
   "outputs": [
    {
     "data": {
      "text/plain": [
       "array([0, 1])"
      ]
     },
     "execution_count": 179,
     "metadata": {},
     "output_type": "execute_result"
    }
   ],
   "source": [
    "view['readmitted'].unique()"
   ]
  },
  {
   "cell_type": "code",
   "execution_count": 180,
   "metadata": {},
   "outputs": [
    {
     "data": {
      "text/plain": [
       "<matplotlib.collections.PathCollection at 0x172096c0050>"
      ]
     },
     "execution_count": 180,
     "metadata": {},
     "output_type": "execute_result"
    },
    {
     "data": {
      "image/png": "[encoded data removed]",
      "text/plain": [
       "<Figure size 640x480 with 1 Axes>"
      ]
     },
     "metadata": {},
     "output_type": "display_data"
    }
   ],
   "source": [
    "plt.scatter(x=view['time_in_hospital'], y=view['readmitted'])"
   ]
  },
  {
   "cell_type": "markdown",
   "metadata": {},
   "source": [
    "### Simple logit regression"
   ]
  },
  {
   "cell_type": "markdown",
   "metadata": {},
   "source": [
    "We can now fit a simple logit regressor"
   ]
  },
  {
   "cell_type": "code",
   "execution_count": 181,
   "metadata": {},
   "outputs": [
    {
     "name": "stdout",
     "output_type": "stream",
     "text": [
      "Optimization terminated successfully.\n",
      "         Current function value: 0.688772\n",
      "         Iterations 4\n"
     ]
    }
   ],
   "source": [
    "model = logit('readmitted ~ time_in_hospital', view).fit()"
   ]
  },
  {
   "cell_type": "code",
   "execution_count": 182,
   "metadata": {},
   "outputs": [
    {
     "data": {
      "text/html": [
       "<table class=\"simpletable\">\n",
       "<caption>Logit Regression Results</caption>\n",
       "<tr>\n",
       "  <th>Dep. Variable:</th>      <td>readmitted</td>    <th>  No. Observations:  </th>  <td>101763</td>  \n",
       "</tr>\n",
       "<tr>\n",
       "  <th>Model:</th>                 <td>Logit</td>      <th>  Df Residuals:      </th>  <td>101761</td>  \n",
       "</tr>\n",
       "<tr>\n",
       "  <th>Method:</th>                 <td>MLE</td>       <th>  Df Model:          </th>  <td>     1</td>  \n",
       "</tr>\n",
       "<tr>\n",
       "  <th>Date:</th>            <td>Sat, 01 Mar 2025</td> <th>  Pseudo R-squ.:     </th> <td>0.001903</td> \n",
       "</tr>\n",
       "<tr>\n",
       "  <th>Time:</th>                <td>16:45:33</td>     <th>  Log-Likelihood:    </th> <td> -70092.</td> \n",
       "</tr>\n",
       "<tr>\n",
       "  <th>converged:</th>             <td>True</td>       <th>  LL-Null:           </th> <td> -70225.</td> \n",
       "</tr>\n",
       "<tr>\n",
       "  <th>Covariance Type:</th>     <td>nonrobust</td>    <th>  LLR p-value:       </th> <td>4.513e-60</td>\n",
       "</tr>\n",
       "</table>\n",
       "<table class=\"simpletable\">\n",
       "<tr>\n",
       "          <td></td>            <th>coef</th>     <th>std err</th>      <th>z</th>      <th>P>|z|</th>  <th>[0.025</th>    <th>0.975]</th>  \n",
       "</tr>\n",
       "<tr>\n",
       "  <th>Intercept</th>        <td>   -0.3084</td> <td>    0.011</td> <td>  -27.461</td> <td> 0.000</td> <td>   -0.330</td> <td>   -0.286</td>\n",
       "</tr>\n",
       "<tr>\n",
       "  <th>time_in_hospital</th> <td>    0.0344</td> <td>    0.002</td> <td>   16.331</td> <td> 0.000</td> <td>    0.030</td> <td>    0.039</td>\n",
       "</tr>\n",
       "</table>"
      ],
      "text/latex": [
       "\\begin{center}\n",
       "\\begin{tabular}{lclc}\n",
       "\\toprule\n",
       "\\textbf{Dep. Variable:}     &    readmitted    & \\textbf{  No. Observations:  } &   101763    \\\\\n",
       "\\textbf{Model:}             &      Logit       & \\textbf{  Df Residuals:      } &   101761    \\\\\n",
       "\\textbf{Method:}            &       MLE        & \\textbf{  Df Model:          } &        1    \\\\\n",
       "\\textbf{Date:}              & Sat, 01 Mar 2025 & \\textbf{  Pseudo R-squ.:     } &  0.001903   \\\\\n",
       "\\textbf{Time:}              &     16:45:33     & \\textbf{  Log-Likelihood:    } &   -70092.   \\\\\n",
       "\\textbf{converged:}         &       True       & \\textbf{  LL-Null:           } &   -70225.   \\\\\n",
       "\\textbf{Covariance Type:}   &    nonrobust     & \\textbf{  LLR p-value:       } & 4.513e-60   \\\\\n",
       "\\bottomrule\n",
       "\\end{tabular}\n",
       "\\begin{tabular}{lcccccc}\n",
       "                            & \\textbf{coef} & \\textbf{std err} & \\textbf{z} & \\textbf{P$> |$z$|$} & \\textbf{[0.025} & \\textbf{0.975]}  \\\\\n",
       "\\midrule\n",
       "\\textbf{Intercept}          &      -0.3084  &        0.011     &   -27.461  &         0.000        &       -0.330    &       -0.286     \\\\\n",
       "\\textbf{time\\_in\\_hospital} &       0.0344  &        0.002     &    16.331  &         0.000        &        0.030    &        0.039     \\\\\n",
       "\\bottomrule\n",
       "\\end{tabular}\n",
       "%\\caption{Logit Regression Results}\n",
       "\\end{center}"
      ],
      "text/plain": [
       "<class 'statsmodels.iolib.summary.Summary'>\n",
       "\"\"\"\n",
       "                           Logit Regression Results                           \n",
       "==============================================================================\n",
       "Dep. Variable:             readmitted   No. Observations:               101763\n",
       "Model:                          Logit   Df Residuals:                   101761\n",
       "Method:                           MLE   Df Model:                            1\n",
       "Date:                Sat, 01 Mar 2025   Pseudo R-squ.:                0.001903\n",
       "Time:                        16:45:33   Log-Likelihood:                -70092.\n",
       "converged:                       True   LL-Null:                       -70225.\n",
       "Covariance Type:            nonrobust   LLR p-value:                 4.513e-60\n",
       "====================================================================================\n",
       "                       coef    std err          z      P>|z|      [0.025      0.975]\n",
       "------------------------------------------------------------------------------------\n",
       "Intercept           -0.3084      0.011    -27.461      0.000      -0.330      -0.286\n",
       "time_in_hospital     0.0344      0.002     16.331      0.000       0.030       0.039\n",
       "====================================================================================\n",
       "\"\"\""
      ]
     },
     "execution_count": 182,
     "metadata": {},
     "output_type": "execute_result"
    }
   ],
   "source": [
    "model.summary()"
   ]
  },
  {
   "cell_type": "markdown",
   "metadata": {},
   "source": [
    "The pseudo-R^2 is very small: the model do not explain well the data."
   ]
  },
  {
   "cell_type": "code",
   "execution_count": 183,
   "metadata": {},
   "outputs": [
    {
     "data": {
      "text/plain": [
       "np.float64(0.7345479521991701)"
      ]
     },
     "execution_count": 183,
     "metadata": {},
     "output_type": "execute_result"
    }
   ],
   "source": [
    "np.exp(-0.3085)"
   ]
  },
  {
   "cell_type": "markdown",
   "metadata": {},
   "source": [
    "when time_in_hospital is set to 0, unrealistically, the odds of a patient being readmitted rather than not is 0.73. "
   ]
  },
  {
   "cell_type": "code",
   "execution_count": 184,
   "metadata": {},
   "outputs": [
    {
     "data": {
      "text/plain": [
       "np.float64(1.0349985233486143)"
      ]
     },
     "execution_count": 184,
     "metadata": {},
     "output_type": "execute_result"
    }
   ],
   "source": [
    "np.exp(0.0344)"
   ]
  },
  {
   "cell_type": "markdown",
   "metadata": {},
   "source": [
    "Without considering other variables, an extra day in hospital corresponds to a multiplicative increase in the odds of a patient being readmitted rather than not of 1.034. That is, if a patient spend an extra day in the hospital, the odds of being readmitted increases by a (1-1.034)*100 = 3.4%"
   ]
  },
  {
   "cell_type": "markdown",
   "metadata": {},
   "source": [
    "## Simple multivariate logit regressor"
   ]
  },
  {
   "cell_type": "code",
   "execution_count": 185,
   "metadata": {},
   "outputs": [
    {
     "name": "stdout",
     "output_type": "stream",
     "text": [
      "Optimization terminated successfully.\n",
      "         Current function value: 0.943567\n",
      "         Iterations 6\n"
     ]
    }
   ],
   "source": [
    "model = mnlogit('readmitted ~ time_in_hospital', data).fit()"
   ]
  },
  {
   "cell_type": "code",
   "execution_count": 186,
   "metadata": {},
   "outputs": [
    {
     "data": {
      "text/html": [
       "<table class=\"simpletable\">\n",
       "<caption>MNLogit Regression Results</caption>\n",
       "<tr>\n",
       "  <th>Dep. Variable:</th>      <td>readmitted</td>    <th>  No. Observations:  </th>  <td>101763</td>  \n",
       "</tr>\n",
       "<tr>\n",
       "  <th>Model:</th>                <td>MNLogit</td>     <th>  Df Residuals:      </th>  <td>101759</td>  \n",
       "</tr>\n",
       "<tr>\n",
       "  <th>Method:</th>                 <td>MLE</td>       <th>  Df Model:          </th>  <td>     2</td>  \n",
       "</tr>\n",
       "<tr>\n",
       "  <th>Date:</th>            <td>Sat, 01 Mar 2025</td> <th>  Pseudo R-squ.:     </th> <td>0.001736</td> \n",
       "</tr>\n",
       "<tr>\n",
       "  <th>Time:</th>                <td>16:45:34</td>     <th>  Log-Likelihood:    </th> <td> -96020.</td> \n",
       "</tr>\n",
       "<tr>\n",
       "  <th>converged:</th>             <td>True</td>       <th>  LL-Null:           </th> <td> -96187.</td> \n",
       "</tr>\n",
       "<tr>\n",
       "  <th>Covariance Type:</th>     <td>nonrobust</td>    <th>  LLR p-value:       </th> <td>3.001e-73</td>\n",
       "</tr>\n",
       "</table>\n",
       "<table class=\"simpletable\">\n",
       "<tr>\n",
       "    <th>readmitted=1</th>      <th>coef</th>     <th>std err</th>      <th>z</th>      <th>P>|z|</th>  <th>[0.025</th>    <th>0.975]</th>  \n",
       "</tr>\n",
       "<tr>\n",
       "  <th>Intercept</th>        <td>   -0.5537</td> <td>    0.012</td> <td>  -45.590</td> <td> 0.000</td> <td>   -0.577</td> <td>   -0.530</td>\n",
       "</tr>\n",
       "<tr>\n",
       "  <th>time_in_hospital</th> <td>    0.0274</td> <td>    0.002</td> <td>   11.964</td> <td> 0.000</td> <td>    0.023</td> <td>    0.032</td>\n",
       "</tr>\n",
       "<tr>\n",
       "    <th>readmitted=2</th>      <th>coef</th>     <th>std err</th>      <th>z</th>      <th>P>|z|</th>  <th>[0.025</th>    <th>0.975]</th>  \n",
       "</tr>\n",
       "<tr>\n",
       "  <th>Intercept</th>        <td>   -1.8253</td> <td>    0.019</td> <td>  -98.340</td> <td> 0.000</td> <td>   -1.862</td> <td>   -1.789</td>\n",
       "</tr>\n",
       "<tr>\n",
       "  <th>time_in_hospital</th> <td>    0.0556</td> <td>    0.003</td> <td>   16.817</td> <td> 0.000</td> <td>    0.049</td> <td>    0.062</td>\n",
       "</tr>\n",
       "</table>"
      ],
      "text/latex": [
       "\\begin{center}\n",
       "\\begin{tabular}{lclc}\n",
       "\\toprule\n",
       "\\textbf{Dep. Variable:}     &    readmitted    & \\textbf{  No. Observations:  } &   101763    \\\\\n",
       "\\textbf{Model:}             &     MNLogit      & \\textbf{  Df Residuals:      } &   101759    \\\\\n",
       "\\textbf{Method:}            &       MLE        & \\textbf{  Df Model:          } &        2    \\\\\n",
       "\\textbf{Date:}              & Sat, 01 Mar 2025 & \\textbf{  Pseudo R-squ.:     } &  0.001736   \\\\\n",
       "\\textbf{Time:}              &     16:45:34     & \\textbf{  Log-Likelihood:    } &   -96020.   \\\\\n",
       "\\textbf{converged:}         &       True       & \\textbf{  LL-Null:           } &   -96187.   \\\\\n",
       "\\textbf{Covariance Type:}   &    nonrobust     & \\textbf{  LLR p-value:       } & 3.001e-73   \\\\\n",
       "\\bottomrule\n",
       "\\end{tabular}\n",
       "\\begin{tabular}{ccccccc}\n",
       "   \\textbf{readmitted=1}    & \\textbf{coef} & \\textbf{std err} & \\textbf{z} & \\textbf{P$> |$z$|$} & \\textbf{[0.025} & \\textbf{0.975]}  \\\\\n",
       "\\midrule\n",
       "\\bottomrule\n",
       "\\end{tabular}\n",
       "\\begin{tabular}{lcccccc}\n",
       "\\textbf{Intercept}          &      -0.5537  &        0.012     &   -45.590  &         0.000        &       -0.577    &       -0.530     \\\\\n",
       "\\textbf{time\\_in\\_hospital} &       0.0274  &        0.002     &    11.964  &         0.000        &        0.023    &        0.032     \\\\\n",
       "\\bottomrule\n",
       "\\end{tabular}\n",
       "\\begin{tabular}{ccccccc}\n",
       "   \\textbf{readmitted=2}    & \\textbf{coef} & \\textbf{std err} & \\textbf{z} & \\textbf{P$> |$z$|$} & \\textbf{[0.025} & \\textbf{0.975]}  \\\\\n",
       "\\midrule\n",
       "\\bottomrule\n",
       "\\end{tabular}\n",
       "\\begin{tabular}{lcccccc}\n",
       "\\textbf{Intercept}          &      -1.8253  &        0.019     &   -98.340  &         0.000        &       -1.862    &       -1.789     \\\\\n",
       "\\textbf{time\\_in\\_hospital} &       0.0556  &        0.003     &    16.817  &         0.000        &        0.049    &        0.062     \\\\\n",
       "\\bottomrule\n",
       "\\end{tabular}\n",
       "%\\caption{MNLogit Regression Results}\n",
       "\\end{center}"
      ],
      "text/plain": [
       "<class 'statsmodels.iolib.summary.Summary'>\n",
       "\"\"\"\n",
       "                          MNLogit Regression Results                          \n",
       "==============================================================================\n",
       "Dep. Variable:             readmitted   No. Observations:               101763\n",
       "Model:                        MNLogit   Df Residuals:                   101759\n",
       "Method:                           MLE   Df Model:                            2\n",
       "Date:                Sat, 01 Mar 2025   Pseudo R-squ.:                0.001736\n",
       "Time:                        16:45:34   Log-Likelihood:                -96020.\n",
       "converged:                       True   LL-Null:                       -96187.\n",
       "Covariance Type:            nonrobust   LLR p-value:                 3.001e-73\n",
       "====================================================================================\n",
       "    readmitted=1       coef    std err          z      P>|z|      [0.025      0.975]\n",
       "------------------------------------------------------------------------------------\n",
       "Intercept           -0.5537      0.012    -45.590      0.000      -0.577      -0.530\n",
       "time_in_hospital     0.0274      0.002     11.964      0.000       0.023       0.032\n",
       "------------------------------------------------------------------------------------\n",
       "    readmitted=2       coef    std err          z      P>|z|      [0.025      0.975]\n",
       "------------------------------------------------------------------------------------\n",
       "Intercept           -1.8253      0.019    -98.340      0.000      -1.862      -1.789\n",
       "time_in_hospital     0.0556      0.003     16.817      0.000       0.049       0.062\n",
       "====================================================================================\n",
       "\"\"\""
      ]
     },
     "execution_count": 186,
     "metadata": {},
     "output_type": "execute_result"
    }
   ],
   "source": [
    "model.summary()"
   ]
  },
  {
   "cell_type": "code",
   "execution_count": 187,
   "metadata": {},
   "outputs": [
    {
     "data": {
      "text/plain": [
       "np.float64(1.0571747292596514)"
      ]
     },
     "execution_count": 187,
     "metadata": {},
     "output_type": "execute_result"
    }
   ],
   "source": [
    "np.exp(0.0556)"
   ]
  },
  {
   "cell_type": "markdown",
   "metadata": {},
   "source": [
    "This model is not reliable due to an imbalance of classes."
   ]
  },
  {
   "cell_type": "markdown",
   "metadata": {},
   "source": [
    "## Multiple logistic regression"
   ]
  },
  {
   "cell_type": "markdown",
   "metadata": {},
   "source": [
    "Let's define a function that build the formula automatically"
   ]
  },
  {
   "cell_type": "code",
   "execution_count": 188,
   "metadata": {},
   "outputs": [],
   "source": [
    "def buildFormula(columns):\n",
    "    formula = 'readmitted ~ ' + columns[0]\n",
    "    \n",
    "    for s in columns[1:-1]:\n",
    "        formula = formula + ' + ' + s\n",
    "        \n",
    "    return formula"
   ]
  },
  {
   "cell_type": "code",
   "execution_count": 189,
   "metadata": {},
   "outputs": [],
   "source": [
    "view = data.replace({'readmitted': 2}, 1)"
   ]
  },
  {
   "cell_type": "code",
   "execution_count": 190,
   "metadata": {},
   "outputs": [],
   "source": [
    "#view['age'] = view['age'].replace({'[0-10)': 5, '[10-20)': 15, '[20-30)': 25,\n",
    "#                             '[30-40)': 35, '[40-50)': 45, '[50-60)': 55,\n",
    "#                             '[60-70)': 65, '[70-80)': 75, '[80-90)': 85, '[90-100)': 95,\n",
    "#                            })"
   ]
  },
  {
   "cell_type": "markdown",
   "metadata": {},
   "source": [
    "We need to introduce dummy variables for each categorical variable in order to build a logit regressor"
   ]
  },
  {
   "cell_type": "code",
   "execution_count": 191,
   "metadata": {},
   "outputs": [],
   "source": [
    "cols = np.concatenate([[view.columns[0]], view.columns[9:-1]])\n",
    "view = pd.get_dummies(view, columns=cols, drop_first=True, dtype=np.uint8)"
   ]
  },
  {
   "cell_type": "markdown",
   "metadata": {},
   "source": [
    "## Removing correlated categorical variables using Cramer's V statistic"
   ]
  },
  {
   "cell_type": "code",
   "execution_count": 192,
   "metadata": {},
   "outputs": [],
   "source": [
    "from scipy.stats.contingency import association"
   ]
  },
  {
   "cell_type": "code",
   "execution_count": 193,
   "metadata": {},
   "outputs": [
    {
     "data": {
      "text/plain": [
       "time_in_hospital                   int64\n",
       "num_lab_procedures                 int64\n",
       "num_procedures                     int64\n",
       "num_medications                    int64\n",
       "number_outpatient                  int64\n",
       "number_emergency                   int64\n",
       "number_inpatient                   int64\n",
       "number_diagnoses                   int64\n",
       "readmitted                         int64\n",
       "gender_Male                        uint8\n",
       "metformin_No                       uint8\n",
       "metformin_Steady                   uint8\n",
       "metformin_Up                       uint8\n",
       "repaglinide_No                     uint8\n",
       "repaglinide_Steady                 uint8\n",
       "repaglinide_Up                     uint8\n",
       "nateglinide_No                     uint8\n",
       "nateglinide_Steady                 uint8\n",
       "nateglinide_Up                     uint8\n",
       "chlorpropamide_No                  uint8\n",
       "chlorpropamide_Steady              uint8\n",
       "chlorpropamide_Up                  uint8\n",
       "glimepiride_No                     uint8\n",
       "glimepiride_Steady                 uint8\n",
       "glimepiride_Up                     uint8\n",
       "acetohexamide_Steady               uint8\n",
       "glipizide_No                       uint8\n",
       "glipizide_Steady                   uint8\n",
       "glipizide_Up                       uint8\n",
       "glyburide_No                       uint8\n",
       "glyburide_Steady                   uint8\n",
       "glyburide_Up                       uint8\n",
       "tolbutamide_Steady                 uint8\n",
       "pioglitazone_No                    uint8\n",
       "pioglitazone_Steady                uint8\n",
       "pioglitazone_Up                    uint8\n",
       "rosiglitazone_No                   uint8\n",
       "rosiglitazone_Steady               uint8\n",
       "rosiglitazone_Up                   uint8\n",
       "acarbose_No                        uint8\n",
       "acarbose_Steady                    uint8\n",
       "acarbose_Up                        uint8\n",
       "miglitol_No                        uint8\n",
       "miglitol_Steady                    uint8\n",
       "miglitol_Up                        uint8\n",
       "troglitazone_Steady                uint8\n",
       "tolazamide_Steady                  uint8\n",
       "tolazamide_Up                      uint8\n",
       "insulin_No                         uint8\n",
       "insulin_Steady                     uint8\n",
       "insulin_Up                         uint8\n",
       "glyburide_metformin_No             uint8\n",
       "glyburide_metformin_Steady         uint8\n",
       "glyburide_metformin_Up             uint8\n",
       "glipizide_metformin_Steady         uint8\n",
       "glimepiride_pioglitazone_Steady    uint8\n",
       "metformin_rosiglitazone_Steady     uint8\n",
       "metformin_pioglitazone_Steady      uint8\n",
       "change_No                          uint8\n",
       "diabetesMed_Yes                    uint8\n",
       "dtype: object"
      ]
     },
     "execution_count": 193,
     "metadata": {},
     "output_type": "execute_result"
    }
   ],
   "source": [
    "view.dtypes"
   ]
  },
  {
   "cell_type": "code",
   "execution_count": 194,
   "metadata": {},
   "outputs": [],
   "source": [
    "def buildVMatrix(df):\n",
    "    l = []\n",
    "    cat_vars = df.select_dtypes(include=['uint8']).columns\n",
    "    v_mat = pd.DataFrame(index = cat_vars, columns= cat_vars)\n",
    "\n",
    "    for var_one in cat_vars:\n",
    "        for var_two in cat_vars:\n",
    "            v = association(pd.crosstab(view[var_one], view[var_two]))\n",
    "            v_mat.loc[var_one, var_two] = v\n",
    "            \n",
    "            if var_one != var_two and v >= 0.9:\n",
    "                el = [var_one, var_two]\n",
    "                el.sort()\n",
    "                \n",
    "                #usare un set\n",
    "                if el[1] not in l:\n",
    "                    l.append(el[1])\n",
    "    return l\n",
    "            "
   ]
  },
  {
   "cell_type": "code",
   "execution_count": 195,
   "metadata": {},
   "outputs": [],
   "source": [
    "#vars_to_drop = buildVMatrix(view)\n",
    "#view = view.drop(columns=vars_to_drop)"
   ]
  },
  {
   "cell_type": "code",
   "execution_count": 196,
   "metadata": {},
   "outputs": [],
   "source": [
    "#vars_to_drop"
   ]
  },
  {
   "cell_type": "code",
   "execution_count": null,
   "metadata": {},
   "outputs": [],
   "source": []
  },
  {
   "cell_type": "markdown",
   "metadata": {},
   "source": [
    "from statsmodels.stats.outliers_influence import variance_inflation_factor\n",
    "\n",
    "vif = pd.DataFrame()\n",
    "vif[\"feature\"] = view.columns.drop('readmitted')\n",
    "vif[\"VIF\"] = [variance_inflation_factor(view.drop(columns='readmitted').values, i) for i in range(view.shape[1]-1)]\n",
    "\n",
    "print(vif.sort_values(by=\"VIF\", ascending=False))\n",
    "#\n",
    "# view = view.drop(columns=s.iloc[0:19]['feature'].values)"
   ]
  },
  {
   "cell_type": "code",
   "execution_count": 197,
   "metadata": {},
   "outputs": [
    {
     "name": "stdout",
     "output_type": "stream",
     "text": [
      "Warning: Maximum number of iterations has been exceeded.\n",
      "         Current function value: 0.653151\n",
      "         Iterations: 35\n"
     ]
    },
    {
     "name": "stderr",
     "output_type": "stream",
     "text": [
      "c:\\Users\\Raffaele\\anaconda3\\envs\\fad\\Lib\\site-packages\\statsmodels\\base\\model.py:607: ConvergenceWarning: Maximum Likelihood optimization failed to converge. Check mle_retvals\n",
      "  warnings.warn(\"Maximum Likelihood optimization failed to \"\n"
     ]
    }
   ],
   "source": [
    "model = logit(buildFormula(view.columns.drop('readmitted')), view).fit()"
   ]
  },
  {
   "cell_type": "code",
   "execution_count": 198,
   "metadata": {},
   "outputs": [
    {
     "data": {
      "text/html": [
       "<table class=\"simpletable\">\n",
       "<caption>Logit Regression Results</caption>\n",
       "<tr>\n",
       "  <th>Dep. Variable:</th>      <td>readmitted</td>    <th>  No. Observations:  </th>  <td>101763</td> \n",
       "</tr>\n",
       "<tr>\n",
       "  <th>Model:</th>                 <td>Logit</td>      <th>  Df Residuals:      </th>  <td>101704</td> \n",
       "</tr>\n",
       "<tr>\n",
       "  <th>Method:</th>                 <td>MLE</td>       <th>  Df Model:          </th>  <td>    58</td> \n",
       "</tr>\n",
       "<tr>\n",
       "  <th>Date:</th>            <td>Sat, 01 Mar 2025</td> <th>  Pseudo R-squ.:     </th>  <td>0.05352</td>\n",
       "</tr>\n",
       "<tr>\n",
       "  <th>Time:</th>                <td>16:45:37</td>     <th>  Log-Likelihood:    </th> <td> -66467.</td>\n",
       "</tr>\n",
       "<tr>\n",
       "  <th>converged:</th>             <td>False</td>      <th>  LL-Null:           </th> <td> -70225.</td>\n",
       "</tr>\n",
       "<tr>\n",
       "  <th>Covariance Type:</th>     <td>nonrobust</td>    <th>  LLR p-value:       </th>  <td> 0.000</td> \n",
       "</tr>\n",
       "</table>\n",
       "<table class=\"simpletable\">\n",
       "<tr>\n",
       "                 <td></td>                    <th>coef</th>     <th>std err</th>      <th>z</th>      <th>P>|z|</th>  <th>[0.025</th>    <th>0.975]</th>  \n",
       "</tr>\n",
       "<tr>\n",
       "  <th>Intercept</th>                       <td>   -1.3862</td> <td> 1778.058</td> <td>   -0.001</td> <td> 0.999</td> <td>-3486.315</td> <td> 3483.543</td>\n",
       "</tr>\n",
       "<tr>\n",
       "  <th>time_in_hospital</th>                <td>    0.0119</td> <td>    0.003</td> <td>    4.653</td> <td> 0.000</td> <td>    0.007</td> <td>    0.017</td>\n",
       "</tr>\n",
       "<tr>\n",
       "  <th>num_lab_procedures</th>              <td>    0.0013</td> <td>    0.000</td> <td>    3.720</td> <td> 0.000</td> <td>    0.001</td> <td>    0.002</td>\n",
       "</tr>\n",
       "<tr>\n",
       "  <th>num_procedures</th>                  <td>   -0.0478</td> <td>    0.004</td> <td>  -11.259</td> <td> 0.000</td> <td>   -0.056</td> <td>   -0.039</td>\n",
       "</tr>\n",
       "<tr>\n",
       "  <th>num_medications</th>                 <td>    0.0006</td> <td>    0.001</td> <td>    0.536</td> <td> 0.592</td> <td>   -0.001</td> <td>    0.003</td>\n",
       "</tr>\n",
       "<tr>\n",
       "  <th>number_outpatient</th>               <td>    0.0844</td> <td>    0.006</td> <td>   14.029</td> <td> 0.000</td> <td>    0.073</td> <td>    0.096</td>\n",
       "</tr>\n",
       "<tr>\n",
       "  <th>number_emergency</th>                <td>    0.2136</td> <td>    0.012</td> <td>   17.425</td> <td> 0.000</td> <td>    0.190</td> <td>    0.238</td>\n",
       "</tr>\n",
       "<tr>\n",
       "  <th>number_inpatient</th>                <td>    0.3707</td> <td>    0.007</td> <td>   53.373</td> <td> 0.000</td> <td>    0.357</td> <td>    0.384</td>\n",
       "</tr>\n",
       "<tr>\n",
       "  <th>number_diagnoses</th>                <td>    0.0819</td> <td>    0.004</td> <td>   22.692</td> <td> 0.000</td> <td>    0.075</td> <td>    0.089</td>\n",
       "</tr>\n",
       "<tr>\n",
       "  <th>gender_Male</th>                     <td>   -0.0524</td> <td>    0.013</td> <td>   -3.983</td> <td> 0.000</td> <td>   -0.078</td> <td>   -0.027</td>\n",
       "</tr>\n",
       "<tr>\n",
       "  <th>metformin_No</th>                    <td>   -0.0105</td> <td>    0.087</td> <td>   -0.121</td> <td> 0.904</td> <td>   -0.182</td> <td>    0.160</td>\n",
       "</tr>\n",
       "<tr>\n",
       "  <th>metformin_Steady</th>                <td>   -0.0591</td> <td>    0.087</td> <td>   -0.675</td> <td> 0.499</td> <td>   -0.231</td> <td>    0.112</td>\n",
       "</tr>\n",
       "<tr>\n",
       "  <th>metformin_Up</th>                    <td>   -0.1495</td> <td>    0.107</td> <td>   -1.395</td> <td> 0.163</td> <td>   -0.359</td> <td>    0.060</td>\n",
       "</tr>\n",
       "<tr>\n",
       "  <th>repaglinide_No</th>                  <td>   -0.0582</td> <td>    0.306</td> <td>   -0.190</td> <td> 0.849</td> <td>   -0.659</td> <td>    0.542</td>\n",
       "</tr>\n",
       "<tr>\n",
       "  <th>repaglinide_Steady</th>              <td>    0.2275</td> <td>    0.311</td> <td>    0.731</td> <td> 0.465</td> <td>   -0.382</td> <td>    0.837</td>\n",
       "</tr>\n",
       "<tr>\n",
       "  <th>repaglinide_Up</th>                  <td>   -0.1024</td> <td>    0.364</td> <td>   -0.281</td> <td> 0.778</td> <td>   -0.815</td> <td>    0.611</td>\n",
       "</tr>\n",
       "<tr>\n",
       "  <th>nateglinide_No</th>                  <td>   -0.0560</td> <td>    0.612</td> <td>   -0.091</td> <td> 0.927</td> <td>   -1.256</td> <td>    1.144</td>\n",
       "</tr>\n",
       "<tr>\n",
       "  <th>nateglinide_Steady</th>              <td>    0.0772</td> <td>    0.617</td> <td>    0.125</td> <td> 0.901</td> <td>   -1.133</td> <td>    1.287</td>\n",
       "</tr>\n",
       "<tr>\n",
       "  <th>nateglinide_Up</th>                  <td>   -0.1737</td> <td>    0.751</td> <td>   -0.231</td> <td> 0.817</td> <td>   -1.646</td> <td>    1.299</td>\n",
       "</tr>\n",
       "<tr>\n",
       "  <th>chlorpropamide_No</th>               <td>   13.6182</td> <td> 1418.349</td> <td>    0.010</td> <td> 0.992</td> <td>-2766.294</td> <td> 2793.531</td>\n",
       "</tr>\n",
       "<tr>\n",
       "  <th>chlorpropamide_Steady</th>           <td>   13.8500</td> <td> 1418.349</td> <td>    0.010</td> <td> 0.992</td> <td>-2766.063</td> <td> 2793.763</td>\n",
       "</tr>\n",
       "<tr>\n",
       "  <th>chlorpropamide_Up</th>               <td>   15.4967</td> <td> 1418.349</td> <td>    0.011</td> <td> 0.991</td> <td>-2764.417</td> <td> 2795.410</td>\n",
       "</tr>\n",
       "<tr>\n",
       "  <th>glimepiride_No</th>                  <td>   -0.1372</td> <td>    0.149</td> <td>   -0.923</td> <td> 0.356</td> <td>   -0.429</td> <td>    0.154</td>\n",
       "</tr>\n",
       "<tr>\n",
       "  <th>glimepiride_Steady</th>              <td>   -0.0158</td> <td>    0.151</td> <td>   -0.105</td> <td> 0.917</td> <td>   -0.312</td> <td>    0.280</td>\n",
       "</tr>\n",
       "<tr>\n",
       "  <th>glimepiride_Up</th>                  <td>   -0.2054</td> <td>    0.187</td> <td>   -1.097</td> <td> 0.273</td> <td>   -0.572</td> <td>    0.162</td>\n",
       "</tr>\n",
       "<tr>\n",
       "  <th>acetohexamide_Steady</th>            <td>   19.8749</td> <td>  1.7e+04</td> <td>    0.001</td> <td> 0.999</td> <td>-3.32e+04</td> <td> 3.33e+04</td>\n",
       "</tr>\n",
       "<tr>\n",
       "  <th>glipizide_No</th>                    <td>   -0.3195</td> <td>    0.089</td> <td>   -3.582</td> <td> 0.000</td> <td>   -0.494</td> <td>   -0.145</td>\n",
       "</tr>\n",
       "<tr>\n",
       "  <th>glipizide_Steady</th>                <td>   -0.1173</td> <td>    0.090</td> <td>   -1.306</td> <td> 0.192</td> <td>   -0.293</td> <td>    0.059</td>\n",
       "</tr>\n",
       "<tr>\n",
       "  <th>glipizide_Up</th>                    <td>   -0.0574</td> <td>    0.115</td> <td>   -0.501</td> <td> 0.617</td> <td>   -0.282</td> <td>    0.167</td>\n",
       "</tr>\n",
       "<tr>\n",
       "  <th>glyburide_No</th>                    <td>   -0.2460</td> <td>    0.089</td> <td>   -2.777</td> <td> 0.005</td> <td>   -0.420</td> <td>   -0.072</td>\n",
       "</tr>\n",
       "<tr>\n",
       "  <th>glyburide_Steady</th>                <td>   -0.1095</td> <td>    0.090</td> <td>   -1.222</td> <td> 0.222</td> <td>   -0.285</td> <td>    0.066</td>\n",
       "</tr>\n",
       "<tr>\n",
       "  <th>glyburide_Up</th>                    <td>   -0.1541</td> <td>    0.113</td> <td>   -1.365</td> <td> 0.172</td> <td>   -0.375</td> <td>    0.067</td>\n",
       "</tr>\n",
       "<tr>\n",
       "  <th>tolbutamide_Steady</th>              <td>   -0.2697</td> <td>    0.444</td> <td>   -0.607</td> <td> 0.544</td> <td>   -1.140</td> <td>    0.600</td>\n",
       "</tr>\n",
       "<tr>\n",
       "  <th>pioglitazone_No</th>                 <td>   -0.2117</td> <td>    0.192</td> <td>   -1.100</td> <td> 0.271</td> <td>   -0.589</td> <td>    0.166</td>\n",
       "</tr>\n",
       "<tr>\n",
       "  <th>pioglitazone_Steady</th>             <td>   -0.0715</td> <td>    0.194</td> <td>   -0.369</td> <td> 0.712</td> <td>   -0.451</td> <td>    0.308</td>\n",
       "</tr>\n",
       "<tr>\n",
       "  <th>pioglitazone_Up</th>                 <td>    0.0487</td> <td>    0.234</td> <td>    0.208</td> <td> 0.835</td> <td>   -0.411</td> <td>    0.508</td>\n",
       "</tr>\n",
       "<tr>\n",
       "  <th>rosiglitazone_No</th>                <td>    0.5437</td> <td>    0.238</td> <td>    2.285</td> <td> 0.022</td> <td>    0.077</td> <td>    1.010</td>\n",
       "</tr>\n",
       "<tr>\n",
       "  <th>rosiglitazone_Steady</th>            <td>    0.7445</td> <td>    0.239</td> <td>    3.115</td> <td> 0.002</td> <td>    0.276</td> <td>    1.213</td>\n",
       "</tr>\n",
       "<tr>\n",
       "  <th>rosiglitazone_Up</th>                <td>    0.3074</td> <td>    0.286</td> <td>    1.076</td> <td> 0.282</td> <td>   -0.252</td> <td>    0.867</td>\n",
       "</tr>\n",
       "<tr>\n",
       "  <th>acarbose_No</th>                     <td>    0.8517</td> <td>    1.250</td> <td>    0.681</td> <td> 0.496</td> <td>   -1.598</td> <td>    3.302</td>\n",
       "</tr>\n",
       "<tr>\n",
       "  <th>acarbose_Steady</th>                 <td>    1.3108</td> <td>    1.256</td> <td>    1.044</td> <td> 0.297</td> <td>   -1.151</td> <td>    3.772</td>\n",
       "</tr>\n",
       "<tr>\n",
       "  <th>acarbose_Up</th>                     <td>    1.6900</td> <td>    1.411</td> <td>    1.198</td> <td> 0.231</td> <td>   -1.075</td> <td>    4.455</td>\n",
       "</tr>\n",
       "<tr>\n",
       "  <th>miglitol_No</th>                     <td>  -14.9402</td> <td> 1072.273</td> <td>   -0.014</td> <td> 0.989</td> <td>-2116.556</td> <td> 2086.675</td>\n",
       "</tr>\n",
       "<tr>\n",
       "  <th>miglitol_Steady</th>                 <td>  -14.4509</td> <td> 1072.273</td> <td>   -0.013</td> <td> 0.989</td> <td>-2116.067</td> <td> 2087.165</td>\n",
       "</tr>\n",
       "<tr>\n",
       "  <th>miglitol_Up</th>                     <td>  -15.0283</td> <td> 1072.274</td> <td>   -0.014</td> <td> 0.989</td> <td>-2116.646</td> <td> 2086.589</td>\n",
       "</tr>\n",
       "<tr>\n",
       "  <th>troglitazone_Steady</th>             <td>    0.9182</td> <td>    1.225</td> <td>    0.749</td> <td> 0.454</td> <td>   -1.484</td> <td>    3.320</td>\n",
       "</tr>\n",
       "<tr>\n",
       "  <th>tolazamide_Steady</th>               <td>   -0.2335</td> <td>    0.354</td> <td>   -0.660</td> <td> 0.509</td> <td>   -0.927</td> <td>    0.460</td>\n",
       "</tr>\n",
       "<tr>\n",
       "  <th>tolazamide_Up</th>                   <td>   19.3359</td> <td> 1.41e+04</td> <td>    0.001</td> <td> 0.999</td> <td>-2.76e+04</td> <td> 2.77e+04</td>\n",
       "</tr>\n",
       "<tr>\n",
       "  <th>insulin_No</th>                      <td>   -0.2826</td> <td>    0.031</td> <td>   -9.200</td> <td> 0.000</td> <td>   -0.343</td> <td>   -0.222</td>\n",
       "</tr>\n",
       "<tr>\n",
       "  <th>insulin_Steady</th>                  <td>   -0.2440</td> <td>    0.027</td> <td>   -9.161</td> <td> 0.000</td> <td>   -0.296</td> <td>   -0.192</td>\n",
       "</tr>\n",
       "<tr>\n",
       "  <th>insulin_Up</th>                      <td>   -0.0706</td> <td>    0.027</td> <td>   -2.593</td> <td> 0.010</td> <td>   -0.124</td> <td>   -0.017</td>\n",
       "</tr>\n",
       "<tr>\n",
       "  <th>glyburide_metformin_No</th>          <td>    1.3768</td> <td>    1.113</td> <td>    1.237</td> <td> 0.216</td> <td>   -0.804</td> <td>    3.558</td>\n",
       "</tr>\n",
       "<tr>\n",
       "  <th>glyburide_metformin_Steady</th>      <td>    1.5669</td> <td>    1.115</td> <td>    1.405</td> <td> 0.160</td> <td>   -0.619</td> <td>    3.753</td>\n",
       "</tr>\n",
       "<tr>\n",
       "  <th>glyburide_metformin_Up</th>          <td>   -0.1653</td> <td>    1.549</td> <td>   -0.107</td> <td> 0.915</td> <td>   -3.201</td> <td>    2.871</td>\n",
       "</tr>\n",
       "<tr>\n",
       "  <th>glipizide_metformin_Steady</th>      <td>    0.7301</td> <td>    0.583</td> <td>    1.252</td> <td> 0.211</td> <td>   -0.413</td> <td>    1.873</td>\n",
       "</tr>\n",
       "<tr>\n",
       "  <th>glimepiride_pioglitazone_Steady</th> <td>   18.8460</td> <td> 1.19e+04</td> <td>    0.002</td> <td> 0.999</td> <td>-2.34e+04</td> <td> 2.34e+04</td>\n",
       "</tr>\n",
       "<tr>\n",
       "  <th>metformin_rosiglitazone_Steady</th>  <td>  -22.6258</td> <td> 6.57e+04</td> <td>   -0.000</td> <td> 1.000</td> <td>-1.29e+05</td> <td> 1.29e+05</td>\n",
       "</tr>\n",
       "<tr>\n",
       "  <th>metformin_pioglitazone_Steady</th>   <td>  -17.4569</td> <td> 8656.747</td> <td>   -0.002</td> <td> 0.998</td> <td> -1.7e+04</td> <td> 1.69e+04</td>\n",
       "</tr>\n",
       "<tr>\n",
       "  <th>change_No</th>                       <td>    0.0701</td> <td>    0.025</td> <td>    2.818</td> <td> 0.005</td> <td>    0.021</td> <td>    0.119</td>\n",
       "</tr>\n",
       "</table>"
      ],
      "text/latex": [
       "\\begin{center}\n",
       "\\begin{tabular}{lclc}\n",
       "\\toprule\n",
       "\\textbf{Dep. Variable:}                    &    readmitted    & \\textbf{  No. Observations:  } &   101763    \\\\\n",
       "\\textbf{Model:}                            &      Logit       & \\textbf{  Df Residuals:      } &   101704    \\\\\n",
       "\\textbf{Method:}                           &       MLE        & \\textbf{  Df Model:          } &       58    \\\\\n",
       "\\textbf{Date:}                             & Sat, 01 Mar 2025 & \\textbf{  Pseudo R-squ.:     } &  0.05352    \\\\\n",
       "\\textbf{Time:}                             &     16:45:37     & \\textbf{  Log-Likelihood:    } &   -66467.   \\\\\n",
       "\\textbf{converged:}                        &      False       & \\textbf{  LL-Null:           } &   -70225.   \\\\\n",
       "\\textbf{Covariance Type:}                  &    nonrobust     & \\textbf{  LLR p-value:       } &    0.000    \\\\\n",
       "\\bottomrule\n",
       "\\end{tabular}\n",
       "\\begin{tabular}{lcccccc}\n",
       "                                           & \\textbf{coef} & \\textbf{std err} & \\textbf{z} & \\textbf{P$> |$z$|$} & \\textbf{[0.025} & \\textbf{0.975]}  \\\\\n",
       "\\midrule\n",
       "\\textbf{Intercept}                         &      -1.3862  &     1778.058     &    -0.001  &         0.999        &    -3486.315    &     3483.543     \\\\\n",
       "\\textbf{time\\_in\\_hospital}                &       0.0119  &        0.003     &     4.653  &         0.000        &        0.007    &        0.017     \\\\\n",
       "\\textbf{num\\_lab\\_procedures}              &       0.0013  &        0.000     &     3.720  &         0.000        &        0.001    &        0.002     \\\\\n",
       "\\textbf{num\\_procedures}                   &      -0.0478  &        0.004     &   -11.259  &         0.000        &       -0.056    &       -0.039     \\\\\n",
       "\\textbf{num\\_medications}                  &       0.0006  &        0.001     &     0.536  &         0.592        &       -0.001    &        0.003     \\\\\n",
       "\\textbf{number\\_outpatient}                &       0.0844  &        0.006     &    14.029  &         0.000        &        0.073    &        0.096     \\\\\n",
       "\\textbf{number\\_emergency}                 &       0.2136  &        0.012     &    17.425  &         0.000        &        0.190    &        0.238     \\\\\n",
       "\\textbf{number\\_inpatient}                 &       0.3707  &        0.007     &    53.373  &         0.000        &        0.357    &        0.384     \\\\\n",
       "\\textbf{number\\_diagnoses}                 &       0.0819  &        0.004     &    22.692  &         0.000        &        0.075    &        0.089     \\\\\n",
       "\\textbf{gender\\_Male}                      &      -0.0524  &        0.013     &    -3.983  &         0.000        &       -0.078    &       -0.027     \\\\\n",
       "\\textbf{metformin\\_No}                     &      -0.0105  &        0.087     &    -0.121  &         0.904        &       -0.182    &        0.160     \\\\\n",
       "\\textbf{metformin\\_Steady}                 &      -0.0591  &        0.087     &    -0.675  &         0.499        &       -0.231    &        0.112     \\\\\n",
       "\\textbf{metformin\\_Up}                     &      -0.1495  &        0.107     &    -1.395  &         0.163        &       -0.359    &        0.060     \\\\\n",
       "\\textbf{repaglinide\\_No}                   &      -0.0582  &        0.306     &    -0.190  &         0.849        &       -0.659    &        0.542     \\\\\n",
       "\\textbf{repaglinide\\_Steady}               &       0.2275  &        0.311     &     0.731  &         0.465        &       -0.382    &        0.837     \\\\\n",
       "\\textbf{repaglinide\\_Up}                   &      -0.1024  &        0.364     &    -0.281  &         0.778        &       -0.815    &        0.611     \\\\\n",
       "\\textbf{nateglinide\\_No}                   &      -0.0560  &        0.612     &    -0.091  &         0.927        &       -1.256    &        1.144     \\\\\n",
       "\\textbf{nateglinide\\_Steady}               &       0.0772  &        0.617     &     0.125  &         0.901        &       -1.133    &        1.287     \\\\\n",
       "\\textbf{nateglinide\\_Up}                   &      -0.1737  &        0.751     &    -0.231  &         0.817        &       -1.646    &        1.299     \\\\\n",
       "\\textbf{chlorpropamide\\_No}                &      13.6182  &     1418.349     &     0.010  &         0.992        &    -2766.294    &     2793.531     \\\\\n",
       "\\textbf{chlorpropamide\\_Steady}            &      13.8500  &     1418.349     &     0.010  &         0.992        &    -2766.063    &     2793.763     \\\\\n",
       "\\textbf{chlorpropamide\\_Up}                &      15.4967  &     1418.349     &     0.011  &         0.991        &    -2764.417    &     2795.410     \\\\\n",
       "\\textbf{glimepiride\\_No}                   &      -0.1372  &        0.149     &    -0.923  &         0.356        &       -0.429    &        0.154     \\\\\n",
       "\\textbf{glimepiride\\_Steady}               &      -0.0158  &        0.151     &    -0.105  &         0.917        &       -0.312    &        0.280     \\\\\n",
       "\\textbf{glimepiride\\_Up}                   &      -0.2054  &        0.187     &    -1.097  &         0.273        &       -0.572    &        0.162     \\\\\n",
       "\\textbf{acetohexamide\\_Steady}             &      19.8749  &      1.7e+04     &     0.001  &         0.999        &    -3.32e+04    &     3.33e+04     \\\\\n",
       "\\textbf{glipizide\\_No}                     &      -0.3195  &        0.089     &    -3.582  &         0.000        &       -0.494    &       -0.145     \\\\\n",
       "\\textbf{glipizide\\_Steady}                 &      -0.1173  &        0.090     &    -1.306  &         0.192        &       -0.293    &        0.059     \\\\\n",
       "\\textbf{glipizide\\_Up}                     &      -0.0574  &        0.115     &    -0.501  &         0.617        &       -0.282    &        0.167     \\\\\n",
       "\\textbf{glyburide\\_No}                     &      -0.2460  &        0.089     &    -2.777  &         0.005        &       -0.420    &       -0.072     \\\\\n",
       "\\textbf{glyburide\\_Steady}                 &      -0.1095  &        0.090     &    -1.222  &         0.222        &       -0.285    &        0.066     \\\\\n",
       "\\textbf{glyburide\\_Up}                     &      -0.1541  &        0.113     &    -1.365  &         0.172        &       -0.375    &        0.067     \\\\\n",
       "\\textbf{tolbutamide\\_Steady}               &      -0.2697  &        0.444     &    -0.607  &         0.544        &       -1.140    &        0.600     \\\\\n",
       "\\textbf{pioglitazone\\_No}                  &      -0.2117  &        0.192     &    -1.100  &         0.271        &       -0.589    &        0.166     \\\\\n",
       "\\textbf{pioglitazone\\_Steady}              &      -0.0715  &        0.194     &    -0.369  &         0.712        &       -0.451    &        0.308     \\\\\n",
       "\\textbf{pioglitazone\\_Up}                  &       0.0487  &        0.234     &     0.208  &         0.835        &       -0.411    &        0.508     \\\\\n",
       "\\textbf{rosiglitazone\\_No}                 &       0.5437  &        0.238     &     2.285  &         0.022        &        0.077    &        1.010     \\\\\n",
       "\\textbf{rosiglitazone\\_Steady}             &       0.7445  &        0.239     &     3.115  &         0.002        &        0.276    &        1.213     \\\\\n",
       "\\textbf{rosiglitazone\\_Up}                 &       0.3074  &        0.286     &     1.076  &         0.282        &       -0.252    &        0.867     \\\\\n",
       "\\textbf{acarbose\\_No}                      &       0.8517  &        1.250     &     0.681  &         0.496        &       -1.598    &        3.302     \\\\\n",
       "\\textbf{acarbose\\_Steady}                  &       1.3108  &        1.256     &     1.044  &         0.297        &       -1.151    &        3.772     \\\\\n",
       "\\textbf{acarbose\\_Up}                      &       1.6900  &        1.411     &     1.198  &         0.231        &       -1.075    &        4.455     \\\\\n",
       "\\textbf{miglitol\\_No}                      &     -14.9402  &     1072.273     &    -0.014  &         0.989        &    -2116.556    &     2086.675     \\\\\n",
       "\\textbf{miglitol\\_Steady}                  &     -14.4509  &     1072.273     &    -0.013  &         0.989        &    -2116.067    &     2087.165     \\\\\n",
       "\\textbf{miglitol\\_Up}                      &     -15.0283  &     1072.274     &    -0.014  &         0.989        &    -2116.646    &     2086.589     \\\\\n",
       "\\textbf{troglitazone\\_Steady}              &       0.9182  &        1.225     &     0.749  &         0.454        &       -1.484    &        3.320     \\\\\n",
       "\\textbf{tolazamide\\_Steady}                &      -0.2335  &        0.354     &    -0.660  &         0.509        &       -0.927    &        0.460     \\\\\n",
       "\\textbf{tolazamide\\_Up}                    &      19.3359  &     1.41e+04     &     0.001  &         0.999        &    -2.76e+04    &     2.77e+04     \\\\\n",
       "\\textbf{insulin\\_No}                       &      -0.2826  &        0.031     &    -9.200  &         0.000        &       -0.343    &       -0.222     \\\\\n",
       "\\textbf{insulin\\_Steady}                   &      -0.2440  &        0.027     &    -9.161  &         0.000        &       -0.296    &       -0.192     \\\\\n",
       "\\textbf{insulin\\_Up}                       &      -0.0706  &        0.027     &    -2.593  &         0.010        &       -0.124    &       -0.017     \\\\\n",
       "\\textbf{glyburide\\_metformin\\_No}          &       1.3768  &        1.113     &     1.237  &         0.216        &       -0.804    &        3.558     \\\\\n",
       "\\textbf{glyburide\\_metformin\\_Steady}      &       1.5669  &        1.115     &     1.405  &         0.160        &       -0.619    &        3.753     \\\\\n",
       "\\textbf{glyburide\\_metformin\\_Up}          &      -0.1653  &        1.549     &    -0.107  &         0.915        &       -3.201    &        2.871     \\\\\n",
       "\\textbf{glipizide\\_metformin\\_Steady}      &       0.7301  &        0.583     &     1.252  &         0.211        &       -0.413    &        1.873     \\\\\n",
       "\\textbf{glimepiride\\_pioglitazone\\_Steady} &      18.8460  &     1.19e+04     &     0.002  &         0.999        &    -2.34e+04    &     2.34e+04     \\\\\n",
       "\\textbf{metformin\\_rosiglitazone\\_Steady}  &     -22.6258  &     6.57e+04     &    -0.000  &         1.000        &    -1.29e+05    &     1.29e+05     \\\\\n",
       "\\textbf{metformin\\_pioglitazone\\_Steady}   &     -17.4569  &     8656.747     &    -0.002  &         0.998        &     -1.7e+04    &     1.69e+04     \\\\\n",
       "\\textbf{change\\_No}                        &       0.0701  &        0.025     &     2.818  &         0.005        &        0.021    &        0.119     \\\\\n",
       "\\bottomrule\n",
       "\\end{tabular}\n",
       "%\\caption{Logit Regression Results}\n",
       "\\end{center}"
      ],
      "text/plain": [
       "<class 'statsmodels.iolib.summary.Summary'>\n",
       "\"\"\"\n",
       "                           Logit Regression Results                           \n",
       "==============================================================================\n",
       "Dep. Variable:             readmitted   No. Observations:               101763\n",
       "Model:                          Logit   Df Residuals:                   101704\n",
       "Method:                           MLE   Df Model:                           58\n",
       "Date:                Sat, 01 Mar 2025   Pseudo R-squ.:                 0.05352\n",
       "Time:                        16:45:37   Log-Likelihood:                -66467.\n",
       "converged:                      False   LL-Null:                       -70225.\n",
       "Covariance Type:            nonrobust   LLR p-value:                     0.000\n",
       "===================================================================================================\n",
       "                                      coef    std err          z      P>|z|      [0.025      0.975]\n",
       "---------------------------------------------------------------------------------------------------\n",
       "Intercept                          -1.3862   1778.058     -0.001      0.999   -3486.315    3483.543\n",
       "time_in_hospital                    0.0119      0.003      4.653      0.000       0.007       0.017\n",
       "num_lab_procedures                  0.0013      0.000      3.720      0.000       0.001       0.002\n",
       "num_procedures                     -0.0478      0.004    -11.259      0.000      -0.056      -0.039\n",
       "num_medications                     0.0006      0.001      0.536      0.592      -0.001       0.003\n",
       "number_outpatient                   0.0844      0.006     14.029      0.000       0.073       0.096\n",
       "number_emergency                    0.2136      0.012     17.425      0.000       0.190       0.238\n",
       "number_inpatient                    0.3707      0.007     53.373      0.000       0.357       0.384\n",
       "number_diagnoses                    0.0819      0.004     22.692      0.000       0.075       0.089\n",
       "gender_Male                        -0.0524      0.013     -3.983      0.000      -0.078      -0.027\n",
       "metformin_No                       -0.0105      0.087     -0.121      0.904      -0.182       0.160\n",
       "metformin_Steady                   -0.0591      0.087     -0.675      0.499      -0.231       0.112\n",
       "metformin_Up                       -0.1495      0.107     -1.395      0.163      -0.359       0.060\n",
       "repaglinide_No                     -0.0582      0.306     -0.190      0.849      -0.659       0.542\n",
       "repaglinide_Steady                  0.2275      0.311      0.731      0.465      -0.382       0.837\n",
       "repaglinide_Up                     -0.1024      0.364     -0.281      0.778      -0.815       0.611\n",
       "nateglinide_No                     -0.0560      0.612     -0.091      0.927      -1.256       1.144\n",
       "nateglinide_Steady                  0.0772      0.617      0.125      0.901      -1.133       1.287\n",
       "nateglinide_Up                     -0.1737      0.751     -0.231      0.817      -1.646       1.299\n",
       "chlorpropamide_No                  13.6182   1418.349      0.010      0.992   -2766.294    2793.531\n",
       "chlorpropamide_Steady              13.8500   1418.349      0.010      0.992   -2766.063    2793.763\n",
       "chlorpropamide_Up                  15.4967   1418.349      0.011      0.991   -2764.417    2795.410\n",
       "glimepiride_No                     -0.1372      0.149     -0.923      0.356      -0.429       0.154\n",
       "glimepiride_Steady                 -0.0158      0.151     -0.105      0.917      -0.312       0.280\n",
       "glimepiride_Up                     -0.2054      0.187     -1.097      0.273      -0.572       0.162\n",
       "acetohexamide_Steady               19.8749    1.7e+04      0.001      0.999   -3.32e+04    3.33e+04\n",
       "glipizide_No                       -0.3195      0.089     -3.582      0.000      -0.494      -0.145\n",
       "glipizide_Steady                   -0.1173      0.090     -1.306      0.192      -0.293       0.059\n",
       "glipizide_Up                       -0.0574      0.115     -0.501      0.617      -0.282       0.167\n",
       "glyburide_No                       -0.2460      0.089     -2.777      0.005      -0.420      -0.072\n",
       "glyburide_Steady                   -0.1095      0.090     -1.222      0.222      -0.285       0.066\n",
       "glyburide_Up                       -0.1541      0.113     -1.365      0.172      -0.375       0.067\n",
       "tolbutamide_Steady                 -0.2697      0.444     -0.607      0.544      -1.140       0.600\n",
       "pioglitazone_No                    -0.2117      0.192     -1.100      0.271      -0.589       0.166\n",
       "pioglitazone_Steady                -0.0715      0.194     -0.369      0.712      -0.451       0.308\n",
       "pioglitazone_Up                     0.0487      0.234      0.208      0.835      -0.411       0.508\n",
       "rosiglitazone_No                    0.5437      0.238      2.285      0.022       0.077       1.010\n",
       "rosiglitazone_Steady                0.7445      0.239      3.115      0.002       0.276       1.213\n",
       "rosiglitazone_Up                    0.3074      0.286      1.076      0.282      -0.252       0.867\n",
       "acarbose_No                         0.8517      1.250      0.681      0.496      -1.598       3.302\n",
       "acarbose_Steady                     1.3108      1.256      1.044      0.297      -1.151       3.772\n",
       "acarbose_Up                         1.6900      1.411      1.198      0.231      -1.075       4.455\n",
       "miglitol_No                       -14.9402   1072.273     -0.014      0.989   -2116.556    2086.675\n",
       "miglitol_Steady                   -14.4509   1072.273     -0.013      0.989   -2116.067    2087.165\n",
       "miglitol_Up                       -15.0283   1072.274     -0.014      0.989   -2116.646    2086.589\n",
       "troglitazone_Steady                 0.9182      1.225      0.749      0.454      -1.484       3.320\n",
       "tolazamide_Steady                  -0.2335      0.354     -0.660      0.509      -0.927       0.460\n",
       "tolazamide_Up                      19.3359   1.41e+04      0.001      0.999   -2.76e+04    2.77e+04\n",
       "insulin_No                         -0.2826      0.031     -9.200      0.000      -0.343      -0.222\n",
       "insulin_Steady                     -0.2440      0.027     -9.161      0.000      -0.296      -0.192\n",
       "insulin_Up                         -0.0706      0.027     -2.593      0.010      -0.124      -0.017\n",
       "glyburide_metformin_No              1.3768      1.113      1.237      0.216      -0.804       3.558\n",
       "glyburide_metformin_Steady          1.5669      1.115      1.405      0.160      -0.619       3.753\n",
       "glyburide_metformin_Up             -0.1653      1.549     -0.107      0.915      -3.201       2.871\n",
       "glipizide_metformin_Steady          0.7301      0.583      1.252      0.211      -0.413       1.873\n",
       "glimepiride_pioglitazone_Steady    18.8460   1.19e+04      0.002      0.999   -2.34e+04    2.34e+04\n",
       "metformin_rosiglitazone_Steady    -22.6258   6.57e+04     -0.000      1.000   -1.29e+05    1.29e+05\n",
       "metformin_pioglitazone_Steady     -17.4569   8656.747     -0.002      0.998    -1.7e+04    1.69e+04\n",
       "change_No                           0.0701      0.025      2.818      0.005       0.021       0.119\n",
       "===================================================================================================\n",
       "\"\"\""
      ]
     },
     "execution_count": 198,
     "metadata": {},
     "output_type": "execute_result"
    }
   ],
   "source": [
    "model.summary()"
   ]
  },
  {
   "cell_type": "markdown",
   "metadata": {},
   "source": [
    "## Backward selection"
   ]
  },
  {
   "cell_type": "code",
   "execution_count": null,
   "metadata": {},
   "outputs": [],
   "source": [
    "logit"
   ]
  },
  {
   "cell_type": "code",
   "execution_count": 202,
   "metadata": {},
   "outputs": [
    {
     "data": {
      "text/plain": [
       "np.float64(0.9993787174235189)"
      ]
     },
     "execution_count": 202,
     "metadata": {},
     "output_type": "execute_result"
    }
   ],
   "source": [
    "model.pvalues['Intercept']"
   ]
  },
  {
   "cell_type": "code",
   "execution_count": 206,
   "metadata": {},
   "outputs": [
    {
     "name": "stdout",
     "output_type": "stream",
     "text": [
      "Warning: Maximum number of iterations has been exceeded.\n",
      "         Current function value: 0.653163\n",
      "         Iterations: 35\n"
     ]
    },
    {
     "name": "stderr",
     "output_type": "stream",
     "text": [
      "c:\\Users\\Raffaele\\anaconda3\\envs\\fad\\Lib\\site-packages\\statsmodels\\base\\model.py:607: ConvergenceWarning: Maximum Likelihood optimization failed to converge. Check mle_retvals\n",
      "  warnings.warn(\"Maximum Likelihood optimization failed to \"\n"
     ]
    }
   ],
   "source": [
    "model = logit(formula + \" -1\", view).fit()"
   ]
  },
  {
   "cell_type": "code",
   "execution_count": 207,
   "metadata": {},
   "outputs": [
    {
     "data": {
      "text/html": [
       "<table class=\"simpletable\">\n",
       "<caption>Logit Regression Results</caption>\n",
       "<tr>\n",
       "  <th>Dep. Variable:</th>      <td>readmitted</td>    <th>  No. Observations:  </th>  <td>101763</td> \n",
       "</tr>\n",
       "<tr>\n",
       "  <th>Model:</th>                 <td>Logit</td>      <th>  Df Residuals:      </th>  <td>101706</td> \n",
       "</tr>\n",
       "<tr>\n",
       "  <th>Method:</th>                 <td>MLE</td>       <th>  Df Model:          </th>  <td>    56</td> \n",
       "</tr>\n",
       "<tr>\n",
       "  <th>Date:</th>            <td>Sat, 01 Mar 2025</td> <th>  Pseudo R-squ.:     </th>  <td>0.05350</td>\n",
       "</tr>\n",
       "<tr>\n",
       "  <th>Time:</th>                <td>16:55:33</td>     <th>  Log-Likelihood:    </th> <td> -66468.</td>\n",
       "</tr>\n",
       "<tr>\n",
       "  <th>converged:</th>             <td>False</td>      <th>  LL-Null:           </th> <td> -70225.</td>\n",
       "</tr>\n",
       "<tr>\n",
       "  <th>Covariance Type:</th>     <td>nonrobust</td>    <th>  LLR p-value:       </th>  <td> 0.000</td> \n",
       "</tr>\n",
       "</table>\n",
       "<table class=\"simpletable\">\n",
       "<tr>\n",
       "                 <td></td>                    <th>coef</th>     <th>std err</th>      <th>z</th>      <th>P>|z|</th>  <th>[0.025</th>    <th>0.975]</th>  \n",
       "</tr>\n",
       "<tr>\n",
       "  <th>time_in_hospital</th>                <td>    0.0119</td> <td>    0.003</td> <td>    4.659</td> <td> 0.000</td> <td>    0.007</td> <td>    0.017</td>\n",
       "</tr>\n",
       "<tr>\n",
       "  <th>num_lab_procedures</th>              <td>    0.0013</td> <td>    0.000</td> <td>    3.719</td> <td> 0.000</td> <td>    0.001</td> <td>    0.002</td>\n",
       "</tr>\n",
       "<tr>\n",
       "  <th>num_procedures</th>                  <td>   -0.0478</td> <td>    0.004</td> <td>  -11.260</td> <td> 0.000</td> <td>   -0.056</td> <td>   -0.039</td>\n",
       "</tr>\n",
       "<tr>\n",
       "  <th>num_medications</th>                 <td>    0.0005</td> <td>    0.001</td> <td>    0.528</td> <td> 0.598</td> <td>   -0.001</td> <td>    0.003</td>\n",
       "</tr>\n",
       "<tr>\n",
       "  <th>number_outpatient</th>               <td>    0.0844</td> <td>    0.006</td> <td>   14.031</td> <td> 0.000</td> <td>    0.073</td> <td>    0.096</td>\n",
       "</tr>\n",
       "<tr>\n",
       "  <th>number_emergency</th>                <td>    0.2137</td> <td>    0.012</td> <td>   17.426</td> <td> 0.000</td> <td>    0.190</td> <td>    0.238</td>\n",
       "</tr>\n",
       "<tr>\n",
       "  <th>number_inpatient</th>                <td>    0.3707</td> <td>    0.007</td> <td>   53.374</td> <td> 0.000</td> <td>    0.357</td> <td>    0.384</td>\n",
       "</tr>\n",
       "<tr>\n",
       "  <th>number_diagnoses</th>                <td>    0.0819</td> <td>    0.004</td> <td>   22.689</td> <td> 0.000</td> <td>    0.075</td> <td>    0.089</td>\n",
       "</tr>\n",
       "<tr>\n",
       "  <th>gender_Male</th>                     <td>   -0.0525</td> <td>    0.013</td> <td>   -3.989</td> <td> 0.000</td> <td>   -0.078</td> <td>   -0.027</td>\n",
       "</tr>\n",
       "<tr>\n",
       "  <th>metformin_No</th>                    <td>   -0.0106</td> <td>    0.087</td> <td>   -0.122</td> <td> 0.903</td> <td>   -0.182</td> <td>    0.160</td>\n",
       "</tr>\n",
       "<tr>\n",
       "  <th>metformin_Steady</th>                <td>   -0.0592</td> <td>    0.087</td> <td>   -0.677</td> <td> 0.498</td> <td>   -0.231</td> <td>    0.112</td>\n",
       "</tr>\n",
       "<tr>\n",
       "  <th>metformin_Up</th>                    <td>   -0.1495</td> <td>    0.107</td> <td>   -1.396</td> <td> 0.163</td> <td>   -0.359</td> <td>    0.060</td>\n",
       "</tr>\n",
       "<tr>\n",
       "  <th>repaglinide_No</th>                  <td>   -0.0583</td> <td>    0.306</td> <td>   -0.190</td> <td> 0.849</td> <td>   -0.659</td> <td>    0.542</td>\n",
       "</tr>\n",
       "<tr>\n",
       "  <th>repaglinide_Steady</th>              <td>    0.2275</td> <td>    0.311</td> <td>    0.731</td> <td> 0.465</td> <td>   -0.382</td> <td>    0.837</td>\n",
       "</tr>\n",
       "<tr>\n",
       "  <th>repaglinide_Up</th>                  <td>   -0.1024</td> <td>    0.364</td> <td>   -0.282</td> <td> 0.778</td> <td>   -0.815</td> <td>    0.611</td>\n",
       "</tr>\n",
       "<tr>\n",
       "  <th>nateglinide_No</th>                  <td>   -0.0561</td> <td>    0.612</td> <td>   -0.092</td> <td> 0.927</td> <td>   -1.257</td> <td>    1.144</td>\n",
       "</tr>\n",
       "<tr>\n",
       "  <th>nateglinide_Steady</th>              <td>    0.0771</td> <td>    0.617</td> <td>    0.125</td> <td> 0.901</td> <td>   -1.133</td> <td>    1.287</td>\n",
       "</tr>\n",
       "<tr>\n",
       "  <th>nateglinide_Up</th>                  <td>   -0.1737</td> <td>    0.751</td> <td>   -0.231</td> <td> 0.817</td> <td>   -1.646</td> <td>    1.299</td>\n",
       "</tr>\n",
       "<tr>\n",
       "  <th>chlorpropamide_No</th>               <td>  236.4769</td> <td>  2.5e+05</td> <td>    0.001</td> <td> 0.999</td> <td> -4.9e+05</td> <td>  4.9e+05</td>\n",
       "</tr>\n",
       "<tr>\n",
       "  <th>chlorpropamide_Steady</th>           <td>  236.7088</td> <td>  2.5e+05</td> <td>    0.001</td> <td> 0.999</td> <td> -4.9e+05</td> <td>  4.9e+05</td>\n",
       "</tr>\n",
       "<tr>\n",
       "  <th>chlorpropamide_Up</th>               <td>  238.3555</td> <td>  2.5e+05</td> <td>    0.001</td> <td> 0.999</td> <td> -4.9e+05</td> <td>  4.9e+05</td>\n",
       "</tr>\n",
       "<tr>\n",
       "  <th>glimepiride_No</th>                  <td>   -0.1374</td> <td>    0.149</td> <td>   -0.924</td> <td> 0.355</td> <td>   -0.429</td> <td>    0.154</td>\n",
       "</tr>\n",
       "<tr>\n",
       "  <th>glimepiride_Steady</th>              <td>   -0.0159</td> <td>    0.151</td> <td>   -0.105</td> <td> 0.916</td> <td>   -0.312</td> <td>    0.280</td>\n",
       "</tr>\n",
       "<tr>\n",
       "  <th>glimepiride_Up</th>                  <td>   -0.2054</td> <td>    0.187</td> <td>   -1.097</td> <td> 0.273</td> <td>   -0.572</td> <td>    0.162</td>\n",
       "</tr>\n",
       "<tr>\n",
       "  <th>acetohexamide_Steady</th>            <td>   19.9489</td> <td> 1.76e+04</td> <td>    0.001</td> <td> 0.999</td> <td>-3.45e+04</td> <td> 3.45e+04</td>\n",
       "</tr>\n",
       "<tr>\n",
       "  <th>glipizide_No</th>                    <td>   -0.3196</td> <td>    0.089</td> <td>   -3.584</td> <td> 0.000</td> <td>   -0.494</td> <td>   -0.145</td>\n",
       "</tr>\n",
       "<tr>\n",
       "  <th>glipizide_Steady</th>                <td>   -0.1174</td> <td>    0.090</td> <td>   -1.307</td> <td> 0.191</td> <td>   -0.293</td> <td>    0.059</td>\n",
       "</tr>\n",
       "<tr>\n",
       "  <th>glipizide_Up</th>                    <td>   -0.0574</td> <td>    0.115</td> <td>   -0.501</td> <td> 0.617</td> <td>   -0.282</td> <td>    0.167</td>\n",
       "</tr>\n",
       "<tr>\n",
       "  <th>glyburide_No</th>                    <td>   -0.2462</td> <td>    0.089</td> <td>   -2.779</td> <td> 0.005</td> <td>   -0.420</td> <td>   -0.073</td>\n",
       "</tr>\n",
       "<tr>\n",
       "  <th>glyburide_Steady</th>                <td>   -0.1095</td> <td>    0.090</td> <td>   -1.223</td> <td> 0.221</td> <td>   -0.285</td> <td>    0.066</td>\n",
       "</tr>\n",
       "<tr>\n",
       "  <th>glyburide_Up</th>                    <td>   -0.1541</td> <td>    0.113</td> <td>   -1.365</td> <td> 0.172</td> <td>   -0.375</td> <td>    0.067</td>\n",
       "</tr>\n",
       "<tr>\n",
       "  <th>tolbutamide_Steady</th>              <td>   -0.2696</td> <td>    0.444</td> <td>   -0.607</td> <td> 0.544</td> <td>   -1.140</td> <td>    0.601</td>\n",
       "</tr>\n",
       "<tr>\n",
       "  <th>pioglitazone_No</th>                 <td>   -0.2118</td> <td>    0.192</td> <td>   -1.100</td> <td> 0.271</td> <td>   -0.589</td> <td>    0.165</td>\n",
       "</tr>\n",
       "<tr>\n",
       "  <th>pioglitazone_Steady</th>             <td>   -0.0715</td> <td>    0.194</td> <td>   -0.369</td> <td> 0.712</td> <td>   -0.451</td> <td>    0.308</td>\n",
       "</tr>\n",
       "<tr>\n",
       "  <th>pioglitazone_Up</th>                 <td>    0.0487</td> <td>    0.234</td> <td>    0.208</td> <td> 0.835</td> <td>   -0.411</td> <td>    0.508</td>\n",
       "</tr>\n",
       "<tr>\n",
       "  <th>rosiglitazone_No</th>                <td>    0.5436</td> <td>    0.238</td> <td>    2.285</td> <td> 0.022</td> <td>    0.077</td> <td>    1.010</td>\n",
       "</tr>\n",
       "<tr>\n",
       "  <th>rosiglitazone_Steady</th>            <td>    0.7445</td> <td>    0.239</td> <td>    3.115</td> <td> 0.002</td> <td>    0.276</td> <td>    1.213</td>\n",
       "</tr>\n",
       "<tr>\n",
       "  <th>rosiglitazone_Up</th>                <td>    0.3073</td> <td>    0.286</td> <td>    1.076</td> <td> 0.282</td> <td>   -0.253</td> <td>    0.867</td>\n",
       "</tr>\n",
       "<tr>\n",
       "  <th>acarbose_No</th>                     <td>    0.8518</td> <td>    1.250</td> <td>    0.681</td> <td> 0.496</td> <td>   -1.598</td> <td>    3.302</td>\n",
       "</tr>\n",
       "<tr>\n",
       "  <th>acarbose_Steady</th>                 <td>    1.3109</td> <td>    1.256</td> <td>    1.044</td> <td> 0.297</td> <td>   -1.151</td> <td>    3.773</td>\n",
       "</tr>\n",
       "<tr>\n",
       "  <th>acarbose_Up</th>                     <td>    1.6902</td> <td>    1.411</td> <td>    1.198</td> <td> 0.231</td> <td>   -1.075</td> <td>    4.455</td>\n",
       "</tr>\n",
       "<tr>\n",
       "  <th>miglitol_No</th>                     <td> -239.1840</td> <td>  2.5e+05</td> <td>   -0.001</td> <td> 0.999</td> <td> -4.9e+05</td> <td>  4.9e+05</td>\n",
       "</tr>\n",
       "<tr>\n",
       "  <th>miglitol_Steady</th>                 <td> -238.6945</td> <td>  2.5e+05</td> <td>   -0.001</td> <td> 0.999</td> <td> -4.9e+05</td> <td>  4.9e+05</td>\n",
       "</tr>\n",
       "<tr>\n",
       "  <th>miglitol_Up</th>                     <td> -239.2720</td> <td>  2.5e+05</td> <td>   -0.001</td> <td> 0.999</td> <td> -4.9e+05</td> <td>  4.9e+05</td>\n",
       "</tr>\n",
       "<tr>\n",
       "  <th>troglitazone_Steady</th>             <td>    0.9183</td> <td>    1.225</td> <td>    0.749</td> <td> 0.454</td> <td>   -1.484</td> <td>    3.320</td>\n",
       "</tr>\n",
       "<tr>\n",
       "  <th>tolazamide_Steady</th>               <td>   -0.2334</td> <td>    0.354</td> <td>   -0.660</td> <td> 0.509</td> <td>   -0.927</td> <td>    0.460</td>\n",
       "</tr>\n",
       "<tr>\n",
       "  <th>tolazamide_Up</th>                   <td>   19.4234</td> <td> 1.47e+04</td> <td>    0.001</td> <td> 0.999</td> <td>-2.89e+04</td> <td> 2.89e+04</td>\n",
       "</tr>\n",
       "<tr>\n",
       "  <th>insulin_No</th>                      <td>   -0.2826</td> <td>    0.031</td> <td>   -9.202</td> <td> 0.000</td> <td>   -0.343</td> <td>   -0.222</td>\n",
       "</tr>\n",
       "<tr>\n",
       "  <th>insulin_Steady</th>                  <td>   -0.2440</td> <td>    0.027</td> <td>   -9.163</td> <td> 0.000</td> <td>   -0.296</td> <td>   -0.192</td>\n",
       "</tr>\n",
       "<tr>\n",
       "  <th>insulin_Up</th>                      <td>   -0.0704</td> <td>    0.027</td> <td>   -2.588</td> <td> 0.010</td> <td>   -0.124</td> <td>   -0.017</td>\n",
       "</tr>\n",
       "<tr>\n",
       "  <th>glyburide_metformin_No</th>          <td>    1.3767</td> <td>    1.113</td> <td>    1.237</td> <td> 0.216</td> <td>   -0.804</td> <td>    3.558</td>\n",
       "</tr>\n",
       "<tr>\n",
       "  <th>glyburide_metformin_Steady</th>      <td>    1.5669</td> <td>    1.115</td> <td>    1.405</td> <td> 0.160</td> <td>   -0.619</td> <td>    3.753</td>\n",
       "</tr>\n",
       "<tr>\n",
       "  <th>glyburide_metformin_Up</th>          <td>   -0.1652</td> <td>    1.549</td> <td>   -0.107</td> <td> 0.915</td> <td>   -3.201</td> <td>    2.871</td>\n",
       "</tr>\n",
       "<tr>\n",
       "  <th>glipizide_metformin_Steady</th>      <td>    0.7302</td> <td>    0.583</td> <td>    1.252</td> <td> 0.210</td> <td>   -0.413</td> <td>    1.873</td>\n",
       "</tr>\n",
       "<tr>\n",
       "  <th>glimepiride_pioglitazone_Steady</th> <td>   18.8939</td> <td> 1.22e+04</td> <td>    0.002</td> <td> 0.999</td> <td>-2.39e+04</td> <td>  2.4e+04</td>\n",
       "</tr>\n",
       "<tr>\n",
       "  <th>metformin_pioglitazone_Steady</th>   <td>  -17.5119</td> <td> 8897.735</td> <td>   -0.002</td> <td> 0.998</td> <td>-1.75e+04</td> <td> 1.74e+04</td>\n",
       "</tr>\n",
       "<tr>\n",
       "  <th>change_No</th>                       <td>    0.0702</td> <td>    0.025</td> <td>    2.824</td> <td> 0.005</td> <td>    0.021</td> <td>    0.119</td>\n",
       "</tr>\n",
       "</table>"
      ],
      "text/latex": [
       "\\begin{center}\n",
       "\\begin{tabular}{lclc}\n",
       "\\toprule\n",
       "\\textbf{Dep. Variable:}                    &    readmitted    & \\textbf{  No. Observations:  } &   101763    \\\\\n",
       "\\textbf{Model:}                            &      Logit       & \\textbf{  Df Residuals:      } &   101706    \\\\\n",
       "\\textbf{Method:}                           &       MLE        & \\textbf{  Df Model:          } &       56    \\\\\n",
       "\\textbf{Date:}                             & Sat, 01 Mar 2025 & \\textbf{  Pseudo R-squ.:     } &  0.05350    \\\\\n",
       "\\textbf{Time:}                             &     16:55:33     & \\textbf{  Log-Likelihood:    } &   -66468.   \\\\\n",
       "\\textbf{converged:}                        &      False       & \\textbf{  LL-Null:           } &   -70225.   \\\\\n",
       "\\textbf{Covariance Type:}                  &    nonrobust     & \\textbf{  LLR p-value:       } &    0.000    \\\\\n",
       "\\bottomrule\n",
       "\\end{tabular}\n",
       "\\begin{tabular}{lcccccc}\n",
       "                                           & \\textbf{coef} & \\textbf{std err} & \\textbf{z} & \\textbf{P$> |$z$|$} & \\textbf{[0.025} & \\textbf{0.975]}  \\\\\n",
       "\\midrule\n",
       "\\textbf{time\\_in\\_hospital}                &       0.0119  &        0.003     &     4.659  &         0.000        &        0.007    &        0.017     \\\\\n",
       "\\textbf{num\\_lab\\_procedures}              &       0.0013  &        0.000     &     3.719  &         0.000        &        0.001    &        0.002     \\\\\n",
       "\\textbf{num\\_procedures}                   &      -0.0478  &        0.004     &   -11.260  &         0.000        &       -0.056    &       -0.039     \\\\\n",
       "\\textbf{num\\_medications}                  &       0.0005  &        0.001     &     0.528  &         0.598        &       -0.001    &        0.003     \\\\\n",
       "\\textbf{number\\_outpatient}                &       0.0844  &        0.006     &    14.031  &         0.000        &        0.073    &        0.096     \\\\\n",
       "\\textbf{number\\_emergency}                 &       0.2137  &        0.012     &    17.426  &         0.000        &        0.190    &        0.238     \\\\\n",
       "\\textbf{number\\_inpatient}                 &       0.3707  &        0.007     &    53.374  &         0.000        &        0.357    &        0.384     \\\\\n",
       "\\textbf{number\\_diagnoses}                 &       0.0819  &        0.004     &    22.689  &         0.000        &        0.075    &        0.089     \\\\\n",
       "\\textbf{gender\\_Male}                      &      -0.0525  &        0.013     &    -3.989  &         0.000        &       -0.078    &       -0.027     \\\\\n",
       "\\textbf{metformin\\_No}                     &      -0.0106  &        0.087     &    -0.122  &         0.903        &       -0.182    &        0.160     \\\\\n",
       "\\textbf{metformin\\_Steady}                 &      -0.0592  &        0.087     &    -0.677  &         0.498        &       -0.231    &        0.112     \\\\\n",
       "\\textbf{metformin\\_Up}                     &      -0.1495  &        0.107     &    -1.396  &         0.163        &       -0.359    &        0.060     \\\\\n",
       "\\textbf{repaglinide\\_No}                   &      -0.0583  &        0.306     &    -0.190  &         0.849        &       -0.659    &        0.542     \\\\\n",
       "\\textbf{repaglinide\\_Steady}               &       0.2275  &        0.311     &     0.731  &         0.465        &       -0.382    &        0.837     \\\\\n",
       "\\textbf{repaglinide\\_Up}                   &      -0.1024  &        0.364     &    -0.282  &         0.778        &       -0.815    &        0.611     \\\\\n",
       "\\textbf{nateglinide\\_No}                   &      -0.0561  &        0.612     &    -0.092  &         0.927        &       -1.257    &        1.144     \\\\\n",
       "\\textbf{nateglinide\\_Steady}               &       0.0771  &        0.617     &     0.125  &         0.901        &       -1.133    &        1.287     \\\\\n",
       "\\textbf{nateglinide\\_Up}                   &      -0.1737  &        0.751     &    -0.231  &         0.817        &       -1.646    &        1.299     \\\\\n",
       "\\textbf{chlorpropamide\\_No}                &     236.4769  &      2.5e+05     &     0.001  &         0.999        &     -4.9e+05    &      4.9e+05     \\\\\n",
       "\\textbf{chlorpropamide\\_Steady}            &     236.7088  &      2.5e+05     &     0.001  &         0.999        &     -4.9e+05    &      4.9e+05     \\\\\n",
       "\\textbf{chlorpropamide\\_Up}                &     238.3555  &      2.5e+05     &     0.001  &         0.999        &     -4.9e+05    &      4.9e+05     \\\\\n",
       "\\textbf{glimepiride\\_No}                   &      -0.1374  &        0.149     &    -0.924  &         0.355        &       -0.429    &        0.154     \\\\\n",
       "\\textbf{glimepiride\\_Steady}               &      -0.0159  &        0.151     &    -0.105  &         0.916        &       -0.312    &        0.280     \\\\\n",
       "\\textbf{glimepiride\\_Up}                   &      -0.2054  &        0.187     &    -1.097  &         0.273        &       -0.572    &        0.162     \\\\\n",
       "\\textbf{acetohexamide\\_Steady}             &      19.9489  &     1.76e+04     &     0.001  &         0.999        &    -3.45e+04    &     3.45e+04     \\\\\n",
       "\\textbf{glipizide\\_No}                     &      -0.3196  &        0.089     &    -3.584  &         0.000        &       -0.494    &       -0.145     \\\\\n",
       "\\textbf{glipizide\\_Steady}                 &      -0.1174  &        0.090     &    -1.307  &         0.191        &       -0.293    &        0.059     \\\\\n",
       "\\textbf{glipizide\\_Up}                     &      -0.0574  &        0.115     &    -0.501  &         0.617        &       -0.282    &        0.167     \\\\\n",
       "\\textbf{glyburide\\_No}                     &      -0.2462  &        0.089     &    -2.779  &         0.005        &       -0.420    &       -0.073     \\\\\n",
       "\\textbf{glyburide\\_Steady}                 &      -0.1095  &        0.090     &    -1.223  &         0.221        &       -0.285    &        0.066     \\\\\n",
       "\\textbf{glyburide\\_Up}                     &      -0.1541  &        0.113     &    -1.365  &         0.172        &       -0.375    &        0.067     \\\\\n",
       "\\textbf{tolbutamide\\_Steady}               &      -0.2696  &        0.444     &    -0.607  &         0.544        &       -1.140    &        0.601     \\\\\n",
       "\\textbf{pioglitazone\\_No}                  &      -0.2118  &        0.192     &    -1.100  &         0.271        &       -0.589    &        0.165     \\\\\n",
       "\\textbf{pioglitazone\\_Steady}              &      -0.0715  &        0.194     &    -0.369  &         0.712        &       -0.451    &        0.308     \\\\\n",
       "\\textbf{pioglitazone\\_Up}                  &       0.0487  &        0.234     &     0.208  &         0.835        &       -0.411    &        0.508     \\\\\n",
       "\\textbf{rosiglitazone\\_No}                 &       0.5436  &        0.238     &     2.285  &         0.022        &        0.077    &        1.010     \\\\\n",
       "\\textbf{rosiglitazone\\_Steady}             &       0.7445  &        0.239     &     3.115  &         0.002        &        0.276    &        1.213     \\\\\n",
       "\\textbf{rosiglitazone\\_Up}                 &       0.3073  &        0.286     &     1.076  &         0.282        &       -0.253    &        0.867     \\\\\n",
       "\\textbf{acarbose\\_No}                      &       0.8518  &        1.250     &     0.681  &         0.496        &       -1.598    &        3.302     \\\\\n",
       "\\textbf{acarbose\\_Steady}                  &       1.3109  &        1.256     &     1.044  &         0.297        &       -1.151    &        3.773     \\\\\n",
       "\\textbf{acarbose\\_Up}                      &       1.6902  &        1.411     &     1.198  &         0.231        &       -1.075    &        4.455     \\\\\n",
       "\\textbf{miglitol\\_No}                      &    -239.1840  &      2.5e+05     &    -0.001  &         0.999        &     -4.9e+05    &      4.9e+05     \\\\\n",
       "\\textbf{miglitol\\_Steady}                  &    -238.6945  &      2.5e+05     &    -0.001  &         0.999        &     -4.9e+05    &      4.9e+05     \\\\\n",
       "\\textbf{miglitol\\_Up}                      &    -239.2720  &      2.5e+05     &    -0.001  &         0.999        &     -4.9e+05    &      4.9e+05     \\\\\n",
       "\\textbf{troglitazone\\_Steady}              &       0.9183  &        1.225     &     0.749  &         0.454        &       -1.484    &        3.320     \\\\\n",
       "\\textbf{tolazamide\\_Steady}                &      -0.2334  &        0.354     &    -0.660  &         0.509        &       -0.927    &        0.460     \\\\\n",
       "\\textbf{tolazamide\\_Up}                    &      19.4234  &     1.47e+04     &     0.001  &         0.999        &    -2.89e+04    &     2.89e+04     \\\\\n",
       "\\textbf{insulin\\_No}                       &      -0.2826  &        0.031     &    -9.202  &         0.000        &       -0.343    &       -0.222     \\\\\n",
       "\\textbf{insulin\\_Steady}                   &      -0.2440  &        0.027     &    -9.163  &         0.000        &       -0.296    &       -0.192     \\\\\n",
       "\\textbf{insulin\\_Up}                       &      -0.0704  &        0.027     &    -2.588  &         0.010        &       -0.124    &       -0.017     \\\\\n",
       "\\textbf{glyburide\\_metformin\\_No}          &       1.3767  &        1.113     &     1.237  &         0.216        &       -0.804    &        3.558     \\\\\n",
       "\\textbf{glyburide\\_metformin\\_Steady}      &       1.5669  &        1.115     &     1.405  &         0.160        &       -0.619    &        3.753     \\\\\n",
       "\\textbf{glyburide\\_metformin\\_Up}          &      -0.1652  &        1.549     &    -0.107  &         0.915        &       -3.201    &        2.871     \\\\\n",
       "\\textbf{glipizide\\_metformin\\_Steady}      &       0.7302  &        0.583     &     1.252  &         0.210        &       -0.413    &        1.873     \\\\\n",
       "\\textbf{glimepiride\\_pioglitazone\\_Steady} &      18.8939  &     1.22e+04     &     0.002  &         0.999        &    -2.39e+04    &      2.4e+04     \\\\\n",
       "\\textbf{metformin\\_pioglitazone\\_Steady}   &     -17.5119  &     8897.735     &    -0.002  &         0.998        &    -1.75e+04    &     1.74e+04     \\\\\n",
       "\\textbf{change\\_No}                        &       0.0702  &        0.025     &     2.824  &         0.005        &        0.021    &        0.119     \\\\\n",
       "\\bottomrule\n",
       "\\end{tabular}\n",
       "%\\caption{Logit Regression Results}\n",
       "\\end{center}"
      ],
      "text/plain": [
       "<class 'statsmodels.iolib.summary.Summary'>\n",
       "\"\"\"\n",
       "                           Logit Regression Results                           \n",
       "==============================================================================\n",
       "Dep. Variable:             readmitted   No. Observations:               101763\n",
       "Model:                          Logit   Df Residuals:                   101706\n",
       "Method:                           MLE   Df Model:                           56\n",
       "Date:                Sat, 01 Mar 2025   Pseudo R-squ.:                 0.05350\n",
       "Time:                        16:55:33   Log-Likelihood:                -66468.\n",
       "converged:                      False   LL-Null:                       -70225.\n",
       "Covariance Type:            nonrobust   LLR p-value:                     0.000\n",
       "===================================================================================================\n",
       "                                      coef    std err          z      P>|z|      [0.025      0.975]\n",
       "---------------------------------------------------------------------------------------------------\n",
       "time_in_hospital                    0.0119      0.003      4.659      0.000       0.007       0.017\n",
       "num_lab_procedures                  0.0013      0.000      3.719      0.000       0.001       0.002\n",
       "num_procedures                     -0.0478      0.004    -11.260      0.000      -0.056      -0.039\n",
       "num_medications                     0.0005      0.001      0.528      0.598      -0.001       0.003\n",
       "number_outpatient                   0.0844      0.006     14.031      0.000       0.073       0.096\n",
       "number_emergency                    0.2137      0.012     17.426      0.000       0.190       0.238\n",
       "number_inpatient                    0.3707      0.007     53.374      0.000       0.357       0.384\n",
       "number_diagnoses                    0.0819      0.004     22.689      0.000       0.075       0.089\n",
       "gender_Male                        -0.0525      0.013     -3.989      0.000      -0.078      -0.027\n",
       "metformin_No                       -0.0106      0.087     -0.122      0.903      -0.182       0.160\n",
       "metformin_Steady                   -0.0592      0.087     -0.677      0.498      -0.231       0.112\n",
       "metformin_Up                       -0.1495      0.107     -1.396      0.163      -0.359       0.060\n",
       "repaglinide_No                     -0.0583      0.306     -0.190      0.849      -0.659       0.542\n",
       "repaglinide_Steady                  0.2275      0.311      0.731      0.465      -0.382       0.837\n",
       "repaglinide_Up                     -0.1024      0.364     -0.282      0.778      -0.815       0.611\n",
       "nateglinide_No                     -0.0561      0.612     -0.092      0.927      -1.257       1.144\n",
       "nateglinide_Steady                  0.0771      0.617      0.125      0.901      -1.133       1.287\n",
       "nateglinide_Up                     -0.1737      0.751     -0.231      0.817      -1.646       1.299\n",
       "chlorpropamide_No                 236.4769    2.5e+05      0.001      0.999    -4.9e+05     4.9e+05\n",
       "chlorpropamide_Steady             236.7088    2.5e+05      0.001      0.999    -4.9e+05     4.9e+05\n",
       "chlorpropamide_Up                 238.3555    2.5e+05      0.001      0.999    -4.9e+05     4.9e+05\n",
       "glimepiride_No                     -0.1374      0.149     -0.924      0.355      -0.429       0.154\n",
       "glimepiride_Steady                 -0.0159      0.151     -0.105      0.916      -0.312       0.280\n",
       "glimepiride_Up                     -0.2054      0.187     -1.097      0.273      -0.572       0.162\n",
       "acetohexamide_Steady               19.9489   1.76e+04      0.001      0.999   -3.45e+04    3.45e+04\n",
       "glipizide_No                       -0.3196      0.089     -3.584      0.000      -0.494      -0.145\n",
       "glipizide_Steady                   -0.1174      0.090     -1.307      0.191      -0.293       0.059\n",
       "glipizide_Up                       -0.0574      0.115     -0.501      0.617      -0.282       0.167\n",
       "glyburide_No                       -0.2462      0.089     -2.779      0.005      -0.420      -0.073\n",
       "glyburide_Steady                   -0.1095      0.090     -1.223      0.221      -0.285       0.066\n",
       "glyburide_Up                       -0.1541      0.113     -1.365      0.172      -0.375       0.067\n",
       "tolbutamide_Steady                 -0.2696      0.444     -0.607      0.544      -1.140       0.601\n",
       "pioglitazone_No                    -0.2118      0.192     -1.100      0.271      -0.589       0.165\n",
       "pioglitazone_Steady                -0.0715      0.194     -0.369      0.712      -0.451       0.308\n",
       "pioglitazone_Up                     0.0487      0.234      0.208      0.835      -0.411       0.508\n",
       "rosiglitazone_No                    0.5436      0.238      2.285      0.022       0.077       1.010\n",
       "rosiglitazone_Steady                0.7445      0.239      3.115      0.002       0.276       1.213\n",
       "rosiglitazone_Up                    0.3073      0.286      1.076      0.282      -0.253       0.867\n",
       "acarbose_No                         0.8518      1.250      0.681      0.496      -1.598       3.302\n",
       "acarbose_Steady                     1.3109      1.256      1.044      0.297      -1.151       3.773\n",
       "acarbose_Up                         1.6902      1.411      1.198      0.231      -1.075       4.455\n",
       "miglitol_No                      -239.1840    2.5e+05     -0.001      0.999    -4.9e+05     4.9e+05\n",
       "miglitol_Steady                  -238.6945    2.5e+05     -0.001      0.999    -4.9e+05     4.9e+05\n",
       "miglitol_Up                      -239.2720    2.5e+05     -0.001      0.999    -4.9e+05     4.9e+05\n",
       "troglitazone_Steady                 0.9183      1.225      0.749      0.454      -1.484       3.320\n",
       "tolazamide_Steady                  -0.2334      0.354     -0.660      0.509      -0.927       0.460\n",
       "tolazamide_Up                      19.4234   1.47e+04      0.001      0.999   -2.89e+04    2.89e+04\n",
       "insulin_No                         -0.2826      0.031     -9.202      0.000      -0.343      -0.222\n",
       "insulin_Steady                     -0.2440      0.027     -9.163      0.000      -0.296      -0.192\n",
       "insulin_Up                         -0.0704      0.027     -2.588      0.010      -0.124      -0.017\n",
       "glyburide_metformin_No              1.3767      1.113      1.237      0.216      -0.804       3.558\n",
       "glyburide_metformin_Steady          1.5669      1.115      1.405      0.160      -0.619       3.753\n",
       "glyburide_metformin_Up             -0.1652      1.549     -0.107      0.915      -3.201       2.871\n",
       "glipizide_metformin_Steady          0.7302      0.583      1.252      0.210      -0.413       1.873\n",
       "glimepiride_pioglitazone_Steady    18.8939   1.22e+04      0.002      0.999   -2.39e+04     2.4e+04\n",
       "metformin_pioglitazone_Steady     -17.5119   8897.735     -0.002      0.998   -1.75e+04    1.74e+04\n",
       "change_No                           0.0702      0.025      2.824      0.005       0.021       0.119\n",
       "===================================================================================================\n",
       "\"\"\""
      ]
     },
     "execution_count": 207,
     "metadata": {},
     "output_type": "execute_result"
    }
   ],
   "source": [
    "model.summary()"
   ]
  },
  {
   "cell_type": "code",
   "execution_count": 200,
   "metadata": {},
   "outputs": [
    {
     "name": "stdout",
     "output_type": "stream",
     "text": [
      "Warning: Maximum number of iterations has been exceeded.\n",
      "         Current function value: 0.653163\n",
      "         Iterations: 35\n"
     ]
    },
    {
     "name": "stderr",
     "output_type": "stream",
     "text": [
      "c:\\Users\\Raffaele\\anaconda3\\envs\\fad\\Lib\\site-packages\\statsmodels\\base\\model.py:607: ConvergenceWarning: Maximum Likelihood optimization failed to converge. Check mle_retvals\n",
      "  warnings.warn(\"Maximum Likelihood optimization failed to \"\n"
     ]
    },
    {
     "ename": "KeyError",
     "evalue": "\"['Intercept'] not found in axis\"",
     "output_type": "error",
     "traceback": [
      "\u001b[1;31m---------------------------------------------------------------------------\u001b[0m",
      "\u001b[1;31mKeyError\u001b[0m                                  Traceback (most recent call last)",
      "Cell \u001b[1;32mIn[200], line 12\u001b[0m\n\u001b[0;32m     10\u001b[0m \u001b[38;5;66;03m#backward selection\u001b[39;00m\n\u001b[0;32m     11\u001b[0m i \u001b[38;5;241m=\u001b[39m np\u001b[38;5;241m.\u001b[39margmax(model\u001b[38;5;241m.\u001b[39mpvalues)\n\u001b[1;32m---> 12\u001b[0m view_bs \u001b[38;5;241m=\u001b[39m \u001b[43mview_bs\u001b[49m\u001b[38;5;241;43m.\u001b[39;49m\u001b[43mdrop\u001b[49m\u001b[43m(\u001b[49m\u001b[43mcolumns\u001b[49m\u001b[38;5;241;43m=\u001b[39;49m\u001b[43mmodel\u001b[49m\u001b[38;5;241;43m.\u001b[39;49m\u001b[43mpvalues\u001b[49m\u001b[38;5;241;43m.\u001b[39;49m\u001b[43mindex\u001b[49m\u001b[43m[\u001b[49m\u001b[43mi\u001b[49m\u001b[43m]\u001b[49m\u001b[43m)\u001b[49m\n\u001b[0;32m     14\u001b[0m formula \u001b[38;5;241m=\u001b[39m buildFormula(view_bs\u001b[38;5;241m.\u001b[39mcolumns\u001b[38;5;241m.\u001b[39mdrop(\u001b[38;5;124m'\u001b[39m\u001b[38;5;124mreadmitted\u001b[39m\u001b[38;5;124m'\u001b[39m))\n\u001b[0;32m     15\u001b[0m model \u001b[38;5;241m=\u001b[39m logit(formula, view)\u001b[38;5;241m.\u001b[39mfit()\n",
      "File \u001b[1;32mc:\\Users\\Raffaele\\anaconda3\\envs\\fad\\Lib\\site-packages\\pandas\\core\\frame.py:5581\u001b[0m, in \u001b[0;36mDataFrame.drop\u001b[1;34m(self, labels, axis, index, columns, level, inplace, errors)\u001b[0m\n\u001b[0;32m   5433\u001b[0m \u001b[38;5;28;01mdef\u001b[39;00m \u001b[38;5;21mdrop\u001b[39m(\n\u001b[0;32m   5434\u001b[0m     \u001b[38;5;28mself\u001b[39m,\n\u001b[0;32m   5435\u001b[0m     labels: IndexLabel \u001b[38;5;241m|\u001b[39m \u001b[38;5;28;01mNone\u001b[39;00m \u001b[38;5;241m=\u001b[39m \u001b[38;5;28;01mNone\u001b[39;00m,\n\u001b[1;32m   (...)\u001b[0m\n\u001b[0;32m   5442\u001b[0m     errors: IgnoreRaise \u001b[38;5;241m=\u001b[39m \u001b[38;5;124m\"\u001b[39m\u001b[38;5;124mraise\u001b[39m\u001b[38;5;124m\"\u001b[39m,\n\u001b[0;32m   5443\u001b[0m ) \u001b[38;5;241m-\u001b[39m\u001b[38;5;241m>\u001b[39m DataFrame \u001b[38;5;241m|\u001b[39m \u001b[38;5;28;01mNone\u001b[39;00m:\n\u001b[0;32m   5444\u001b[0m \u001b[38;5;250m    \u001b[39m\u001b[38;5;124;03m\"\"\"\u001b[39;00m\n\u001b[0;32m   5445\u001b[0m \u001b[38;5;124;03m    Drop specified labels from rows or columns.\u001b[39;00m\n\u001b[0;32m   5446\u001b[0m \n\u001b[1;32m   (...)\u001b[0m\n\u001b[0;32m   5579\u001b[0m \u001b[38;5;124;03m            weight  1.0     0.8\u001b[39;00m\n\u001b[0;32m   5580\u001b[0m \u001b[38;5;124;03m    \"\"\"\u001b[39;00m\n\u001b[1;32m-> 5581\u001b[0m     \u001b[38;5;28;01mreturn\u001b[39;00m \u001b[38;5;28;43msuper\u001b[39;49m\u001b[43m(\u001b[49m\u001b[43m)\u001b[49m\u001b[38;5;241;43m.\u001b[39;49m\u001b[43mdrop\u001b[49m\u001b[43m(\u001b[49m\n\u001b[0;32m   5582\u001b[0m \u001b[43m        \u001b[49m\u001b[43mlabels\u001b[49m\u001b[38;5;241;43m=\u001b[39;49m\u001b[43mlabels\u001b[49m\u001b[43m,\u001b[49m\n\u001b[0;32m   5583\u001b[0m \u001b[43m        \u001b[49m\u001b[43maxis\u001b[49m\u001b[38;5;241;43m=\u001b[39;49m\u001b[43maxis\u001b[49m\u001b[43m,\u001b[49m\n\u001b[0;32m   5584\u001b[0m \u001b[43m        \u001b[49m\u001b[43mindex\u001b[49m\u001b[38;5;241;43m=\u001b[39;49m\u001b[43mindex\u001b[49m\u001b[43m,\u001b[49m\n\u001b[0;32m   5585\u001b[0m \u001b[43m        \u001b[49m\u001b[43mcolumns\u001b[49m\u001b[38;5;241;43m=\u001b[39;49m\u001b[43mcolumns\u001b[49m\u001b[43m,\u001b[49m\n\u001b[0;32m   5586\u001b[0m \u001b[43m        \u001b[49m\u001b[43mlevel\u001b[49m\u001b[38;5;241;43m=\u001b[39;49m\u001b[43mlevel\u001b[49m\u001b[43m,\u001b[49m\n\u001b[0;32m   5587\u001b[0m \u001b[43m        \u001b[49m\u001b[43minplace\u001b[49m\u001b[38;5;241;43m=\u001b[39;49m\u001b[43minplace\u001b[49m\u001b[43m,\u001b[49m\n\u001b[0;32m   5588\u001b[0m \u001b[43m        \u001b[49m\u001b[43merrors\u001b[49m\u001b[38;5;241;43m=\u001b[39;49m\u001b[43merrors\u001b[49m\u001b[43m,\u001b[49m\n\u001b[0;32m   5589\u001b[0m \u001b[43m    \u001b[49m\u001b[43m)\u001b[49m\n",
      "File \u001b[1;32mc:\\Users\\Raffaele\\anaconda3\\envs\\fad\\Lib\\site-packages\\pandas\\core\\generic.py:4788\u001b[0m, in \u001b[0;36mNDFrame.drop\u001b[1;34m(self, labels, axis, index, columns, level, inplace, errors)\u001b[0m\n\u001b[0;32m   4786\u001b[0m \u001b[38;5;28;01mfor\u001b[39;00m axis, labels \u001b[38;5;129;01min\u001b[39;00m axes\u001b[38;5;241m.\u001b[39mitems():\n\u001b[0;32m   4787\u001b[0m     \u001b[38;5;28;01mif\u001b[39;00m labels \u001b[38;5;129;01mis\u001b[39;00m \u001b[38;5;129;01mnot\u001b[39;00m \u001b[38;5;28;01mNone\u001b[39;00m:\n\u001b[1;32m-> 4788\u001b[0m         obj \u001b[38;5;241m=\u001b[39m \u001b[43mobj\u001b[49m\u001b[38;5;241;43m.\u001b[39;49m\u001b[43m_drop_axis\u001b[49m\u001b[43m(\u001b[49m\u001b[43mlabels\u001b[49m\u001b[43m,\u001b[49m\u001b[43m \u001b[49m\u001b[43maxis\u001b[49m\u001b[43m,\u001b[49m\u001b[43m \u001b[49m\u001b[43mlevel\u001b[49m\u001b[38;5;241;43m=\u001b[39;49m\u001b[43mlevel\u001b[49m\u001b[43m,\u001b[49m\u001b[43m \u001b[49m\u001b[43merrors\u001b[49m\u001b[38;5;241;43m=\u001b[39;49m\u001b[43merrors\u001b[49m\u001b[43m)\u001b[49m\n\u001b[0;32m   4790\u001b[0m \u001b[38;5;28;01mif\u001b[39;00m inplace:\n\u001b[0;32m   4791\u001b[0m     \u001b[38;5;28mself\u001b[39m\u001b[38;5;241m.\u001b[39m_update_inplace(obj)\n",
      "File \u001b[1;32mc:\\Users\\Raffaele\\anaconda3\\envs\\fad\\Lib\\site-packages\\pandas\\core\\generic.py:4830\u001b[0m, in \u001b[0;36mNDFrame._drop_axis\u001b[1;34m(self, labels, axis, level, errors, only_slice)\u001b[0m\n\u001b[0;32m   4828\u001b[0m         new_axis \u001b[38;5;241m=\u001b[39m axis\u001b[38;5;241m.\u001b[39mdrop(labels, level\u001b[38;5;241m=\u001b[39mlevel, errors\u001b[38;5;241m=\u001b[39merrors)\n\u001b[0;32m   4829\u001b[0m     \u001b[38;5;28;01melse\u001b[39;00m:\n\u001b[1;32m-> 4830\u001b[0m         new_axis \u001b[38;5;241m=\u001b[39m \u001b[43maxis\u001b[49m\u001b[38;5;241;43m.\u001b[39;49m\u001b[43mdrop\u001b[49m\u001b[43m(\u001b[49m\u001b[43mlabels\u001b[49m\u001b[43m,\u001b[49m\u001b[43m \u001b[49m\u001b[43merrors\u001b[49m\u001b[38;5;241;43m=\u001b[39;49m\u001b[43merrors\u001b[49m\u001b[43m)\u001b[49m\n\u001b[0;32m   4831\u001b[0m     indexer \u001b[38;5;241m=\u001b[39m axis\u001b[38;5;241m.\u001b[39mget_indexer(new_axis)\n\u001b[0;32m   4833\u001b[0m \u001b[38;5;66;03m# Case for non-unique axis\u001b[39;00m\n\u001b[0;32m   4834\u001b[0m \u001b[38;5;28;01melse\u001b[39;00m:\n",
      "File \u001b[1;32mc:\\Users\\Raffaele\\anaconda3\\envs\\fad\\Lib\\site-packages\\pandas\\core\\indexes\\base.py:7070\u001b[0m, in \u001b[0;36mIndex.drop\u001b[1;34m(self, labels, errors)\u001b[0m\n\u001b[0;32m   7068\u001b[0m \u001b[38;5;28;01mif\u001b[39;00m mask\u001b[38;5;241m.\u001b[39many():\n\u001b[0;32m   7069\u001b[0m     \u001b[38;5;28;01mif\u001b[39;00m errors \u001b[38;5;241m!=\u001b[39m \u001b[38;5;124m\"\u001b[39m\u001b[38;5;124mignore\u001b[39m\u001b[38;5;124m\"\u001b[39m:\n\u001b[1;32m-> 7070\u001b[0m         \u001b[38;5;28;01mraise\u001b[39;00m \u001b[38;5;167;01mKeyError\u001b[39;00m(\u001b[38;5;124mf\u001b[39m\u001b[38;5;124m\"\u001b[39m\u001b[38;5;132;01m{\u001b[39;00mlabels[mask]\u001b[38;5;241m.\u001b[39mtolist()\u001b[38;5;132;01m}\u001b[39;00m\u001b[38;5;124m not found in axis\u001b[39m\u001b[38;5;124m\"\u001b[39m)\n\u001b[0;32m   7071\u001b[0m     indexer \u001b[38;5;241m=\u001b[39m indexer[\u001b[38;5;241m~\u001b[39mmask]\n\u001b[0;32m   7072\u001b[0m \u001b[38;5;28;01mreturn\u001b[39;00m \u001b[38;5;28mself\u001b[39m\u001b[38;5;241m.\u001b[39mdelete(indexer)\n",
      "\u001b[1;31mKeyError\u001b[0m: \"['Intercept'] not found in axis\""
     ]
    }
   ],
   "source": [
    "view_bs = view\n",
    "model_og = model\n",
    "\n",
    "a = 0.05 #significance level\n",
    "count = 1\n",
    "while True:\n",
    "    p = np.max(model.pvalues)\n",
    "    if p > a:\n",
    "        count = count + 1\n",
    "        #backward selection\n",
    "        i = np.argmax(model.pvalues)\n",
    "        view_bs = view_bs.drop(columns=model.pvalues.index[i])\n",
    "            \n",
    "        formula = buildFormula(view_bs.columns.drop('readmitted'))\n",
    "        model = logit(formula, view).fit()\n",
    "    else:\n",
    "        break\n",
    "    \n",
    "print(count, \"variables removed\")\n",
    "model.summary()"
   ]
  },
  {
   "cell_type": "code",
   "execution_count": null,
   "metadata": {},
   "outputs": [
    {
     "data": {
      "text/html": [
       "<table class=\"simpletable\">\n",
       "<caption>Logit Regression Results</caption>\n",
       "<tr>\n",
       "  <th>Dep. Variable:</th>      <td>readmitted</td>    <th>  No. Observations:  </th>  <td>101763</td> \n",
       "</tr>\n",
       "<tr>\n",
       "  <th>Model:</th>                 <td>Logit</td>      <th>  Df Residuals:      </th>  <td>101704</td> \n",
       "</tr>\n",
       "<tr>\n",
       "  <th>Method:</th>                 <td>MLE</td>       <th>  Df Model:          </th>  <td>    58</td> \n",
       "</tr>\n",
       "<tr>\n",
       "  <th>Date:</th>            <td>Sat, 01 Mar 2025</td> <th>  Pseudo R-squ.:     </th>  <td>0.05352</td>\n",
       "</tr>\n",
       "<tr>\n",
       "  <th>Time:</th>                <td>16:24:52</td>     <th>  Log-Likelihood:    </th> <td> -66467.</td>\n",
       "</tr>\n",
       "<tr>\n",
       "  <th>converged:</th>             <td>False</td>      <th>  LL-Null:           </th> <td> -70225.</td>\n",
       "</tr>\n",
       "<tr>\n",
       "  <th>Covariance Type:</th>     <td>nonrobust</td>    <th>  LLR p-value:       </th>  <td> 0.000</td> \n",
       "</tr>\n",
       "</table>\n",
       "<table class=\"simpletable\">\n",
       "<tr>\n",
       "                 <td></td>                    <th>coef</th>     <th>std err</th>      <th>z</th>      <th>P>|z|</th>  <th>[0.025</th>    <th>0.975]</th>  \n",
       "</tr>\n",
       "<tr>\n",
       "  <th>Intercept</th>                       <td>   -1.3862</td> <td> 1778.058</td> <td>   -0.001</td> <td> 0.999</td> <td>-3486.315</td> <td> 3483.543</td>\n",
       "</tr>\n",
       "<tr>\n",
       "  <th>time_in_hospital</th>                <td>    0.0119</td> <td>    0.003</td> <td>    4.653</td> <td> 0.000</td> <td>    0.007</td> <td>    0.017</td>\n",
       "</tr>\n",
       "<tr>\n",
       "  <th>num_lab_procedures</th>              <td>    0.0013</td> <td>    0.000</td> <td>    3.720</td> <td> 0.000</td> <td>    0.001</td> <td>    0.002</td>\n",
       "</tr>\n",
       "<tr>\n",
       "  <th>num_procedures</th>                  <td>   -0.0478</td> <td>    0.004</td> <td>  -11.259</td> <td> 0.000</td> <td>   -0.056</td> <td>   -0.039</td>\n",
       "</tr>\n",
       "<tr>\n",
       "  <th>num_medications</th>                 <td>    0.0006</td> <td>    0.001</td> <td>    0.536</td> <td> 0.592</td> <td>   -0.001</td> <td>    0.003</td>\n",
       "</tr>\n",
       "<tr>\n",
       "  <th>number_outpatient</th>               <td>    0.0844</td> <td>    0.006</td> <td>   14.029</td> <td> 0.000</td> <td>    0.073</td> <td>    0.096</td>\n",
       "</tr>\n",
       "<tr>\n",
       "  <th>number_emergency</th>                <td>    0.2136</td> <td>    0.012</td> <td>   17.425</td> <td> 0.000</td> <td>    0.190</td> <td>    0.238</td>\n",
       "</tr>\n",
       "<tr>\n",
       "  <th>number_inpatient</th>                <td>    0.3707</td> <td>    0.007</td> <td>   53.373</td> <td> 0.000</td> <td>    0.357</td> <td>    0.384</td>\n",
       "</tr>\n",
       "<tr>\n",
       "  <th>number_diagnoses</th>                <td>    0.0819</td> <td>    0.004</td> <td>   22.692</td> <td> 0.000</td> <td>    0.075</td> <td>    0.089</td>\n",
       "</tr>\n",
       "<tr>\n",
       "  <th>gender_Male</th>                     <td>   -0.0524</td> <td>    0.013</td> <td>   -3.983</td> <td> 0.000</td> <td>   -0.078</td> <td>   -0.027</td>\n",
       "</tr>\n",
       "<tr>\n",
       "  <th>metformin_No</th>                    <td>   -0.0105</td> <td>    0.087</td> <td>   -0.121</td> <td> 0.904</td> <td>   -0.182</td> <td>    0.160</td>\n",
       "</tr>\n",
       "<tr>\n",
       "  <th>metformin_Steady</th>                <td>   -0.0591</td> <td>    0.087</td> <td>   -0.675</td> <td> 0.499</td> <td>   -0.231</td> <td>    0.112</td>\n",
       "</tr>\n",
       "<tr>\n",
       "  <th>metformin_Up</th>                    <td>   -0.1495</td> <td>    0.107</td> <td>   -1.395</td> <td> 0.163</td> <td>   -0.359</td> <td>    0.060</td>\n",
       "</tr>\n",
       "<tr>\n",
       "  <th>repaglinide_No</th>                  <td>   -0.0582</td> <td>    0.306</td> <td>   -0.190</td> <td> 0.849</td> <td>   -0.659</td> <td>    0.542</td>\n",
       "</tr>\n",
       "<tr>\n",
       "  <th>repaglinide_Steady</th>              <td>    0.2275</td> <td>    0.311</td> <td>    0.731</td> <td> 0.465</td> <td>   -0.382</td> <td>    0.837</td>\n",
       "</tr>\n",
       "<tr>\n",
       "  <th>repaglinide_Up</th>                  <td>   -0.1024</td> <td>    0.364</td> <td>   -0.281</td> <td> 0.778</td> <td>   -0.815</td> <td>    0.611</td>\n",
       "</tr>\n",
       "<tr>\n",
       "  <th>nateglinide_No</th>                  <td>   -0.0560</td> <td>    0.612</td> <td>   -0.091</td> <td> 0.927</td> <td>   -1.256</td> <td>    1.144</td>\n",
       "</tr>\n",
       "<tr>\n",
       "  <th>nateglinide_Steady</th>              <td>    0.0772</td> <td>    0.617</td> <td>    0.125</td> <td> 0.901</td> <td>   -1.133</td> <td>    1.287</td>\n",
       "</tr>\n",
       "<tr>\n",
       "  <th>nateglinide_Up</th>                  <td>   -0.1737</td> <td>    0.751</td> <td>   -0.231</td> <td> 0.817</td> <td>   -1.646</td> <td>    1.299</td>\n",
       "</tr>\n",
       "<tr>\n",
       "  <th>chlorpropamide_No</th>               <td>   13.6182</td> <td> 1418.349</td> <td>    0.010</td> <td> 0.992</td> <td>-2766.294</td> <td> 2793.531</td>\n",
       "</tr>\n",
       "<tr>\n",
       "  <th>chlorpropamide_Steady</th>           <td>   13.8500</td> <td> 1418.349</td> <td>    0.010</td> <td> 0.992</td> <td>-2766.063</td> <td> 2793.763</td>\n",
       "</tr>\n",
       "<tr>\n",
       "  <th>chlorpropamide_Up</th>               <td>   15.4967</td> <td> 1418.349</td> <td>    0.011</td> <td> 0.991</td> <td>-2764.417</td> <td> 2795.410</td>\n",
       "</tr>\n",
       "<tr>\n",
       "  <th>glimepiride_No</th>                  <td>   -0.1372</td> <td>    0.149</td> <td>   -0.923</td> <td> 0.356</td> <td>   -0.429</td> <td>    0.154</td>\n",
       "</tr>\n",
       "<tr>\n",
       "  <th>glimepiride_Steady</th>              <td>   -0.0158</td> <td>    0.151</td> <td>   -0.105</td> <td> 0.917</td> <td>   -0.312</td> <td>    0.280</td>\n",
       "</tr>\n",
       "<tr>\n",
       "  <th>glimepiride_Up</th>                  <td>   -0.2054</td> <td>    0.187</td> <td>   -1.097</td> <td> 0.273</td> <td>   -0.572</td> <td>    0.162</td>\n",
       "</tr>\n",
       "<tr>\n",
       "  <th>acetohexamide_Steady</th>            <td>   19.8749</td> <td>  1.7e+04</td> <td>    0.001</td> <td> 0.999</td> <td>-3.32e+04</td> <td> 3.33e+04</td>\n",
       "</tr>\n",
       "<tr>\n",
       "  <th>glipizide_No</th>                    <td>   -0.3195</td> <td>    0.089</td> <td>   -3.582</td> <td> 0.000</td> <td>   -0.494</td> <td>   -0.145</td>\n",
       "</tr>\n",
       "<tr>\n",
       "  <th>glipizide_Steady</th>                <td>   -0.1173</td> <td>    0.090</td> <td>   -1.306</td> <td> 0.192</td> <td>   -0.293</td> <td>    0.059</td>\n",
       "</tr>\n",
       "<tr>\n",
       "  <th>glipizide_Up</th>                    <td>   -0.0574</td> <td>    0.115</td> <td>   -0.501</td> <td> 0.617</td> <td>   -0.282</td> <td>    0.167</td>\n",
       "</tr>\n",
       "<tr>\n",
       "  <th>glyburide_No</th>                    <td>   -0.2460</td> <td>    0.089</td> <td>   -2.777</td> <td> 0.005</td> <td>   -0.420</td> <td>   -0.072</td>\n",
       "</tr>\n",
       "<tr>\n",
       "  <th>glyburide_Steady</th>                <td>   -0.1095</td> <td>    0.090</td> <td>   -1.222</td> <td> 0.222</td> <td>   -0.285</td> <td>    0.066</td>\n",
       "</tr>\n",
       "<tr>\n",
       "  <th>glyburide_Up</th>                    <td>   -0.1541</td> <td>    0.113</td> <td>   -1.365</td> <td> 0.172</td> <td>   -0.375</td> <td>    0.067</td>\n",
       "</tr>\n",
       "<tr>\n",
       "  <th>tolbutamide_Steady</th>              <td>   -0.2697</td> <td>    0.444</td> <td>   -0.607</td> <td> 0.544</td> <td>   -1.140</td> <td>    0.600</td>\n",
       "</tr>\n",
       "<tr>\n",
       "  <th>pioglitazone_No</th>                 <td>   -0.2117</td> <td>    0.192</td> <td>   -1.100</td> <td> 0.271</td> <td>   -0.589</td> <td>    0.166</td>\n",
       "</tr>\n",
       "<tr>\n",
       "  <th>pioglitazone_Steady</th>             <td>   -0.0715</td> <td>    0.194</td> <td>   -0.369</td> <td> 0.712</td> <td>   -0.451</td> <td>    0.308</td>\n",
       "</tr>\n",
       "<tr>\n",
       "  <th>pioglitazone_Up</th>                 <td>    0.0487</td> <td>    0.234</td> <td>    0.208</td> <td> 0.835</td> <td>   -0.411</td> <td>    0.508</td>\n",
       "</tr>\n",
       "<tr>\n",
       "  <th>rosiglitazone_No</th>                <td>    0.5437</td> <td>    0.238</td> <td>    2.285</td> <td> 0.022</td> <td>    0.077</td> <td>    1.010</td>\n",
       "</tr>\n",
       "<tr>\n",
       "  <th>rosiglitazone_Steady</th>            <td>    0.7445</td> <td>    0.239</td> <td>    3.115</td> <td> 0.002</td> <td>    0.276</td> <td>    1.213</td>\n",
       "</tr>\n",
       "<tr>\n",
       "  <th>rosiglitazone_Up</th>                <td>    0.3074</td> <td>    0.286</td> <td>    1.076</td> <td> 0.282</td> <td>   -0.252</td> <td>    0.867</td>\n",
       "</tr>\n",
       "<tr>\n",
       "  <th>acarbose_No</th>                     <td>    0.8517</td> <td>    1.250</td> <td>    0.681</td> <td> 0.496</td> <td>   -1.598</td> <td>    3.302</td>\n",
       "</tr>\n",
       "<tr>\n",
       "  <th>acarbose_Steady</th>                 <td>    1.3108</td> <td>    1.256</td> <td>    1.044</td> <td> 0.297</td> <td>   -1.151</td> <td>    3.772</td>\n",
       "</tr>\n",
       "<tr>\n",
       "  <th>acarbose_Up</th>                     <td>    1.6900</td> <td>    1.411</td> <td>    1.198</td> <td> 0.231</td> <td>   -1.075</td> <td>    4.455</td>\n",
       "</tr>\n",
       "<tr>\n",
       "  <th>miglitol_No</th>                     <td>  -14.9402</td> <td> 1072.273</td> <td>   -0.014</td> <td> 0.989</td> <td>-2116.556</td> <td> 2086.675</td>\n",
       "</tr>\n",
       "<tr>\n",
       "  <th>miglitol_Steady</th>                 <td>  -14.4509</td> <td> 1072.273</td> <td>   -0.013</td> <td> 0.989</td> <td>-2116.067</td> <td> 2087.165</td>\n",
       "</tr>\n",
       "<tr>\n",
       "  <th>miglitol_Up</th>                     <td>  -15.0283</td> <td> 1072.274</td> <td>   -0.014</td> <td> 0.989</td> <td>-2116.646</td> <td> 2086.589</td>\n",
       "</tr>\n",
       "<tr>\n",
       "  <th>troglitazone_Steady</th>             <td>    0.9182</td> <td>    1.225</td> <td>    0.749</td> <td> 0.454</td> <td>   -1.484</td> <td>    3.320</td>\n",
       "</tr>\n",
       "<tr>\n",
       "  <th>tolazamide_Steady</th>               <td>   -0.2335</td> <td>    0.354</td> <td>   -0.660</td> <td> 0.509</td> <td>   -0.927</td> <td>    0.460</td>\n",
       "</tr>\n",
       "<tr>\n",
       "  <th>tolazamide_Up</th>                   <td>   19.3359</td> <td> 1.41e+04</td> <td>    0.001</td> <td> 0.999</td> <td>-2.76e+04</td> <td> 2.77e+04</td>\n",
       "</tr>\n",
       "<tr>\n",
       "  <th>insulin_No</th>                      <td>   -0.2826</td> <td>    0.031</td> <td>   -9.200</td> <td> 0.000</td> <td>   -0.343</td> <td>   -0.222</td>\n",
       "</tr>\n",
       "<tr>\n",
       "  <th>insulin_Steady</th>                  <td>   -0.2440</td> <td>    0.027</td> <td>   -9.161</td> <td> 0.000</td> <td>   -0.296</td> <td>   -0.192</td>\n",
       "</tr>\n",
       "<tr>\n",
       "  <th>insulin_Up</th>                      <td>   -0.0706</td> <td>    0.027</td> <td>   -2.593</td> <td> 0.010</td> <td>   -0.124</td> <td>   -0.017</td>\n",
       "</tr>\n",
       "<tr>\n",
       "  <th>glyburide_metformin_No</th>          <td>    1.3768</td> <td>    1.113</td> <td>    1.237</td> <td> 0.216</td> <td>   -0.804</td> <td>    3.558</td>\n",
       "</tr>\n",
       "<tr>\n",
       "  <th>glyburide_metformin_Steady</th>      <td>    1.5669</td> <td>    1.115</td> <td>    1.405</td> <td> 0.160</td> <td>   -0.619</td> <td>    3.753</td>\n",
       "</tr>\n",
       "<tr>\n",
       "  <th>glyburide_metformin_Up</th>          <td>   -0.1653</td> <td>    1.549</td> <td>   -0.107</td> <td> 0.915</td> <td>   -3.201</td> <td>    2.871</td>\n",
       "</tr>\n",
       "<tr>\n",
       "  <th>glipizide_metformin_Steady</th>      <td>    0.7301</td> <td>    0.583</td> <td>    1.252</td> <td> 0.211</td> <td>   -0.413</td> <td>    1.873</td>\n",
       "</tr>\n",
       "<tr>\n",
       "  <th>glimepiride_pioglitazone_Steady</th> <td>   18.8460</td> <td> 1.19e+04</td> <td>    0.002</td> <td> 0.999</td> <td>-2.34e+04</td> <td> 2.34e+04</td>\n",
       "</tr>\n",
       "<tr>\n",
       "  <th>metformin_rosiglitazone_Steady</th>  <td>  -22.6258</td> <td> 6.57e+04</td> <td>   -0.000</td> <td> 1.000</td> <td>-1.29e+05</td> <td> 1.29e+05</td>\n",
       "</tr>\n",
       "<tr>\n",
       "  <th>metformin_pioglitazone_Steady</th>   <td>  -17.4569</td> <td> 8656.747</td> <td>   -0.002</td> <td> 0.998</td> <td> -1.7e+04</td> <td> 1.69e+04</td>\n",
       "</tr>\n",
       "<tr>\n",
       "  <th>change_No</th>                       <td>    0.0701</td> <td>    0.025</td> <td>    2.818</td> <td> 0.005</td> <td>    0.021</td> <td>    0.119</td>\n",
       "</tr>\n",
       "</table>"
      ],
      "text/latex": [
       "\\begin{center}\n",
       "\\begin{tabular}{lclc}\n",
       "\\toprule\n",
       "\\textbf{Dep. Variable:}                    &    readmitted    & \\textbf{  No. Observations:  } &   101763    \\\\\n",
       "\\textbf{Model:}                            &      Logit       & \\textbf{  Df Residuals:      } &   101704    \\\\\n",
       "\\textbf{Method:}                           &       MLE        & \\textbf{  Df Model:          } &       58    \\\\\n",
       "\\textbf{Date:}                             & Sat, 01 Mar 2025 & \\textbf{  Pseudo R-squ.:     } &  0.05352    \\\\\n",
       "\\textbf{Time:}                             &     16:24:52     & \\textbf{  Log-Likelihood:    } &   -66467.   \\\\\n",
       "\\textbf{converged:}                        &      False       & \\textbf{  LL-Null:           } &   -70225.   \\\\\n",
       "\\textbf{Covariance Type:}                  &    nonrobust     & \\textbf{  LLR p-value:       } &    0.000    \\\\\n",
       "\\bottomrule\n",
       "\\end{tabular}\n",
       "\\begin{tabular}{lcccccc}\n",
       "                                           & \\textbf{coef} & \\textbf{std err} & \\textbf{z} & \\textbf{P$> |$z$|$} & \\textbf{[0.025} & \\textbf{0.975]}  \\\\\n",
       "\\midrule\n",
       "\\textbf{Intercept}                         &      -1.3862  &     1778.058     &    -0.001  &         0.999        &    -3486.315    &     3483.543     \\\\\n",
       "\\textbf{time\\_in\\_hospital}                &       0.0119  &        0.003     &     4.653  &         0.000        &        0.007    &        0.017     \\\\\n",
       "\\textbf{num\\_lab\\_procedures}              &       0.0013  &        0.000     &     3.720  &         0.000        &        0.001    &        0.002     \\\\\n",
       "\\textbf{num\\_procedures}                   &      -0.0478  &        0.004     &   -11.259  &         0.000        &       -0.056    &       -0.039     \\\\\n",
       "\\textbf{num\\_medications}                  &       0.0006  &        0.001     &     0.536  &         0.592        &       -0.001    &        0.003     \\\\\n",
       "\\textbf{number\\_outpatient}                &       0.0844  &        0.006     &    14.029  &         0.000        &        0.073    &        0.096     \\\\\n",
       "\\textbf{number\\_emergency}                 &       0.2136  &        0.012     &    17.425  &         0.000        &        0.190    &        0.238     \\\\\n",
       "\\textbf{number\\_inpatient}                 &       0.3707  &        0.007     &    53.373  &         0.000        &        0.357    &        0.384     \\\\\n",
       "\\textbf{number\\_diagnoses}                 &       0.0819  &        0.004     &    22.692  &         0.000        &        0.075    &        0.089     \\\\\n",
       "\\textbf{gender\\_Male}                      &      -0.0524  &        0.013     &    -3.983  &         0.000        &       -0.078    &       -0.027     \\\\\n",
       "\\textbf{metformin\\_No}                     &      -0.0105  &        0.087     &    -0.121  &         0.904        &       -0.182    &        0.160     \\\\\n",
       "\\textbf{metformin\\_Steady}                 &      -0.0591  &        0.087     &    -0.675  &         0.499        &       -0.231    &        0.112     \\\\\n",
       "\\textbf{metformin\\_Up}                     &      -0.1495  &        0.107     &    -1.395  &         0.163        &       -0.359    &        0.060     \\\\\n",
       "\\textbf{repaglinide\\_No}                   &      -0.0582  &        0.306     &    -0.190  &         0.849        &       -0.659    &        0.542     \\\\\n",
       "\\textbf{repaglinide\\_Steady}               &       0.2275  &        0.311     &     0.731  &         0.465        &       -0.382    &        0.837     \\\\\n",
       "\\textbf{repaglinide\\_Up}                   &      -0.1024  &        0.364     &    -0.281  &         0.778        &       -0.815    &        0.611     \\\\\n",
       "\\textbf{nateglinide\\_No}                   &      -0.0560  &        0.612     &    -0.091  &         0.927        &       -1.256    &        1.144     \\\\\n",
       "\\textbf{nateglinide\\_Steady}               &       0.0772  &        0.617     &     0.125  &         0.901        &       -1.133    &        1.287     \\\\\n",
       "\\textbf{nateglinide\\_Up}                   &      -0.1737  &        0.751     &    -0.231  &         0.817        &       -1.646    &        1.299     \\\\\n",
       "\\textbf{chlorpropamide\\_No}                &      13.6182  &     1418.349     &     0.010  &         0.992        &    -2766.294    &     2793.531     \\\\\n",
       "\\textbf{chlorpropamide\\_Steady}            &      13.8500  &     1418.349     &     0.010  &         0.992        &    -2766.063    &     2793.763     \\\\\n",
       "\\textbf{chlorpropamide\\_Up}                &      15.4967  &     1418.349     &     0.011  &         0.991        &    -2764.417    &     2795.410     \\\\\n",
       "\\textbf{glimepiride\\_No}                   &      -0.1372  &        0.149     &    -0.923  &         0.356        &       -0.429    &        0.154     \\\\\n",
       "\\textbf{glimepiride\\_Steady}               &      -0.0158  &        0.151     &    -0.105  &         0.917        &       -0.312    &        0.280     \\\\\n",
       "\\textbf{glimepiride\\_Up}                   &      -0.2054  &        0.187     &    -1.097  &         0.273        &       -0.572    &        0.162     \\\\\n",
       "\\textbf{acetohexamide\\_Steady}             &      19.8749  &      1.7e+04     &     0.001  &         0.999        &    -3.32e+04    &     3.33e+04     \\\\\n",
       "\\textbf{glipizide\\_No}                     &      -0.3195  &        0.089     &    -3.582  &         0.000        &       -0.494    &       -0.145     \\\\\n",
       "\\textbf{glipizide\\_Steady}                 &      -0.1173  &        0.090     &    -1.306  &         0.192        &       -0.293    &        0.059     \\\\\n",
       "\\textbf{glipizide\\_Up}                     &      -0.0574  &        0.115     &    -0.501  &         0.617        &       -0.282    &        0.167     \\\\\n",
       "\\textbf{glyburide\\_No}                     &      -0.2460  &        0.089     &    -2.777  &         0.005        &       -0.420    &       -0.072     \\\\\n",
       "\\textbf{glyburide\\_Steady}                 &      -0.1095  &        0.090     &    -1.222  &         0.222        &       -0.285    &        0.066     \\\\\n",
       "\\textbf{glyburide\\_Up}                     &      -0.1541  &        0.113     &    -1.365  &         0.172        &       -0.375    &        0.067     \\\\\n",
       "\\textbf{tolbutamide\\_Steady}               &      -0.2697  &        0.444     &    -0.607  &         0.544        &       -1.140    &        0.600     \\\\\n",
       "\\textbf{pioglitazone\\_No}                  &      -0.2117  &        0.192     &    -1.100  &         0.271        &       -0.589    &        0.166     \\\\\n",
       "\\textbf{pioglitazone\\_Steady}              &      -0.0715  &        0.194     &    -0.369  &         0.712        &       -0.451    &        0.308     \\\\\n",
       "\\textbf{pioglitazone\\_Up}                  &       0.0487  &        0.234     &     0.208  &         0.835        &       -0.411    &        0.508     \\\\\n",
       "\\textbf{rosiglitazone\\_No}                 &       0.5437  &        0.238     &     2.285  &         0.022        &        0.077    &        1.010     \\\\\n",
       "\\textbf{rosiglitazone\\_Steady}             &       0.7445  &        0.239     &     3.115  &         0.002        &        0.276    &        1.213     \\\\\n",
       "\\textbf{rosiglitazone\\_Up}                 &       0.3074  &        0.286     &     1.076  &         0.282        &       -0.252    &        0.867     \\\\\n",
       "\\textbf{acarbose\\_No}                      &       0.8517  &        1.250     &     0.681  &         0.496        &       -1.598    &        3.302     \\\\\n",
       "\\textbf{acarbose\\_Steady}                  &       1.3108  &        1.256     &     1.044  &         0.297        &       -1.151    &        3.772     \\\\\n",
       "\\textbf{acarbose\\_Up}                      &       1.6900  &        1.411     &     1.198  &         0.231        &       -1.075    &        4.455     \\\\\n",
       "\\textbf{miglitol\\_No}                      &     -14.9402  &     1072.273     &    -0.014  &         0.989        &    -2116.556    &     2086.675     \\\\\n",
       "\\textbf{miglitol\\_Steady}                  &     -14.4509  &     1072.273     &    -0.013  &         0.989        &    -2116.067    &     2087.165     \\\\\n",
       "\\textbf{miglitol\\_Up}                      &     -15.0283  &     1072.274     &    -0.014  &         0.989        &    -2116.646    &     2086.589     \\\\\n",
       "\\textbf{troglitazone\\_Steady}              &       0.9182  &        1.225     &     0.749  &         0.454        &       -1.484    &        3.320     \\\\\n",
       "\\textbf{tolazamide\\_Steady}                &      -0.2335  &        0.354     &    -0.660  &         0.509        &       -0.927    &        0.460     \\\\\n",
       "\\textbf{tolazamide\\_Up}                    &      19.3359  &     1.41e+04     &     0.001  &         0.999        &    -2.76e+04    &     2.77e+04     \\\\\n",
       "\\textbf{insulin\\_No}                       &      -0.2826  &        0.031     &    -9.200  &         0.000        &       -0.343    &       -0.222     \\\\\n",
       "\\textbf{insulin\\_Steady}                   &      -0.2440  &        0.027     &    -9.161  &         0.000        &       -0.296    &       -0.192     \\\\\n",
       "\\textbf{insulin\\_Up}                       &      -0.0706  &        0.027     &    -2.593  &         0.010        &       -0.124    &       -0.017     \\\\\n",
       "\\textbf{glyburide\\_metformin\\_No}          &       1.3768  &        1.113     &     1.237  &         0.216        &       -0.804    &        3.558     \\\\\n",
       "\\textbf{glyburide\\_metformin\\_Steady}      &       1.5669  &        1.115     &     1.405  &         0.160        &       -0.619    &        3.753     \\\\\n",
       "\\textbf{glyburide\\_metformin\\_Up}          &      -0.1653  &        1.549     &    -0.107  &         0.915        &       -3.201    &        2.871     \\\\\n",
       "\\textbf{glipizide\\_metformin\\_Steady}      &       0.7301  &        0.583     &     1.252  &         0.211        &       -0.413    &        1.873     \\\\\n",
       "\\textbf{glimepiride\\_pioglitazone\\_Steady} &      18.8460  &     1.19e+04     &     0.002  &         0.999        &    -2.34e+04    &     2.34e+04     \\\\\n",
       "\\textbf{metformin\\_rosiglitazone\\_Steady}  &     -22.6258  &     6.57e+04     &    -0.000  &         1.000        &    -1.29e+05    &     1.29e+05     \\\\\n",
       "\\textbf{metformin\\_pioglitazone\\_Steady}   &     -17.4569  &     8656.747     &    -0.002  &         0.998        &     -1.7e+04    &     1.69e+04     \\\\\n",
       "\\textbf{change\\_No}                        &       0.0701  &        0.025     &     2.818  &         0.005        &        0.021    &        0.119     \\\\\n",
       "\\bottomrule\n",
       "\\end{tabular}\n",
       "%\\caption{Logit Regression Results}\n",
       "\\end{center}"
      ],
      "text/plain": [
       "<class 'statsmodels.iolib.summary.Summary'>\n",
       "\"\"\"\n",
       "                           Logit Regression Results                           \n",
       "==============================================================================\n",
       "Dep. Variable:             readmitted   No. Observations:               101763\n",
       "Model:                          Logit   Df Residuals:                   101704\n",
       "Method:                           MLE   Df Model:                           58\n",
       "Date:                Sat, 01 Mar 2025   Pseudo R-squ.:                 0.05352\n",
       "Time:                        16:24:52   Log-Likelihood:                -66467.\n",
       "converged:                      False   LL-Null:                       -70225.\n",
       "Covariance Type:            nonrobust   LLR p-value:                     0.000\n",
       "===================================================================================================\n",
       "                                      coef    std err          z      P>|z|      [0.025      0.975]\n",
       "---------------------------------------------------------------------------------------------------\n",
       "Intercept                          -1.3862   1778.058     -0.001      0.999   -3486.315    3483.543\n",
       "time_in_hospital                    0.0119      0.003      4.653      0.000       0.007       0.017\n",
       "num_lab_procedures                  0.0013      0.000      3.720      0.000       0.001       0.002\n",
       "num_procedures                     -0.0478      0.004    -11.259      0.000      -0.056      -0.039\n",
       "num_medications                     0.0006      0.001      0.536      0.592      -0.001       0.003\n",
       "number_outpatient                   0.0844      0.006     14.029      0.000       0.073       0.096\n",
       "number_emergency                    0.2136      0.012     17.425      0.000       0.190       0.238\n",
       "number_inpatient                    0.3707      0.007     53.373      0.000       0.357       0.384\n",
       "number_diagnoses                    0.0819      0.004     22.692      0.000       0.075       0.089\n",
       "gender_Male                        -0.0524      0.013     -3.983      0.000      -0.078      -0.027\n",
       "metformin_No                       -0.0105      0.087     -0.121      0.904      -0.182       0.160\n",
       "metformin_Steady                   -0.0591      0.087     -0.675      0.499      -0.231       0.112\n",
       "metformin_Up                       -0.1495      0.107     -1.395      0.163      -0.359       0.060\n",
       "repaglinide_No                     -0.0582      0.306     -0.190      0.849      -0.659       0.542\n",
       "repaglinide_Steady                  0.2275      0.311      0.731      0.465      -0.382       0.837\n",
       "repaglinide_Up                     -0.1024      0.364     -0.281      0.778      -0.815       0.611\n",
       "nateglinide_No                     -0.0560      0.612     -0.091      0.927      -1.256       1.144\n",
       "nateglinide_Steady                  0.0772      0.617      0.125      0.901      -1.133       1.287\n",
       "nateglinide_Up                     -0.1737      0.751     -0.231      0.817      -1.646       1.299\n",
       "chlorpropamide_No                  13.6182   1418.349      0.010      0.992   -2766.294    2793.531\n",
       "chlorpropamide_Steady              13.8500   1418.349      0.010      0.992   -2766.063    2793.763\n",
       "chlorpropamide_Up                  15.4967   1418.349      0.011      0.991   -2764.417    2795.410\n",
       "glimepiride_No                     -0.1372      0.149     -0.923      0.356      -0.429       0.154\n",
       "glimepiride_Steady                 -0.0158      0.151     -0.105      0.917      -0.312       0.280\n",
       "glimepiride_Up                     -0.2054      0.187     -1.097      0.273      -0.572       0.162\n",
       "acetohexamide_Steady               19.8749    1.7e+04      0.001      0.999   -3.32e+04    3.33e+04\n",
       "glipizide_No                       -0.3195      0.089     -3.582      0.000      -0.494      -0.145\n",
       "glipizide_Steady                   -0.1173      0.090     -1.306      0.192      -0.293       0.059\n",
       "glipizide_Up                       -0.0574      0.115     -0.501      0.617      -0.282       0.167\n",
       "glyburide_No                       -0.2460      0.089     -2.777      0.005      -0.420      -0.072\n",
       "glyburide_Steady                   -0.1095      0.090     -1.222      0.222      -0.285       0.066\n",
       "glyburide_Up                       -0.1541      0.113     -1.365      0.172      -0.375       0.067\n",
       "tolbutamide_Steady                 -0.2697      0.444     -0.607      0.544      -1.140       0.600\n",
       "pioglitazone_No                    -0.2117      0.192     -1.100      0.271      -0.589       0.166\n",
       "pioglitazone_Steady                -0.0715      0.194     -0.369      0.712      -0.451       0.308\n",
       "pioglitazone_Up                     0.0487      0.234      0.208      0.835      -0.411       0.508\n",
       "rosiglitazone_No                    0.5437      0.238      2.285      0.022       0.077       1.010\n",
       "rosiglitazone_Steady                0.7445      0.239      3.115      0.002       0.276       1.213\n",
       "rosiglitazone_Up                    0.3074      0.286      1.076      0.282      -0.252       0.867\n",
       "acarbose_No                         0.8517      1.250      0.681      0.496      -1.598       3.302\n",
       "acarbose_Steady                     1.3108      1.256      1.044      0.297      -1.151       3.772\n",
       "acarbose_Up                         1.6900      1.411      1.198      0.231      -1.075       4.455\n",
       "miglitol_No                       -14.9402   1072.273     -0.014      0.989   -2116.556    2086.675\n",
       "miglitol_Steady                   -14.4509   1072.273     -0.013      0.989   -2116.067    2087.165\n",
       "miglitol_Up                       -15.0283   1072.274     -0.014      0.989   -2116.646    2086.589\n",
       "troglitazone_Steady                 0.9182      1.225      0.749      0.454      -1.484       3.320\n",
       "tolazamide_Steady                  -0.2335      0.354     -0.660      0.509      -0.927       0.460\n",
       "tolazamide_Up                      19.3359   1.41e+04      0.001      0.999   -2.76e+04    2.77e+04\n",
       "insulin_No                         -0.2826      0.031     -9.200      0.000      -0.343      -0.222\n",
       "insulin_Steady                     -0.2440      0.027     -9.161      0.000      -0.296      -0.192\n",
       "insulin_Up                         -0.0706      0.027     -2.593      0.010      -0.124      -0.017\n",
       "glyburide_metformin_No              1.3768      1.113      1.237      0.216      -0.804       3.558\n",
       "glyburide_metformin_Steady          1.5669      1.115      1.405      0.160      -0.619       3.753\n",
       "glyburide_metformin_Up             -0.1653      1.549     -0.107      0.915      -3.201       2.871\n",
       "glipizide_metformin_Steady          0.7301      0.583      1.252      0.211      -0.413       1.873\n",
       "glimepiride_pioglitazone_Steady    18.8460   1.19e+04      0.002      0.999   -2.34e+04    2.34e+04\n",
       "metformin_rosiglitazone_Steady    -22.6258   6.57e+04     -0.000      1.000   -1.29e+05    1.29e+05\n",
       "metformin_pioglitazone_Steady     -17.4569   8656.747     -0.002      0.998    -1.7e+04    1.69e+04\n",
       "change_No                           0.0701      0.025      2.818      0.005       0.021       0.119\n",
       "===================================================================================================\n",
       "\"\"\""
      ]
     },
     "execution_count": 103,
     "metadata": {},
     "output_type": "execute_result"
    }
   ],
   "source": [
    "model.summary()"
   ]
  },
  {
   "cell_type": "markdown",
   "metadata": {},
   "source": [
    "# Predictive Analysis"
   ]
  },
  {
   "cell_type": "markdown",
   "metadata": {},
   "source": [
    "In this section we will create some classifiers to make predictions about data. We have a target, readmitted, with 3 classes: \n",
    "* not readmitted (0)\n",
    "* readmitted within 30 days (1)\n",
    "* readmitted after 30 days (2)\n",
    "\n",
    "However, class 2 is only represented by 10% of the observations. The data has clearly an inbalance problem. At first, before being more specific, we can classify a patient in two classes: either, a patient will be readmitted (sooner or later) or not.\n",
    " "
   ]
  },
  {
   "cell_type": "code",
   "execution_count": null,
   "metadata": {},
   "outputs": [],
   "source": [
    "view = data.replace({\"readmitted\": {2: 1}})"
   ]
  },
  {
   "cell_type": "code",
   "execution_count": null,
   "metadata": {},
   "outputs": [
    {
     "data": {
      "text/plain": [
       "<Axes: xlabel='readmitted'>"
      ]
     },
     "execution_count": 79,
     "metadata": {},
     "output_type": "execute_result"
    },
    {
     "data": {
      "image/png": "[encoded data removed]",
      "text/plain": [
       "<Figure size 640x480 with 1 Axes>"
      ]
     },
     "metadata": {},
     "output_type": "display_data"
    }
   ],
   "source": [
    "view['readmitted'].value_counts(normalize=True).sort_index().plot.bar()"
   ]
  },
  {
   "cell_type": "markdown",
   "metadata": {},
   "source": [
    "Classes now look more balanced."
   ]
  },
  {
   "cell_type": "markdown",
   "metadata": {},
   "source": [
    "## Which metric is more important, precision or recall?"
   ]
  },
  {
   "cell_type": "markdown",
   "metadata": {},
   "source": [
    "In this context, false negatives are more important than false positives. In fact, if we say that a patient will be readmitted sooner or later even if he or she is wrong, a later test in the hospital will correct our prediction. If, on the other hand, we say that a patient will not be readmitted even if he or she is wrong, we may risk the patient's life. We can say that **in this context recall is more important than precision**."
   ]
  },
  {
   "cell_type": "markdown",
   "metadata": {},
   "source": [
    "## K-Nearest Neighbor classification"
   ]
  },
  {
   "cell_type": "code",
   "execution_count": null,
   "metadata": {},
   "outputs": [],
   "source": [
    "cols = np.concatenate([[view.columns[0]], view.columns[9:-1]])\n",
    "view = pd.get_dummies(view, columns=cols, drop_first=True, dtype=np.uint8)"
   ]
  },
  {
   "cell_type": "code",
   "execution_count": null,
   "metadata": {},
   "outputs": [],
   "source": [
    "from sklearn.model_selection import train_test_split\n",
    "\n",
    "train_set, test_set = train_test_split(view, test_size=0.25)"
   ]
  },
  {
   "cell_type": "code",
   "execution_count": null,
   "metadata": {},
   "outputs": [
    {
     "name": "stdout",
     "output_type": "stream",
     "text": [
      "76322 25441\n"
     ]
    }
   ],
   "source": [
    "print(len(train_set), len(test_set))"
   ]
  },
  {
   "cell_type": "code",
   "execution_count": null,
   "metadata": {},
   "outputs": [],
   "source": [
    "from sklearn.neighbors import KNeighborsClassifier as KNN\n",
    "\n",
    "knn_7 = KNN(n_neighbors=7)"
   ]
  },
  {
   "cell_type": "code",
   "execution_count": null,
   "metadata": {},
   "outputs": [
    {
     "data": {
      "text/plain": [
       "43890    1\n",
       "54491    1\n",
       "75712    1\n",
       "7555     1\n",
       "2904     0\n",
       "        ..\n",
       "38742    1\n",
       "50447    0\n",
       "53617    1\n",
       "62737    1\n",
       "72432    0\n",
       "Name: readmitted, Length: 76322, dtype: int64"
      ]
     },
     "execution_count": 95,
     "metadata": {},
     "output_type": "execute_result"
    }
   ],
   "source": [
    "train_set['readmitted']"
   ]
  },
  {
   "cell_type": "code",
   "execution_count": null,
   "metadata": {},
   "outputs": [
    {
     "data": {
      "text/html": [
       "<style>#sk-container-id-1 {\n",
       "  /* Definition of color scheme common for light and dark mode */\n",
       "  --sklearn-color-text: #000;\n",
       "  --sklearn-color-text-muted: #666;\n",
       "  --sklearn-color-line: gray;\n",
       "  /* Definition of color scheme for unfitted estimators */\n",
       "  --sklearn-color-unfitted-level-0: #fff5e6;\n",
       "  --sklearn-color-unfitted-level-1: #f6e4d2;\n",
       "  --sklearn-color-unfitted-level-2: #ffe0b3;\n",
       "  --sklearn-color-unfitted-level-3: chocolate;\n",
       "  /* Definition of color scheme for fitted estimators */\n",
       "  --sklearn-color-fitted-level-0: #f0f8ff;\n",
       "  --sklearn-color-fitted-level-1: #d4ebff;\n",
       "  --sklearn-color-fitted-level-2: #b3dbfd;\n",
       "  --sklearn-color-fitted-level-3: cornflowerblue;\n",
       "\n",
       "  /* Specific color for light theme */\n",
       "  --sklearn-color-text-on-default-background: var(--sg-text-color, var(--theme-code-foreground, var(--jp-content-font-color1, black)));\n",
       "  --sklearn-color-background: var(--sg-background-color, var(--theme-background, var(--jp-layout-color0, white)));\n",
       "  --sklearn-color-border-box: var(--sg-text-color, var(--theme-code-foreground, var(--jp-content-font-color1, black)));\n",
       "  --sklearn-color-icon: #696969;\n",
       "\n",
       "  @media (prefers-color-scheme: dark) {\n",
       "    /* Redefinition of color scheme for dark theme */\n",
       "    --sklearn-color-text-on-default-background: var(--sg-text-color, var(--theme-code-foreground, var(--jp-content-font-color1, white)));\n",
       "    --sklearn-color-background: var(--sg-background-color, var(--theme-background, var(--jp-layout-color0, #111)));\n",
       "    --sklearn-color-border-box: var(--sg-text-color, var(--theme-code-foreground, var(--jp-content-font-color1, white)));\n",
       "    --sklearn-color-icon: #878787;\n",
       "  }\n",
       "}\n",
       "\n",
       "#sk-container-id-1 {\n",
       "  color: var(--sklearn-color-text);\n",
       "}\n",
       "\n",
       "#sk-container-id-1 pre {\n",
       "  padding: 0;\n",
       "}\n",
       "\n",
       "#sk-container-id-1 input.sk-hidden--visually {\n",
       "  border: 0;\n",
       "  clip: rect(1px 1px 1px 1px);\n",
       "  clip: rect(1px, 1px, 1px, 1px);\n",
       "  height: 1px;\n",
       "  margin: -1px;\n",
       "  overflow: hidden;\n",
       "  padding: 0;\n",
       "  position: absolute;\n",
       "  width: 1px;\n",
       "}\n",
       "\n",
       "#sk-container-id-1 div.sk-dashed-wrapped {\n",
       "  border: 1px dashed var(--sklearn-color-line);\n",
       "  margin: 0 0.4em 0.5em 0.4em;\n",
       "  box-sizing: border-box;\n",
       "  padding-bottom: 0.4em;\n",
       "  background-color: var(--sklearn-color-background);\n",
       "}\n",
       "\n",
       "#sk-container-id-1 div.sk-container {\n",
       "  /* jupyter's `normalize.less` sets `[hidden] { display: none; }`\n",
       "     but bootstrap.min.css set `[hidden] { display: none !important; }`\n",
       "     so we also need the `!important` here to be able to override the\n",
       "     default hidden behavior on the sphinx rendered scikit-learn.org.\n",
       "     See: https://github.com/scikit-learn/scikit-learn/issues/21755 */\n",
       "  display: inline-block !important;\n",
       "  position: relative;\n",
       "}\n",
       "\n",
       "#sk-container-id-1 div.sk-text-repr-fallback {\n",
       "  display: none;\n",
       "}\n",
       "\n",
       "div.sk-parallel-item,\n",
       "div.sk-serial,\n",
       "div.sk-item {\n",
       "  /* draw centered vertical line to link estimators */\n",
       "  background-image: linear-gradient(var(--sklearn-color-text-on-default-background), var(--sklearn-color-text-on-default-background));\n",
       "  background-size: 2px 100%;\n",
       "  background-repeat: no-repeat;\n",
       "  background-position: center center;\n",
       "}\n",
       "\n",
       "/* Parallel-specific style estimator block */\n",
       "\n",
       "#sk-container-id-1 div.sk-parallel-item::after {\n",
       "  content: \"\";\n",
       "  width: 100%;\n",
       "  border-bottom: 2px solid var(--sklearn-color-text-on-default-background);\n",
       "  flex-grow: 1;\n",
       "}\n",
       "\n",
       "#sk-container-id-1 div.sk-parallel {\n",
       "  display: flex;\n",
       "  align-items: stretch;\n",
       "  justify-content: center;\n",
       "  background-color: var(--sklearn-color-background);\n",
       "  position: relative;\n",
       "}\n",
       "\n",
       "#sk-container-id-1 div.sk-parallel-item {\n",
       "  display: flex;\n",
       "  flex-direction: column;\n",
       "}\n",
       "\n",
       "#sk-container-id-1 div.sk-parallel-item:first-child::after {\n",
       "  align-self: flex-end;\n",
       "  width: 50%;\n",
       "}\n",
       "\n",
       "#sk-container-id-1 div.sk-parallel-item:last-child::after {\n",
       "  align-self: flex-start;\n",
       "  width: 50%;\n",
       "}\n",
       "\n",
       "#sk-container-id-1 div.sk-parallel-item:only-child::after {\n",
       "  width: 0;\n",
       "}\n",
       "\n",
       "/* Serial-specific style estimator block */\n",
       "\n",
       "#sk-container-id-1 div.sk-serial {\n",
       "  display: flex;\n",
       "  flex-direction: column;\n",
       "  align-items: center;\n",
       "  background-color: var(--sklearn-color-background);\n",
       "  padding-right: 1em;\n",
       "  padding-left: 1em;\n",
       "}\n",
       "\n",
       "\n",
       "/* Toggleable style: style used for estimator/Pipeline/ColumnTransformer box that is\n",
       "clickable and can be expanded/collapsed.\n",
       "- Pipeline and ColumnTransformer use this feature and define the default style\n",
       "- Estimators will overwrite some part of the style using the `sk-estimator` class\n",
       "*/\n",
       "\n",
       "/* Pipeline and ColumnTransformer style (default) */\n",
       "\n",
       "#sk-container-id-1 div.sk-toggleable {\n",
       "  /* Default theme specific background. It is overwritten whether we have a\n",
       "  specific estimator or a Pipeline/ColumnTransformer */\n",
       "  background-color: var(--sklearn-color-background);\n",
       "}\n",
       "\n",
       "/* Toggleable label */\n",
       "#sk-container-id-1 label.sk-toggleable__label {\n",
       "  cursor: pointer;\n",
       "  display: flex;\n",
       "  width: 100%;\n",
       "  margin-bottom: 0;\n",
       "  padding: 0.5em;\n",
       "  box-sizing: border-box;\n",
       "  text-align: center;\n",
       "  align-items: start;\n",
       "  justify-content: space-between;\n",
       "  gap: 0.5em;\n",
       "}\n",
       "\n",
       "#sk-container-id-1 label.sk-toggleable__label .caption {\n",
       "  font-size: 0.6rem;\n",
       "  font-weight: lighter;\n",
       "  color: var(--sklearn-color-text-muted);\n",
       "}\n",
       "\n",
       "#sk-container-id-1 label.sk-toggleable__label-arrow:before {\n",
       "  /* Arrow on the left of the label */\n",
       "  content: \"▸\";\n",
       "  float: left;\n",
       "  margin-right: 0.25em;\n",
       "  color: var(--sklearn-color-icon);\n",
       "}\n",
       "\n",
       "#sk-container-id-1 label.sk-toggleable__label-arrow:hover:before {\n",
       "  color: var(--sklearn-color-text);\n",
       "}\n",
       "\n",
       "/* Toggleable content - dropdown */\n",
       "\n",
       "#sk-container-id-1 div.sk-toggleable__content {\n",
       "  max-height: 0;\n",
       "  max-width: 0;\n",
       "  overflow: hidden;\n",
       "  text-align: left;\n",
       "  /* unfitted */\n",
       "  background-color: var(--sklearn-color-unfitted-level-0);\n",
       "}\n",
       "\n",
       "#sk-container-id-1 div.sk-toggleable__content.fitted {\n",
       "  /* fitted */\n",
       "  background-color: var(--sklearn-color-fitted-level-0);\n",
       "}\n",
       "\n",
       "#sk-container-id-1 div.sk-toggleable__content pre {\n",
       "  margin: 0.2em;\n",
       "  border-radius: 0.25em;\n",
       "  color: var(--sklearn-color-text);\n",
       "  /* unfitted */\n",
       "  background-color: var(--sklearn-color-unfitted-level-0);\n",
       "}\n",
       "\n",
       "#sk-container-id-1 div.sk-toggleable__content.fitted pre {\n",
       "  /* unfitted */\n",
       "  background-color: var(--sklearn-color-fitted-level-0);\n",
       "}\n",
       "\n",
       "#sk-container-id-1 input.sk-toggleable__control:checked~div.sk-toggleable__content {\n",
       "  /* Expand drop-down */\n",
       "  max-height: 200px;\n",
       "  max-width: 100%;\n",
       "  overflow: auto;\n",
       "}\n",
       "\n",
       "#sk-container-id-1 input.sk-toggleable__control:checked~label.sk-toggleable__label-arrow:before {\n",
       "  content: \"▾\";\n",
       "}\n",
       "\n",
       "/* Pipeline/ColumnTransformer-specific style */\n",
       "\n",
       "#sk-container-id-1 div.sk-label input.sk-toggleable__control:checked~label.sk-toggleable__label {\n",
       "  color: var(--sklearn-color-text);\n",
       "  background-color: var(--sklearn-color-unfitted-level-2);\n",
       "}\n",
       "\n",
       "#sk-container-id-1 div.sk-label.fitted input.sk-toggleable__control:checked~label.sk-toggleable__label {\n",
       "  background-color: var(--sklearn-color-fitted-level-2);\n",
       "}\n",
       "\n",
       "/* Estimator-specific style */\n",
       "\n",
       "/* Colorize estimator box */\n",
       "#sk-container-id-1 div.sk-estimator input.sk-toggleable__control:checked~label.sk-toggleable__label {\n",
       "  /* unfitted */\n",
       "  background-color: var(--sklearn-color-unfitted-level-2);\n",
       "}\n",
       "\n",
       "#sk-container-id-1 div.sk-estimator.fitted input.sk-toggleable__control:checked~label.sk-toggleable__label {\n",
       "  /* fitted */\n",
       "  background-color: var(--sklearn-color-fitted-level-2);\n",
       "}\n",
       "\n",
       "#sk-container-id-1 div.sk-label label.sk-toggleable__label,\n",
       "#sk-container-id-1 div.sk-label label {\n",
       "  /* The background is the default theme color */\n",
       "  color: var(--sklearn-color-text-on-default-background);\n",
       "}\n",
       "\n",
       "/* On hover, darken the color of the background */\n",
       "#sk-container-id-1 div.sk-label:hover label.sk-toggleable__label {\n",
       "  color: var(--sklearn-color-text);\n",
       "  background-color: var(--sklearn-color-unfitted-level-2);\n",
       "}\n",
       "\n",
       "/* Label box, darken color on hover, fitted */\n",
       "#sk-container-id-1 div.sk-label.fitted:hover label.sk-toggleable__label.fitted {\n",
       "  color: var(--sklearn-color-text);\n",
       "  background-color: var(--sklearn-color-fitted-level-2);\n",
       "}\n",
       "\n",
       "/* Estimator label */\n",
       "\n",
       "#sk-container-id-1 div.sk-label label {\n",
       "  font-family: monospace;\n",
       "  font-weight: bold;\n",
       "  display: inline-block;\n",
       "  line-height: 1.2em;\n",
       "}\n",
       "\n",
       "#sk-container-id-1 div.sk-label-container {\n",
       "  text-align: center;\n",
       "}\n",
       "\n",
       "/* Estimator-specific */\n",
       "#sk-container-id-1 div.sk-estimator {\n",
       "  font-family: monospace;\n",
       "  border: 1px dotted var(--sklearn-color-border-box);\n",
       "  border-radius: 0.25em;\n",
       "  box-sizing: border-box;\n",
       "  margin-bottom: 0.5em;\n",
       "  /* unfitted */\n",
       "  background-color: var(--sklearn-color-unfitted-level-0);\n",
       "}\n",
       "\n",
       "#sk-container-id-1 div.sk-estimator.fitted {\n",
       "  /* fitted */\n",
       "  background-color: var(--sklearn-color-fitted-level-0);\n",
       "}\n",
       "\n",
       "/* on hover */\n",
       "#sk-container-id-1 div.sk-estimator:hover {\n",
       "  /* unfitted */\n",
       "  background-color: var(--sklearn-color-unfitted-level-2);\n",
       "}\n",
       "\n",
       "#sk-container-id-1 div.sk-estimator.fitted:hover {\n",
       "  /* fitted */\n",
       "  background-color: var(--sklearn-color-fitted-level-2);\n",
       "}\n",
       "\n",
       "/* Specification for estimator info (e.g. \"i\" and \"?\") */\n",
       "\n",
       "/* Common style for \"i\" and \"?\" */\n",
       "\n",
       ".sk-estimator-doc-link,\n",
       "a:link.sk-estimator-doc-link,\n",
       "a:visited.sk-estimator-doc-link {\n",
       "  float: right;\n",
       "  font-size: smaller;\n",
       "  line-height: 1em;\n",
       "  font-family: monospace;\n",
       "  background-color: var(--sklearn-color-background);\n",
       "  border-radius: 1em;\n",
       "  height: 1em;\n",
       "  width: 1em;\n",
       "  text-decoration: none !important;\n",
       "  margin-left: 0.5em;\n",
       "  text-align: center;\n",
       "  /* unfitted */\n",
       "  border: var(--sklearn-color-unfitted-level-1) 1pt solid;\n",
       "  color: var(--sklearn-color-unfitted-level-1);\n",
       "}\n",
       "\n",
       ".sk-estimator-doc-link.fitted,\n",
       "a:link.sk-estimator-doc-link.fitted,\n",
       "a:visited.sk-estimator-doc-link.fitted {\n",
       "  /* fitted */\n",
       "  border: var(--sklearn-color-fitted-level-1) 1pt solid;\n",
       "  color: var(--sklearn-color-fitted-level-1);\n",
       "}\n",
       "\n",
       "/* On hover */\n",
       "div.sk-estimator:hover .sk-estimator-doc-link:hover,\n",
       ".sk-estimator-doc-link:hover,\n",
       "div.sk-label-container:hover .sk-estimator-doc-link:hover,\n",
       ".sk-estimator-doc-link:hover {\n",
       "  /* unfitted */\n",
       "  background-color: var(--sklearn-color-unfitted-level-3);\n",
       "  color: var(--sklearn-color-background);\n",
       "  text-decoration: none;\n",
       "}\n",
       "\n",
       "div.sk-estimator.fitted:hover .sk-estimator-doc-link.fitted:hover,\n",
       ".sk-estimator-doc-link.fitted:hover,\n",
       "div.sk-label-container:hover .sk-estimator-doc-link.fitted:hover,\n",
       ".sk-estimator-doc-link.fitted:hover {\n",
       "  /* fitted */\n",
       "  background-color: var(--sklearn-color-fitted-level-3);\n",
       "  color: var(--sklearn-color-background);\n",
       "  text-decoration: none;\n",
       "}\n",
       "\n",
       "/* Span, style for the box shown on hovering the info icon */\n",
       ".sk-estimator-doc-link span {\n",
       "  display: none;\n",
       "  z-index: 9999;\n",
       "  position: relative;\n",
       "  font-weight: normal;\n",
       "  right: .2ex;\n",
       "  padding: .5ex;\n",
       "  margin: .5ex;\n",
       "  width: min-content;\n",
       "  min-width: 20ex;\n",
       "  max-width: 50ex;\n",
       "  color: var(--sklearn-color-text);\n",
       "  box-shadow: 2pt 2pt 4pt #999;\n",
       "  /* unfitted */\n",
       "  background: var(--sklearn-color-unfitted-level-0);\n",
       "  border: .5pt solid var(--sklearn-color-unfitted-level-3);\n",
       "}\n",
       "\n",
       ".sk-estimator-doc-link.fitted span {\n",
       "  /* fitted */\n",
       "  background: var(--sklearn-color-fitted-level-0);\n",
       "  border: var(--sklearn-color-fitted-level-3);\n",
       "}\n",
       "\n",
       ".sk-estimator-doc-link:hover span {\n",
       "  display: block;\n",
       "}\n",
       "\n",
       "/* \"?\"-specific style due to the `<a>` HTML tag */\n",
       "\n",
       "#sk-container-id-1 a.estimator_doc_link {\n",
       "  float: right;\n",
       "  font-size: 1rem;\n",
       "  line-height: 1em;\n",
       "  font-family: monospace;\n",
       "  background-color: var(--sklearn-color-background);\n",
       "  border-radius: 1rem;\n",
       "  height: 1rem;\n",
       "  width: 1rem;\n",
       "  text-decoration: none;\n",
       "  /* unfitted */\n",
       "  color: var(--sklearn-color-unfitted-level-1);\n",
       "  border: var(--sklearn-color-unfitted-level-1) 1pt solid;\n",
       "}\n",
       "\n",
       "#sk-container-id-1 a.estimator_doc_link.fitted {\n",
       "  /* fitted */\n",
       "  border: var(--sklearn-color-fitted-level-1) 1pt solid;\n",
       "  color: var(--sklearn-color-fitted-level-1);\n",
       "}\n",
       "\n",
       "/* On hover */\n",
       "#sk-container-id-1 a.estimator_doc_link:hover {\n",
       "  /* unfitted */\n",
       "  background-color: var(--sklearn-color-unfitted-level-3);\n",
       "  color: var(--sklearn-color-background);\n",
       "  text-decoration: none;\n",
       "}\n",
       "\n",
       "#sk-container-id-1 a.estimator_doc_link.fitted:hover {\n",
       "  /* fitted */\n",
       "  background-color: var(--sklearn-color-fitted-level-3);\n",
       "}\n",
       "</style><div id=\"sk-container-id-1\" class=\"sk-top-container\"><div class=\"sk-text-repr-fallback\"><pre>KNeighborsClassifier(n_neighbors=7)</pre><b>In a Jupyter environment, please rerun this cell to show the HTML representation or trust the notebook. <br />On GitHub, the HTML representation is unable to render, please try loading this page with nbviewer.org.</b></div><div class=\"sk-container\" hidden><div class=\"sk-item\"><div class=\"sk-estimator fitted sk-toggleable\"><input class=\"sk-toggleable__control sk-hidden--visually\" id=\"sk-estimator-id-1\" type=\"checkbox\" checked><label for=\"sk-estimator-id-1\" class=\"sk-toggleable__label fitted sk-toggleable__label-arrow\"><div><div>KNeighborsClassifier</div></div><div><a class=\"sk-estimator-doc-link fitted\" rel=\"noreferrer\" target=\"_blank\" href=\"https://scikit-learn.org/1.6/modules/generated/sklearn.neighbors.KNeighborsClassifier.html\">?<span>Documentation for KNeighborsClassifier</span></a><span class=\"sk-estimator-doc-link fitted\">i<span>Fitted</span></span></div></label><div class=\"sk-toggleable__content fitted\"><pre>KNeighborsClassifier(n_neighbors=7)</pre></div> </div></div></div></div>"
      ],
      "text/plain": [
       "KNeighborsClassifier(n_neighbors=7)"
      ]
     },
     "execution_count": 96,
     "metadata": {},
     "output_type": "execute_result"
    }
   ],
   "source": [
    "knn_7.fit(train_set.drop(columns='readmitted'), train_set['readmitted'])"
   ]
  },
  {
   "cell_type": "code",
   "execution_count": null,
   "metadata": {},
   "outputs": [
    {
     "name": "stdout",
     "output_type": "stream",
     "text": [
      "Accuracy sul training set: 0.69\n",
      "Accuracy sul training set: 0.56\n"
     ]
    }
   ],
   "source": [
    "print(\"Accuracy sul training set: %0.2f\" % knn_7.score(train_set.drop(columns='readmitted'), train_set['readmitted']))\n",
    "print(\"Accuracy sul training set: %0.2f\" % knn_7.score(test_set.drop(columns='readmitted'), test_set['readmitted']))"
   ]
  },
  {
   "cell_type": "markdown",
   "metadata": {},
   "source": [
    "# Conclusions"
   ]
  },
  {
   "cell_type": "markdown",
   "metadata": {},
   "source": []
  }
 ],
 "metadata": {
  "kernelspec": {
   "display_name": "fad",
   "language": "python",
   "name": "python3"
  },
  "language_info": {
   "codemirror_mode": {
    "name": "ipython",
    "version": 3
   },
   "file_extension": ".py",
   "mimetype": "text/x-python",
   "name": "python",
   "nbconvert_exporter": "python",
   "pygments_lexer": "ipython3",
   "version": "3.13.0"
  }
 },
 "nbformat": 4,
 "nbformat_minor": 2
}
