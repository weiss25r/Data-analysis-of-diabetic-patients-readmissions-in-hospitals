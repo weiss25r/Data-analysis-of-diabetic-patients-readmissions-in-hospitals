{
 "cells": [
  {
   "cell_type": "markdown",
   "metadata": {},
   "source": [
    "# Introduction"
   ]
  },
  {
   "cell_type": "code",
   "execution_count": 2,
   "metadata": {},
   "outputs": [],
   "source": [
    "import numpy as np\n",
    "import pandas as pd\n",
    "import matplotlib.pyplot as plt\n",
    "from scipy import stats"
   ]
  },
  {
   "cell_type": "markdown",
   "metadata": {},
   "source": [
    "descrizione dataset e problema"
   ]
  },
  {
   "cell_type": "markdown",
   "metadata": {},
   "source": [
    "# Data cleaning and pre processing"
   ]
  },
  {
   "cell_type": "code",
   "execution_count": 3,
   "metadata": {},
   "outputs": [],
   "source": [
    "data = pd.read_csv('data/diabetic_data.csv')"
   ]
  },
  {
   "cell_type": "code",
   "execution_count": 4,
   "metadata": {},
   "outputs": [],
   "source": [
    "data.rename(columns={'glyburide-metformin':'glyburide_metformin', 'glipizide-metformin': 'glipizide_metformin', \n",
    "             'glimepiride-pioglitazone': 'glimepiride_pioglitazone', 'metformin-rosiglitazone': 'metformin_rosiglitazone', \n",
    "             'metformin-pioglitazone': 'metformin_pioglitazone'}, inplace=True)"
   ]
  },
  {
   "cell_type": "code",
   "execution_count": 5,
   "metadata": {},
   "outputs": [
    {
     "data": {
      "text/html": [
       "<div>\n",
       "<style scoped>\n",
       "    .dataframe tbody tr th:only-of-type {\n",
       "        vertical-align: middle;\n",
       "    }\n",
       "\n",
       "    .dataframe tbody tr th {\n",
       "        vertical-align: top;\n",
       "    }\n",
       "\n",
       "    .dataframe thead th {\n",
       "        text-align: right;\n",
       "    }\n",
       "</style>\n",
       "<table border=\"1\" class=\"dataframe\">\n",
       "  <thead>\n",
       "    <tr style=\"text-align: right;\">\n",
       "      <th></th>\n",
       "      <th>encounter_id</th>\n",
       "      <th>patient_nbr</th>\n",
       "      <th>race</th>\n",
       "      <th>gender</th>\n",
       "      <th>age</th>\n",
       "      <th>weight</th>\n",
       "      <th>admission_type_id</th>\n",
       "      <th>discharge_disposition_id</th>\n",
       "      <th>admission_source_id</th>\n",
       "      <th>time_in_hospital</th>\n",
       "      <th>...</th>\n",
       "      <th>citoglipton</th>\n",
       "      <th>insulin</th>\n",
       "      <th>glyburide_metformin</th>\n",
       "      <th>glipizide_metformin</th>\n",
       "      <th>glimepiride_pioglitazone</th>\n",
       "      <th>metformin_rosiglitazone</th>\n",
       "      <th>metformin_pioglitazone</th>\n",
       "      <th>change</th>\n",
       "      <th>diabetesMed</th>\n",
       "      <th>readmitted</th>\n",
       "    </tr>\n",
       "  </thead>\n",
       "  <tbody>\n",
       "    <tr>\n",
       "      <th>0</th>\n",
       "      <td>2278392</td>\n",
       "      <td>8222157</td>\n",
       "      <td>Caucasian</td>\n",
       "      <td>Female</td>\n",
       "      <td>[0-10)</td>\n",
       "      <td>?</td>\n",
       "      <td>6</td>\n",
       "      <td>25</td>\n",
       "      <td>1</td>\n",
       "      <td>1</td>\n",
       "      <td>...</td>\n",
       "      <td>No</td>\n",
       "      <td>No</td>\n",
       "      <td>No</td>\n",
       "      <td>No</td>\n",
       "      <td>No</td>\n",
       "      <td>No</td>\n",
       "      <td>No</td>\n",
       "      <td>No</td>\n",
       "      <td>No</td>\n",
       "      <td>NO</td>\n",
       "    </tr>\n",
       "    <tr>\n",
       "      <th>1</th>\n",
       "      <td>149190</td>\n",
       "      <td>55629189</td>\n",
       "      <td>Caucasian</td>\n",
       "      <td>Female</td>\n",
       "      <td>[10-20)</td>\n",
       "      <td>?</td>\n",
       "      <td>1</td>\n",
       "      <td>1</td>\n",
       "      <td>7</td>\n",
       "      <td>3</td>\n",
       "      <td>...</td>\n",
       "      <td>No</td>\n",
       "      <td>Up</td>\n",
       "      <td>No</td>\n",
       "      <td>No</td>\n",
       "      <td>No</td>\n",
       "      <td>No</td>\n",
       "      <td>No</td>\n",
       "      <td>Ch</td>\n",
       "      <td>Yes</td>\n",
       "      <td>&gt;30</td>\n",
       "    </tr>\n",
       "    <tr>\n",
       "      <th>2</th>\n",
       "      <td>64410</td>\n",
       "      <td>86047875</td>\n",
       "      <td>AfricanAmerican</td>\n",
       "      <td>Female</td>\n",
       "      <td>[20-30)</td>\n",
       "      <td>?</td>\n",
       "      <td>1</td>\n",
       "      <td>1</td>\n",
       "      <td>7</td>\n",
       "      <td>2</td>\n",
       "      <td>...</td>\n",
       "      <td>No</td>\n",
       "      <td>No</td>\n",
       "      <td>No</td>\n",
       "      <td>No</td>\n",
       "      <td>No</td>\n",
       "      <td>No</td>\n",
       "      <td>No</td>\n",
       "      <td>No</td>\n",
       "      <td>Yes</td>\n",
       "      <td>NO</td>\n",
       "    </tr>\n",
       "    <tr>\n",
       "      <th>3</th>\n",
       "      <td>500364</td>\n",
       "      <td>82442376</td>\n",
       "      <td>Caucasian</td>\n",
       "      <td>Male</td>\n",
       "      <td>[30-40)</td>\n",
       "      <td>?</td>\n",
       "      <td>1</td>\n",
       "      <td>1</td>\n",
       "      <td>7</td>\n",
       "      <td>2</td>\n",
       "      <td>...</td>\n",
       "      <td>No</td>\n",
       "      <td>Up</td>\n",
       "      <td>No</td>\n",
       "      <td>No</td>\n",
       "      <td>No</td>\n",
       "      <td>No</td>\n",
       "      <td>No</td>\n",
       "      <td>Ch</td>\n",
       "      <td>Yes</td>\n",
       "      <td>NO</td>\n",
       "    </tr>\n",
       "    <tr>\n",
       "      <th>4</th>\n",
       "      <td>16680</td>\n",
       "      <td>42519267</td>\n",
       "      <td>Caucasian</td>\n",
       "      <td>Male</td>\n",
       "      <td>[40-50)</td>\n",
       "      <td>?</td>\n",
       "      <td>1</td>\n",
       "      <td>1</td>\n",
       "      <td>7</td>\n",
       "      <td>1</td>\n",
       "      <td>...</td>\n",
       "      <td>No</td>\n",
       "      <td>Steady</td>\n",
       "      <td>No</td>\n",
       "      <td>No</td>\n",
       "      <td>No</td>\n",
       "      <td>No</td>\n",
       "      <td>No</td>\n",
       "      <td>Ch</td>\n",
       "      <td>Yes</td>\n",
       "      <td>NO</td>\n",
       "    </tr>\n",
       "  </tbody>\n",
       "</table>\n",
       "<p>5 rows × 50 columns</p>\n",
       "</div>"
      ],
      "text/plain": [
       "   encounter_id  patient_nbr             race  gender      age weight  \\\n",
       "0       2278392      8222157        Caucasian  Female   [0-10)      ?   \n",
       "1        149190     55629189        Caucasian  Female  [10-20)      ?   \n",
       "2         64410     86047875  AfricanAmerican  Female  [20-30)      ?   \n",
       "3        500364     82442376        Caucasian    Male  [30-40)      ?   \n",
       "4         16680     42519267        Caucasian    Male  [40-50)      ?   \n",
       "\n",
       "   admission_type_id  discharge_disposition_id  admission_source_id  \\\n",
       "0                  6                        25                    1   \n",
       "1                  1                         1                    7   \n",
       "2                  1                         1                    7   \n",
       "3                  1                         1                    7   \n",
       "4                  1                         1                    7   \n",
       "\n",
       "   time_in_hospital  ... citoglipton insulin  glyburide_metformin  \\\n",
       "0                 1  ...          No      No                   No   \n",
       "1                 3  ...          No      Up                   No   \n",
       "2                 2  ...          No      No                   No   \n",
       "3                 2  ...          No      Up                   No   \n",
       "4                 1  ...          No  Steady                   No   \n",
       "\n",
       "   glipizide_metformin  glimepiride_pioglitazone  metformin_rosiglitazone  \\\n",
       "0                   No                        No                       No   \n",
       "1                   No                        No                       No   \n",
       "2                   No                        No                       No   \n",
       "3                   No                        No                       No   \n",
       "4                   No                        No                       No   \n",
       "\n",
       "   metformin_pioglitazone  change diabetesMed readmitted  \n",
       "0                      No      No          No         NO  \n",
       "1                      No      Ch         Yes        >30  \n",
       "2                      No      No         Yes         NO  \n",
       "3                      No      Ch         Yes         NO  \n",
       "4                      No      Ch         Yes         NO  \n",
       "\n",
       "[5 rows x 50 columns]"
      ]
     },
     "execution_count": 5,
     "metadata": {},
     "output_type": "execute_result"
    }
   ],
   "source": [
    "data.head()"
   ]
  },
  {
   "cell_type": "markdown",
   "metadata": {},
   "source": [
    "## Counting missing values for each feature"
   ]
  },
  {
   "cell_type": "markdown",
   "metadata": {},
   "source": [
    "### Nan Values"
   ]
  },
  {
   "cell_type": "code",
   "execution_count": 6,
   "metadata": {},
   "outputs": [
    {
     "data": {
      "text/plain": [
       "(101766, 50)"
      ]
     },
     "execution_count": 6,
     "metadata": {},
     "output_type": "execute_result"
    }
   ],
   "source": [
    "data.shape"
   ]
  },
  {
   "cell_type": "code",
   "execution_count": 7,
   "metadata": {},
   "outputs": [
    {
     "name": "stdout",
     "output_type": "stream",
     "text": [
      "max_glu_serum    94.746772\n",
      "A1Cresult        83.277322\n",
      "dtype: float64\n"
     ]
    }
   ],
   "source": [
    "na_values = data.isna().sum(axis=0)\n",
    "\n",
    "print(na_values[na_values > 0]/len(data) * 100)"
   ]
  },
  {
   "cell_type": "markdown",
   "metadata": {},
   "source": [
    "Apparently, max_glu_serum and A1Cresults are the only features with 'Nan' values. We can easily drop these columns, as these features are categorical so they cannot be inferred in any way. \n"
   ]
  },
  {
   "cell_type": "code",
   "execution_count": 8,
   "metadata": {},
   "outputs": [
    {
     "data": {
      "text/plain": [
       "array([nan, '>300', 'Norm', '>200'], dtype=object)"
      ]
     },
     "execution_count": 8,
     "metadata": {},
     "output_type": "execute_result"
    }
   ],
   "source": [
    "data['max_glu_serum'].unique()"
   ]
  },
  {
   "cell_type": "code",
   "execution_count": 9,
   "metadata": {},
   "outputs": [
    {
     "data": {
      "text/plain": [
       "array([nan, '>7', '>8', 'Norm'], dtype=object)"
      ]
     },
     "execution_count": 9,
     "metadata": {},
     "output_type": "execute_result"
    }
   ],
   "source": [
    "data['A1Cresult'].unique()"
   ]
  },
  {
   "cell_type": "code",
   "execution_count": 10,
   "metadata": {},
   "outputs": [],
   "source": [
    "data = data.drop(columns=['max_glu_serum', 'A1Cresult'])"
   ]
  },
  {
   "cell_type": "markdown",
   "metadata": {},
   "source": [
    "### Other missing values"
   ]
  },
  {
   "cell_type": "markdown",
   "metadata": {},
   "source": [
    "Taking a look at the datasaet, it is clear that for some features missing values are indicated by a question mark rathen than being nan values. Let's count missing values for each column"
   ]
  },
  {
   "cell_type": "code",
   "execution_count": 11,
   "metadata": {},
   "outputs": [
    {
     "name": "stdout",
     "output_type": "stream",
     "text": [
      "race [2.23355541]\n",
      "weight [96.85847926]\n",
      "payer_code [39.55741603]\n",
      "medical_specialty [49.0822082]\n",
      "diag_1 [0.02063558]\n",
      "diag_2 [0.35178743]\n",
      "diag_3 [1.39830592]\n"
     ]
    }
   ],
   "source": [
    "for col in data.columns:\n",
    "    missing_values = data.loc[data[col] == '?', col].value_counts()\n",
    "    if len(missing_values.values > 0):\n",
    "        print(col, missing_values.values/len(data) * 100)"
   ]
  },
  {
   "cell_type": "markdown",
   "metadata": {},
   "source": [
    "From the results above, we find that the feature 'weight' is available only for 3% of the observations! This column can be dropped. We also find that 49% of observations do not have values for medical_speciality and 39% do not have values for payer_code. These two are both categorical variables, so we cannot use the mean or other statistics to replace missing values. So, they can easily be dropped\n",
    "diag_1, diag_2 and diag_3 are diagnosis so they cannot be inferred. In a classification setting these features can cleary be useful. Suppose the primary diagnosis is correct: intuitevely, a patient with a correct diagnosis has a less probability of returning to the hospital rather than a patient with n incorrect diaagnosis. Rather than drop the columns it is wiser to drop the observations with missing diagnosis."
   ]
  },
  {
   "cell_type": "code",
   "execution_count": 12,
   "metadata": {},
   "outputs": [],
   "source": [
    "data = data.drop(columns=['weight', 'payer_code', 'medical_specialty'])"
   ]
  },
  {
   "cell_type": "code",
   "execution_count": 13,
   "metadata": {},
   "outputs": [
    {
     "data": {
      "text/plain": [
       "(101766, 45)"
      ]
     },
     "execution_count": 13,
     "metadata": {},
     "output_type": "execute_result"
    }
   ],
   "source": [
    "data.shape"
   ]
  },
  {
   "cell_type": "code",
   "execution_count": 14,
   "metadata": {},
   "outputs": [
    {
     "data": {
      "text/html": [
       "<div>\n",
       "<style scoped>\n",
       "    .dataframe tbody tr th:only-of-type {\n",
       "        vertical-align: middle;\n",
       "    }\n",
       "\n",
       "    .dataframe tbody tr th {\n",
       "        vertical-align: top;\n",
       "    }\n",
       "\n",
       "    .dataframe thead th {\n",
       "        text-align: right;\n",
       "    }\n",
       "</style>\n",
       "<table border=\"1\" class=\"dataframe\">\n",
       "  <thead>\n",
       "    <tr style=\"text-align: right;\">\n",
       "      <th></th>\n",
       "      <th>encounter_id</th>\n",
       "      <th>patient_nbr</th>\n",
       "      <th>race</th>\n",
       "      <th>gender</th>\n",
       "      <th>age</th>\n",
       "      <th>admission_type_id</th>\n",
       "      <th>discharge_disposition_id</th>\n",
       "      <th>admission_source_id</th>\n",
       "      <th>time_in_hospital</th>\n",
       "      <th>num_lab_procedures</th>\n",
       "      <th>...</th>\n",
       "      <th>citoglipton</th>\n",
       "      <th>insulin</th>\n",
       "      <th>glyburide_metformin</th>\n",
       "      <th>glipizide_metformin</th>\n",
       "      <th>glimepiride_pioglitazone</th>\n",
       "      <th>metformin_rosiglitazone</th>\n",
       "      <th>metformin_pioglitazone</th>\n",
       "      <th>change</th>\n",
       "      <th>diabetesMed</th>\n",
       "      <th>readmitted</th>\n",
       "    </tr>\n",
       "  </thead>\n",
       "  <tbody>\n",
       "    <tr>\n",
       "      <th>0</th>\n",
       "      <td>2278392</td>\n",
       "      <td>8222157</td>\n",
       "      <td>Caucasian</td>\n",
       "      <td>Female</td>\n",
       "      <td>[0-10)</td>\n",
       "      <td>6</td>\n",
       "      <td>25</td>\n",
       "      <td>1</td>\n",
       "      <td>1</td>\n",
       "      <td>41</td>\n",
       "      <td>...</td>\n",
       "      <td>No</td>\n",
       "      <td>No</td>\n",
       "      <td>No</td>\n",
       "      <td>No</td>\n",
       "      <td>No</td>\n",
       "      <td>No</td>\n",
       "      <td>No</td>\n",
       "      <td>No</td>\n",
       "      <td>No</td>\n",
       "      <td>NO</td>\n",
       "    </tr>\n",
       "    <tr>\n",
       "      <th>1</th>\n",
       "      <td>149190</td>\n",
       "      <td>55629189</td>\n",
       "      <td>Caucasian</td>\n",
       "      <td>Female</td>\n",
       "      <td>[10-20)</td>\n",
       "      <td>1</td>\n",
       "      <td>1</td>\n",
       "      <td>7</td>\n",
       "      <td>3</td>\n",
       "      <td>59</td>\n",
       "      <td>...</td>\n",
       "      <td>No</td>\n",
       "      <td>Up</td>\n",
       "      <td>No</td>\n",
       "      <td>No</td>\n",
       "      <td>No</td>\n",
       "      <td>No</td>\n",
       "      <td>No</td>\n",
       "      <td>Ch</td>\n",
       "      <td>Yes</td>\n",
       "      <td>&gt;30</td>\n",
       "    </tr>\n",
       "    <tr>\n",
       "      <th>2</th>\n",
       "      <td>64410</td>\n",
       "      <td>86047875</td>\n",
       "      <td>AfricanAmerican</td>\n",
       "      <td>Female</td>\n",
       "      <td>[20-30)</td>\n",
       "      <td>1</td>\n",
       "      <td>1</td>\n",
       "      <td>7</td>\n",
       "      <td>2</td>\n",
       "      <td>11</td>\n",
       "      <td>...</td>\n",
       "      <td>No</td>\n",
       "      <td>No</td>\n",
       "      <td>No</td>\n",
       "      <td>No</td>\n",
       "      <td>No</td>\n",
       "      <td>No</td>\n",
       "      <td>No</td>\n",
       "      <td>No</td>\n",
       "      <td>Yes</td>\n",
       "      <td>NO</td>\n",
       "    </tr>\n",
       "    <tr>\n",
       "      <th>3</th>\n",
       "      <td>500364</td>\n",
       "      <td>82442376</td>\n",
       "      <td>Caucasian</td>\n",
       "      <td>Male</td>\n",
       "      <td>[30-40)</td>\n",
       "      <td>1</td>\n",
       "      <td>1</td>\n",
       "      <td>7</td>\n",
       "      <td>2</td>\n",
       "      <td>44</td>\n",
       "      <td>...</td>\n",
       "      <td>No</td>\n",
       "      <td>Up</td>\n",
       "      <td>No</td>\n",
       "      <td>No</td>\n",
       "      <td>No</td>\n",
       "      <td>No</td>\n",
       "      <td>No</td>\n",
       "      <td>Ch</td>\n",
       "      <td>Yes</td>\n",
       "      <td>NO</td>\n",
       "    </tr>\n",
       "    <tr>\n",
       "      <th>4</th>\n",
       "      <td>16680</td>\n",
       "      <td>42519267</td>\n",
       "      <td>Caucasian</td>\n",
       "      <td>Male</td>\n",
       "      <td>[40-50)</td>\n",
       "      <td>1</td>\n",
       "      <td>1</td>\n",
       "      <td>7</td>\n",
       "      <td>1</td>\n",
       "      <td>51</td>\n",
       "      <td>...</td>\n",
       "      <td>No</td>\n",
       "      <td>Steady</td>\n",
       "      <td>No</td>\n",
       "      <td>No</td>\n",
       "      <td>No</td>\n",
       "      <td>No</td>\n",
       "      <td>No</td>\n",
       "      <td>Ch</td>\n",
       "      <td>Yes</td>\n",
       "      <td>NO</td>\n",
       "    </tr>\n",
       "  </tbody>\n",
       "</table>\n",
       "<p>5 rows × 45 columns</p>\n",
       "</div>"
      ],
      "text/plain": [
       "   encounter_id  patient_nbr             race  gender      age  \\\n",
       "0       2278392      8222157        Caucasian  Female   [0-10)   \n",
       "1        149190     55629189        Caucasian  Female  [10-20)   \n",
       "2         64410     86047875  AfricanAmerican  Female  [20-30)   \n",
       "3        500364     82442376        Caucasian    Male  [30-40)   \n",
       "4         16680     42519267        Caucasian    Male  [40-50)   \n",
       "\n",
       "   admission_type_id  discharge_disposition_id  admission_source_id  \\\n",
       "0                  6                        25                    1   \n",
       "1                  1                         1                    7   \n",
       "2                  1                         1                    7   \n",
       "3                  1                         1                    7   \n",
       "4                  1                         1                    7   \n",
       "\n",
       "   time_in_hospital  num_lab_procedures  ...  citoglipton  insulin  \\\n",
       "0                 1                  41  ...           No       No   \n",
       "1                 3                  59  ...           No       Up   \n",
       "2                 2                  11  ...           No       No   \n",
       "3                 2                  44  ...           No       Up   \n",
       "4                 1                  51  ...           No   Steady   \n",
       "\n",
       "   glyburide_metformin  glipizide_metformin  glimepiride_pioglitazone  \\\n",
       "0                   No                   No                        No   \n",
       "1                   No                   No                        No   \n",
       "2                   No                   No                        No   \n",
       "3                   No                   No                        No   \n",
       "4                   No                   No                        No   \n",
       "\n",
       "  metformin_rosiglitazone metformin_pioglitazone change  diabetesMed  \\\n",
       "0                      No                     No     No           No   \n",
       "1                      No                     No     Ch          Yes   \n",
       "2                      No                     No     No          Yes   \n",
       "3                      No                     No     Ch          Yes   \n",
       "4                      No                     No     Ch          Yes   \n",
       "\n",
       "  readmitted  \n",
       "0         NO  \n",
       "1        >30  \n",
       "2         NO  \n",
       "3         NO  \n",
       "4         NO  \n",
       "\n",
       "[5 rows x 45 columns]"
      ]
     },
     "execution_count": 14,
     "metadata": {},
     "output_type": "execute_result"
    }
   ],
   "source": [
    "data.head()"
   ]
  },
  {
   "cell_type": "markdown",
   "metadata": {},
   "source": [
    "Data is now ready for the analysis pipeline!"
   ]
  },
  {
   "cell_type": "markdown",
   "metadata": {},
   "source": [
    "## Renaiming some columns"
   ]
  },
  {
   "cell_type": "markdown",
   "metadata": {},
   "source": [
    "To avoid potential failure when using statsmodel, we rename the columns that contains a '-' in their name."
   ]
  },
  {
   "cell_type": "code",
   "execution_count": 15,
   "metadata": {},
   "outputs": [],
   "source": [
    "data.rename(columns={'glyburide-metformin':'glyburide_metformin', 'glipizide-metformin': 'glipizide_metformin', \n",
    "             'glimepiride-pioglitazone': 'glimepiride_pioglitazone', 'metformin-rosiglitazone': 'metformin_rosiglitazone', \n",
    "             'metformin-pioglitazone': 'metformin_pioglitazone'}, inplace=True)"
   ]
  },
  {
   "cell_type": "markdown",
   "metadata": {},
   "source": [
    "## Removing outliers"
   ]
  },
  {
   "cell_type": "code",
   "execution_count": 16,
   "metadata": {},
   "outputs": [],
   "source": [
    "data[data['gender'] == 'Unknown/Invalid']\n",
    "data = data.drop(index=[30506, 75551, 82573])"
   ]
  },
  {
   "cell_type": "markdown",
   "metadata": {},
   "source": [
    "# Exploratory data analysis"
   ]
  },
  {
   "cell_type": "markdown",
   "metadata": {},
   "source": [
    "## What is the most frequent readmission type?"
   ]
  },
  {
   "cell_type": "code",
   "execution_count": 17,
   "metadata": {},
   "outputs": [
    {
     "name": "stdout",
     "output_type": "stream",
     "text": [
      "readmitted\n",
      "<30    0.111602\n",
      ">30    0.349292\n",
      "NO     0.539106\n",
      "Name: proportion, dtype: float64\n"
     ]
    }
   ],
   "source": [
    "freqs = data['readmitted'].value_counts(normalize=True).sort_index()\n",
    "print(freqs)"
   ]
  },
  {
   "cell_type": "code",
   "execution_count": 18,
   "metadata": {},
   "outputs": [
    {
     "data": {
      "text/plain": [
       "<Axes: xlabel='readmitted'>"
      ]
     },
     "execution_count": 18,
     "metadata": {},
     "output_type": "execute_result"
    },
    {
     "data": {
      "image/png": "[encoded data removed]",
      "text/plain": [
       "<Figure size 900x600 with 1 Axes>"
      ]
     },
     "metadata": {},
     "output_type": "display_data"
    }
   ],
   "source": [
    "freqs.plot.bar(figsize=(9, 6))"
   ]
  },
  {
   "cell_type": "markdown",
   "metadata": {},
   "source": [
    "The dataset is very imbalanced. Only 10% of observations represents class \"readmitted within 30 days\". "
   ]
  },
  {
   "cell_type": "markdown",
   "metadata": {},
   "source": [
    "## What is the distribution of gender between readmissions?"
   ]
  },
  {
   "cell_type": "markdown",
   "metadata": {},
   "source": [
    "## Distribution of gender"
   ]
  },
  {
   "cell_type": "code",
   "execution_count": 19,
   "metadata": {},
   "outputs": [
    {
     "data": {
      "text/plain": [
       "array(['Female', 'Male'], dtype=object)"
      ]
     },
     "execution_count": 19,
     "metadata": {},
     "output_type": "execute_result"
    }
   ],
   "source": [
    "data['gender'].unique()"
   ]
  },
  {
   "cell_type": "code",
   "execution_count": 20,
   "metadata": {},
   "outputs": [
    {
     "name": "stdout",
     "output_type": "stream",
     "text": [
      "gender\n",
      "Female    0.537602\n",
      "Male      0.462398\n",
      "Name: proportion, dtype: float64\n"
     ]
    }
   ],
   "source": [
    "freqs = data['gender'].value_counts(normalize=True)\n",
    "print(freqs)"
   ]
  },
  {
   "cell_type": "code",
   "execution_count": 21,
   "metadata": {},
   "outputs": [
    {
     "data": {
      "text/plain": [
       "<Axes: xlabel='gender'>"
      ]
     },
     "execution_count": 21,
     "metadata": {},
     "output_type": "execute_result"
    },
    {
     "data": {
      "image/png": "[encoded data removed]",
      "text/plain": [
       "<Figure size 640x480 with 1 Axes>"
      ]
     },
     "metadata": {},
     "output_type": "display_data"
    }
   ],
   "source": [
    "freqs.plot.bar()"
   ]
  },
  {
   "cell_type": "markdown",
   "metadata": {},
   "source": [
    "Let's count how many patients with 'unknown/invalid' gender are there in the dataset"
   ]
  },
  {
   "cell_type": "code",
   "execution_count": 22,
   "metadata": {},
   "outputs": [
    {
     "data": {
      "text/plain": [
       "gender\n",
       "Female    54708\n",
       "Male      47055\n",
       "Name: count, dtype: int64"
      ]
     },
     "execution_count": 22,
     "metadata": {},
     "output_type": "execute_result"
    }
   ],
   "source": [
    "data['gender'].value_counts().sort_index()"
   ]
  },
  {
   "cell_type": "markdown",
   "metadata": {},
   "source": [
    "## Distribution of gender between readmissions"
   ]
  },
  {
   "cell_type": "code",
   "execution_count": 23,
   "metadata": {},
   "outputs": [
    {
     "data": {
      "text/plain": [
       "<Axes: xlabel='gender'>"
      ]
     },
     "execution_count": 23,
     "metadata": {},
     "output_type": "execute_result"
    },
    {
     "data": {
      "image/png": "[encoded data removed]",
      "text/plain": [
       "<Figure size 1200x900 with 1 Axes>"
      ]
     },
     "metadata": {},
     "output_type": "display_data"
    }
   ],
   "source": [
    "d = data[['gender', 'readmitted']]\n",
    "\n",
    "cont_table = pd.crosstab(index=d['gender'], columns=data['readmitted'], normalize=True)\n",
    "\n",
    "cont_table.plot.bar(figsize=(12, 9))"
   ]
  },
  {
   "cell_type": "code",
   "execution_count": 24,
   "metadata": {},
   "outputs": [
    {
     "data": {
      "text/plain": [
       "<Axes: xlabel='gender'>"
      ]
     },
     "execution_count": 24,
     "metadata": {},
     "output_type": "execute_result"
    },
    {
     "data": {
      "image/png": "[encoded data removed]",
      "text/plain": [
       "<Figure size 640x480 with 1 Axes>"
      ]
     },
     "metadata": {},
     "output_type": "display_data"
    }
   ],
   "source": [
    "freqs.plot.bar()"
   ]
  },
  {
   "cell_type": "markdown",
   "metadata": {},
   "source": [
    "## Distribution of age"
   ]
  },
  {
   "cell_type": "code",
   "execution_count": 25,
   "metadata": {},
   "outputs": [
    {
     "data": {
      "image/png": "[encoded data removed]",
      "text/plain": [
       "<Figure size 640x480 with 1 Axes>"
      ]
     },
     "metadata": {},
     "output_type": "display_data"
    }
   ],
   "source": [
    "freqs = data['age'].value_counts().sort_index().plot.bar()"
   ]
  },
  {
   "cell_type": "code",
   "execution_count": 26,
   "metadata": {},
   "outputs": [
    {
     "data": {
      "text/html": [
       "<div>\n",
       "<style scoped>\n",
       "    .dataframe tbody tr th:only-of-type {\n",
       "        vertical-align: middle;\n",
       "    }\n",
       "\n",
       "    .dataframe tbody tr th {\n",
       "        vertical-align: top;\n",
       "    }\n",
       "\n",
       "    .dataframe thead th {\n",
       "        text-align: right;\n",
       "    }\n",
       "</style>\n",
       "<table border=\"1\" class=\"dataframe\">\n",
       "  <thead>\n",
       "    <tr style=\"text-align: right;\">\n",
       "      <th>readmitted</th>\n",
       "      <th>&lt;30</th>\n",
       "      <th>&gt;30</th>\n",
       "      <th>NO</th>\n",
       "    </tr>\n",
       "    <tr>\n",
       "      <th>age</th>\n",
       "      <th></th>\n",
       "      <th></th>\n",
       "      <th></th>\n",
       "    </tr>\n",
       "  </thead>\n",
       "  <tbody>\n",
       "    <tr>\n",
       "      <th>[0-10)</th>\n",
       "      <td>0.000029</td>\n",
       "      <td>0.000255</td>\n",
       "      <td>0.001297</td>\n",
       "    </tr>\n",
       "    <tr>\n",
       "      <th>[10-20)</th>\n",
       "      <td>0.000393</td>\n",
       "      <td>0.002201</td>\n",
       "      <td>0.004196</td>\n",
       "    </tr>\n",
       "    <tr>\n",
       "      <th>[20-30)</th>\n",
       "      <td>0.002319</td>\n",
       "      <td>0.005012</td>\n",
       "      <td>0.008952</td>\n",
       "    </tr>\n",
       "    <tr>\n",
       "      <th>[30-40)</th>\n",
       "      <td>0.004167</td>\n",
       "      <td>0.011664</td>\n",
       "      <td>0.021265</td>\n",
       "    </tr>\n",
       "    <tr>\n",
       "      <th>[40-50)</th>\n",
       "      <td>0.010092</td>\n",
       "      <td>0.032212</td>\n",
       "      <td>0.052868</td>\n",
       "    </tr>\n",
       "    <tr>\n",
       "      <th>[50-60)</th>\n",
       "      <td>0.016391</td>\n",
       "      <td>0.058145</td>\n",
       "      <td>0.095035</td>\n",
       "    </tr>\n",
       "    <tr>\n",
       "      <th>[60-70)</th>\n",
       "      <td>0.024587</td>\n",
       "      <td>0.077602</td>\n",
       "      <td>0.118737</td>\n",
       "    </tr>\n",
       "    <tr>\n",
       "      <th>[70-80)</th>\n",
       "      <td>0.030158</td>\n",
       "      <td>0.093108</td>\n",
       "      <td>0.132877</td>\n",
       "    </tr>\n",
       "    <tr>\n",
       "      <th>[80-90)</th>\n",
       "      <td>0.020420</td>\n",
       "      <td>0.061152</td>\n",
       "      <td>0.087419</td>\n",
       "    </tr>\n",
       "    <tr>\n",
       "      <th>[90-100)</th>\n",
       "      <td>0.003046</td>\n",
       "      <td>0.007940</td>\n",
       "      <td>0.016460</td>\n",
       "    </tr>\n",
       "  </tbody>\n",
       "</table>\n",
       "</div>"
      ],
      "text/plain": [
       "readmitted       <30       >30        NO\n",
       "age                                     \n",
       "[0-10)      0.000029  0.000255  0.001297\n",
       "[10-20)     0.000393  0.002201  0.004196\n",
       "[20-30)     0.002319  0.005012  0.008952\n",
       "[30-40)     0.004167  0.011664  0.021265\n",
       "[40-50)     0.010092  0.032212  0.052868\n",
       "[50-60)     0.016391  0.058145  0.095035\n",
       "[60-70)     0.024587  0.077602  0.118737\n",
       "[70-80)     0.030158  0.093108  0.132877\n",
       "[80-90)     0.020420  0.061152  0.087419\n",
       "[90-100)    0.003046  0.007940  0.016460"
      ]
     },
     "execution_count": 26,
     "metadata": {},
     "output_type": "execute_result"
    }
   ],
   "source": [
    "cont_table = pd.crosstab(index=data['age'], columns=data['readmitted'], normalize=True)\n",
    "cont_table"
   ]
  },
  {
   "cell_type": "code",
   "execution_count": 27,
   "metadata": {},
   "outputs": [
    {
     "data": {
      "text/plain": [
       "<Axes: xlabel='age'>"
      ]
     },
     "execution_count": 27,
     "metadata": {},
     "output_type": "execute_result"
    },
    {
     "data": {
      "image/png": "[encoded data removed]",
      "text/plain": [
       "<Figure size 1200x600 with 1 Axes>"
      ]
     },
     "metadata": {},
     "output_type": "display_data"
    }
   ],
   "source": [
    "cont_table.plot.bar(figsize=(12, 6))"
   ]
  },
  {
   "cell_type": "markdown",
   "metadata": {},
   "source": [
    "From the plot above, we can say that the distribution of age is similar between readmisssions types."
   ]
  },
  {
   "cell_type": "markdown",
   "metadata": {},
   "source": [
    "# Preparing data for further analysis"
   ]
  },
  {
   "cell_type": "code",
   "execution_count": 28,
   "metadata": {},
   "outputs": [
    {
     "name": "stderr",
     "output_type": "stream",
     "text": [
      "C:\\Users\\Raffaele\\AppData\\Local\\Temp\\ipykernel_38724\\3738235945.py:1: FutureWarning: Downcasting behavior in `replace` is deprecated and will be removed in a future version. To retain the old behavior, explicitly call `result.infer_objects(copy=False)`. To opt-in to the future behavior, set `pd.set_option('future.no_silent_downcasting', True)`\n",
      "  data.replace({'readmitted': {'NO': 0, '>30': 1, '<30': 2}}, inplace=True)\n"
     ]
    }
   ],
   "source": [
    "data.replace({'readmitted': {'NO': 0, '>30': 1, '<30': 2}}, inplace=True)"
   ]
  },
  {
   "cell_type": "markdown",
   "metadata": {},
   "source": [
    "Let's drop some variables about administrative data"
   ]
  },
  {
   "cell_type": "code",
   "execution_count": 29,
   "metadata": {},
   "outputs": [],
   "source": [
    "data.drop(columns=['encounter_id', 'patient_nbr', 'race', 'admission_type_id', 'discharge_disposition_id', 'admission_source_id', 'examide', 'citoglipton',\n",
    "                          'diag_1', 'diag_2', 'diag_3'], inplace=True)"
   ]
  },
  {
   "cell_type": "markdown",
   "metadata": {},
   "source": [
    "Variables \"citoglipton\" and \"examide\" have identical values for each observations. so we need to remove them in order to build models for inferential or predictive analysis"
   ]
  },
  {
   "cell_type": "code",
   "execution_count": 30,
   "metadata": {},
   "outputs": [],
   "source": [
    "data.to_csv('cleaned.csv', index=False)"
   ]
  },
  {
   "cell_type": "markdown",
   "metadata": {},
   "source": [
    "# Inferential Analysis"
   ]
  },
  {
   "cell_type": "markdown",
   "metadata": {},
   "source": [
    "## What is the average time in hospital?"
   ]
  },
  {
   "cell_type": "code",
   "execution_count": 31,
   "metadata": {},
   "outputs": [
    {
     "name": "stdout",
     "output_type": "stream",
     "text": [
      "4.396018199149003\n"
     ]
    }
   ],
   "source": [
    "mean = data['time_in_hospital'].mean()\n",
    "print(mean)"
   ]
  },
  {
   "cell_type": "markdown",
   "metadata": {},
   "source": [
    "From the results above, we find that the average time in hospital is 4 days."
   ]
  },
  {
   "cell_type": "code",
   "execution_count": 32,
   "metadata": {},
   "outputs": [
    {
     "data": {
      "text/plain": [
       "<Axes: >"
      ]
     },
     "execution_count": 32,
     "metadata": {},
     "output_type": "execute_result"
    },
    {
     "data": {
      "image/png": "[encoded data removed]",
      "text/plain": [
       "<Figure size 640x480 with 1 Axes>"
      ]
     },
     "metadata": {},
     "output_type": "display_data"
    }
   ],
   "source": [
    "data.boxplot(column=['time_in_hospital'])"
   ]
  },
  {
   "cell_type": "markdown",
   "metadata": {},
   "source": [
    "From the box plot above, we notice that values 13 and 14 are outliers. The median value is 4 and the third quantile is 6. "
   ]
  },
  {
   "cell_type": "markdown",
   "metadata": {},
   "source": [
    "## What is the average time in hospital between readmission classes?"
   ]
  },
  {
   "cell_type": "code",
   "execution_count": 33,
   "metadata": {},
   "outputs": [
    {
     "data": {
      "image/png": "[encoded data removed]",
      "text/plain": [
       "<Figure size 640x480 with 1 Axes>"
      ]
     },
     "metadata": {},
     "output_type": "display_data"
    }
   ],
   "source": [
    "ax = data.boxplot(by='readmitted', column='time_in_hospital')\n",
    "\n",
    "ax.set_title(\"Boxplots of time in_hospital grouped by readmissions type\")\n",
    "plt.suptitle(\"\")\n",
    "plt.show()"
   ]
  },
  {
   "cell_type": "code",
   "execution_count": 34,
   "metadata": {},
   "outputs": [],
   "source": [
    "import seaborn as sns"
   ]
  },
  {
   "cell_type": "code",
   "execution_count": 35,
   "metadata": {},
   "outputs": [
    {
     "data": {
      "text/plain": [
       "<Axes: xlabel='readmitted', ylabel='time_in_hospital'>"
      ]
     },
     "execution_count": 35,
     "metadata": {},
     "output_type": "execute_result"
    },
    {
     "data": {
      "image/png": "[encoded data removed]",
      "text/plain": [
       "<Figure size 1000x600 with 1 Axes>"
      ]
     },
     "metadata": {},
     "output_type": "display_data"
    }
   ],
   "source": [
    "plt.figure(figsize=(10, 6))\n",
    "sns.boxplot(data, x='readmitted', y='time_in_hospital', notch=True, fill=False)"
   ]
  },
  {
   "cell_type": "markdown",
   "metadata": {},
   "source": [
    "### Average time in hospital for not-readmitted patients"
   ]
  },
  {
   "cell_type": "code",
   "execution_count": 36,
   "metadata": {},
   "outputs": [
    {
     "name": "stdout",
     "output_type": "stream",
     "text": [
      "4.254479502743297\n"
     ]
    }
   ],
   "source": [
    "not_readmitted = data.loc[data['readmitted'] == 0, 'time_in_hospital']\n",
    "mean_not_readmitted = not_readmitted.mean()\n",
    "print(mean_not_readmitted)"
   ]
  },
  {
   "cell_type": "markdown",
   "metadata": {},
   "source": [
    "### Average time in hospital for readmitted patients"
   ]
  },
  {
   "cell_type": "code",
   "execution_count": 37,
   "metadata": {},
   "outputs": [
    {
     "name": "stdout",
     "output_type": "stream",
     "text": [
      "4.56157519935184\n"
     ]
    }
   ],
   "source": [
    "readmitted = data.loc[data['readmitted'] != 0, 'time_in_hospital']\n",
    "mean_readmitted = data.loc[data['readmitted'] != 0, 'time_in_hospital'].mean()\n",
    "print(mean_readmitted)"
   ]
  },
  {
   "cell_type": "markdown",
   "metadata": {},
   "source": [
    "Is this due to chance or is it statistically significant? Let's run a statistical test to see if we can reject the hypothesis that the two means are equal. "
   ]
  },
  {
   "cell_type": "code",
   "execution_count": 38,
   "metadata": {},
   "outputs": [
    {
     "name": "stdout",
     "output_type": "stream",
     "text": [
      "P value:  3.1662864432201493e-60 \n",
      "Alpha:  0.05\n"
     ]
    }
   ],
   "source": [
    "t, p = stats.ttest_ind(readmitted, not_readmitted)\n",
    "alpha = 0.05\n",
    "print(\"P value: \", p, \"\\nAlpha: \", alpha)"
   ]
  },
  {
   "cell_type": "markdown",
   "metadata": {},
   "source": [
    "We can reject the null hyphothesis. It is safe to say that the two populations mean are different. "
   ]
  },
  {
   "cell_type": "markdown",
   "metadata": {},
   "source": [
    "### What about the medians?"
   ]
  },
  {
   "cell_type": "markdown",
   "metadata": {},
   "source": [
    "For class 0, the median is lower than the other two. This means that the distribution of time_in_hospital for patients of class 0 is not symmetrical. <br> <br> Moreover, the median for classes 1 and 2 is equal. Is this due to chance or it is statistically significant? Let's run a test to find out."
   ]
  },
  {
   "cell_type": "code",
   "execution_count": 39,
   "metadata": {},
   "outputs": [],
   "source": [
    "readmitted_within = data.loc[data['readmitted'] == 1, 'time_in_hospital']"
   ]
  },
  {
   "cell_type": "code",
   "execution_count": 40,
   "metadata": {},
   "outputs": [],
   "source": [
    "readmitted_after = data.loc[data['readmitted'] == 2, 'time_in_hospital']\n"
   ]
  },
  {
   "cell_type": "code",
   "execution_count": 41,
   "metadata": {},
   "outputs": [
    {
     "name": "stdout",
     "output_type": "stream",
     "text": [
      "P value:  1.1633727428594765e-21 \n",
      "Alpha:  0.05\n"
     ]
    }
   ],
   "source": [
    "_, p = stats.kruskal(readmitted_within, readmitted_after)\n",
    "\n",
    "print(\"P value: \", p, \"\\nAlpha: \", alpha)"
   ]
  },
  {
   "cell_type": "markdown",
   "metadata": {},
   "source": [
    "We can reject the null hypothesis that the two medians are equals. We can say that the two meadians actually differs."
   ]
  },
  {
   "cell_type": "markdown",
   "metadata": {},
   "source": [
    "What about the other group?"
   ]
  },
  {
   "cell_type": "code",
   "execution_count": 42,
   "metadata": {},
   "outputs": [
    {
     "name": "stdout",
     "output_type": "stream",
     "text": [
      "P value:  9.590703963727032e-47 \n",
      "Alpha:  0.05\n"
     ]
    }
   ],
   "source": [
    "_, p = stats.kruskal(not_readmitted, readmitted_within)\n",
    "\n",
    "print(\"P value: \", p, \"\\nAlpha: \", alpha)"
   ]
  },
  {
   "cell_type": "code",
   "execution_count": 43,
   "metadata": {},
   "outputs": [
    {
     "name": "stdout",
     "output_type": "stream",
     "text": [
      "P value:  1.594974370157433e-83 \n",
      "Alpha:  0.05\n"
     ]
    }
   ],
   "source": [
    "_, p = stats.kruskal(not_readmitted, readmitted_after)\n",
    "\n",
    "print(\"P value: \", p, \"\\nAlpha: \", alpha)"
   ]
  },
  {
   "cell_type": "markdown",
   "metadata": {},
   "source": [
    "The three groups actually differ from each other."
   ]
  },
  {
   "cell_type": "markdown",
   "metadata": {},
   "source": [
    "## Simple logit regression"
   ]
  },
  {
   "cell_type": "markdown",
   "metadata": {},
   "source": [
    "Let's fit a logistic regressor to study the relationship between time_in_hospital and readmitted. Let's see if an increase of the variable \"time_in_hospital\" leads to an increase in the probability that a patient will be readmitted or not. "
   ]
  },
  {
   "cell_type": "code",
   "execution_count": 44,
   "metadata": {},
   "outputs": [],
   "source": [
    "from statsmodels.formula.api import logit, mnlogit"
   ]
  },
  {
   "cell_type": "markdown",
   "metadata": {},
   "source": [
    "### Preparing the data"
   ]
  },
  {
   "cell_type": "markdown",
   "metadata": {},
   "source": [
    "To do this, it is not necessary to use three class of readmissions, instead it sufficient to know if a patient has been readmitted or not."
   ]
  },
  {
   "cell_type": "code",
   "execution_count": 45,
   "metadata": {},
   "outputs": [
    {
     "data": {
      "text/plain": [
       "array([0, 1, 2])"
      ]
     },
     "execution_count": 45,
     "metadata": {},
     "output_type": "execute_result"
    }
   ],
   "source": [
    "data['readmitted'].unique()"
   ]
  },
  {
   "cell_type": "code",
   "execution_count": 46,
   "metadata": {},
   "outputs": [
    {
     "name": "stderr",
     "output_type": "stream",
     "text": [
      "C:\\Users\\Raffaele\\AppData\\Local\\Temp\\ipykernel_38724\\2554642332.py:1: FutureWarning: A value is trying to be set on a copy of a DataFrame or Series through chained assignment using an inplace method.\n",
      "The behavior will change in pandas 3.0. This inplace method will never work because the intermediate object on which we are setting values always behaves as a copy.\n",
      "\n",
      "For example, when doing 'df[col].method(value, inplace=True)', try using 'df.method({col: value}, inplace=True)' or df[col] = df[col].method(value) instead, to perform the operation inplace on the original object.\n",
      "\n",
      "\n",
      "  data['age'].replace({'[0-10)': 5, '[10-20)': 15, '[20-30)': 25,\n",
      "C:\\Users\\Raffaele\\AppData\\Local\\Temp\\ipykernel_38724\\2554642332.py:1: FutureWarning: Downcasting behavior in `replace` is deprecated and will be removed in a future version. To retain the old behavior, explicitly call `result.infer_objects(copy=False)`. To opt-in to the future behavior, set `pd.set_option('future.no_silent_downcasting', True)`\n",
      "  data['age'].replace({'[0-10)': 5, '[10-20)': 15, '[20-30)': 25,\n"
     ]
    }
   ],
   "source": [
    "data['age'].replace({'[0-10)': 5, '[10-20)': 15, '[20-30)': 25,\n",
    "                             '[30-40)': 35, '[40-50)': 45, '[50-60)': 55,\n",
    "                             '[60-70)': 65, '[70-80)': 75, '[80-90)': 85, '[90-100)': 95,\n",
    "                            }, inplace=True)"
   ]
  },
  {
   "cell_type": "code",
   "execution_count": 47,
   "metadata": {},
   "outputs": [],
   "source": [
    "view = data.replace({'readmitted': {2: 1}})"
   ]
  },
  {
   "cell_type": "code",
   "execution_count": 48,
   "metadata": {},
   "outputs": [
    {
     "data": {
      "text/plain": [
       "array([0, 1])"
      ]
     },
     "execution_count": 48,
     "metadata": {},
     "output_type": "execute_result"
    }
   ],
   "source": [
    "view['readmitted'].unique()"
   ]
  },
  {
   "cell_type": "code",
   "execution_count": 49,
   "metadata": {},
   "outputs": [
    {
     "data": {
      "text/plain": [
       "<matplotlib.collections.PathCollection at 0x1aecc73cbf0>"
      ]
     },
     "execution_count": 49,
     "metadata": {},
     "output_type": "execute_result"
    },
    {
     "data": {
      "image/png": "[encoded data removed]",
      "text/plain": [
       "<Figure size 640x480 with 1 Axes>"
      ]
     },
     "metadata": {},
     "output_type": "display_data"
    }
   ],
   "source": [
    "plt.scatter(x=view['time_in_hospital'], y=view['readmitted'])"
   ]
  },
  {
   "cell_type": "markdown",
   "metadata": {},
   "source": [
    "### Simple logit regression"
   ]
  },
  {
   "cell_type": "markdown",
   "metadata": {},
   "source": [
    "We can now fit a simple logit regressor"
   ]
  },
  {
   "cell_type": "code",
   "execution_count": 50,
   "metadata": {},
   "outputs": [
    {
     "name": "stdout",
     "output_type": "stream",
     "text": [
      "Optimization terminated successfully.\n",
      "         Current function value: 0.688772\n",
      "         Iterations 4\n"
     ]
    }
   ],
   "source": [
    "model = logit('readmitted ~ time_in_hospital', view).fit()"
   ]
  },
  {
   "cell_type": "code",
   "execution_count": 51,
   "metadata": {},
   "outputs": [
    {
     "data": {
      "text/html": [
       "<table class=\"simpletable\">\n",
       "<caption>Logit Regression Results</caption>\n",
       "<tr>\n",
       "  <th>Dep. Variable:</th>      <td>readmitted</td>    <th>  No. Observations:  </th>  <td>101763</td>  \n",
       "</tr>\n",
       "<tr>\n",
       "  <th>Model:</th>                 <td>Logit</td>      <th>  Df Residuals:      </th>  <td>101761</td>  \n",
       "</tr>\n",
       "<tr>\n",
       "  <th>Method:</th>                 <td>MLE</td>       <th>  Df Model:          </th>  <td>     1</td>  \n",
       "</tr>\n",
       "<tr>\n",
       "  <th>Date:</th>            <td>Sun, 09 Mar 2025</td> <th>  Pseudo R-squ.:     </th> <td>0.001903</td> \n",
       "</tr>\n",
       "<tr>\n",
       "  <th>Time:</th>                <td>15:59:04</td>     <th>  Log-Likelihood:    </th> <td> -70092.</td> \n",
       "</tr>\n",
       "<tr>\n",
       "  <th>converged:</th>             <td>True</td>       <th>  LL-Null:           </th> <td> -70225.</td> \n",
       "</tr>\n",
       "<tr>\n",
       "  <th>Covariance Type:</th>     <td>nonrobust</td>    <th>  LLR p-value:       </th> <td>4.513e-60</td>\n",
       "</tr>\n",
       "</table>\n",
       "<table class=\"simpletable\">\n",
       "<tr>\n",
       "          <td></td>            <th>coef</th>     <th>std err</th>      <th>z</th>      <th>P>|z|</th>  <th>[0.025</th>    <th>0.975]</th>  \n",
       "</tr>\n",
       "<tr>\n",
       "  <th>Intercept</th>        <td>   -0.3084</td> <td>    0.011</td> <td>  -27.461</td> <td> 0.000</td> <td>   -0.330</td> <td>   -0.286</td>\n",
       "</tr>\n",
       "<tr>\n",
       "  <th>time_in_hospital</th> <td>    0.0344</td> <td>    0.002</td> <td>   16.331</td> <td> 0.000</td> <td>    0.030</td> <td>    0.039</td>\n",
       "</tr>\n",
       "</table>"
      ],
      "text/latex": [
       "\\begin{center}\n",
       "\\begin{tabular}{lclc}\n",
       "\\toprule\n",
       "\\textbf{Dep. Variable:}     &    readmitted    & \\textbf{  No. Observations:  } &   101763    \\\\\n",
       "\\textbf{Model:}             &      Logit       & \\textbf{  Df Residuals:      } &   101761    \\\\\n",
       "\\textbf{Method:}            &       MLE        & \\textbf{  Df Model:          } &        1    \\\\\n",
       "\\textbf{Date:}              & Sun, 09 Mar 2025 & \\textbf{  Pseudo R-squ.:     } &  0.001903   \\\\\n",
       "\\textbf{Time:}              &     15:59:04     & \\textbf{  Log-Likelihood:    } &   -70092.   \\\\\n",
       "\\textbf{converged:}         &       True       & \\textbf{  LL-Null:           } &   -70225.   \\\\\n",
       "\\textbf{Covariance Type:}   &    nonrobust     & \\textbf{  LLR p-value:       } & 4.513e-60   \\\\\n",
       "\\bottomrule\n",
       "\\end{tabular}\n",
       "\\begin{tabular}{lcccccc}\n",
       "                            & \\textbf{coef} & \\textbf{std err} & \\textbf{z} & \\textbf{P$> |$z$|$} & \\textbf{[0.025} & \\textbf{0.975]}  \\\\\n",
       "\\midrule\n",
       "\\textbf{Intercept}          &      -0.3084  &        0.011     &   -27.461  &         0.000        &       -0.330    &       -0.286     \\\\\n",
       "\\textbf{time\\_in\\_hospital} &       0.0344  &        0.002     &    16.331  &         0.000        &        0.030    &        0.039     \\\\\n",
       "\\bottomrule\n",
       "\\end{tabular}\n",
       "%\\caption{Logit Regression Results}\n",
       "\\end{center}"
      ],
      "text/plain": [
       "<class 'statsmodels.iolib.summary.Summary'>\n",
       "\"\"\"\n",
       "                           Logit Regression Results                           \n",
       "==============================================================================\n",
       "Dep. Variable:             readmitted   No. Observations:               101763\n",
       "Model:                          Logit   Df Residuals:                   101761\n",
       "Method:                           MLE   Df Model:                            1\n",
       "Date:                Sun, 09 Mar 2025   Pseudo R-squ.:                0.001903\n",
       "Time:                        15:59:04   Log-Likelihood:                -70092.\n",
       "converged:                       True   LL-Null:                       -70225.\n",
       "Covariance Type:            nonrobust   LLR p-value:                 4.513e-60\n",
       "====================================================================================\n",
       "                       coef    std err          z      P>|z|      [0.025      0.975]\n",
       "------------------------------------------------------------------------------------\n",
       "Intercept           -0.3084      0.011    -27.461      0.000      -0.330      -0.286\n",
       "time_in_hospital     0.0344      0.002     16.331      0.000       0.030       0.039\n",
       "====================================================================================\n",
       "\"\"\""
      ]
     },
     "execution_count": 51,
     "metadata": {},
     "output_type": "execute_result"
    }
   ],
   "source": [
    "model.summary()"
   ]
  },
  {
   "cell_type": "markdown",
   "metadata": {},
   "source": [
    "The pseudo-R^2 is very small: the model do not explain well the data."
   ]
  },
  {
   "cell_type": "code",
   "execution_count": 52,
   "metadata": {},
   "outputs": [
    {
     "data": {
      "text/plain": [
       "np.float64(0.7345479521991701)"
      ]
     },
     "execution_count": 52,
     "metadata": {},
     "output_type": "execute_result"
    }
   ],
   "source": [
    "np.exp(-0.3085)"
   ]
  },
  {
   "cell_type": "markdown",
   "metadata": {},
   "source": [
    "when time_in_hospital is set to 0, unrealistically, the odds of a patient being readmitted rather than not is 0.73. "
   ]
  },
  {
   "cell_type": "code",
   "execution_count": 53,
   "metadata": {},
   "outputs": [
    {
     "data": {
      "text/plain": [
       "np.float64(1.0349985233486143)"
      ]
     },
     "execution_count": 53,
     "metadata": {},
     "output_type": "execute_result"
    }
   ],
   "source": [
    "np.exp(0.0344)"
   ]
  },
  {
   "cell_type": "markdown",
   "metadata": {},
   "source": [
    "Without considering other variables, an extra day in hospital corresponds to a multiplicative increase in the odds of a patient being readmitted rather than not of 1.034. That is, if a patient spend an extra day in the hospital, the odds of being readmitted increases by a (1-1.034)*100 = 3.4%"
   ]
  },
  {
   "cell_type": "markdown",
   "metadata": {},
   "source": [
    "## Simple multivariate logit regressor"
   ]
  },
  {
   "cell_type": "code",
   "execution_count": 54,
   "metadata": {},
   "outputs": [
    {
     "name": "stdout",
     "output_type": "stream",
     "text": [
      "Optimization terminated successfully.\n",
      "         Current function value: 0.943567\n",
      "         Iterations 6\n"
     ]
    }
   ],
   "source": [
    "model = mnlogit('readmitted ~ time_in_hospital', data).fit()"
   ]
  },
  {
   "cell_type": "code",
   "execution_count": 55,
   "metadata": {},
   "outputs": [
    {
     "data": {
      "text/html": [
       "<table class=\"simpletable\">\n",
       "<caption>MNLogit Regression Results</caption>\n",
       "<tr>\n",
       "  <th>Dep. Variable:</th>      <td>readmitted</td>    <th>  No. Observations:  </th>  <td>101763</td>  \n",
       "</tr>\n",
       "<tr>\n",
       "  <th>Model:</th>                <td>MNLogit</td>     <th>  Df Residuals:      </th>  <td>101759</td>  \n",
       "</tr>\n",
       "<tr>\n",
       "  <th>Method:</th>                 <td>MLE</td>       <th>  Df Model:          </th>  <td>     2</td>  \n",
       "</tr>\n",
       "<tr>\n",
       "  <th>Date:</th>            <td>Sun, 09 Mar 2025</td> <th>  Pseudo R-squ.:     </th> <td>0.001736</td> \n",
       "</tr>\n",
       "<tr>\n",
       "  <th>Time:</th>                <td>15:59:07</td>     <th>  Log-Likelihood:    </th> <td> -96020.</td> \n",
       "</tr>\n",
       "<tr>\n",
       "  <th>converged:</th>             <td>True</td>       <th>  LL-Null:           </th> <td> -96187.</td> \n",
       "</tr>\n",
       "<tr>\n",
       "  <th>Covariance Type:</th>     <td>nonrobust</td>    <th>  LLR p-value:       </th> <td>3.001e-73</td>\n",
       "</tr>\n",
       "</table>\n",
       "<table class=\"simpletable\">\n",
       "<tr>\n",
       "    <th>readmitted=1</th>      <th>coef</th>     <th>std err</th>      <th>z</th>      <th>P>|z|</th>  <th>[0.025</th>    <th>0.975]</th>  \n",
       "</tr>\n",
       "<tr>\n",
       "  <th>Intercept</th>        <td>   -0.5537</td> <td>    0.012</td> <td>  -45.590</td> <td> 0.000</td> <td>   -0.577</td> <td>   -0.530</td>\n",
       "</tr>\n",
       "<tr>\n",
       "  <th>time_in_hospital</th> <td>    0.0274</td> <td>    0.002</td> <td>   11.964</td> <td> 0.000</td> <td>    0.023</td> <td>    0.032</td>\n",
       "</tr>\n",
       "<tr>\n",
       "    <th>readmitted=2</th>      <th>coef</th>     <th>std err</th>      <th>z</th>      <th>P>|z|</th>  <th>[0.025</th>    <th>0.975]</th>  \n",
       "</tr>\n",
       "<tr>\n",
       "  <th>Intercept</th>        <td>   -1.8253</td> <td>    0.019</td> <td>  -98.340</td> <td> 0.000</td> <td>   -1.862</td> <td>   -1.789</td>\n",
       "</tr>\n",
       "<tr>\n",
       "  <th>time_in_hospital</th> <td>    0.0556</td> <td>    0.003</td> <td>   16.817</td> <td> 0.000</td> <td>    0.049</td> <td>    0.062</td>\n",
       "</tr>\n",
       "</table>"
      ],
      "text/latex": [
       "\\begin{center}\n",
       "\\begin{tabular}{lclc}\n",
       "\\toprule\n",
       "\\textbf{Dep. Variable:}     &    readmitted    & \\textbf{  No. Observations:  } &   101763    \\\\\n",
       "\\textbf{Model:}             &     MNLogit      & \\textbf{  Df Residuals:      } &   101759    \\\\\n",
       "\\textbf{Method:}            &       MLE        & \\textbf{  Df Model:          } &        2    \\\\\n",
       "\\textbf{Date:}              & Sun, 09 Mar 2025 & \\textbf{  Pseudo R-squ.:     } &  0.001736   \\\\\n",
       "\\textbf{Time:}              &     15:59:07     & \\textbf{  Log-Likelihood:    } &   -96020.   \\\\\n",
       "\\textbf{converged:}         &       True       & \\textbf{  LL-Null:           } &   -96187.   \\\\\n",
       "\\textbf{Covariance Type:}   &    nonrobust     & \\textbf{  LLR p-value:       } & 3.001e-73   \\\\\n",
       "\\bottomrule\n",
       "\\end{tabular}\n",
       "\\begin{tabular}{ccccccc}\n",
       "   \\textbf{readmitted=1}    & \\textbf{coef} & \\textbf{std err} & \\textbf{z} & \\textbf{P$> |$z$|$} & \\textbf{[0.025} & \\textbf{0.975]}  \\\\\n",
       "\\midrule\n",
       "\\bottomrule\n",
       "\\end{tabular}\n",
       "\\begin{tabular}{lcccccc}\n",
       "\\textbf{Intercept}          &      -0.5537  &        0.012     &   -45.590  &         0.000        &       -0.577    &       -0.530     \\\\\n",
       "\\textbf{time\\_in\\_hospital} &       0.0274  &        0.002     &    11.964  &         0.000        &        0.023    &        0.032     \\\\\n",
       "\\bottomrule\n",
       "\\end{tabular}\n",
       "\\begin{tabular}{ccccccc}\n",
       "   \\textbf{readmitted=2}    & \\textbf{coef} & \\textbf{std err} & \\textbf{z} & \\textbf{P$> |$z$|$} & \\textbf{[0.025} & \\textbf{0.975]}  \\\\\n",
       "\\midrule\n",
       "\\bottomrule\n",
       "\\end{tabular}\n",
       "\\begin{tabular}{lcccccc}\n",
       "\\textbf{Intercept}          &      -1.8253  &        0.019     &   -98.340  &         0.000        &       -1.862    &       -1.789     \\\\\n",
       "\\textbf{time\\_in\\_hospital} &       0.0556  &        0.003     &    16.817  &         0.000        &        0.049    &        0.062     \\\\\n",
       "\\bottomrule\n",
       "\\end{tabular}\n",
       "%\\caption{MNLogit Regression Results}\n",
       "\\end{center}"
      ],
      "text/plain": [
       "<class 'statsmodels.iolib.summary.Summary'>\n",
       "\"\"\"\n",
       "                          MNLogit Regression Results                          \n",
       "==============================================================================\n",
       "Dep. Variable:             readmitted   No. Observations:               101763\n",
       "Model:                        MNLogit   Df Residuals:                   101759\n",
       "Method:                           MLE   Df Model:                            2\n",
       "Date:                Sun, 09 Mar 2025   Pseudo R-squ.:                0.001736\n",
       "Time:                        15:59:07   Log-Likelihood:                -96020.\n",
       "converged:                       True   LL-Null:                       -96187.\n",
       "Covariance Type:            nonrobust   LLR p-value:                 3.001e-73\n",
       "====================================================================================\n",
       "    readmitted=1       coef    std err          z      P>|z|      [0.025      0.975]\n",
       "------------------------------------------------------------------------------------\n",
       "Intercept           -0.5537      0.012    -45.590      0.000      -0.577      -0.530\n",
       "time_in_hospital     0.0274      0.002     11.964      0.000       0.023       0.032\n",
       "------------------------------------------------------------------------------------\n",
       "    readmitted=2       coef    std err          z      P>|z|      [0.025      0.975]\n",
       "------------------------------------------------------------------------------------\n",
       "Intercept           -1.8253      0.019    -98.340      0.000      -1.862      -1.789\n",
       "time_in_hospital     0.0556      0.003     16.817      0.000       0.049       0.062\n",
       "====================================================================================\n",
       "\"\"\""
      ]
     },
     "execution_count": 55,
     "metadata": {},
     "output_type": "execute_result"
    }
   ],
   "source": [
    "model.summary()"
   ]
  },
  {
   "cell_type": "code",
   "execution_count": 56,
   "metadata": {},
   "outputs": [
    {
     "data": {
      "text/plain": [
       "np.float64(1.0571747292596514)"
      ]
     },
     "execution_count": 56,
     "metadata": {},
     "output_type": "execute_result"
    }
   ],
   "source": [
    "np.exp(0.0556)"
   ]
  },
  {
   "cell_type": "markdown",
   "metadata": {},
   "source": [
    "This model only explains 0.0017% of variability in the data! Let's build a more complex models involving the other variables."
   ]
  },
  {
   "cell_type": "markdown",
   "metadata": {},
   "source": [
    "## Multiple logistic regression"
   ]
  },
  {
   "cell_type": "code",
   "execution_count": 57,
   "metadata": {},
   "outputs": [],
   "source": [
    "view = data.replace({'readmitted': 2}, 1)"
   ]
  },
  {
   "cell_type": "markdown",
   "metadata": {},
   "source": [
    "We need to introduce dummy variables for each categorical variable in order to build a logit regressor"
   ]
  },
  {
   "cell_type": "code",
   "execution_count": 58,
   "metadata": {},
   "outputs": [],
   "source": [
    "cols = np.concatenate([[view.columns[0]], view.columns[10:-1]])\n",
    "view = pd.get_dummies(view, columns=cols, drop_first=True, dtype=np.uint8)"
   ]
  },
  {
   "cell_type": "code",
   "execution_count": 59,
   "metadata": {},
   "outputs": [
    {
     "data": {
      "text/plain": [
       "array(['gender', 'metformin', 'repaglinide', 'nateglinide',\n",
       "       'chlorpropamide', 'glimepiride', 'acetohexamide', 'glipizide',\n",
       "       'glyburide', 'tolbutamide', 'pioglitazone', 'rosiglitazone',\n",
       "       'acarbose', 'miglitol', 'troglitazone', 'tolazamide', 'insulin',\n",
       "       'glyburide_metformin', 'glipizide_metformin',\n",
       "       'glimepiride_pioglitazone', 'metformin_rosiglitazone',\n",
       "       'metformin_pioglitazone', 'change', 'diabetesMed'], dtype=object)"
      ]
     },
     "execution_count": 59,
     "metadata": {},
     "output_type": "execute_result"
    }
   ],
   "source": [
    "cols"
   ]
  },
  {
   "cell_type": "markdown",
   "metadata": {},
   "source": [
    "## Removing correlated categorical variables using Cramer's V statistic"
   ]
  },
  {
   "cell_type": "markdown",
   "metadata": {},
   "source": [
    "There are variables correleated with each other. To remove them, let's compute V-Cramer statistic to find these variables and remove them from the model"
   ]
  },
  {
   "cell_type": "code",
   "execution_count": 60,
   "metadata": {},
   "outputs": [],
   "source": [
    "from scipy.stats.contingency import association"
   ]
  },
  {
   "cell_type": "code",
   "execution_count": 61,
   "metadata": {},
   "outputs": [],
   "source": [
    "def buildVMatrix(df):\n",
    "    l = []\n",
    "    cat_vars = df.select_dtypes(include=['uint8']).columns\n",
    "    v_mat = pd.DataFrame(index = cat_vars, columns= cat_vars)\n",
    "\n",
    "    for var_one in cat_vars:\n",
    "        for var_two in cat_vars:\n",
    "            v = association(pd.crosstab(view[var_one], view[var_two]))\n",
    "            v_mat.loc[var_one, var_two] = v\n",
    "            \n",
    "            if var_one != var_two and v >= 0.9:\n",
    "                el = [var_one, var_two]\n",
    "                el.sort()\n",
    "                \n",
    "                #usare un set\n",
    "                if el[1] not in l:\n",
    "                    l.append(el[1])\n",
    "    return l\n",
    "            "
   ]
  },
  {
   "cell_type": "code",
   "execution_count": 62,
   "metadata": {},
   "outputs": [],
   "source": [
    "vars_to_drop = buildVMatrix(view)\n",
    "view = view.drop(columns=vars_to_drop)"
   ]
  },
  {
   "cell_type": "markdown",
   "metadata": {},
   "source": [
    "## Building the model"
   ]
  },
  {
   "cell_type": "code",
   "execution_count": 63,
   "metadata": {},
   "outputs": [],
   "source": [
    "import statsmodels.api as sm\n",
    "\n",
    "exog = view.drop(columns='readmitted')\n",
    "exog = sm.add_constant(exog)\n",
    "endog = view['readmitted']"
   ]
  },
  {
   "cell_type": "code",
   "execution_count": 64,
   "metadata": {},
   "outputs": [
    {
     "name": "stdout",
     "output_type": "stream",
     "text": [
      "Warning: Maximum number of iterations has been exceeded.\n",
      "         Current function value: 0.652383\n",
      "         Iterations: 35\n"
     ]
    },
    {
     "name": "stderr",
     "output_type": "stream",
     "text": [
      "c:\\Users\\Raffaele\\miniconda3\\envs\\fad\\Lib\\site-packages\\statsmodels\\base\\model.py:607: ConvergenceWarning: Maximum Likelihood optimization failed to converge. Check mle_retvals\n",
      "  warnings.warn(\"Maximum Likelihood optimization failed to \"\n"
     ]
    }
   ],
   "source": [
    "model = sm.Logit(endog, exog).fit()"
   ]
  },
  {
   "cell_type": "code",
   "execution_count": 65,
   "metadata": {},
   "outputs": [
    {
     "data": {
      "text/html": [
       "<table class=\"simpletable\">\n",
       "<caption>Logit Regression Results</caption>\n",
       "<tr>\n",
       "  <th>Dep. Variable:</th>      <td>readmitted</td>    <th>  No. Observations:  </th>  <td>101763</td> \n",
       "</tr>\n",
       "<tr>\n",
       "  <th>Model:</th>                 <td>Logit</td>      <th>  Df Residuals:      </th>  <td>101714</td> \n",
       "</tr>\n",
       "<tr>\n",
       "  <th>Method:</th>                 <td>MLE</td>       <th>  Df Model:          </th>  <td>    48</td> \n",
       "</tr>\n",
       "<tr>\n",
       "  <th>Date:</th>            <td>Sun, 09 Mar 2025</td> <th>  Pseudo R-squ.:     </th>  <td>0.05463</td>\n",
       "</tr>\n",
       "<tr>\n",
       "  <th>Time:</th>                <td>16:00:07</td>     <th>  Log-Likelihood:    </th> <td> -66388.</td>\n",
       "</tr>\n",
       "<tr>\n",
       "  <th>converged:</th>             <td>False</td>      <th>  LL-Null:           </th> <td> -70225.</td>\n",
       "</tr>\n",
       "<tr>\n",
       "  <th>Covariance Type:</th>     <td>nonrobust</td>    <th>  LLR p-value:       </th>  <td> 0.000</td> \n",
       "</tr>\n",
       "</table>\n",
       "<table class=\"simpletable\">\n",
       "<tr>\n",
       "                 <td></td>                    <th>coef</th>     <th>std err</th>      <th>z</th>      <th>P>|z|</th>  <th>[0.025</th>    <th>0.975]</th>  \n",
       "</tr>\n",
       "<tr>\n",
       "  <th>const</th>                           <td>    0.1595</td> <td>    0.481</td> <td>    0.332</td> <td> 0.740</td> <td>   -0.782</td> <td>    1.101</td>\n",
       "</tr>\n",
       "<tr>\n",
       "  <th>age</th>                             <td>    0.0023</td> <td>    0.000</td> <td>    5.201</td> <td> 0.000</td> <td>    0.001</td> <td>    0.003</td>\n",
       "</tr>\n",
       "<tr>\n",
       "  <th>time_in_hospital</th>                <td>    0.0113</td> <td>    0.003</td> <td>    4.399</td> <td> 0.000</td> <td>    0.006</td> <td>    0.016</td>\n",
       "</tr>\n",
       "<tr>\n",
       "  <th>num_lab_procedures</th>              <td>    0.0015</td> <td>    0.000</td> <td>    4.136</td> <td> 0.000</td> <td>    0.001</td> <td>    0.002</td>\n",
       "</tr>\n",
       "<tr>\n",
       "  <th>num_procedures</th>                  <td>   -0.0455</td> <td>    0.004</td> <td>  -10.693</td> <td> 0.000</td> <td>   -0.054</td> <td>   -0.037</td>\n",
       "</tr>\n",
       "<tr>\n",
       "  <th>num_medications</th>                 <td>    0.0005</td> <td>    0.001</td> <td>    0.495</td> <td> 0.621</td> <td>   -0.002</td> <td>    0.003</td>\n",
       "</tr>\n",
       "<tr>\n",
       "  <th>number_outpatient</th>               <td>    0.0824</td> <td>    0.006</td> <td>   13.713</td> <td> 0.000</td> <td>    0.071</td> <td>    0.094</td>\n",
       "</tr>\n",
       "<tr>\n",
       "  <th>number_emergency</th>                <td>    0.2172</td> <td>    0.012</td> <td>   17.667</td> <td> 0.000</td> <td>    0.193</td> <td>    0.241</td>\n",
       "</tr>\n",
       "<tr>\n",
       "  <th>number_inpatient</th>                <td>    0.3694</td> <td>    0.007</td> <td>   53.247</td> <td> 0.000</td> <td>    0.356</td> <td>    0.383</td>\n",
       "</tr>\n",
       "<tr>\n",
       "  <th>number_diagnoses</th>                <td>    0.0782</td> <td>    0.004</td> <td>   21.045</td> <td> 0.000</td> <td>    0.071</td> <td>    0.086</td>\n",
       "</tr>\n",
       "<tr>\n",
       "  <th>gender_Male</th>                     <td>   -0.0487</td> <td>    0.013</td> <td>   -3.694</td> <td> 0.000</td> <td>   -0.075</td> <td>   -0.023</td>\n",
       "</tr>\n",
       "<tr>\n",
       "  <th>metformin_No</th>                    <td>    0.1267</td> <td>    0.020</td> <td>    6.199</td> <td> 0.000</td> <td>    0.087</td> <td>    0.167</td>\n",
       "</tr>\n",
       "<tr>\n",
       "  <th>metformin_Up</th>                    <td>   -0.0648</td> <td>    0.066</td> <td>   -0.985</td> <td> 0.325</td> <td>   -0.194</td> <td>    0.064</td>\n",
       "</tr>\n",
       "<tr>\n",
       "  <th>repaglinide_No</th>                  <td>   -0.1774</td> <td>    0.056</td> <td>   -3.140</td> <td> 0.002</td> <td>   -0.288</td> <td>   -0.067</td>\n",
       "</tr>\n",
       "<tr>\n",
       "  <th>repaglinide_Up</th>                  <td>   -0.2996</td> <td>    0.204</td> <td>   -1.467</td> <td> 0.142</td> <td>   -0.700</td> <td>    0.101</td>\n",
       "</tr>\n",
       "<tr>\n",
       "  <th>nateglinide_No</th>                  <td>   -0.0429</td> <td>    0.080</td> <td>   -0.537</td> <td> 0.592</td> <td>   -0.200</td> <td>    0.114</td>\n",
       "</tr>\n",
       "<tr>\n",
       "  <th>nateglinide_Up</th>                  <td>   -0.2787</td> <td>    0.441</td> <td>   -0.632</td> <td> 0.528</td> <td>   -1.143</td> <td>    0.586</td>\n",
       "</tr>\n",
       "<tr>\n",
       "  <th>chlorpropamide_No</th>               <td>   -0.0247</td> <td>    0.230</td> <td>   -0.107</td> <td> 0.915</td> <td>   -0.476</td> <td>    0.427</td>\n",
       "</tr>\n",
       "<tr>\n",
       "  <th>chlorpropamide_Up</th>               <td>    1.6831</td> <td>    1.126</td> <td>    1.495</td> <td> 0.135</td> <td>   -0.524</td> <td>    3.890</td>\n",
       "</tr>\n",
       "<tr>\n",
       "  <th>glimepiride_No</th>                  <td>   -0.0155</td> <td>    0.033</td> <td>   -0.473</td> <td> 0.636</td> <td>   -0.080</td> <td>    0.049</td>\n",
       "</tr>\n",
       "<tr>\n",
       "  <th>glimepiride_Up</th>                  <td>   -0.1806</td> <td>    0.119</td> <td>   -1.519</td> <td> 0.129</td> <td>   -0.413</td> <td>    0.052</td>\n",
       "</tr>\n",
       "<tr>\n",
       "  <th>acetohexamide_Steady</th>            <td>   19.6285</td> <td> 1.58e+04</td> <td>    0.001</td> <td> 0.999</td> <td> -3.1e+04</td> <td> 3.11e+04</td>\n",
       "</tr>\n",
       "<tr>\n",
       "  <th>glipizide_No</th>                    <td>   -0.0889</td> <td>    0.024</td> <td>   -3.691</td> <td> 0.000</td> <td>   -0.136</td> <td>   -0.042</td>\n",
       "</tr>\n",
       "<tr>\n",
       "  <th>glipizide_Up</th>                    <td>    0.0630</td> <td>    0.077</td> <td>    0.822</td> <td> 0.411</td> <td>   -0.087</td> <td>    0.213</td>\n",
       "</tr>\n",
       "<tr>\n",
       "  <th>glyburide_No</th>                    <td>   -0.0142</td> <td>    0.026</td> <td>   -0.544</td> <td> 0.586</td> <td>   -0.065</td> <td>    0.037</td>\n",
       "</tr>\n",
       "<tr>\n",
       "  <th>glyburide_Up</th>                    <td>   -0.0535</td> <td>    0.076</td> <td>   -0.706</td> <td> 0.480</td> <td>   -0.202</td> <td>    0.095</td>\n",
       "</tr>\n",
       "<tr>\n",
       "  <th>tolbutamide_Steady</th>              <td>   -0.4454</td> <td>    0.444</td> <td>   -1.004</td> <td> 0.315</td> <td>   -1.315</td> <td>    0.424</td>\n",
       "</tr>\n",
       "<tr>\n",
       "  <th>pioglitazone_No</th>                 <td>   -0.0666</td> <td>    0.028</td> <td>   -2.422</td> <td> 0.015</td> <td>   -0.121</td> <td>   -0.013</td>\n",
       "</tr>\n",
       "<tr>\n",
       "  <th>pioglitazone_Up</th>                 <td>    0.1439</td> <td>    0.137</td> <td>    1.052</td> <td> 0.293</td> <td>   -0.124</td> <td>    0.412</td>\n",
       "</tr>\n",
       "<tr>\n",
       "  <th>rosiglitazone_No</th>                <td>   -0.1216</td> <td>    0.029</td> <td>   -4.189</td> <td> 0.000</td> <td>   -0.179</td> <td>   -0.065</td>\n",
       "</tr>\n",
       "<tr>\n",
       "  <th>rosiglitazone_Up</th>                <td>   -0.4099</td> <td>    0.161</td> <td>   -2.553</td> <td> 0.011</td> <td>   -0.725</td> <td>   -0.095</td>\n",
       "</tr>\n",
       "<tr>\n",
       "  <th>acarbose_No</th>                     <td>   -0.3921</td> <td>    0.123</td> <td>   -3.200</td> <td> 0.001</td> <td>   -0.632</td> <td>   -0.152</td>\n",
       "</tr>\n",
       "<tr>\n",
       "  <th>acarbose_Up</th>                     <td>    0.3956</td> <td>    0.663</td> <td>    0.597</td> <td> 0.551</td> <td>   -0.904</td> <td>    1.695</td>\n",
       "</tr>\n",
       "<tr>\n",
       "  <th>miglitol_No</th>                     <td>   -0.6042</td> <td>    0.356</td> <td>   -1.696</td> <td> 0.090</td> <td>   -1.302</td> <td>    0.094</td>\n",
       "</tr>\n",
       "<tr>\n",
       "  <th>miglitol_Up</th>                     <td>   -0.8165</td> <td>    1.472</td> <td>   -0.555</td> <td> 0.579</td> <td>   -3.702</td> <td>    2.069</td>\n",
       "</tr>\n",
       "<tr>\n",
       "  <th>troglitazone_Steady</th>             <td>    0.8621</td> <td>    1.226</td> <td>    0.703</td> <td> 0.482</td> <td>   -1.542</td> <td>    3.266</td>\n",
       "</tr>\n",
       "<tr>\n",
       "  <th>tolazamide_Steady</th>               <td>   -0.3996</td> <td>    0.353</td> <td>   -1.130</td> <td> 0.258</td> <td>   -1.092</td> <td>    0.293</td>\n",
       "</tr>\n",
       "<tr>\n",
       "  <th>tolazamide_Up</th>                   <td>   18.7595</td> <td> 1.21e+04</td> <td>    0.002</td> <td> 0.999</td> <td>-2.37e+04</td> <td> 2.38e+04</td>\n",
       "</tr>\n",
       "<tr>\n",
       "  <th>insulin_No</th>                      <td>   -0.0855</td> <td>    0.035</td> <td>   -2.454</td> <td> 0.014</td> <td>   -0.154</td> <td>   -0.017</td>\n",
       "</tr>\n",
       "<tr>\n",
       "  <th>insulin_Steady</th>                  <td>   -0.2068</td> <td>    0.027</td> <td>   -7.729</td> <td> 0.000</td> <td>   -0.259</td> <td>   -0.154</td>\n",
       "</tr>\n",
       "<tr>\n",
       "  <th>insulin_Up</th>                      <td>   -0.0686</td> <td>    0.027</td> <td>   -2.522</td> <td> 0.012</td> <td>   -0.122</td> <td>   -0.015</td>\n",
       "</tr>\n",
       "<tr>\n",
       "  <th>glyburide_metformin_No</th>          <td>   -0.0843</td> <td>    0.079</td> <td>   -1.070</td> <td> 0.284</td> <td>   -0.239</td> <td>    0.070</td>\n",
       "</tr>\n",
       "<tr>\n",
       "  <th>glyburide_metformin_Up</th>          <td>   -1.7500</td> <td>    1.078</td> <td>   -1.623</td> <td> 0.105</td> <td>   -3.863</td> <td>    0.363</td>\n",
       "</tr>\n",
       "<tr>\n",
       "  <th>glipizide_metformin_Steady</th>      <td>    0.6463</td> <td>    0.579</td> <td>    1.116</td> <td> 0.265</td> <td>   -0.489</td> <td>    1.782</td>\n",
       "</tr>\n",
       "<tr>\n",
       "  <th>glimepiride_pioglitazone_Steady</th> <td>   18.6520</td> <td> 1.14e+04</td> <td>    0.002</td> <td> 0.999</td> <td>-2.23e+04</td> <td> 2.23e+04</td>\n",
       "</tr>\n",
       "<tr>\n",
       "  <th>metformin_rosiglitazone_Steady</th>  <td>  -25.4327</td> <td> 2.61e+05</td> <td>-9.76e-05</td> <td> 1.000</td> <td>-5.11e+05</td> <td> 5.11e+05</td>\n",
       "</tr>\n",
       "<tr>\n",
       "  <th>metformin_pioglitazone_Steady</th>   <td>  -17.2387</td> <td> 8218.081</td> <td>   -0.002</td> <td> 0.998</td> <td>-1.61e+04</td> <td> 1.61e+04</td>\n",
       "</tr>\n",
       "<tr>\n",
       "  <th>change_No</th>                       <td>    0.0163</td> <td>    0.025</td> <td>    0.653</td> <td> 0.514</td> <td>   -0.033</td> <td>    0.065</td>\n",
       "</tr>\n",
       "<tr>\n",
       "  <th>diabetesMed_Yes</th>                 <td>    0.2960</td> <td>    0.024</td> <td>   12.243</td> <td> 0.000</td> <td>    0.249</td> <td>    0.343</td>\n",
       "</tr>\n",
       "</table>"
      ],
      "text/latex": [
       "\\begin{center}\n",
       "\\begin{tabular}{lclc}\n",
       "\\toprule\n",
       "\\textbf{Dep. Variable:}                    &    readmitted    & \\textbf{  No. Observations:  } &   101763    \\\\\n",
       "\\textbf{Model:}                            &      Logit       & \\textbf{  Df Residuals:      } &   101714    \\\\\n",
       "\\textbf{Method:}                           &       MLE        & \\textbf{  Df Model:          } &       48    \\\\\n",
       "\\textbf{Date:}                             & Sun, 09 Mar 2025 & \\textbf{  Pseudo R-squ.:     } &  0.05463    \\\\\n",
       "\\textbf{Time:}                             &     16:00:07     & \\textbf{  Log-Likelihood:    } &   -66388.   \\\\\n",
       "\\textbf{converged:}                        &      False       & \\textbf{  LL-Null:           } &   -70225.   \\\\\n",
       "\\textbf{Covariance Type:}                  &    nonrobust     & \\textbf{  LLR p-value:       } &    0.000    \\\\\n",
       "\\bottomrule\n",
       "\\end{tabular}\n",
       "\\begin{tabular}{lcccccc}\n",
       "                                           & \\textbf{coef} & \\textbf{std err} & \\textbf{z} & \\textbf{P$> |$z$|$} & \\textbf{[0.025} & \\textbf{0.975]}  \\\\\n",
       "\\midrule\n",
       "\\textbf{const}                             &       0.1595  &        0.481     &     0.332  &         0.740        &       -0.782    &        1.101     \\\\\n",
       "\\textbf{age}                               &       0.0023  &        0.000     &     5.201  &         0.000        &        0.001    &        0.003     \\\\\n",
       "\\textbf{time\\_in\\_hospital}                &       0.0113  &        0.003     &     4.399  &         0.000        &        0.006    &        0.016     \\\\\n",
       "\\textbf{num\\_lab\\_procedures}              &       0.0015  &        0.000     &     4.136  &         0.000        &        0.001    &        0.002     \\\\\n",
       "\\textbf{num\\_procedures}                   &      -0.0455  &        0.004     &   -10.693  &         0.000        &       -0.054    &       -0.037     \\\\\n",
       "\\textbf{num\\_medications}                  &       0.0005  &        0.001     &     0.495  &         0.621        &       -0.002    &        0.003     \\\\\n",
       "\\textbf{number\\_outpatient}                &       0.0824  &        0.006     &    13.713  &         0.000        &        0.071    &        0.094     \\\\\n",
       "\\textbf{number\\_emergency}                 &       0.2172  &        0.012     &    17.667  &         0.000        &        0.193    &        0.241     \\\\\n",
       "\\textbf{number\\_inpatient}                 &       0.3694  &        0.007     &    53.247  &         0.000        &        0.356    &        0.383     \\\\\n",
       "\\textbf{number\\_diagnoses}                 &       0.0782  &        0.004     &    21.045  &         0.000        &        0.071    &        0.086     \\\\\n",
       "\\textbf{gender\\_Male}                      &      -0.0487  &        0.013     &    -3.694  &         0.000        &       -0.075    &       -0.023     \\\\\n",
       "\\textbf{metformin\\_No}                     &       0.1267  &        0.020     &     6.199  &         0.000        &        0.087    &        0.167     \\\\\n",
       "\\textbf{metformin\\_Up}                     &      -0.0648  &        0.066     &    -0.985  &         0.325        &       -0.194    &        0.064     \\\\\n",
       "\\textbf{repaglinide\\_No}                   &      -0.1774  &        0.056     &    -3.140  &         0.002        &       -0.288    &       -0.067     \\\\\n",
       "\\textbf{repaglinide\\_Up}                   &      -0.2996  &        0.204     &    -1.467  &         0.142        &       -0.700    &        0.101     \\\\\n",
       "\\textbf{nateglinide\\_No}                   &      -0.0429  &        0.080     &    -0.537  &         0.592        &       -0.200    &        0.114     \\\\\n",
       "\\textbf{nateglinide\\_Up}                   &      -0.2787  &        0.441     &    -0.632  &         0.528        &       -1.143    &        0.586     \\\\\n",
       "\\textbf{chlorpropamide\\_No}                &      -0.0247  &        0.230     &    -0.107  &         0.915        &       -0.476    &        0.427     \\\\\n",
       "\\textbf{chlorpropamide\\_Up}                &       1.6831  &        1.126     &     1.495  &         0.135        &       -0.524    &        3.890     \\\\\n",
       "\\textbf{glimepiride\\_No}                   &      -0.0155  &        0.033     &    -0.473  &         0.636        &       -0.080    &        0.049     \\\\\n",
       "\\textbf{glimepiride\\_Up}                   &      -0.1806  &        0.119     &    -1.519  &         0.129        &       -0.413    &        0.052     \\\\\n",
       "\\textbf{acetohexamide\\_Steady}             &      19.6285  &     1.58e+04     &     0.001  &         0.999        &     -3.1e+04    &     3.11e+04     \\\\\n",
       "\\textbf{glipizide\\_No}                     &      -0.0889  &        0.024     &    -3.691  &         0.000        &       -0.136    &       -0.042     \\\\\n",
       "\\textbf{glipizide\\_Up}                     &       0.0630  &        0.077     &     0.822  &         0.411        &       -0.087    &        0.213     \\\\\n",
       "\\textbf{glyburide\\_No}                     &      -0.0142  &        0.026     &    -0.544  &         0.586        &       -0.065    &        0.037     \\\\\n",
       "\\textbf{glyburide\\_Up}                     &      -0.0535  &        0.076     &    -0.706  &         0.480        &       -0.202    &        0.095     \\\\\n",
       "\\textbf{tolbutamide\\_Steady}               &      -0.4454  &        0.444     &    -1.004  &         0.315        &       -1.315    &        0.424     \\\\\n",
       "\\textbf{pioglitazone\\_No}                  &      -0.0666  &        0.028     &    -2.422  &         0.015        &       -0.121    &       -0.013     \\\\\n",
       "\\textbf{pioglitazone\\_Up}                  &       0.1439  &        0.137     &     1.052  &         0.293        &       -0.124    &        0.412     \\\\\n",
       "\\textbf{rosiglitazone\\_No}                 &      -0.1216  &        0.029     &    -4.189  &         0.000        &       -0.179    &       -0.065     \\\\\n",
       "\\textbf{rosiglitazone\\_Up}                 &      -0.4099  &        0.161     &    -2.553  &         0.011        &       -0.725    &       -0.095     \\\\\n",
       "\\textbf{acarbose\\_No}                      &      -0.3921  &        0.123     &    -3.200  &         0.001        &       -0.632    &       -0.152     \\\\\n",
       "\\textbf{acarbose\\_Up}                      &       0.3956  &        0.663     &     0.597  &         0.551        &       -0.904    &        1.695     \\\\\n",
       "\\textbf{miglitol\\_No}                      &      -0.6042  &        0.356     &    -1.696  &         0.090        &       -1.302    &        0.094     \\\\\n",
       "\\textbf{miglitol\\_Up}                      &      -0.8165  &        1.472     &    -0.555  &         0.579        &       -3.702    &        2.069     \\\\\n",
       "\\textbf{troglitazone\\_Steady}              &       0.8621  &        1.226     &     0.703  &         0.482        &       -1.542    &        3.266     \\\\\n",
       "\\textbf{tolazamide\\_Steady}                &      -0.3996  &        0.353     &    -1.130  &         0.258        &       -1.092    &        0.293     \\\\\n",
       "\\textbf{tolazamide\\_Up}                    &      18.7595  &     1.21e+04     &     0.002  &         0.999        &    -2.37e+04    &     2.38e+04     \\\\\n",
       "\\textbf{insulin\\_No}                       &      -0.0855  &        0.035     &    -2.454  &         0.014        &       -0.154    &       -0.017     \\\\\n",
       "\\textbf{insulin\\_Steady}                   &      -0.2068  &        0.027     &    -7.729  &         0.000        &       -0.259    &       -0.154     \\\\\n",
       "\\textbf{insulin\\_Up}                       &      -0.0686  &        0.027     &    -2.522  &         0.012        &       -0.122    &       -0.015     \\\\\n",
       "\\textbf{glyburide\\_metformin\\_No}          &      -0.0843  &        0.079     &    -1.070  &         0.284        &       -0.239    &        0.070     \\\\\n",
       "\\textbf{glyburide\\_metformin\\_Up}          &      -1.7500  &        1.078     &    -1.623  &         0.105        &       -3.863    &        0.363     \\\\\n",
       "\\textbf{glipizide\\_metformin\\_Steady}      &       0.6463  &        0.579     &     1.116  &         0.265        &       -0.489    &        1.782     \\\\\n",
       "\\textbf{glimepiride\\_pioglitazone\\_Steady} &      18.6520  &     1.14e+04     &     0.002  &         0.999        &    -2.23e+04    &     2.23e+04     \\\\\n",
       "\\textbf{metformin\\_rosiglitazone\\_Steady}  &     -25.4327  &     2.61e+05     & -9.76e-05  &         1.000        &    -5.11e+05    &     5.11e+05     \\\\\n",
       "\\textbf{metformin\\_pioglitazone\\_Steady}   &     -17.2387  &     8218.081     &    -0.002  &         0.998        &    -1.61e+04    &     1.61e+04     \\\\\n",
       "\\textbf{change\\_No}                        &       0.0163  &        0.025     &     0.653  &         0.514        &       -0.033    &        0.065     \\\\\n",
       "\\textbf{diabetesMed\\_Yes}                  &       0.2960  &        0.024     &    12.243  &         0.000        &        0.249    &        0.343     \\\\\n",
       "\\bottomrule\n",
       "\\end{tabular}\n",
       "%\\caption{Logit Regression Results}\n",
       "\\end{center}"
      ],
      "text/plain": [
       "<class 'statsmodels.iolib.summary.Summary'>\n",
       "\"\"\"\n",
       "                           Logit Regression Results                           \n",
       "==============================================================================\n",
       "Dep. Variable:             readmitted   No. Observations:               101763\n",
       "Model:                          Logit   Df Residuals:                   101714\n",
       "Method:                           MLE   Df Model:                           48\n",
       "Date:                Sun, 09 Mar 2025   Pseudo R-squ.:                 0.05463\n",
       "Time:                        16:00:07   Log-Likelihood:                -66388.\n",
       "converged:                      False   LL-Null:                       -70225.\n",
       "Covariance Type:            nonrobust   LLR p-value:                     0.000\n",
       "===================================================================================================\n",
       "                                      coef    std err          z      P>|z|      [0.025      0.975]\n",
       "---------------------------------------------------------------------------------------------------\n",
       "const                               0.1595      0.481      0.332      0.740      -0.782       1.101\n",
       "age                                 0.0023      0.000      5.201      0.000       0.001       0.003\n",
       "time_in_hospital                    0.0113      0.003      4.399      0.000       0.006       0.016\n",
       "num_lab_procedures                  0.0015      0.000      4.136      0.000       0.001       0.002\n",
       "num_procedures                     -0.0455      0.004    -10.693      0.000      -0.054      -0.037\n",
       "num_medications                     0.0005      0.001      0.495      0.621      -0.002       0.003\n",
       "number_outpatient                   0.0824      0.006     13.713      0.000       0.071       0.094\n",
       "number_emergency                    0.2172      0.012     17.667      0.000       0.193       0.241\n",
       "number_inpatient                    0.3694      0.007     53.247      0.000       0.356       0.383\n",
       "number_diagnoses                    0.0782      0.004     21.045      0.000       0.071       0.086\n",
       "gender_Male                        -0.0487      0.013     -3.694      0.000      -0.075      -0.023\n",
       "metformin_No                        0.1267      0.020      6.199      0.000       0.087       0.167\n",
       "metformin_Up                       -0.0648      0.066     -0.985      0.325      -0.194       0.064\n",
       "repaglinide_No                     -0.1774      0.056     -3.140      0.002      -0.288      -0.067\n",
       "repaglinide_Up                     -0.2996      0.204     -1.467      0.142      -0.700       0.101\n",
       "nateglinide_No                     -0.0429      0.080     -0.537      0.592      -0.200       0.114\n",
       "nateglinide_Up                     -0.2787      0.441     -0.632      0.528      -1.143       0.586\n",
       "chlorpropamide_No                  -0.0247      0.230     -0.107      0.915      -0.476       0.427\n",
       "chlorpropamide_Up                   1.6831      1.126      1.495      0.135      -0.524       3.890\n",
       "glimepiride_No                     -0.0155      0.033     -0.473      0.636      -0.080       0.049\n",
       "glimepiride_Up                     -0.1806      0.119     -1.519      0.129      -0.413       0.052\n",
       "acetohexamide_Steady               19.6285   1.58e+04      0.001      0.999    -3.1e+04    3.11e+04\n",
       "glipizide_No                       -0.0889      0.024     -3.691      0.000      -0.136      -0.042\n",
       "glipizide_Up                        0.0630      0.077      0.822      0.411      -0.087       0.213\n",
       "glyburide_No                       -0.0142      0.026     -0.544      0.586      -0.065       0.037\n",
       "glyburide_Up                       -0.0535      0.076     -0.706      0.480      -0.202       0.095\n",
       "tolbutamide_Steady                 -0.4454      0.444     -1.004      0.315      -1.315       0.424\n",
       "pioglitazone_No                    -0.0666      0.028     -2.422      0.015      -0.121      -0.013\n",
       "pioglitazone_Up                     0.1439      0.137      1.052      0.293      -0.124       0.412\n",
       "rosiglitazone_No                   -0.1216      0.029     -4.189      0.000      -0.179      -0.065\n",
       "rosiglitazone_Up                   -0.4099      0.161     -2.553      0.011      -0.725      -0.095\n",
       "acarbose_No                        -0.3921      0.123     -3.200      0.001      -0.632      -0.152\n",
       "acarbose_Up                         0.3956      0.663      0.597      0.551      -0.904       1.695\n",
       "miglitol_No                        -0.6042      0.356     -1.696      0.090      -1.302       0.094\n",
       "miglitol_Up                        -0.8165      1.472     -0.555      0.579      -3.702       2.069\n",
       "troglitazone_Steady                 0.8621      1.226      0.703      0.482      -1.542       3.266\n",
       "tolazamide_Steady                  -0.3996      0.353     -1.130      0.258      -1.092       0.293\n",
       "tolazamide_Up                      18.7595   1.21e+04      0.002      0.999   -2.37e+04    2.38e+04\n",
       "insulin_No                         -0.0855      0.035     -2.454      0.014      -0.154      -0.017\n",
       "insulin_Steady                     -0.2068      0.027     -7.729      0.000      -0.259      -0.154\n",
       "insulin_Up                         -0.0686      0.027     -2.522      0.012      -0.122      -0.015\n",
       "glyburide_metformin_No             -0.0843      0.079     -1.070      0.284      -0.239       0.070\n",
       "glyburide_metformin_Up             -1.7500      1.078     -1.623      0.105      -3.863       0.363\n",
       "glipizide_metformin_Steady          0.6463      0.579      1.116      0.265      -0.489       1.782\n",
       "glimepiride_pioglitazone_Steady    18.6520   1.14e+04      0.002      0.999   -2.23e+04    2.23e+04\n",
       "metformin_rosiglitazone_Steady    -25.4327   2.61e+05  -9.76e-05      1.000   -5.11e+05    5.11e+05\n",
       "metformin_pioglitazone_Steady     -17.2387   8218.081     -0.002      0.998   -1.61e+04    1.61e+04\n",
       "change_No                           0.0163      0.025      0.653      0.514      -0.033       0.065\n",
       "diabetesMed_Yes                     0.2960      0.024     12.243      0.000       0.249       0.343\n",
       "===================================================================================================\n",
       "\"\"\""
      ]
     },
     "execution_count": 65,
     "metadata": {},
     "output_type": "execute_result"
    }
   ],
   "source": [
    "model.summary()"
   ]
  },
  {
   "cell_type": "markdown",
   "metadata": {},
   "source": [
    "We have many variables with a high p-value. Let's build a better model with backwward selection"
   ]
  },
  {
   "cell_type": "markdown",
   "metadata": {},
   "source": [
    "## Backward selection"
   ]
  },
  {
   "cell_type": "code",
   "execution_count": 66,
   "metadata": {},
   "outputs": [],
   "source": [
    "import warnings\n",
    "warnings.simplefilter('ignore')"
   ]
  },
  {
   "cell_type": "code",
   "execution_count": 67,
   "metadata": {},
   "outputs": [
    {
     "data": {
      "text/plain": [
       "const                              7.399921e-01\n",
       "age                                1.977037e-07\n",
       "time_in_hospital                   1.089880e-05\n",
       "num_lab_procedures                 3.531504e-05\n",
       "num_procedures                     1.094315e-26\n",
       "num_medications                    6.209227e-01\n",
       "number_outpatient                  8.433009e-43\n",
       "number_emergency                   7.524656e-70\n",
       "number_inpatient                   0.000000e+00\n",
       "number_diagnoses                   2.541710e-98\n",
       "gender_Male                        2.211046e-04\n",
       "metformin_No                       5.692348e-10\n",
       "metformin_Up                       3.245874e-01\n",
       "repaglinide_No                     1.690782e-03\n",
       "repaglinide_Up                     1.423404e-01\n",
       "nateglinide_No                     5.916046e-01\n",
       "nateglinide_Up                     5.276217e-01\n",
       "chlorpropamide_No                  9.145028e-01\n",
       "chlorpropamide_Up                  1.350438e-01\n",
       "glimepiride_No                     6.360398e-01\n",
       "glimepiride_Up                     1.286682e-01\n",
       "acetohexamide_Steady               9.990112e-01\n",
       "glipizide_No                       2.230645e-04\n",
       "glipizide_Up                       4.108515e-01\n",
       "glyburide_No                       5.864349e-01\n",
       "glyburide_Up                       4.804027e-01\n",
       "tolbutamide_Steady                 3.153250e-01\n",
       "pioglitazone_No                    1.544362e-02\n",
       "pioglitazone_Up                    2.927526e-01\n",
       "rosiglitazone_No                   2.799970e-05\n",
       "rosiglitazone_Up                   1.066531e-02\n",
       "acarbose_No                        1.373984e-03\n",
       "acarbose_Up                        5.508155e-01\n",
       "miglitol_No                        8.987782e-02\n",
       "miglitol_Up                        5.791302e-01\n",
       "troglitazone_Steady                4.821232e-01\n",
       "tolazamide_Steady                  2.583125e-01\n",
       "tolazamide_Up                      9.987649e-01\n",
       "insulin_No                         1.411425e-02\n",
       "insulin_Steady                     1.084352e-14\n",
       "insulin_Up                         1.168244e-02\n",
       "glyburide_metformin_No             2.844083e-01\n",
       "glyburide_metformin_Up             1.045733e-01\n",
       "glipizide_metformin_Steady         2.645352e-01\n",
       "glimepiride_pioglitazone_Steady    9.986908e-01\n",
       "metformin_rosiglitazone_Steady     9.999221e-01\n",
       "metformin_pioglitazone_Steady      9.983263e-01\n",
       "change_No                          5.135089e-01\n",
       "diabetesMed_Yes                    1.840292e-34\n",
       "dtype: float64"
      ]
     },
     "execution_count": 67,
     "metadata": {},
     "output_type": "execute_result"
    }
   ],
   "source": [
    "model.pvalues"
   ]
  },
  {
   "cell_type": "code",
   "execution_count": null,
   "metadata": {},
   "outputs": [],
   "source": []
  },
  {
   "cell_type": "code",
   "execution_count": 68,
   "metadata": {},
   "outputs": [
    {
     "name": "stdout",
     "output_type": "stream",
     "text": [
      "29 variables removed\n"
     ]
    }
   ],
   "source": [
    "view_bs = view\n",
    "model_og = model\n",
    "\n",
    "ll_values = [model_og.llf]\n",
    "rsqr_values = [model_og.prsquared]\n",
    "\n",
    "a = 0.05 #significance level\n",
    "count = 1\n",
    "\n",
    "while True:\n",
    "    p_values = model.pvalues.drop(\"const\")\n",
    "\n",
    "    p = np.max(p_values)\n",
    "    i = np.argmax(p_values)\n",
    "\n",
    "    if p > a:\n",
    "        count = count + 1\n",
    "        exog = exog.drop(columns=p_values.index[i])\n",
    "        model = sm.Logit(endog, exog).fit(disp=False)\n",
    "        \n",
    "        ll_values.append(model.llf)\n",
    "        rsqr_values.append(model.prsquared)\n",
    "        \n",
    "    else:\n",
    "        break\n",
    "    \n",
    "print(count, \"variables removed\")"
   ]
  },
  {
   "cell_type": "code",
   "execution_count": 69,
   "metadata": {},
   "outputs": [],
   "source": [
    "warnings.resetwarnings()"
   ]
  },
  {
   "cell_type": "code",
   "execution_count": 70,
   "metadata": {},
   "outputs": [
    {
     "data": {
      "text/html": [
       "<table class=\"simpletable\">\n",
       "<caption>Logit Regression Results</caption>\n",
       "<tr>\n",
       "  <th>Dep. Variable:</th>      <td>readmitted</td>    <th>  No. Observations:  </th>  <td>101763</td> \n",
       "</tr>\n",
       "<tr>\n",
       "  <th>Model:</th>                 <td>Logit</td>      <th>  Df Residuals:      </th>  <td>101742</td> \n",
       "</tr>\n",
       "<tr>\n",
       "  <th>Method:</th>                 <td>MLE</td>       <th>  Df Model:          </th>  <td>    20</td> \n",
       "</tr>\n",
       "<tr>\n",
       "  <th>Date:</th>            <td>Sun, 09 Mar 2025</td> <th>  Pseudo R-squ.:     </th>  <td>0.05441</td>\n",
       "</tr>\n",
       "<tr>\n",
       "  <th>Time:</th>                <td>16:00:38</td>     <th>  Log-Likelihood:    </th> <td> -66405.</td>\n",
       "</tr>\n",
       "<tr>\n",
       "  <th>converged:</th>             <td>True</td>       <th>  LL-Null:           </th> <td> -70225.</td>\n",
       "</tr>\n",
       "<tr>\n",
       "  <th>Covariance Type:</th>     <td>nonrobust</td>    <th>  LLR p-value:       </th>  <td> 0.000</td> \n",
       "</tr>\n",
       "</table>\n",
       "<table class=\"simpletable\">\n",
       "<tr>\n",
       "           <td></td>             <th>coef</th>     <th>std err</th>      <th>z</th>      <th>P>|z|</th>  <th>[0.025</th>    <th>0.975]</th>  \n",
       "</tr>\n",
       "<tr>\n",
       "  <th>const</th>              <td>   -0.6600</td> <td>    0.150</td> <td>   -4.397</td> <td> 0.000</td> <td>   -0.954</td> <td>   -0.366</td>\n",
       "</tr>\n",
       "<tr>\n",
       "  <th>age</th>                <td>    0.0023</td> <td>    0.000</td> <td>    5.246</td> <td> 0.000</td> <td>    0.001</td> <td>    0.003</td>\n",
       "</tr>\n",
       "<tr>\n",
       "  <th>time_in_hospital</th>   <td>    0.0117</td> <td>    0.002</td> <td>    4.868</td> <td> 0.000</td> <td>    0.007</td> <td>    0.016</td>\n",
       "</tr>\n",
       "<tr>\n",
       "  <th>num_lab_procedures</th> <td>    0.0015</td> <td>    0.000</td> <td>    4.185</td> <td> 0.000</td> <td>    0.001</td> <td>    0.002</td>\n",
       "</tr>\n",
       "<tr>\n",
       "  <th>num_procedures</th>     <td>   -0.0447</td> <td>    0.004</td> <td>  -11.305</td> <td> 0.000</td> <td>   -0.052</td> <td>   -0.037</td>\n",
       "</tr>\n",
       "<tr>\n",
       "  <th>number_outpatient</th>  <td>    0.0824</td> <td>    0.006</td> <td>   13.735</td> <td> 0.000</td> <td>    0.071</td> <td>    0.094</td>\n",
       "</tr>\n",
       "<tr>\n",
       "  <th>number_emergency</th>   <td>    0.2170</td> <td>    0.012</td> <td>   17.658</td> <td> 0.000</td> <td>    0.193</td> <td>    0.241</td>\n",
       "</tr>\n",
       "<tr>\n",
       "  <th>number_inpatient</th>   <td>    0.3696</td> <td>    0.007</td> <td>   53.347</td> <td> 0.000</td> <td>    0.356</td> <td>    0.383</td>\n",
       "</tr>\n",
       "<tr>\n",
       "  <th>number_diagnoses</th>   <td>    0.0786</td> <td>    0.004</td> <td>   21.424</td> <td> 0.000</td> <td>    0.071</td> <td>    0.086</td>\n",
       "</tr>\n",
       "<tr>\n",
       "  <th>gender_Male</th>        <td>   -0.0486</td> <td>    0.013</td> <td>   -3.692</td> <td> 0.000</td> <td>   -0.074</td> <td>   -0.023</td>\n",
       "</tr>\n",
       "<tr>\n",
       "  <th>metformin_No</th>       <td>    0.1365</td> <td>    0.018</td> <td>    7.723</td> <td> 0.000</td> <td>    0.102</td> <td>    0.171</td>\n",
       "</tr>\n",
       "<tr>\n",
       "  <th>repaglinide_No</th>     <td>   -0.1495</td> <td>    0.054</td> <td>   -2.782</td> <td> 0.005</td> <td>   -0.255</td> <td>   -0.044</td>\n",
       "</tr>\n",
       "<tr>\n",
       "  <th>glipizide_No</th>       <td>   -0.0848</td> <td>    0.020</td> <td>   -4.140</td> <td> 0.000</td> <td>   -0.125</td> <td>   -0.045</td>\n",
       "</tr>\n",
       "<tr>\n",
       "  <th>pioglitazone_No</th>    <td>   -0.0663</td> <td>    0.026</td> <td>   -2.588</td> <td> 0.010</td> <td>   -0.116</td> <td>   -0.016</td>\n",
       "</tr>\n",
       "<tr>\n",
       "  <th>rosiglitazone_No</th>   <td>   -0.1161</td> <td>    0.028</td> <td>   -4.204</td> <td> 0.000</td> <td>   -0.170</td> <td>   -0.062</td>\n",
       "</tr>\n",
       "<tr>\n",
       "  <th>rosiglitazone_Up</th>   <td>   -0.4158</td> <td>    0.160</td> <td>   -2.593</td> <td> 0.010</td> <td>   -0.730</td> <td>   -0.102</td>\n",
       "</tr>\n",
       "<tr>\n",
       "  <th>acarbose_No</th>        <td>   -0.4045</td> <td>    0.120</td> <td>   -3.364</td> <td> 0.001</td> <td>   -0.640</td> <td>   -0.169</td>\n",
       "</tr>\n",
       "<tr>\n",
       "  <th>insulin_No</th>         <td>   -0.0699</td> <td>    0.024</td> <td>   -2.878</td> <td> 0.004</td> <td>   -0.117</td> <td>   -0.022</td>\n",
       "</tr>\n",
       "<tr>\n",
       "  <th>insulin_Steady</th>     <td>   -0.1984</td> <td>    0.022</td> <td>   -8.866</td> <td> 0.000</td> <td>   -0.242</td> <td>   -0.155</td>\n",
       "</tr>\n",
       "<tr>\n",
       "  <th>insulin_Up</th>         <td>   -0.0686</td> <td>    0.027</td> <td>   -2.521</td> <td> 0.012</td> <td>   -0.122</td> <td>   -0.015</td>\n",
       "</tr>\n",
       "<tr>\n",
       "  <th>diabetesMed_Yes</th>    <td>    0.3022</td> <td>    0.022</td> <td>   13.737</td> <td> 0.000</td> <td>    0.259</td> <td>    0.345</td>\n",
       "</tr>\n",
       "</table>"
      ],
      "text/latex": [
       "\\begin{center}\n",
       "\\begin{tabular}{lclc}\n",
       "\\toprule\n",
       "\\textbf{Dep. Variable:}       &    readmitted    & \\textbf{  No. Observations:  } &   101763    \\\\\n",
       "\\textbf{Model:}               &      Logit       & \\textbf{  Df Residuals:      } &   101742    \\\\\n",
       "\\textbf{Method:}              &       MLE        & \\textbf{  Df Model:          } &       20    \\\\\n",
       "\\textbf{Date:}                & Sun, 09 Mar 2025 & \\textbf{  Pseudo R-squ.:     } &  0.05441    \\\\\n",
       "\\textbf{Time:}                &     16:00:38     & \\textbf{  Log-Likelihood:    } &   -66405.   \\\\\n",
       "\\textbf{converged:}           &       True       & \\textbf{  LL-Null:           } &   -70225.   \\\\\n",
       "\\textbf{Covariance Type:}     &    nonrobust     & \\textbf{  LLR p-value:       } &    0.000    \\\\\n",
       "\\bottomrule\n",
       "\\end{tabular}\n",
       "\\begin{tabular}{lcccccc}\n",
       "                              & \\textbf{coef} & \\textbf{std err} & \\textbf{z} & \\textbf{P$> |$z$|$} & \\textbf{[0.025} & \\textbf{0.975]}  \\\\\n",
       "\\midrule\n",
       "\\textbf{const}                &      -0.6600  &        0.150     &    -4.397  &         0.000        &       -0.954    &       -0.366     \\\\\n",
       "\\textbf{age}                  &       0.0023  &        0.000     &     5.246  &         0.000        &        0.001    &        0.003     \\\\\n",
       "\\textbf{time\\_in\\_hospital}   &       0.0117  &        0.002     &     4.868  &         0.000        &        0.007    &        0.016     \\\\\n",
       "\\textbf{num\\_lab\\_procedures} &       0.0015  &        0.000     &     4.185  &         0.000        &        0.001    &        0.002     \\\\\n",
       "\\textbf{num\\_procedures}      &      -0.0447  &        0.004     &   -11.305  &         0.000        &       -0.052    &       -0.037     \\\\\n",
       "\\textbf{number\\_outpatient}   &       0.0824  &        0.006     &    13.735  &         0.000        &        0.071    &        0.094     \\\\\n",
       "\\textbf{number\\_emergency}    &       0.2170  &        0.012     &    17.658  &         0.000        &        0.193    &        0.241     \\\\\n",
       "\\textbf{number\\_inpatient}    &       0.3696  &        0.007     &    53.347  &         0.000        &        0.356    &        0.383     \\\\\n",
       "\\textbf{number\\_diagnoses}    &       0.0786  &        0.004     &    21.424  &         0.000        &        0.071    &        0.086     \\\\\n",
       "\\textbf{gender\\_Male}         &      -0.0486  &        0.013     &    -3.692  &         0.000        &       -0.074    &       -0.023     \\\\\n",
       "\\textbf{metformin\\_No}        &       0.1365  &        0.018     &     7.723  &         0.000        &        0.102    &        0.171     \\\\\n",
       "\\textbf{repaglinide\\_No}      &      -0.1495  &        0.054     &    -2.782  &         0.005        &       -0.255    &       -0.044     \\\\\n",
       "\\textbf{glipizide\\_No}        &      -0.0848  &        0.020     &    -4.140  &         0.000        &       -0.125    &       -0.045     \\\\\n",
       "\\textbf{pioglitazone\\_No}     &      -0.0663  &        0.026     &    -2.588  &         0.010        &       -0.116    &       -0.016     \\\\\n",
       "\\textbf{rosiglitazone\\_No}    &      -0.1161  &        0.028     &    -4.204  &         0.000        &       -0.170    &       -0.062     \\\\\n",
       "\\textbf{rosiglitazone\\_Up}    &      -0.4158  &        0.160     &    -2.593  &         0.010        &       -0.730    &       -0.102     \\\\\n",
       "\\textbf{acarbose\\_No}         &      -0.4045  &        0.120     &    -3.364  &         0.001        &       -0.640    &       -0.169     \\\\\n",
       "\\textbf{insulin\\_No}          &      -0.0699  &        0.024     &    -2.878  &         0.004        &       -0.117    &       -0.022     \\\\\n",
       "\\textbf{insulin\\_Steady}      &      -0.1984  &        0.022     &    -8.866  &         0.000        &       -0.242    &       -0.155     \\\\\n",
       "\\textbf{insulin\\_Up}          &      -0.0686  &        0.027     &    -2.521  &         0.012        &       -0.122    &       -0.015     \\\\\n",
       "\\textbf{diabetesMed\\_Yes}     &       0.3022  &        0.022     &    13.737  &         0.000        &        0.259    &        0.345     \\\\\n",
       "\\bottomrule\n",
       "\\end{tabular}\n",
       "%\\caption{Logit Regression Results}\n",
       "\\end{center}"
      ],
      "text/plain": [
       "<class 'statsmodels.iolib.summary.Summary'>\n",
       "\"\"\"\n",
       "                           Logit Regression Results                           \n",
       "==============================================================================\n",
       "Dep. Variable:             readmitted   No. Observations:               101763\n",
       "Model:                          Logit   Df Residuals:                   101742\n",
       "Method:                           MLE   Df Model:                           20\n",
       "Date:                Sun, 09 Mar 2025   Pseudo R-squ.:                 0.05441\n",
       "Time:                        16:00:38   Log-Likelihood:                -66405.\n",
       "converged:                       True   LL-Null:                       -70225.\n",
       "Covariance Type:            nonrobust   LLR p-value:                     0.000\n",
       "======================================================================================\n",
       "                         coef    std err          z      P>|z|      [0.025      0.975]\n",
       "--------------------------------------------------------------------------------------\n",
       "const                 -0.6600      0.150     -4.397      0.000      -0.954      -0.366\n",
       "age                    0.0023      0.000      5.246      0.000       0.001       0.003\n",
       "time_in_hospital       0.0117      0.002      4.868      0.000       0.007       0.016\n",
       "num_lab_procedures     0.0015      0.000      4.185      0.000       0.001       0.002\n",
       "num_procedures        -0.0447      0.004    -11.305      0.000      -0.052      -0.037\n",
       "number_outpatient      0.0824      0.006     13.735      0.000       0.071       0.094\n",
       "number_emergency       0.2170      0.012     17.658      0.000       0.193       0.241\n",
       "number_inpatient       0.3696      0.007     53.347      0.000       0.356       0.383\n",
       "number_diagnoses       0.0786      0.004     21.424      0.000       0.071       0.086\n",
       "gender_Male           -0.0486      0.013     -3.692      0.000      -0.074      -0.023\n",
       "metformin_No           0.1365      0.018      7.723      0.000       0.102       0.171\n",
       "repaglinide_No        -0.1495      0.054     -2.782      0.005      -0.255      -0.044\n",
       "glipizide_No          -0.0848      0.020     -4.140      0.000      -0.125      -0.045\n",
       "pioglitazone_No       -0.0663      0.026     -2.588      0.010      -0.116      -0.016\n",
       "rosiglitazone_No      -0.1161      0.028     -4.204      0.000      -0.170      -0.062\n",
       "rosiglitazone_Up      -0.4158      0.160     -2.593      0.010      -0.730      -0.102\n",
       "acarbose_No           -0.4045      0.120     -3.364      0.001      -0.640      -0.169\n",
       "insulin_No            -0.0699      0.024     -2.878      0.004      -0.117      -0.022\n",
       "insulin_Steady        -0.1984      0.022     -8.866      0.000      -0.242      -0.155\n",
       "insulin_Up            -0.0686      0.027     -2.521      0.012      -0.122      -0.015\n",
       "diabetesMed_Yes        0.3022      0.022     13.737      0.000       0.259       0.345\n",
       "======================================================================================\n",
       "\"\"\""
      ]
     },
     "execution_count": 70,
     "metadata": {},
     "output_type": "execute_result"
    }
   ],
   "source": [
    "model.summary()"
   ]
  },
  {
   "cell_type": "markdown",
   "metadata": {},
   "source": [
    "Number_inpatient is the variable with the highest coefficient. When all the other variables are held constant, an increase of one unit in number_inpatient corresponds to a multiplicative increase in the odds of a patient being readmitted rather than not of:\n"
   ]
  },
  {
   "cell_type": "code",
   "execution_count": 71,
   "metadata": {},
   "outputs": [
    {
     "data": {
      "text/plain": [
       "np.float64(1.4471556366207874)"
      ]
     },
     "execution_count": 71,
     "metadata": {},
     "output_type": "execute_result"
    }
   ],
   "source": [
    "np.exp(0.3696)"
   ]
  },
  {
   "cell_type": "markdown",
   "metadata": {},
   "source": [
    "That is, the odds increase by a $+4,5 \\% $. However, the pseudo r-squared is still very low. Let's plot the variation in this statistic as a function of the number of variables removed during backward selection:"
   ]
  },
  {
   "cell_type": "code",
   "execution_count": 72,
   "metadata": {},
   "outputs": [
    {
     "data": {
      "text/plain": [
       "Text(0.5, 1.0, 'Variation in pseudo r-squared as a function of the number of variables removed')"
      ]
     },
     "execution_count": 72,
     "metadata": {},
     "output_type": "execute_result"
    },
    {
     "data": {
      "image/png": "[encoded data removed]",
      "text/plain": [
       "<Figure size 900x600 with 1 Axes>"
      ]
     },
     "metadata": {},
     "output_type": "display_data"
    }
   ],
   "source": [
    "plt.figure(figsize=(9, 6))\n",
    "plt.plot(range(0, count), rsqr_values)\n",
    "plt.grid()\n",
    "plt.title(\"Variation in pseudo r-squared as a function of the number of variables removed\")"
   ]
  },
  {
   "cell_type": "markdown",
   "metadata": {},
   "source": [
    "The pseudo r-squared has slightly decreased: from $0.5463$ to $0.05441$ << 1. <br>"
   ]
  },
  {
   "cell_type": "markdown",
   "metadata": {},
   "source": [
    "## Using Lasso regression to perform variable selection"
   ]
  },
  {
   "cell_type": "markdown",
   "metadata": {},
   "source": [
    "Despite lasso regression being not interpretable, we can use it to perform variable selection and then build a logit regressor. Let's see if we can obtain a bigger pseudo r-squared with this method."
   ]
  },
  {
   "cell_type": "code",
   "execution_count": 73,
   "metadata": {},
   "outputs": [],
   "source": [
    "view = data.replace({'readmitted': 2}, 1)\n",
    "cols = np.concatenate([[view.columns[0]], view.columns[10:-1]])\n",
    "view = pd.get_dummies(view, columns=cols, drop_first=True, dtype=np.uint8)"
   ]
  },
  {
   "cell_type": "code",
   "execution_count": 74,
   "metadata": {},
   "outputs": [],
   "source": [
    "from scipy.stats import zscore"
   ]
  },
  {
   "cell_type": "code",
   "execution_count": 75,
   "metadata": {},
   "outputs": [],
   "source": [
    "exog = zscore(view.drop(columns='readmitted'), axis=1)"
   ]
  },
  {
   "cell_type": "code",
   "execution_count": 76,
   "metadata": {},
   "outputs": [
    {
     "name": "stdout",
     "output_type": "stream",
     "text": [
      "Optimization terminated successfully    (Exit mode 0)\n",
      "            Current function value: 0.6590767289933417\n",
      "            Iterations: 260\n",
      "            Function evaluations: 261\n",
      "            Gradient evaluations: 260\n"
     ]
    }
   ],
   "source": [
    "exog = sm.add_constant(exog)\n",
    "model_lasso = sm.Logit(exog=exog, endog=view['readmitted']).fit_regularized(L1_wt=1, alpha=36, maxiter=10000)"
   ]
  },
  {
   "cell_type": "markdown",
   "metadata": {},
   "source": [
    "Our lasso regressor has set to zero some coefficients:"
   ]
  },
  {
   "cell_type": "code",
   "execution_count": 77,
   "metadata": {},
   "outputs": [
    {
     "name": "stdout",
     "output_type": "stream",
     "text": [
      "acarbose_Steady                    0.0\n",
      "acarbose_Up                        0.0\n",
      "acetohexamide_Steady               0.0\n",
      "chlorpropamide_No                  0.0\n",
      "chlorpropamide_Steady              0.0\n",
      "chlorpropamide_Up                  0.0\n",
      "glimepiride_Steady                 0.0\n",
      "glimepiride_Up                     0.0\n",
      "glimepiride_pioglitazone_Steady    0.0\n",
      "glipizide_Steady                   0.0\n",
      "glipizide_Up                       0.0\n",
      "glipizide_metformin_Steady         0.0\n",
      "glyburide_Steady                   0.0\n",
      "glyburide_Up                       0.0\n",
      "glyburide_metformin_No             0.0\n",
      "glyburide_metformin_Steady         0.0\n",
      "glyburide_metformin_Up             0.0\n",
      "insulin_Up                         0.0\n",
      "metformin_No                       0.0\n",
      "metformin_Up                       0.0\n",
      "metformin_pioglitazone_Steady      0.0\n",
      "metformin_rosiglitazone_Steady     0.0\n",
      "miglitol_No                        0.0\n",
      "miglitol_Steady                    0.0\n",
      "miglitol_Up                        0.0\n",
      "nateglinide_No                     0.0\n",
      "nateglinide_Steady                 0.0\n",
      "nateglinide_Up                     0.0\n",
      "pioglitazone_Steady                0.0\n",
      "pioglitazone_Up                    0.0\n",
      "repaglinide_Steady                 0.0\n",
      "repaglinide_Up                     0.0\n",
      "rosiglitazone_Steady               0.0\n",
      "rosiglitazone_Up                   0.0\n",
      "tolazamide_Steady                  0.0\n",
      "tolazamide_Up                      0.0\n",
      "tolbutamide_Steady                 0.0\n",
      "troglitazone_Steady                0.0\n",
      "dtype: float64\n"
     ]
    }
   ],
   "source": [
    "zero_coeff = model_lasso.params[model_lasso.params == 0]\n",
    "\n",
    "print(zero_coeff.sort_index())"
   ]
  },
  {
   "cell_type": "code",
   "execution_count": 78,
   "metadata": {},
   "outputs": [
    {
     "data": {
      "text/plain": [
       "array(['metformin_No', 'metformin_Up', 'repaglinide_Steady',\n",
       "       'repaglinide_Up', 'nateglinide_No', 'nateglinide_Steady',\n",
       "       'nateglinide_Up', 'chlorpropamide_No', 'chlorpropamide_Steady',\n",
       "       'chlorpropamide_Up', 'glimepiride_Steady', 'glimepiride_Up',\n",
       "       'acetohexamide_Steady', 'glipizide_Steady', 'glipizide_Up',\n",
       "       'glyburide_Steady', 'glyburide_Up', 'tolbutamide_Steady',\n",
       "       'pioglitazone_Steady', 'pioglitazone_Up', 'rosiglitazone_Steady',\n",
       "       'rosiglitazone_Up', 'acarbose_Steady', 'acarbose_Up',\n",
       "       'miglitol_No', 'miglitol_Steady', 'miglitol_Up',\n",
       "       'troglitazone_Steady', 'tolazamide_Steady', 'tolazamide_Up',\n",
       "       'insulin_Up', 'glyburide_metformin_No',\n",
       "       'glyburide_metformin_Steady', 'glyburide_metformin_Up',\n",
       "       'glipizide_metformin_Steady', 'glimepiride_pioglitazone_Steady',\n",
       "       'metformin_rosiglitazone_Steady', 'metformin_pioglitazone_Steady'],\n",
       "      dtype=object)"
      ]
     },
     "execution_count": 78,
     "metadata": {},
     "output_type": "execute_result"
    }
   ],
   "source": [
    "zero_coeff.index.values"
   ]
  },
  {
   "cell_type": "markdown",
   "metadata": {},
   "source": [
    "Let's drop these variables:"
   ]
  },
  {
   "cell_type": "code",
   "execution_count": 79,
   "metadata": {},
   "outputs": [],
   "source": [
    "exog = exog.drop(columns=zero_coeff.index.values)"
   ]
  },
  {
   "cell_type": "code",
   "execution_count": 80,
   "metadata": {},
   "outputs": [
    {
     "data": {
      "text/plain": [
       "23"
      ]
     },
     "execution_count": 80,
     "metadata": {},
     "output_type": "execute_result"
    }
   ],
   "source": [
    "len(exog.columns)"
   ]
  },
  {
   "cell_type": "markdown",
   "metadata": {},
   "source": [
    "Now we only have 23 variables. Let's fit a new intepretable logit regressor on these variables:"
   ]
  },
  {
   "cell_type": "code",
   "execution_count": 81,
   "metadata": {},
   "outputs": [],
   "source": [
    "model_final = sm.Logit(exog=exog, endog=view['readmitted']).fit(disp=False)"
   ]
  },
  {
   "cell_type": "code",
   "execution_count": 82,
   "metadata": {},
   "outputs": [
    {
     "data": {
      "text/html": [
       "<table class=\"simpletable\">\n",
       "<caption>Logit Regression Results</caption>\n",
       "<tr>\n",
       "  <th>Dep. Variable:</th>      <td>readmitted</td>    <th>  No. Observations:  </th>  <td>101763</td> \n",
       "</tr>\n",
       "<tr>\n",
       "  <th>Model:</th>                 <td>Logit</td>      <th>  Df Residuals:      </th>  <td>101740</td> \n",
       "</tr>\n",
       "<tr>\n",
       "  <th>Method:</th>                 <td>MLE</td>       <th>  Df Model:          </th>  <td>    22</td> \n",
       "</tr>\n",
       "<tr>\n",
       "  <th>Date:</th>            <td>Sun, 09 Mar 2025</td> <th>  Pseudo R-squ.:     </th>  <td>0.05534</td>\n",
       "</tr>\n",
       "<tr>\n",
       "  <th>Time:</th>                <td>16:00:46</td>     <th>  Log-Likelihood:    </th> <td> -66339.</td>\n",
       "</tr>\n",
       "<tr>\n",
       "  <th>converged:</th>             <td>True</td>       <th>  LL-Null:           </th> <td> -70225.</td>\n",
       "</tr>\n",
       "<tr>\n",
       "  <th>Covariance Type:</th>     <td>nonrobust</td>    <th>  LLR p-value:       </th>  <td> 0.000</td> \n",
       "</tr>\n",
       "</table>\n",
       "<table class=\"simpletable\">\n",
       "<tr>\n",
       "           <td></td>             <th>coef</th>     <th>std err</th>      <th>z</th>      <th>P>|z|</th>  <th>[0.025</th>    <th>0.975]</th>  \n",
       "</tr>\n",
       "<tr>\n",
       "  <th>const</th>              <td>   -0.3934</td> <td>    0.157</td> <td>   -2.501</td> <td> 0.012</td> <td>   -0.702</td> <td>   -0.085</td>\n",
       "</tr>\n",
       "<tr>\n",
       "  <th>age</th>                <td>   -0.1054</td> <td>    0.023</td> <td>   -4.612</td> <td> 0.000</td> <td>   -0.150</td> <td>   -0.061</td>\n",
       "</tr>\n",
       "<tr>\n",
       "  <th>time_in_hospital</th>   <td>    0.0254</td> <td>    0.030</td> <td>    0.834</td> <td> 0.404</td> <td>   -0.034</td> <td>    0.085</td>\n",
       "</tr>\n",
       "<tr>\n",
       "  <th>num_lab_procedures</th> <td>   -0.1164</td> <td>    0.018</td> <td>   -6.367</td> <td> 0.000</td> <td>   -0.152</td> <td>   -0.081</td>\n",
       "</tr>\n",
       "<tr>\n",
       "  <th>num_procedures</th>     <td>   -0.6479</td> <td>    0.045</td> <td>  -14.372</td> <td> 0.000</td> <td>   -0.736</td> <td>   -0.560</td>\n",
       "</tr>\n",
       "<tr>\n",
       "  <th>num_medications</th>    <td>   -0.1340</td> <td>    0.018</td> <td>   -7.587</td> <td> 0.000</td> <td>   -0.169</td> <td>   -0.099</td>\n",
       "</tr>\n",
       "<tr>\n",
       "  <th>number_outpatient</th>  <td>    0.6678</td> <td>    0.063</td> <td>   10.605</td> <td> 0.000</td> <td>    0.544</td> <td>    0.791</td>\n",
       "</tr>\n",
       "<tr>\n",
       "  <th>number_emergency</th>   <td>    1.7765</td> <td>    0.119</td> <td>   14.950</td> <td> 0.000</td> <td>    1.544</td> <td>    2.009</td>\n",
       "</tr>\n",
       "<tr>\n",
       "  <th>number_inpatient</th>   <td>    3.5581</td> <td>    0.073</td> <td>   48.991</td> <td> 0.000</td> <td>    3.416</td> <td>    3.700</td>\n",
       "</tr>\n",
       "<tr>\n",
       "  <th>number_diagnoses</th>   <td>    0.5412</td> <td>    0.034</td> <td>   16.112</td> <td> 0.000</td> <td>    0.475</td> <td>    0.607</td>\n",
       "</tr>\n",
       "<tr>\n",
       "  <th>gender_Male</th>        <td>   -0.6117</td> <td>    0.132</td> <td>   -4.627</td> <td> 0.000</td> <td>   -0.871</td> <td>   -0.353</td>\n",
       "</tr>\n",
       "<tr>\n",
       "  <th>metformin_Steady</th>   <td>   -1.3079</td> <td>    0.194</td> <td>   -6.745</td> <td> 0.000</td> <td>   -1.688</td> <td>   -0.928</td>\n",
       "</tr>\n",
       "<tr>\n",
       "  <th>repaglinide_No</th>     <td>   -2.5406</td> <td>    0.535</td> <td>   -4.747</td> <td> 0.000</td> <td>   -3.590</td> <td>   -1.492</td>\n",
       "</tr>\n",
       "<tr>\n",
       "  <th>glimepiride_No</th>     <td>   -0.3325</td> <td>    0.307</td> <td>   -1.083</td> <td> 0.279</td> <td>   -0.934</td> <td>    0.269</td>\n",
       "</tr>\n",
       "<tr>\n",
       "  <th>glipizide_No</th>       <td>   -1.1029</td> <td>    0.223</td> <td>   -4.946</td> <td> 0.000</td> <td>   -1.540</td> <td>   -0.666</td>\n",
       "</tr>\n",
       "<tr>\n",
       "  <th>glyburide_No</th>       <td>   -0.2093</td> <td>    0.242</td> <td>   -0.866</td> <td> 0.387</td> <td>   -0.683</td> <td>    0.265</td>\n",
       "</tr>\n",
       "<tr>\n",
       "  <th>pioglitazone_No</th>    <td>   -0.7819</td> <td>    0.260</td> <td>   -3.004</td> <td> 0.003</td> <td>   -1.292</td> <td>   -0.272</td>\n",
       "</tr>\n",
       "<tr>\n",
       "  <th>rosiglitazone_No</th>   <td>   -1.1659</td> <td>    0.274</td> <td>   -4.256</td> <td> 0.000</td> <td>   -1.703</td> <td>   -0.629</td>\n",
       "</tr>\n",
       "<tr>\n",
       "  <th>acarbose_No</th>        <td>   -5.7341</td> <td>    0.853</td> <td>   -6.721</td> <td> 0.000</td> <td>   -7.406</td> <td>   -4.062</td>\n",
       "</tr>\n",
       "<tr>\n",
       "  <th>insulin_No</th>         <td>   -1.1626</td> <td>    0.288</td> <td>   -4.030</td> <td> 0.000</td> <td>   -1.728</td> <td>   -0.597</td>\n",
       "</tr>\n",
       "<tr>\n",
       "  <th>insulin_Steady</th>     <td>   -2.0129</td> <td>    0.226</td> <td>   -8.904</td> <td> 0.000</td> <td>   -2.456</td> <td>   -1.570</td>\n",
       "</tr>\n",
       "<tr>\n",
       "  <th>change_No</th>          <td>    0.4011</td> <td>    0.223</td> <td>    1.799</td> <td> 0.072</td> <td>   -0.036</td> <td>    0.838</td>\n",
       "</tr>\n",
       "<tr>\n",
       "  <th>diabetesMed_Yes</th>    <td>    2.4437</td> <td>    0.223</td> <td>   10.961</td> <td> 0.000</td> <td>    2.007</td> <td>    2.881</td>\n",
       "</tr>\n",
       "</table>"
      ],
      "text/latex": [
       "\\begin{center}\n",
       "\\begin{tabular}{lclc}\n",
       "\\toprule\n",
       "\\textbf{Dep. Variable:}       &    readmitted    & \\textbf{  No. Observations:  } &   101763    \\\\\n",
       "\\textbf{Model:}               &      Logit       & \\textbf{  Df Residuals:      } &   101740    \\\\\n",
       "\\textbf{Method:}              &       MLE        & \\textbf{  Df Model:          } &       22    \\\\\n",
       "\\textbf{Date:}                & Sun, 09 Mar 2025 & \\textbf{  Pseudo R-squ.:     } &  0.05534    \\\\\n",
       "\\textbf{Time:}                &     16:00:46     & \\textbf{  Log-Likelihood:    } &   -66339.   \\\\\n",
       "\\textbf{converged:}           &       True       & \\textbf{  LL-Null:           } &   -70225.   \\\\\n",
       "\\textbf{Covariance Type:}     &    nonrobust     & \\textbf{  LLR p-value:       } &    0.000    \\\\\n",
       "\\bottomrule\n",
       "\\end{tabular}\n",
       "\\begin{tabular}{lcccccc}\n",
       "                              & \\textbf{coef} & \\textbf{std err} & \\textbf{z} & \\textbf{P$> |$z$|$} & \\textbf{[0.025} & \\textbf{0.975]}  \\\\\n",
       "\\midrule\n",
       "\\textbf{const}                &      -0.3934  &        0.157     &    -2.501  &         0.012        &       -0.702    &       -0.085     \\\\\n",
       "\\textbf{age}                  &      -0.1054  &        0.023     &    -4.612  &         0.000        &       -0.150    &       -0.061     \\\\\n",
       "\\textbf{time\\_in\\_hospital}   &       0.0254  &        0.030     &     0.834  &         0.404        &       -0.034    &        0.085     \\\\\n",
       "\\textbf{num\\_lab\\_procedures} &      -0.1164  &        0.018     &    -6.367  &         0.000        &       -0.152    &       -0.081     \\\\\n",
       "\\textbf{num\\_procedures}      &      -0.6479  &        0.045     &   -14.372  &         0.000        &       -0.736    &       -0.560     \\\\\n",
       "\\textbf{num\\_medications}     &      -0.1340  &        0.018     &    -7.587  &         0.000        &       -0.169    &       -0.099     \\\\\n",
       "\\textbf{number\\_outpatient}   &       0.6678  &        0.063     &    10.605  &         0.000        &        0.544    &        0.791     \\\\\n",
       "\\textbf{number\\_emergency}    &       1.7765  &        0.119     &    14.950  &         0.000        &        1.544    &        2.009     \\\\\n",
       "\\textbf{number\\_inpatient}    &       3.5581  &        0.073     &    48.991  &         0.000        &        3.416    &        3.700     \\\\\n",
       "\\textbf{number\\_diagnoses}    &       0.5412  &        0.034     &    16.112  &         0.000        &        0.475    &        0.607     \\\\\n",
       "\\textbf{gender\\_Male}         &      -0.6117  &        0.132     &    -4.627  &         0.000        &       -0.871    &       -0.353     \\\\\n",
       "\\textbf{metformin\\_Steady}    &      -1.3079  &        0.194     &    -6.745  &         0.000        &       -1.688    &       -0.928     \\\\\n",
       "\\textbf{repaglinide\\_No}      &      -2.5406  &        0.535     &    -4.747  &         0.000        &       -3.590    &       -1.492     \\\\\n",
       "\\textbf{glimepiride\\_No}      &      -0.3325  &        0.307     &    -1.083  &         0.279        &       -0.934    &        0.269     \\\\\n",
       "\\textbf{glipizide\\_No}        &      -1.1029  &        0.223     &    -4.946  &         0.000        &       -1.540    &       -0.666     \\\\\n",
       "\\textbf{glyburide\\_No}        &      -0.2093  &        0.242     &    -0.866  &         0.387        &       -0.683    &        0.265     \\\\\n",
       "\\textbf{pioglitazone\\_No}     &      -0.7819  &        0.260     &    -3.004  &         0.003        &       -1.292    &       -0.272     \\\\\n",
       "\\textbf{rosiglitazone\\_No}    &      -1.1659  &        0.274     &    -4.256  &         0.000        &       -1.703    &       -0.629     \\\\\n",
       "\\textbf{acarbose\\_No}         &      -5.7341  &        0.853     &    -6.721  &         0.000        &       -7.406    &       -4.062     \\\\\n",
       "\\textbf{insulin\\_No}          &      -1.1626  &        0.288     &    -4.030  &         0.000        &       -1.728    &       -0.597     \\\\\n",
       "\\textbf{insulin\\_Steady}      &      -2.0129  &        0.226     &    -8.904  &         0.000        &       -2.456    &       -1.570     \\\\\n",
       "\\textbf{change\\_No}           &       0.4011  &        0.223     &     1.799  &         0.072        &       -0.036    &        0.838     \\\\\n",
       "\\textbf{diabetesMed\\_Yes}     &       2.4437  &        0.223     &    10.961  &         0.000        &        2.007    &        2.881     \\\\\n",
       "\\bottomrule\n",
       "\\end{tabular}\n",
       "%\\caption{Logit Regression Results}\n",
       "\\end{center}"
      ],
      "text/plain": [
       "<class 'statsmodels.iolib.summary.Summary'>\n",
       "\"\"\"\n",
       "                           Logit Regression Results                           \n",
       "==============================================================================\n",
       "Dep. Variable:             readmitted   No. Observations:               101763\n",
       "Model:                          Logit   Df Residuals:                   101740\n",
       "Method:                           MLE   Df Model:                           22\n",
       "Date:                Sun, 09 Mar 2025   Pseudo R-squ.:                 0.05534\n",
       "Time:                        16:00:46   Log-Likelihood:                -66339.\n",
       "converged:                       True   LL-Null:                       -70225.\n",
       "Covariance Type:            nonrobust   LLR p-value:                     0.000\n",
       "======================================================================================\n",
       "                         coef    std err          z      P>|z|      [0.025      0.975]\n",
       "--------------------------------------------------------------------------------------\n",
       "const                 -0.3934      0.157     -2.501      0.012      -0.702      -0.085\n",
       "age                   -0.1054      0.023     -4.612      0.000      -0.150      -0.061\n",
       "time_in_hospital       0.0254      0.030      0.834      0.404      -0.034       0.085\n",
       "num_lab_procedures    -0.1164      0.018     -6.367      0.000      -0.152      -0.081\n",
       "num_procedures        -0.6479      0.045    -14.372      0.000      -0.736      -0.560\n",
       "num_medications       -0.1340      0.018     -7.587      0.000      -0.169      -0.099\n",
       "number_outpatient      0.6678      0.063     10.605      0.000       0.544       0.791\n",
       "number_emergency       1.7765      0.119     14.950      0.000       1.544       2.009\n",
       "number_inpatient       3.5581      0.073     48.991      0.000       3.416       3.700\n",
       "number_diagnoses       0.5412      0.034     16.112      0.000       0.475       0.607\n",
       "gender_Male           -0.6117      0.132     -4.627      0.000      -0.871      -0.353\n",
       "metformin_Steady      -1.3079      0.194     -6.745      0.000      -1.688      -0.928\n",
       "repaglinide_No        -2.5406      0.535     -4.747      0.000      -3.590      -1.492\n",
       "glimepiride_No        -0.3325      0.307     -1.083      0.279      -0.934       0.269\n",
       "glipizide_No          -1.1029      0.223     -4.946      0.000      -1.540      -0.666\n",
       "glyburide_No          -0.2093      0.242     -0.866      0.387      -0.683       0.265\n",
       "pioglitazone_No       -0.7819      0.260     -3.004      0.003      -1.292      -0.272\n",
       "rosiglitazone_No      -1.1659      0.274     -4.256      0.000      -1.703      -0.629\n",
       "acarbose_No           -5.7341      0.853     -6.721      0.000      -7.406      -4.062\n",
       "insulin_No            -1.1626      0.288     -4.030      0.000      -1.728      -0.597\n",
       "insulin_Steady        -2.0129      0.226     -8.904      0.000      -2.456      -1.570\n",
       "change_No              0.4011      0.223      1.799      0.072      -0.036       0.838\n",
       "diabetesMed_Yes        2.4437      0.223     10.961      0.000       2.007       2.881\n",
       "======================================================================================\n",
       "\"\"\""
      ]
     },
     "execution_count": 82,
     "metadata": {},
     "output_type": "execute_result"
    }
   ],
   "source": [
    "model_final.summary()"
   ]
  },
  {
   "cell_type": "markdown",
   "metadata": {},
   "source": [
    "We have slightly increased the pseudo r-squared: $0.05452$, however it is still very low: our model can explains only 0.05% of the variability in the data. We can say the logistic regression is not a good model to explain the data"
   ]
  },
  {
   "cell_type": "markdown",
   "metadata": {},
   "source": [
    "# Predictive Analysis"
   ]
  },
  {
   "cell_type": "code",
   "execution_count": 83,
   "metadata": {},
   "outputs": [],
   "source": [
    "from sklearn.model_selection import train_test_split\n",
    "from sklearn.metrics import confusion_matrix, ConfusionMatrixDisplay"
   ]
  },
  {
   "cell_type": "markdown",
   "metadata": {},
   "source": [
    "In this section we will create some classifiers to make predictions about data. We have a target, readmitted, with 3 classes: \n",
    "* not readmitted (0)\n",
    "* readmitted within 30 days (1)\n",
    "* readmitted after 30 days (2)\n",
    "\n",
    "However, class 2 is only represented by 10% of the observations. The data has clearly an inbalance problem. At first, before being more specific, we can classify a patient in two classes: either, a patient will be readmitted (sooner or later) or not.\n",
    " "
   ]
  },
  {
   "cell_type": "code",
   "execution_count": 84,
   "metadata": {},
   "outputs": [],
   "source": [
    "view = data.replace({\"readmitted\": {2: 1}})"
   ]
  },
  {
   "cell_type": "code",
   "execution_count": 85,
   "metadata": {},
   "outputs": [
    {
     "data": {
      "text/plain": [
       "<Axes: xlabel='readmitted'>"
      ]
     },
     "execution_count": 85,
     "metadata": {},
     "output_type": "execute_result"
    },
    {
     "data": {
      "image/png": "[encoded data removed]",
      "text/plain": [
       "<Figure size 640x480 with 1 Axes>"
      ]
     },
     "metadata": {},
     "output_type": "display_data"
    }
   ],
   "source": [
    "view['readmitted'].value_counts(normalize=True).sort_index().plot.bar()"
   ]
  },
  {
   "cell_type": "markdown",
   "metadata": {},
   "source": [
    "Classes now look more balanced."
   ]
  },
  {
   "cell_type": "code",
   "execution_count": 86,
   "metadata": {},
   "outputs": [],
   "source": [
    "cols = np.concatenate([[view.columns[0]], view.columns[9:-1]])\n",
    "view = pd.get_dummies(view, columns=cols, drop_first=True, dtype=np.uint8)"
   ]
  },
  {
   "cell_type": "markdown",
   "metadata": {},
   "source": [
    "## Which metric is more important?"
   ]
  },
  {
   "cell_type": "code",
   "execution_count": 87,
   "metadata": {},
   "outputs": [],
   "source": [
    "from sklearn.metrics import recall_score, precision_score, f1_score, accuracy_score, fbeta_score"
   ]
  },
  {
   "cell_type": "markdown",
   "metadata": {},
   "source": [
    "In this context, false negatives are more important than false positives. In fact, if we say that a patient will be readmitted sooner or later even if he or she is wrong, a later test in the hospital will correct our prediction. If, on the other hand, we say that a patient will not be readmitted even if he or she is wrong, we may risk the patient's life. We can say that **in this context recall is more important than precision**. Because of this, we will use the fbeta_score with $\\beta= 2$ as follows:\n",
    "$$F_{2} = \\frac{5*TP}{5*TP + FP + 4FN}  $$\n",
    "We setted $\\beta = 2$ to make recall twice as important as precision.\n",
    "For more details, see https://scikit-learn.org/stable/modules/generated/sklearn.metrics.fbeta_score.html."
   ]
  },
  {
   "cell_type": "markdown",
   "metadata": {},
   "source": [
    "We will compare multiple classifiers. For each, we will evaluate the scores above. Let's create a dataframe that will help us choose the best classifier."
   ]
  },
  {
   "cell_type": "code",
   "execution_count": 88,
   "metadata": {},
   "outputs": [],
   "source": [
    "scores_df = pd.DataFrame(index=['recall_score', 'precision_score', 'accuracy', 'f1_score', 'fbeta_score'])"
   ]
  },
  {
   "cell_type": "code",
   "execution_count": 89,
   "metadata": {},
   "outputs": [
    {
     "data": {
      "text/html": [
       "<div>\n",
       "<style scoped>\n",
       "    .dataframe tbody tr th:only-of-type {\n",
       "        vertical-align: middle;\n",
       "    }\n",
       "\n",
       "    .dataframe tbody tr th {\n",
       "        vertical-align: top;\n",
       "    }\n",
       "\n",
       "    .dataframe thead th {\n",
       "        text-align: right;\n",
       "    }\n",
       "</style>\n",
       "<table border=\"1\" class=\"dataframe\">\n",
       "  <thead>\n",
       "    <tr style=\"text-align: right;\">\n",
       "      <th></th>\n",
       "    </tr>\n",
       "  </thead>\n",
       "  <tbody>\n",
       "    <tr>\n",
       "      <th>recall_score</th>\n",
       "    </tr>\n",
       "    <tr>\n",
       "      <th>precision_score</th>\n",
       "    </tr>\n",
       "    <tr>\n",
       "      <th>accuracy</th>\n",
       "    </tr>\n",
       "    <tr>\n",
       "      <th>f1_score</th>\n",
       "    </tr>\n",
       "    <tr>\n",
       "      <th>fbeta_score</th>\n",
       "    </tr>\n",
       "  </tbody>\n",
       "</table>\n",
       "</div>"
      ],
      "text/plain": [
       "Empty DataFrame\n",
       "Columns: []\n",
       "Index: [recall_score, precision_score, accuracy, f1_score, fbeta_score]"
      ]
     },
     "execution_count": 89,
     "metadata": {},
     "output_type": "execute_result"
    }
   ],
   "source": [
    "scores_df"
   ]
  },
  {
   "cell_type": "markdown",
   "metadata": {},
   "source": [
    "## Train and test set split"
   ]
  },
  {
   "cell_type": "code",
   "execution_count": 90,
   "metadata": {},
   "outputs": [
    {
     "name": "stdout",
     "output_type": "stream",
     "text": [
      "76322 25441\n"
     ]
    }
   ],
   "source": [
    "train_set, test_set, y_train, y_test = train_test_split(view.drop(columns='readmitted'), view['readmitted'], test_size=0.25)\n",
    "print(len(train_set), len(test_set))"
   ]
  },
  {
   "cell_type": "markdown",
   "metadata": {},
   "source": [
    "## Logistic Regression for predictive analysis"
   ]
  },
  {
   "cell_type": "markdown",
   "metadata": {},
   "source": [
    "Let's build a logit regressor to perform prediction on unseen data. We'll user our train set to train the model."
   ]
  },
  {
   "cell_type": "code",
   "execution_count": 91,
   "metadata": {},
   "outputs": [],
   "source": [
    "from sklearn.linear_model import LogisticRegression\n",
    "from sklearn.metrics import roc_curve, roc_auc_score\n",
    "\n",
    "log_regr = LogisticRegression(penalty=None, max_iter=10000).fit(train_set, y_train)"
   ]
  },
  {
   "cell_type": "markdown",
   "metadata": {},
   "source": [
    "Let's use a treshold of 0.5 for the moment:"
   ]
  },
  {
   "cell_type": "code",
   "execution_count": 92,
   "metadata": {},
   "outputs": [],
   "source": [
    "y_pred_lr = log_regr.predict(test_set) \n",
    "y_score_lr = log_regr.predict_proba(test_set)"
   ]
  },
  {
   "cell_type": "code",
   "execution_count": 93,
   "metadata": {},
   "outputs": [],
   "source": [
    "scores_df['LR'] = [recall_score(y_true=y_test, y_pred=y_pred_lr), precision_score(y_true=y_test, y_pred=y_pred_lr),\n",
    "                    accuracy_score(y_true=y_test, y_pred=y_pred_lr), f1_score(y_true=y_test, y_pred=y_pred_lr), fbeta_score(y_true=y_test, y_pred=y_pred_lr, beta=2)]"
   ]
  },
  {
   "cell_type": "code",
   "execution_count": 94,
   "metadata": {},
   "outputs": [
    {
     "data": {
      "text/html": [
       "<div>\n",
       "<style scoped>\n",
       "    .dataframe tbody tr th:only-of-type {\n",
       "        vertical-align: middle;\n",
       "    }\n",
       "\n",
       "    .dataframe tbody tr th {\n",
       "        vertical-align: top;\n",
       "    }\n",
       "\n",
       "    .dataframe thead th {\n",
       "        text-align: right;\n",
       "    }\n",
       "</style>\n",
       "<table border=\"1\" class=\"dataframe\">\n",
       "  <thead>\n",
       "    <tr style=\"text-align: right;\">\n",
       "      <th></th>\n",
       "      <th>LR</th>\n",
       "    </tr>\n",
       "  </thead>\n",
       "  <tbody>\n",
       "    <tr>\n",
       "      <th>recall_score</th>\n",
       "      <td>0.404199</td>\n",
       "    </tr>\n",
       "    <tr>\n",
       "      <th>precision_score</th>\n",
       "      <td>0.638727</td>\n",
       "    </tr>\n",
       "    <tr>\n",
       "      <th>accuracy</th>\n",
       "      <td>0.621831</td>\n",
       "    </tr>\n",
       "    <tr>\n",
       "      <th>f1_score</th>\n",
       "      <td>0.495093</td>\n",
       "    </tr>\n",
       "    <tr>\n",
       "      <th>fbeta_score</th>\n",
       "      <td>0.436234</td>\n",
       "    </tr>\n",
       "  </tbody>\n",
       "</table>\n",
       "</div>"
      ],
      "text/plain": [
       "                       LR\n",
       "recall_score     0.404199\n",
       "precision_score  0.638727\n",
       "accuracy         0.621831\n",
       "f1_score         0.495093\n",
       "fbeta_score      0.436234"
      ]
     },
     "execution_count": 94,
     "metadata": {},
     "output_type": "execute_result"
    }
   ],
   "source": [
    "scores_df"
   ]
  },
  {
   "cell_type": "markdown",
   "metadata": {},
   "source": [
    "Let's see how well our regressor performs using ROC curves. We will perform this operation a lot later, so we will define a function"
   ]
  },
  {
   "cell_type": "code",
   "execution_count": 95,
   "metadata": {},
   "outputs": [],
   "source": [
    "def plot_roc_curves(y_test, y_score):\n",
    "    fpr, tpr, thresholds = roc_curve(y_true=y_test, y_score=y_score[:, 1])\n",
    "    worst_curve = np.linspace(0,1,100)\n",
    "    ideal_curve = np.ones(100)\n",
    "\n",
    "    plt.figure(figsize = (8, 6))\n",
    "    plt.plot([0]+list(worst_curve),[0]+list(ideal_curve))\n",
    "    plt.plot(worst_curve, worst_curve)\n",
    "    plt.plot(fpr,tpr)\n",
    "\n",
    "    plt.grid()\n",
    "    plt.xlabel('False Positive Rate')\n",
    "    plt.ylabel('True Positive Rate')\n",
    "    plt.title('ROC Curve')\n",
    "\n",
    "    plt.legend(['Ideal Curve','Worst Curve', 'ROC'])\n",
    "\n",
    "    plt.show()\n",
    "    \n",
    "    print(\"AUC: \", roc_auc_score(y_test, y_score[:, 1]))\n",
    "    \n",
    "    return (fpr, tpr, thresholds)"
   ]
  },
  {
   "cell_type": "code",
   "execution_count": 96,
   "metadata": {},
   "outputs": [
    {
     "data": {
      "image/png": "[encoded data removed]",
      "text/plain": [
       "<Figure size 800x600 with 1 Axes>"
      ]
     },
     "metadata": {},
     "output_type": "display_data"
    },
    {
     "name": "stdout",
     "output_type": "stream",
     "text": [
      "AUC:  0.6593479230629895\n"
     ]
    }
   ],
   "source": [
    "fpr_lr, tpr_lr, tresholds_lr, = plot_roc_curves(y_test, y_score=y_score_lr)"
   ]
  },
  {
   "cell_type": "markdown",
   "metadata": {},
   "source": [
    "We have an AUC of 0.65. Our model is better than a random classifier! \n",
    "Let's choose the treshold that maximes the sum $\\frac{2}{3}*TPR + \\frac{1}{3}*(1-FPR) $"
   ]
  },
  {
   "cell_type": "code",
   "execution_count": 97,
   "metadata": {},
   "outputs": [
    {
     "data": {
      "image/png": "[encoded data removed]",
      "text/plain": [
       "<Figure size 800x600 with 1 Axes>"
      ]
     },
     "metadata": {},
     "output_type": "display_data"
    }
   ],
   "source": [
    "scores = (2/3)*tpr_lr + (1/3)*(1-fpr_lr)\n",
    "\n",
    "plt.figure(figsize=(8, 6))\n",
    "plt.plot(tresholds_lr, scores)\n",
    "plt.xlabel('Tresholds')\n",
    "plt.ylabel('Score')\n",
    "plt.grid()"
   ]
  },
  {
   "cell_type": "code",
   "execution_count": null,
   "metadata": {},
   "outputs": [
    {
     "name": "stdout",
     "output_type": "stream",
     "text": [
      "Optimal treshold:  0.31294259382371786\n"
     ]
    }
   ],
   "source": [
    "opt_tresh = tresholds_lr[np.argmax(scores)]\n",
    "print(\"Optimal treshold: \", opt_tresh)"
   ]
  },
  {
   "cell_type": "markdown",
   "metadata": {},
   "source": [
    "Let's update our scores:"
   ]
  },
  {
   "cell_type": "code",
   "execution_count": 99,
   "metadata": {},
   "outputs": [],
   "source": [
    "y_pred_lr_opt = np.uint8(y_score_lr[:, 1] > opt_tresh)\n",
    "\n",
    "scores_df['LR_OPT'] = [recall_score(y_true=y_test, y_pred=y_pred_lr_opt), precision_score(y_true=y_test, y_pred=y_pred_lr_opt),\n",
    "                    accuracy_score(y_true=y_test, y_pred=y_pred_lr_opt), f1_score(y_true=y_test, y_pred=y_pred_lr_opt), fbeta_score(y_true=y_test, y_pred=y_pred_lr_opt, beta=2)]"
   ]
  },
  {
   "cell_type": "code",
   "execution_count": 100,
   "metadata": {},
   "outputs": [
    {
     "data": {
      "text/html": [
       "<div>\n",
       "<style scoped>\n",
       "    .dataframe tbody tr th:only-of-type {\n",
       "        vertical-align: middle;\n",
       "    }\n",
       "\n",
       "    .dataframe tbody tr th {\n",
       "        vertical-align: top;\n",
       "    }\n",
       "\n",
       "    .dataframe thead th {\n",
       "        text-align: right;\n",
       "    }\n",
       "</style>\n",
       "<table border=\"1\" class=\"dataframe\">\n",
       "  <thead>\n",
       "    <tr style=\"text-align: right;\">\n",
       "      <th></th>\n",
       "      <th>LR</th>\n",
       "      <th>LR_OPT</th>\n",
       "    </tr>\n",
       "  </thead>\n",
       "  <tbody>\n",
       "    <tr>\n",
       "      <th>recall_score</th>\n",
       "      <td>0.404199</td>\n",
       "      <td>0.955698</td>\n",
       "    </tr>\n",
       "    <tr>\n",
       "      <th>precision_score</th>\n",
       "      <td>0.638727</td>\n",
       "      <td>0.479184</td>\n",
       "    </tr>\n",
       "    <tr>\n",
       "      <th>accuracy</th>\n",
       "      <td>0.621831</td>\n",
       "      <td>0.503203</td>\n",
       "    </tr>\n",
       "    <tr>\n",
       "      <th>f1_score</th>\n",
       "      <td>0.495093</td>\n",
       "      <td>0.638317</td>\n",
       "    </tr>\n",
       "    <tr>\n",
       "      <th>fbeta_score</th>\n",
       "      <td>0.436234</td>\n",
       "      <td>0.797155</td>\n",
       "    </tr>\n",
       "  </tbody>\n",
       "</table>\n",
       "</div>"
      ],
      "text/plain": [
       "                       LR    LR_OPT\n",
       "recall_score     0.404199  0.955698\n",
       "precision_score  0.638727  0.479184\n",
       "accuracy         0.621831  0.503203\n",
       "f1_score         0.495093  0.638317\n",
       "fbeta_score      0.436234  0.797155"
      ]
     },
     "execution_count": 100,
     "metadata": {},
     "output_type": "execute_result"
    }
   ],
   "source": [
    "scores_df"
   ]
  },
  {
   "cell_type": "markdown",
   "metadata": {},
   "source": [
    "Out of curiosity, let's also compute F2 scores"
   ]
  },
  {
   "cell_type": "code",
   "execution_count": null,
   "metadata": {},
   "outputs": [
    {
     "name": "stdout",
     "output_type": "stream",
     "text": [
      "Treshold that maximizes:  0.25077023101879864\n"
     ]
    }
   ],
   "source": [
    "fb_scores = [fbeta_score(y_true=y_test, y_pred=np.uint8(y_score_lr[:, 1] > i), beta=2) for i in tresholds_lr]\n",
    "opt_tresh = tresholds_lr[np.argmax(fb_scores)]\n",
    "print(\"Treshold that maximizes f_2 score: \", opt_tresh)"
   ]
  },
  {
   "cell_type": "markdown",
   "metadata": {},
   "source": [
    "We will choose the best treshold for other classifiers as well, so let's define a function for this purpose"
   ]
  },
  {
   "cell_type": "code",
   "execution_count": 395,
   "metadata": {},
   "outputs": [],
   "source": [
    "def computePredictions(model, test_set, y_test):\n",
    "    y_score = model.predict_proba(test_set)\n",
    "\n",
    "    fpr, tpr, tresholds = roc_curve(y_true= y_test, y_score = y_score[:, 1])\n",
    "\n",
    "    scores = (2/3)*tpr + (1/3)*(1-fpr)\n",
    "\n",
    "    opt_tresh = tresholds[np.argmax(scores)]\n",
    "\n",
    "    y_pred = np.uint8(y_score[:, 1] > opt_tresh)\n",
    "\n",
    "    return opt_tresh, y_pred"
   ]
  },
  {
   "cell_type": "markdown",
   "metadata": {},
   "source": [
    "### Polynomial Expansion"
   ]
  },
  {
   "cell_type": "code",
   "execution_count": 102,
   "metadata": {},
   "outputs": [],
   "source": [
    "from sklearn.pipeline import Pipeline\n",
    "from sklearn.preprocessing import PolynomialFeatures\n",
    "from sklearn.model_selection import GridSearchCV\n",
    "from sklearn.model_selection import KFold\n",
    "from sklearn.metrics import make_scorer"
   ]
  },
  {
   "cell_type": "markdown",
   "metadata": {},
   "source": [
    "We'll use a Pipeline object to perform in succession polynomial expansion and logistic regression. \n",
    "Let's try with a quadratic expansion"
   ]
  },
  {
   "cell_type": "code",
   "execution_count": 104,
   "metadata": {},
   "outputs": [],
   "source": [
    "pol_regr = Pipeline([\n",
    "    ('polynomial_expansion', PolynomialFeatures()),\n",
    "    ('logit_regressor', LogisticRegression(penalty=None, solver='sag', max_iter=300))\n",
    "])\n"
   ]
  },
  {
   "cell_type": "code",
   "execution_count": 105,
   "metadata": {},
   "outputs": [
    {
     "name": "stderr",
     "output_type": "stream",
     "text": [
      "c:\\Users\\Raffaele\\miniconda3\\envs\\fad\\Lib\\site-packages\\sklearn\\linear_model\\_sag.py:348: ConvergenceWarning: The max_iter was reached which means the coef_ did not converge\n",
      "  warnings.warn(\n"
     ]
    },
    {
     "data": {
      "text/html": [
       "<style>#sk-container-id-1 {\n",
       "  /* Definition of color scheme common for light and dark mode */\n",
       "  --sklearn-color-text: #000;\n",
       "  --sklearn-color-text-muted: #666;\n",
       "  --sklearn-color-line: gray;\n",
       "  /* Definition of color scheme for unfitted estimators */\n",
       "  --sklearn-color-unfitted-level-0: #fff5e6;\n",
       "  --sklearn-color-unfitted-level-1: #f6e4d2;\n",
       "  --sklearn-color-unfitted-level-2: #ffe0b3;\n",
       "  --sklearn-color-unfitted-level-3: chocolate;\n",
       "  /* Definition of color scheme for fitted estimators */\n",
       "  --sklearn-color-fitted-level-0: #f0f8ff;\n",
       "  --sklearn-color-fitted-level-1: #d4ebff;\n",
       "  --sklearn-color-fitted-level-2: #b3dbfd;\n",
       "  --sklearn-color-fitted-level-3: cornflowerblue;\n",
       "\n",
       "  /* Specific color for light theme */\n",
       "  --sklearn-color-text-on-default-background: var(--sg-text-color, var(--theme-code-foreground, var(--jp-content-font-color1, black)));\n",
       "  --sklearn-color-background: var(--sg-background-color, var(--theme-background, var(--jp-layout-color0, white)));\n",
       "  --sklearn-color-border-box: var(--sg-text-color, var(--theme-code-foreground, var(--jp-content-font-color1, black)));\n",
       "  --sklearn-color-icon: #696969;\n",
       "\n",
       "  @media (prefers-color-scheme: dark) {\n",
       "    /* Redefinition of color scheme for dark theme */\n",
       "    --sklearn-color-text-on-default-background: var(--sg-text-color, var(--theme-code-foreground, var(--jp-content-font-color1, white)));\n",
       "    --sklearn-color-background: var(--sg-background-color, var(--theme-background, var(--jp-layout-color0, #111)));\n",
       "    --sklearn-color-border-box: var(--sg-text-color, var(--theme-code-foreground, var(--jp-content-font-color1, white)));\n",
       "    --sklearn-color-icon: #878787;\n",
       "  }\n",
       "}\n",
       "\n",
       "#sk-container-id-1 {\n",
       "  color: var(--sklearn-color-text);\n",
       "}\n",
       "\n",
       "#sk-container-id-1 pre {\n",
       "  padding: 0;\n",
       "}\n",
       "\n",
       "#sk-container-id-1 input.sk-hidden--visually {\n",
       "  border: 0;\n",
       "  clip: rect(1px 1px 1px 1px);\n",
       "  clip: rect(1px, 1px, 1px, 1px);\n",
       "  height: 1px;\n",
       "  margin: -1px;\n",
       "  overflow: hidden;\n",
       "  padding: 0;\n",
       "  position: absolute;\n",
       "  width: 1px;\n",
       "}\n",
       "\n",
       "#sk-container-id-1 div.sk-dashed-wrapped {\n",
       "  border: 1px dashed var(--sklearn-color-line);\n",
       "  margin: 0 0.4em 0.5em 0.4em;\n",
       "  box-sizing: border-box;\n",
       "  padding-bottom: 0.4em;\n",
       "  background-color: var(--sklearn-color-background);\n",
       "}\n",
       "\n",
       "#sk-container-id-1 div.sk-container {\n",
       "  /* jupyter's `normalize.less` sets `[hidden] { display: none; }`\n",
       "     but bootstrap.min.css set `[hidden] { display: none !important; }`\n",
       "     so we also need the `!important` here to be able to override the\n",
       "     default hidden behavior on the sphinx rendered scikit-learn.org.\n",
       "     See: https://github.com/scikit-learn/scikit-learn/issues/21755 */\n",
       "  display: inline-block !important;\n",
       "  position: relative;\n",
       "}\n",
       "\n",
       "#sk-container-id-1 div.sk-text-repr-fallback {\n",
       "  display: none;\n",
       "}\n",
       "\n",
       "div.sk-parallel-item,\n",
       "div.sk-serial,\n",
       "div.sk-item {\n",
       "  /* draw centered vertical line to link estimators */\n",
       "  background-image: linear-gradient(var(--sklearn-color-text-on-default-background), var(--sklearn-color-text-on-default-background));\n",
       "  background-size: 2px 100%;\n",
       "  background-repeat: no-repeat;\n",
       "  background-position: center center;\n",
       "}\n",
       "\n",
       "/* Parallel-specific style estimator block */\n",
       "\n",
       "#sk-container-id-1 div.sk-parallel-item::after {\n",
       "  content: \"\";\n",
       "  width: 100%;\n",
       "  border-bottom: 2px solid var(--sklearn-color-text-on-default-background);\n",
       "  flex-grow: 1;\n",
       "}\n",
       "\n",
       "#sk-container-id-1 div.sk-parallel {\n",
       "  display: flex;\n",
       "  align-items: stretch;\n",
       "  justify-content: center;\n",
       "  background-color: var(--sklearn-color-background);\n",
       "  position: relative;\n",
       "}\n",
       "\n",
       "#sk-container-id-1 div.sk-parallel-item {\n",
       "  display: flex;\n",
       "  flex-direction: column;\n",
       "}\n",
       "\n",
       "#sk-container-id-1 div.sk-parallel-item:first-child::after {\n",
       "  align-self: flex-end;\n",
       "  width: 50%;\n",
       "}\n",
       "\n",
       "#sk-container-id-1 div.sk-parallel-item:last-child::after {\n",
       "  align-self: flex-start;\n",
       "  width: 50%;\n",
       "}\n",
       "\n",
       "#sk-container-id-1 div.sk-parallel-item:only-child::after {\n",
       "  width: 0;\n",
       "}\n",
       "\n",
       "/* Serial-specific style estimator block */\n",
       "\n",
       "#sk-container-id-1 div.sk-serial {\n",
       "  display: flex;\n",
       "  flex-direction: column;\n",
       "  align-items: center;\n",
       "  background-color: var(--sklearn-color-background);\n",
       "  padding-right: 1em;\n",
       "  padding-left: 1em;\n",
       "}\n",
       "\n",
       "\n",
       "/* Toggleable style: style used for estimator/Pipeline/ColumnTransformer box that is\n",
       "clickable and can be expanded/collapsed.\n",
       "- Pipeline and ColumnTransformer use this feature and define the default style\n",
       "- Estimators will overwrite some part of the style using the `sk-estimator` class\n",
       "*/\n",
       "\n",
       "/* Pipeline and ColumnTransformer style (default) */\n",
       "\n",
       "#sk-container-id-1 div.sk-toggleable {\n",
       "  /* Default theme specific background. It is overwritten whether we have a\n",
       "  specific estimator or a Pipeline/ColumnTransformer */\n",
       "  background-color: var(--sklearn-color-background);\n",
       "}\n",
       "\n",
       "/* Toggleable label */\n",
       "#sk-container-id-1 label.sk-toggleable__label {\n",
       "  cursor: pointer;\n",
       "  display: flex;\n",
       "  width: 100%;\n",
       "  margin-bottom: 0;\n",
       "  padding: 0.5em;\n",
       "  box-sizing: border-box;\n",
       "  text-align: center;\n",
       "  align-items: start;\n",
       "  justify-content: space-between;\n",
       "  gap: 0.5em;\n",
       "}\n",
       "\n",
       "#sk-container-id-1 label.sk-toggleable__label .caption {\n",
       "  font-size: 0.6rem;\n",
       "  font-weight: lighter;\n",
       "  color: var(--sklearn-color-text-muted);\n",
       "}\n",
       "\n",
       "#sk-container-id-1 label.sk-toggleable__label-arrow:before {\n",
       "  /* Arrow on the left of the label */\n",
       "  content: \"▸\";\n",
       "  float: left;\n",
       "  margin-right: 0.25em;\n",
       "  color: var(--sklearn-color-icon);\n",
       "}\n",
       "\n",
       "#sk-container-id-1 label.sk-toggleable__label-arrow:hover:before {\n",
       "  color: var(--sklearn-color-text);\n",
       "}\n",
       "\n",
       "/* Toggleable content - dropdown */\n",
       "\n",
       "#sk-container-id-1 div.sk-toggleable__content {\n",
       "  max-height: 0;\n",
       "  max-width: 0;\n",
       "  overflow: hidden;\n",
       "  text-align: left;\n",
       "  /* unfitted */\n",
       "  background-color: var(--sklearn-color-unfitted-level-0);\n",
       "}\n",
       "\n",
       "#sk-container-id-1 div.sk-toggleable__content.fitted {\n",
       "  /* fitted */\n",
       "  background-color: var(--sklearn-color-fitted-level-0);\n",
       "}\n",
       "\n",
       "#sk-container-id-1 div.sk-toggleable__content pre {\n",
       "  margin: 0.2em;\n",
       "  border-radius: 0.25em;\n",
       "  color: var(--sklearn-color-text);\n",
       "  /* unfitted */\n",
       "  background-color: var(--sklearn-color-unfitted-level-0);\n",
       "}\n",
       "\n",
       "#sk-container-id-1 div.sk-toggleable__content.fitted pre {\n",
       "  /* unfitted */\n",
       "  background-color: var(--sklearn-color-fitted-level-0);\n",
       "}\n",
       "\n",
       "#sk-container-id-1 input.sk-toggleable__control:checked~div.sk-toggleable__content {\n",
       "  /* Expand drop-down */\n",
       "  max-height: 200px;\n",
       "  max-width: 100%;\n",
       "  overflow: auto;\n",
       "}\n",
       "\n",
       "#sk-container-id-1 input.sk-toggleable__control:checked~label.sk-toggleable__label-arrow:before {\n",
       "  content: \"▾\";\n",
       "}\n",
       "\n",
       "/* Pipeline/ColumnTransformer-specific style */\n",
       "\n",
       "#sk-container-id-1 div.sk-label input.sk-toggleable__control:checked~label.sk-toggleable__label {\n",
       "  color: var(--sklearn-color-text);\n",
       "  background-color: var(--sklearn-color-unfitted-level-2);\n",
       "}\n",
       "\n",
       "#sk-container-id-1 div.sk-label.fitted input.sk-toggleable__control:checked~label.sk-toggleable__label {\n",
       "  background-color: var(--sklearn-color-fitted-level-2);\n",
       "}\n",
       "\n",
       "/* Estimator-specific style */\n",
       "\n",
       "/* Colorize estimator box */\n",
       "#sk-container-id-1 div.sk-estimator input.sk-toggleable__control:checked~label.sk-toggleable__label {\n",
       "  /* unfitted */\n",
       "  background-color: var(--sklearn-color-unfitted-level-2);\n",
       "}\n",
       "\n",
       "#sk-container-id-1 div.sk-estimator.fitted input.sk-toggleable__control:checked~label.sk-toggleable__label {\n",
       "  /* fitted */\n",
       "  background-color: var(--sklearn-color-fitted-level-2);\n",
       "}\n",
       "\n",
       "#sk-container-id-1 div.sk-label label.sk-toggleable__label,\n",
       "#sk-container-id-1 div.sk-label label {\n",
       "  /* The background is the default theme color */\n",
       "  color: var(--sklearn-color-text-on-default-background);\n",
       "}\n",
       "\n",
       "/* On hover, darken the color of the background */\n",
       "#sk-container-id-1 div.sk-label:hover label.sk-toggleable__label {\n",
       "  color: var(--sklearn-color-text);\n",
       "  background-color: var(--sklearn-color-unfitted-level-2);\n",
       "}\n",
       "\n",
       "/* Label box, darken color on hover, fitted */\n",
       "#sk-container-id-1 div.sk-label.fitted:hover label.sk-toggleable__label.fitted {\n",
       "  color: var(--sklearn-color-text);\n",
       "  background-color: var(--sklearn-color-fitted-level-2);\n",
       "}\n",
       "\n",
       "/* Estimator label */\n",
       "\n",
       "#sk-container-id-1 div.sk-label label {\n",
       "  font-family: monospace;\n",
       "  font-weight: bold;\n",
       "  display: inline-block;\n",
       "  line-height: 1.2em;\n",
       "}\n",
       "\n",
       "#sk-container-id-1 div.sk-label-container {\n",
       "  text-align: center;\n",
       "}\n",
       "\n",
       "/* Estimator-specific */\n",
       "#sk-container-id-1 div.sk-estimator {\n",
       "  font-family: monospace;\n",
       "  border: 1px dotted var(--sklearn-color-border-box);\n",
       "  border-radius: 0.25em;\n",
       "  box-sizing: border-box;\n",
       "  margin-bottom: 0.5em;\n",
       "  /* unfitted */\n",
       "  background-color: var(--sklearn-color-unfitted-level-0);\n",
       "}\n",
       "\n",
       "#sk-container-id-1 div.sk-estimator.fitted {\n",
       "  /* fitted */\n",
       "  background-color: var(--sklearn-color-fitted-level-0);\n",
       "}\n",
       "\n",
       "/* on hover */\n",
       "#sk-container-id-1 div.sk-estimator:hover {\n",
       "  /* unfitted */\n",
       "  background-color: var(--sklearn-color-unfitted-level-2);\n",
       "}\n",
       "\n",
       "#sk-container-id-1 div.sk-estimator.fitted:hover {\n",
       "  /* fitted */\n",
       "  background-color: var(--sklearn-color-fitted-level-2);\n",
       "}\n",
       "\n",
       "/* Specification for estimator info (e.g. \"i\" and \"?\") */\n",
       "\n",
       "/* Common style for \"i\" and \"?\" */\n",
       "\n",
       ".sk-estimator-doc-link,\n",
       "a:link.sk-estimator-doc-link,\n",
       "a:visited.sk-estimator-doc-link {\n",
       "  float: right;\n",
       "  font-size: smaller;\n",
       "  line-height: 1em;\n",
       "  font-family: monospace;\n",
       "  background-color: var(--sklearn-color-background);\n",
       "  border-radius: 1em;\n",
       "  height: 1em;\n",
       "  width: 1em;\n",
       "  text-decoration: none !important;\n",
       "  margin-left: 0.5em;\n",
       "  text-align: center;\n",
       "  /* unfitted */\n",
       "  border: var(--sklearn-color-unfitted-level-1) 1pt solid;\n",
       "  color: var(--sklearn-color-unfitted-level-1);\n",
       "}\n",
       "\n",
       ".sk-estimator-doc-link.fitted,\n",
       "a:link.sk-estimator-doc-link.fitted,\n",
       "a:visited.sk-estimator-doc-link.fitted {\n",
       "  /* fitted */\n",
       "  border: var(--sklearn-color-fitted-level-1) 1pt solid;\n",
       "  color: var(--sklearn-color-fitted-level-1);\n",
       "}\n",
       "\n",
       "/* On hover */\n",
       "div.sk-estimator:hover .sk-estimator-doc-link:hover,\n",
       ".sk-estimator-doc-link:hover,\n",
       "div.sk-label-container:hover .sk-estimator-doc-link:hover,\n",
       ".sk-estimator-doc-link:hover {\n",
       "  /* unfitted */\n",
       "  background-color: var(--sklearn-color-unfitted-level-3);\n",
       "  color: var(--sklearn-color-background);\n",
       "  text-decoration: none;\n",
       "}\n",
       "\n",
       "div.sk-estimator.fitted:hover .sk-estimator-doc-link.fitted:hover,\n",
       ".sk-estimator-doc-link.fitted:hover,\n",
       "div.sk-label-container:hover .sk-estimator-doc-link.fitted:hover,\n",
       ".sk-estimator-doc-link.fitted:hover {\n",
       "  /* fitted */\n",
       "  background-color: var(--sklearn-color-fitted-level-3);\n",
       "  color: var(--sklearn-color-background);\n",
       "  text-decoration: none;\n",
       "}\n",
       "\n",
       "/* Span, style for the box shown on hovering the info icon */\n",
       ".sk-estimator-doc-link span {\n",
       "  display: none;\n",
       "  z-index: 9999;\n",
       "  position: relative;\n",
       "  font-weight: normal;\n",
       "  right: .2ex;\n",
       "  padding: .5ex;\n",
       "  margin: .5ex;\n",
       "  width: min-content;\n",
       "  min-width: 20ex;\n",
       "  max-width: 50ex;\n",
       "  color: var(--sklearn-color-text);\n",
       "  box-shadow: 2pt 2pt 4pt #999;\n",
       "  /* unfitted */\n",
       "  background: var(--sklearn-color-unfitted-level-0);\n",
       "  border: .5pt solid var(--sklearn-color-unfitted-level-3);\n",
       "}\n",
       "\n",
       ".sk-estimator-doc-link.fitted span {\n",
       "  /* fitted */\n",
       "  background: var(--sklearn-color-fitted-level-0);\n",
       "  border: var(--sklearn-color-fitted-level-3);\n",
       "}\n",
       "\n",
       ".sk-estimator-doc-link:hover span {\n",
       "  display: block;\n",
       "}\n",
       "\n",
       "/* \"?\"-specific style due to the `<a>` HTML tag */\n",
       "\n",
       "#sk-container-id-1 a.estimator_doc_link {\n",
       "  float: right;\n",
       "  font-size: 1rem;\n",
       "  line-height: 1em;\n",
       "  font-family: monospace;\n",
       "  background-color: var(--sklearn-color-background);\n",
       "  border-radius: 1rem;\n",
       "  height: 1rem;\n",
       "  width: 1rem;\n",
       "  text-decoration: none;\n",
       "  /* unfitted */\n",
       "  color: var(--sklearn-color-unfitted-level-1);\n",
       "  border: var(--sklearn-color-unfitted-level-1) 1pt solid;\n",
       "}\n",
       "\n",
       "#sk-container-id-1 a.estimator_doc_link.fitted {\n",
       "  /* fitted */\n",
       "  border: var(--sklearn-color-fitted-level-1) 1pt solid;\n",
       "  color: var(--sklearn-color-fitted-level-1);\n",
       "}\n",
       "\n",
       "/* On hover */\n",
       "#sk-container-id-1 a.estimator_doc_link:hover {\n",
       "  /* unfitted */\n",
       "  background-color: var(--sklearn-color-unfitted-level-3);\n",
       "  color: var(--sklearn-color-background);\n",
       "  text-decoration: none;\n",
       "}\n",
       "\n",
       "#sk-container-id-1 a.estimator_doc_link.fitted:hover {\n",
       "  /* fitted */\n",
       "  background-color: var(--sklearn-color-fitted-level-3);\n",
       "}\n",
       "</style><div id=\"sk-container-id-1\" class=\"sk-top-container\"><div class=\"sk-text-repr-fallback\"><pre>Pipeline(steps=[(&#x27;polynomial_expansion&#x27;, PolynomialFeatures()),\n",
       "                (&#x27;logit_regressor&#x27;,\n",
       "                 LogisticRegression(max_iter=300, penalty=None, solver=&#x27;sag&#x27;))])</pre><b>In a Jupyter environment, please rerun this cell to show the HTML representation or trust the notebook. <br />On GitHub, the HTML representation is unable to render, please try loading this page with nbviewer.org.</b></div><div class=\"sk-container\" hidden><div class=\"sk-item sk-dashed-wrapped\"><div class=\"sk-label-container\"><div class=\"sk-label fitted sk-toggleable\"><input class=\"sk-toggleable__control sk-hidden--visually\" id=\"sk-estimator-id-1\" type=\"checkbox\" ><label for=\"sk-estimator-id-1\" class=\"sk-toggleable__label fitted sk-toggleable__label-arrow\"><div><div>Pipeline</div></div><div><a class=\"sk-estimator-doc-link fitted\" rel=\"noreferrer\" target=\"_blank\" href=\"https://scikit-learn.org/1.6/modules/generated/sklearn.pipeline.Pipeline.html\">?<span>Documentation for Pipeline</span></a><span class=\"sk-estimator-doc-link fitted\">i<span>Fitted</span></span></div></label><div class=\"sk-toggleable__content fitted\"><pre>Pipeline(steps=[(&#x27;polynomial_expansion&#x27;, PolynomialFeatures()),\n",
       "                (&#x27;logit_regressor&#x27;,\n",
       "                 LogisticRegression(max_iter=300, penalty=None, solver=&#x27;sag&#x27;))])</pre></div> </div></div><div class=\"sk-serial\"><div class=\"sk-item\"><div class=\"sk-estimator fitted sk-toggleable\"><input class=\"sk-toggleable__control sk-hidden--visually\" id=\"sk-estimator-id-2\" type=\"checkbox\" ><label for=\"sk-estimator-id-2\" class=\"sk-toggleable__label fitted sk-toggleable__label-arrow\"><div><div>PolynomialFeatures</div></div><div><a class=\"sk-estimator-doc-link fitted\" rel=\"noreferrer\" target=\"_blank\" href=\"https://scikit-learn.org/1.6/modules/generated/sklearn.preprocessing.PolynomialFeatures.html\">?<span>Documentation for PolynomialFeatures</span></a></div></label><div class=\"sk-toggleable__content fitted\"><pre>PolynomialFeatures()</pre></div> </div></div><div class=\"sk-item\"><div class=\"sk-estimator fitted sk-toggleable\"><input class=\"sk-toggleable__control sk-hidden--visually\" id=\"sk-estimator-id-3\" type=\"checkbox\" ><label for=\"sk-estimator-id-3\" class=\"sk-toggleable__label fitted sk-toggleable__label-arrow\"><div><div>LogisticRegression</div></div><div><a class=\"sk-estimator-doc-link fitted\" rel=\"noreferrer\" target=\"_blank\" href=\"https://scikit-learn.org/1.6/modules/generated/sklearn.linear_model.LogisticRegression.html\">?<span>Documentation for LogisticRegression</span></a></div></label><div class=\"sk-toggleable__content fitted\"><pre>LogisticRegression(max_iter=300, penalty=None, solver=&#x27;sag&#x27;)</pre></div> </div></div></div></div></div></div>"
      ],
      "text/plain": [
       "Pipeline(steps=[('polynomial_expansion', PolynomialFeatures()),\n",
       "                ('logit_regressor',\n",
       "                 LogisticRegression(max_iter=300, penalty=None, solver='sag'))])"
      ]
     },
     "execution_count": 105,
     "metadata": {},
     "output_type": "execute_result"
    }
   ],
   "source": [
    "pol_regr.fit(train_set, y_train)"
   ]
  },
  {
   "cell_type": "markdown",
   "metadata": {},
   "source": [
    "The expansion leading to the best $F_2$ score has degree 1, which means that we can't do better than our linear model!\n",
    "Let's see if we can do better using Ridge and Lasso (logit) regression, other than polynomial expansion. "
   ]
  },
  {
   "cell_type": "code",
   "execution_count": 314,
   "metadata": {},
   "outputs": [
    {
     "name": "stdout",
     "output_type": "stream",
     "text": [
      "Optimal treshold:  0.317114137018908\n"
     ]
    }
   ],
   "source": [
    "tresh, y_pred_pol_opt = computePredictions(pol_regr, test_set, y_test)\n",
    "print(\"Optimal treshold: \", tresh)\n"
   ]
  },
  {
   "cell_type": "code",
   "execution_count": 315,
   "metadata": {},
   "outputs": [],
   "source": [
    "scores_df['LR_POL_OPT'] = [recall_score(y_true=y_test, y_pred=y_pred_pol_opt), precision_score(y_true=y_test, y_pred=y_pred_pol_opt),\n",
    "                    accuracy_score(y_true=y_test, y_pred=y_pred_pol_opt), f1_score(y_true=y_test, y_pred=y_pred_pol_opt), fbeta_score(y_true=y_test, y_pred=y_pred_pol_opt, beta=2)]"
   ]
  },
  {
   "cell_type": "code",
   "execution_count": 316,
   "metadata": {},
   "outputs": [
    {
     "data": {
      "text/html": [
       "<div>\n",
       "<style scoped>\n",
       "    .dataframe tbody tr th:only-of-type {\n",
       "        vertical-align: middle;\n",
       "    }\n",
       "\n",
       "    .dataframe tbody tr th {\n",
       "        vertical-align: top;\n",
       "    }\n",
       "\n",
       "    .dataframe thead th {\n",
       "        text-align: right;\n",
       "    }\n",
       "</style>\n",
       "<table border=\"1\" class=\"dataframe\">\n",
       "  <thead>\n",
       "    <tr style=\"text-align: right;\">\n",
       "      <th></th>\n",
       "      <th>LR_OPT</th>\n",
       "      <th>LR_POL_OPT</th>\n",
       "    </tr>\n",
       "  </thead>\n",
       "  <tbody>\n",
       "    <tr>\n",
       "      <th>recall_score</th>\n",
       "      <td>0.955698</td>\n",
       "      <td>0.957669</td>\n",
       "    </tr>\n",
       "    <tr>\n",
       "      <th>precision_score</th>\n",
       "      <td>0.479184</td>\n",
       "      <td>0.475130</td>\n",
       "    </tr>\n",
       "    <tr>\n",
       "      <th>accuracy</th>\n",
       "      <td>0.503203</td>\n",
       "      <td>0.495303</td>\n",
       "    </tr>\n",
       "    <tr>\n",
       "      <th>f1_score</th>\n",
       "      <td>0.638317</td>\n",
       "      <td>0.635144</td>\n",
       "    </tr>\n",
       "    <tr>\n",
       "      <th>fbeta_score</th>\n",
       "      <td>0.797155</td>\n",
       "      <td>0.795989</td>\n",
       "    </tr>\n",
       "  </tbody>\n",
       "</table>\n",
       "</div>"
      ],
      "text/plain": [
       "                   LR_OPT  LR_POL_OPT\n",
       "recall_score     0.955698    0.957669\n",
       "precision_score  0.479184    0.475130\n",
       "accuracy         0.503203    0.495303\n",
       "f1_score         0.638317    0.635144\n",
       "fbeta_score      0.797155    0.795989"
      ]
     },
     "execution_count": 316,
     "metadata": {},
     "output_type": "execute_result"
    }
   ],
   "source": [
    "scores_df[['LR_OPT', 'LR_POL_OPT']]"
   ]
  },
  {
   "cell_type": "markdown",
   "metadata": {},
   "source": [
    "We have obtained a slightly better $F_2$ score and a worse precision"
   ]
  },
  {
   "cell_type": "markdown",
   "metadata": {},
   "source": [
    "### Ridge Regression"
   ]
  },
  {
   "cell_type": "markdown",
   "metadata": {},
   "source": [
    "We'll use grid search and cross validation to search for the parameter C that maximizes $F_2$"
   ]
  },
  {
   "cell_type": "code",
   "execution_count": 122,
   "metadata": {},
   "outputs": [],
   "source": [
    "ridge_regr = LogisticRegression(penalty='l2', solver='sag', max_iter=10000)"
   ]
  },
  {
   "cell_type": "code",
   "execution_count": null,
   "metadata": {},
   "outputs": [
    {
     "data": {
      "text/html": [
       "<style>#sk-container-id-3 {\n",
       "  /* Definition of color scheme common for light and dark mode */\n",
       "  --sklearn-color-text: #000;\n",
       "  --sklearn-color-text-muted: #666;\n",
       "  --sklearn-color-line: gray;\n",
       "  /* Definition of color scheme for unfitted estimators */\n",
       "  --sklearn-color-unfitted-level-0: #fff5e6;\n",
       "  --sklearn-color-unfitted-level-1: #f6e4d2;\n",
       "  --sklearn-color-unfitted-level-2: #ffe0b3;\n",
       "  --sklearn-color-unfitted-level-3: chocolate;\n",
       "  /* Definition of color scheme for fitted estimators */\n",
       "  --sklearn-color-fitted-level-0: #f0f8ff;\n",
       "  --sklearn-color-fitted-level-1: #d4ebff;\n",
       "  --sklearn-color-fitted-level-2: #b3dbfd;\n",
       "  --sklearn-color-fitted-level-3: cornflowerblue;\n",
       "\n",
       "  /* Specific color for light theme */\n",
       "  --sklearn-color-text-on-default-background: var(--sg-text-color, var(--theme-code-foreground, var(--jp-content-font-color1, black)));\n",
       "  --sklearn-color-background: var(--sg-background-color, var(--theme-background, var(--jp-layout-color0, white)));\n",
       "  --sklearn-color-border-box: var(--sg-text-color, var(--theme-code-foreground, var(--jp-content-font-color1, black)));\n",
       "  --sklearn-color-icon: #696969;\n",
       "\n",
       "  @media (prefers-color-scheme: dark) {\n",
       "    /* Redefinition of color scheme for dark theme */\n",
       "    --sklearn-color-text-on-default-background: var(--sg-text-color, var(--theme-code-foreground, var(--jp-content-font-color1, white)));\n",
       "    --sklearn-color-background: var(--sg-background-color, var(--theme-background, var(--jp-layout-color0, #111)));\n",
       "    --sklearn-color-border-box: var(--sg-text-color, var(--theme-code-foreground, var(--jp-content-font-color1, white)));\n",
       "    --sklearn-color-icon: #878787;\n",
       "  }\n",
       "}\n",
       "\n",
       "#sk-container-id-3 {\n",
       "  color: var(--sklearn-color-text);\n",
       "}\n",
       "\n",
       "#sk-container-id-3 pre {\n",
       "  padding: 0;\n",
       "}\n",
       "\n",
       "#sk-container-id-3 input.sk-hidden--visually {\n",
       "  border: 0;\n",
       "  clip: rect(1px 1px 1px 1px);\n",
       "  clip: rect(1px, 1px, 1px, 1px);\n",
       "  height: 1px;\n",
       "  margin: -1px;\n",
       "  overflow: hidden;\n",
       "  padding: 0;\n",
       "  position: absolute;\n",
       "  width: 1px;\n",
       "}\n",
       "\n",
       "#sk-container-id-3 div.sk-dashed-wrapped {\n",
       "  border: 1px dashed var(--sklearn-color-line);\n",
       "  margin: 0 0.4em 0.5em 0.4em;\n",
       "  box-sizing: border-box;\n",
       "  padding-bottom: 0.4em;\n",
       "  background-color: var(--sklearn-color-background);\n",
       "}\n",
       "\n",
       "#sk-container-id-3 div.sk-container {\n",
       "  /* jupyter's `normalize.less` sets `[hidden] { display: none; }`\n",
       "     but bootstrap.min.css set `[hidden] { display: none !important; }`\n",
       "     so we also need the `!important` here to be able to override the\n",
       "     default hidden behavior on the sphinx rendered scikit-learn.org.\n",
       "     See: https://github.com/scikit-learn/scikit-learn/issues/21755 */\n",
       "  display: inline-block !important;\n",
       "  position: relative;\n",
       "}\n",
       "\n",
       "#sk-container-id-3 div.sk-text-repr-fallback {\n",
       "  display: none;\n",
       "}\n",
       "\n",
       "div.sk-parallel-item,\n",
       "div.sk-serial,\n",
       "div.sk-item {\n",
       "  /* draw centered vertical line to link estimators */\n",
       "  background-image: linear-gradient(var(--sklearn-color-text-on-default-background), var(--sklearn-color-text-on-default-background));\n",
       "  background-size: 2px 100%;\n",
       "  background-repeat: no-repeat;\n",
       "  background-position: center center;\n",
       "}\n",
       "\n",
       "/* Parallel-specific style estimator block */\n",
       "\n",
       "#sk-container-id-3 div.sk-parallel-item::after {\n",
       "  content: \"\";\n",
       "  width: 100%;\n",
       "  border-bottom: 2px solid var(--sklearn-color-text-on-default-background);\n",
       "  flex-grow: 1;\n",
       "}\n",
       "\n",
       "#sk-container-id-3 div.sk-parallel {\n",
       "  display: flex;\n",
       "  align-items: stretch;\n",
       "  justify-content: center;\n",
       "  background-color: var(--sklearn-color-background);\n",
       "  position: relative;\n",
       "}\n",
       "\n",
       "#sk-container-id-3 div.sk-parallel-item {\n",
       "  display: flex;\n",
       "  flex-direction: column;\n",
       "}\n",
       "\n",
       "#sk-container-id-3 div.sk-parallel-item:first-child::after {\n",
       "  align-self: flex-end;\n",
       "  width: 50%;\n",
       "}\n",
       "\n",
       "#sk-container-id-3 div.sk-parallel-item:last-child::after {\n",
       "  align-self: flex-start;\n",
       "  width: 50%;\n",
       "}\n",
       "\n",
       "#sk-container-id-3 div.sk-parallel-item:only-child::after {\n",
       "  width: 0;\n",
       "}\n",
       "\n",
       "/* Serial-specific style estimator block */\n",
       "\n",
       "#sk-container-id-3 div.sk-serial {\n",
       "  display: flex;\n",
       "  flex-direction: column;\n",
       "  align-items: center;\n",
       "  background-color: var(--sklearn-color-background);\n",
       "  padding-right: 1em;\n",
       "  padding-left: 1em;\n",
       "}\n",
       "\n",
       "\n",
       "/* Toggleable style: style used for estimator/Pipeline/ColumnTransformer box that is\n",
       "clickable and can be expanded/collapsed.\n",
       "- Pipeline and ColumnTransformer use this feature and define the default style\n",
       "- Estimators will overwrite some part of the style using the `sk-estimator` class\n",
       "*/\n",
       "\n",
       "/* Pipeline and ColumnTransformer style (default) */\n",
       "\n",
       "#sk-container-id-3 div.sk-toggleable {\n",
       "  /* Default theme specific background. It is overwritten whether we have a\n",
       "  specific estimator or a Pipeline/ColumnTransformer */\n",
       "  background-color: var(--sklearn-color-background);\n",
       "}\n",
       "\n",
       "/* Toggleable label */\n",
       "#sk-container-id-3 label.sk-toggleable__label {\n",
       "  cursor: pointer;\n",
       "  display: flex;\n",
       "  width: 100%;\n",
       "  margin-bottom: 0;\n",
       "  padding: 0.5em;\n",
       "  box-sizing: border-box;\n",
       "  text-align: center;\n",
       "  align-items: start;\n",
       "  justify-content: space-between;\n",
       "  gap: 0.5em;\n",
       "}\n",
       "\n",
       "#sk-container-id-3 label.sk-toggleable__label .caption {\n",
       "  font-size: 0.6rem;\n",
       "  font-weight: lighter;\n",
       "  color: var(--sklearn-color-text-muted);\n",
       "}\n",
       "\n",
       "#sk-container-id-3 label.sk-toggleable__label-arrow:before {\n",
       "  /* Arrow on the left of the label */\n",
       "  content: \"▸\";\n",
       "  float: left;\n",
       "  margin-right: 0.25em;\n",
       "  color: var(--sklearn-color-icon);\n",
       "}\n",
       "\n",
       "#sk-container-id-3 label.sk-toggleable__label-arrow:hover:before {\n",
       "  color: var(--sklearn-color-text);\n",
       "}\n",
       "\n",
       "/* Toggleable content - dropdown */\n",
       "\n",
       "#sk-container-id-3 div.sk-toggleable__content {\n",
       "  max-height: 0;\n",
       "  max-width: 0;\n",
       "  overflow: hidden;\n",
       "  text-align: left;\n",
       "  /* unfitted */\n",
       "  background-color: var(--sklearn-color-unfitted-level-0);\n",
       "}\n",
       "\n",
       "#sk-container-id-3 div.sk-toggleable__content.fitted {\n",
       "  /* fitted */\n",
       "  background-color: var(--sklearn-color-fitted-level-0);\n",
       "}\n",
       "\n",
       "#sk-container-id-3 div.sk-toggleable__content pre {\n",
       "  margin: 0.2em;\n",
       "  border-radius: 0.25em;\n",
       "  color: var(--sklearn-color-text);\n",
       "  /* unfitted */\n",
       "  background-color: var(--sklearn-color-unfitted-level-0);\n",
       "}\n",
       "\n",
       "#sk-container-id-3 div.sk-toggleable__content.fitted pre {\n",
       "  /* unfitted */\n",
       "  background-color: var(--sklearn-color-fitted-level-0);\n",
       "}\n",
       "\n",
       "#sk-container-id-3 input.sk-toggleable__control:checked~div.sk-toggleable__content {\n",
       "  /* Expand drop-down */\n",
       "  max-height: 200px;\n",
       "  max-width: 100%;\n",
       "  overflow: auto;\n",
       "}\n",
       "\n",
       "#sk-container-id-3 input.sk-toggleable__control:checked~label.sk-toggleable__label-arrow:before {\n",
       "  content: \"▾\";\n",
       "}\n",
       "\n",
       "/* Pipeline/ColumnTransformer-specific style */\n",
       "\n",
       "#sk-container-id-3 div.sk-label input.sk-toggleable__control:checked~label.sk-toggleable__label {\n",
       "  color: var(--sklearn-color-text);\n",
       "  background-color: var(--sklearn-color-unfitted-level-2);\n",
       "}\n",
       "\n",
       "#sk-container-id-3 div.sk-label.fitted input.sk-toggleable__control:checked~label.sk-toggleable__label {\n",
       "  background-color: var(--sklearn-color-fitted-level-2);\n",
       "}\n",
       "\n",
       "/* Estimator-specific style */\n",
       "\n",
       "/* Colorize estimator box */\n",
       "#sk-container-id-3 div.sk-estimator input.sk-toggleable__control:checked~label.sk-toggleable__label {\n",
       "  /* unfitted */\n",
       "  background-color: var(--sklearn-color-unfitted-level-2);\n",
       "}\n",
       "\n",
       "#sk-container-id-3 div.sk-estimator.fitted input.sk-toggleable__control:checked~label.sk-toggleable__label {\n",
       "  /* fitted */\n",
       "  background-color: var(--sklearn-color-fitted-level-2);\n",
       "}\n",
       "\n",
       "#sk-container-id-3 div.sk-label label.sk-toggleable__label,\n",
       "#sk-container-id-3 div.sk-label label {\n",
       "  /* The background is the default theme color */\n",
       "  color: var(--sklearn-color-text-on-default-background);\n",
       "}\n",
       "\n",
       "/* On hover, darken the color of the background */\n",
       "#sk-container-id-3 div.sk-label:hover label.sk-toggleable__label {\n",
       "  color: var(--sklearn-color-text);\n",
       "  background-color: var(--sklearn-color-unfitted-level-2);\n",
       "}\n",
       "\n",
       "/* Label box, darken color on hover, fitted */\n",
       "#sk-container-id-3 div.sk-label.fitted:hover label.sk-toggleable__label.fitted {\n",
       "  color: var(--sklearn-color-text);\n",
       "  background-color: var(--sklearn-color-fitted-level-2);\n",
       "}\n",
       "\n",
       "/* Estimator label */\n",
       "\n",
       "#sk-container-id-3 div.sk-label label {\n",
       "  font-family: monospace;\n",
       "  font-weight: bold;\n",
       "  display: inline-block;\n",
       "  line-height: 1.2em;\n",
       "}\n",
       "\n",
       "#sk-container-id-3 div.sk-label-container {\n",
       "  text-align: center;\n",
       "}\n",
       "\n",
       "/* Estimator-specific */\n",
       "#sk-container-id-3 div.sk-estimator {\n",
       "  font-family: monospace;\n",
       "  border: 1px dotted var(--sklearn-color-border-box);\n",
       "  border-radius: 0.25em;\n",
       "  box-sizing: border-box;\n",
       "  margin-bottom: 0.5em;\n",
       "  /* unfitted */\n",
       "  background-color: var(--sklearn-color-unfitted-level-0);\n",
       "}\n",
       "\n",
       "#sk-container-id-3 div.sk-estimator.fitted {\n",
       "  /* fitted */\n",
       "  background-color: var(--sklearn-color-fitted-level-0);\n",
       "}\n",
       "\n",
       "/* on hover */\n",
       "#sk-container-id-3 div.sk-estimator:hover {\n",
       "  /* unfitted */\n",
       "  background-color: var(--sklearn-color-unfitted-level-2);\n",
       "}\n",
       "\n",
       "#sk-container-id-3 div.sk-estimator.fitted:hover {\n",
       "  /* fitted */\n",
       "  background-color: var(--sklearn-color-fitted-level-2);\n",
       "}\n",
       "\n",
       "/* Specification for estimator info (e.g. \"i\" and \"?\") */\n",
       "\n",
       "/* Common style for \"i\" and \"?\" */\n",
       "\n",
       ".sk-estimator-doc-link,\n",
       "a:link.sk-estimator-doc-link,\n",
       "a:visited.sk-estimator-doc-link {\n",
       "  float: right;\n",
       "  font-size: smaller;\n",
       "  line-height: 1em;\n",
       "  font-family: monospace;\n",
       "  background-color: var(--sklearn-color-background);\n",
       "  border-radius: 1em;\n",
       "  height: 1em;\n",
       "  width: 1em;\n",
       "  text-decoration: none !important;\n",
       "  margin-left: 0.5em;\n",
       "  text-align: center;\n",
       "  /* unfitted */\n",
       "  border: var(--sklearn-color-unfitted-level-1) 1pt solid;\n",
       "  color: var(--sklearn-color-unfitted-level-1);\n",
       "}\n",
       "\n",
       ".sk-estimator-doc-link.fitted,\n",
       "a:link.sk-estimator-doc-link.fitted,\n",
       "a:visited.sk-estimator-doc-link.fitted {\n",
       "  /* fitted */\n",
       "  border: var(--sklearn-color-fitted-level-1) 1pt solid;\n",
       "  color: var(--sklearn-color-fitted-level-1);\n",
       "}\n",
       "\n",
       "/* On hover */\n",
       "div.sk-estimator:hover .sk-estimator-doc-link:hover,\n",
       ".sk-estimator-doc-link:hover,\n",
       "div.sk-label-container:hover .sk-estimator-doc-link:hover,\n",
       ".sk-estimator-doc-link:hover {\n",
       "  /* unfitted */\n",
       "  background-color: var(--sklearn-color-unfitted-level-3);\n",
       "  color: var(--sklearn-color-background);\n",
       "  text-decoration: none;\n",
       "}\n",
       "\n",
       "div.sk-estimator.fitted:hover .sk-estimator-doc-link.fitted:hover,\n",
       ".sk-estimator-doc-link.fitted:hover,\n",
       "div.sk-label-container:hover .sk-estimator-doc-link.fitted:hover,\n",
       ".sk-estimator-doc-link.fitted:hover {\n",
       "  /* fitted */\n",
       "  background-color: var(--sklearn-color-fitted-level-3);\n",
       "  color: var(--sklearn-color-background);\n",
       "  text-decoration: none;\n",
       "}\n",
       "\n",
       "/* Span, style for the box shown on hovering the info icon */\n",
       ".sk-estimator-doc-link span {\n",
       "  display: none;\n",
       "  z-index: 9999;\n",
       "  position: relative;\n",
       "  font-weight: normal;\n",
       "  right: .2ex;\n",
       "  padding: .5ex;\n",
       "  margin: .5ex;\n",
       "  width: min-content;\n",
       "  min-width: 20ex;\n",
       "  max-width: 50ex;\n",
       "  color: var(--sklearn-color-text);\n",
       "  box-shadow: 2pt 2pt 4pt #999;\n",
       "  /* unfitted */\n",
       "  background: var(--sklearn-color-unfitted-level-0);\n",
       "  border: .5pt solid var(--sklearn-color-unfitted-level-3);\n",
       "}\n",
       "\n",
       ".sk-estimator-doc-link.fitted span {\n",
       "  /* fitted */\n",
       "  background: var(--sklearn-color-fitted-level-0);\n",
       "  border: var(--sklearn-color-fitted-level-3);\n",
       "}\n",
       "\n",
       ".sk-estimator-doc-link:hover span {\n",
       "  display: block;\n",
       "}\n",
       "\n",
       "/* \"?\"-specific style due to the `<a>` HTML tag */\n",
       "\n",
       "#sk-container-id-3 a.estimator_doc_link {\n",
       "  float: right;\n",
       "  font-size: 1rem;\n",
       "  line-height: 1em;\n",
       "  font-family: monospace;\n",
       "  background-color: var(--sklearn-color-background);\n",
       "  border-radius: 1rem;\n",
       "  height: 1rem;\n",
       "  width: 1rem;\n",
       "  text-decoration: none;\n",
       "  /* unfitted */\n",
       "  color: var(--sklearn-color-unfitted-level-1);\n",
       "  border: var(--sklearn-color-unfitted-level-1) 1pt solid;\n",
       "}\n",
       "\n",
       "#sk-container-id-3 a.estimator_doc_link.fitted {\n",
       "  /* fitted */\n",
       "  border: var(--sklearn-color-fitted-level-1) 1pt solid;\n",
       "  color: var(--sklearn-color-fitted-level-1);\n",
       "}\n",
       "\n",
       "/* On hover */\n",
       "#sk-container-id-3 a.estimator_doc_link:hover {\n",
       "  /* unfitted */\n",
       "  background-color: var(--sklearn-color-unfitted-level-3);\n",
       "  color: var(--sklearn-color-background);\n",
       "  text-decoration: none;\n",
       "}\n",
       "\n",
       "#sk-container-id-3 a.estimator_doc_link.fitted:hover {\n",
       "  /* fitted */\n",
       "  background-color: var(--sklearn-color-fitted-level-3);\n",
       "}\n",
       "</style><div id=\"sk-container-id-3\" class=\"sk-top-container\"><div class=\"sk-text-repr-fallback\"><pre>GridSearchCV(cv=2, estimator=LogisticRegression(max_iter=10000, solver=&#x27;sag&#x27;),\n",
       "             param_grid={&#x27;C&#x27;: array([1. , 0.9, 0.8, 0.7, 0.6, 0.5, 0.4, 0.3, 0.2, 0.1])},\n",
       "             scoring=make_scorer(fbeta_score, response_method=&#x27;predict&#x27;, beta=2))</pre><b>In a Jupyter environment, please rerun this cell to show the HTML representation or trust the notebook. <br />On GitHub, the HTML representation is unable to render, please try loading this page with nbviewer.org.</b></div><div class=\"sk-container\" hidden><div class=\"sk-item sk-dashed-wrapped\"><div class=\"sk-label-container\"><div class=\"sk-label fitted sk-toggleable\"><input class=\"sk-toggleable__control sk-hidden--visually\" id=\"sk-estimator-id-8\" type=\"checkbox\" ><label for=\"sk-estimator-id-8\" class=\"sk-toggleable__label fitted sk-toggleable__label-arrow\"><div><div>GridSearchCV</div></div><div><a class=\"sk-estimator-doc-link fitted\" rel=\"noreferrer\" target=\"_blank\" href=\"https://scikit-learn.org/1.6/modules/generated/sklearn.model_selection.GridSearchCV.html\">?<span>Documentation for GridSearchCV</span></a><span class=\"sk-estimator-doc-link fitted\">i<span>Fitted</span></span></div></label><div class=\"sk-toggleable__content fitted\"><pre>GridSearchCV(cv=2, estimator=LogisticRegression(max_iter=10000, solver=&#x27;sag&#x27;),\n",
       "             param_grid={&#x27;C&#x27;: array([1. , 0.9, 0.8, 0.7, 0.6, 0.5, 0.4, 0.3, 0.2, 0.1])},\n",
       "             scoring=make_scorer(fbeta_score, response_method=&#x27;predict&#x27;, beta=2))</pre></div> </div></div><div class=\"sk-parallel\"><div class=\"sk-parallel-item\"><div class=\"sk-item\"><div class=\"sk-label-container\"><div class=\"sk-label fitted sk-toggleable\"><input class=\"sk-toggleable__control sk-hidden--visually\" id=\"sk-estimator-id-9\" type=\"checkbox\" ><label for=\"sk-estimator-id-9\" class=\"sk-toggleable__label fitted sk-toggleable__label-arrow\"><div><div>best_estimator_: LogisticRegression</div></div></label><div class=\"sk-toggleable__content fitted\"><pre>LogisticRegression(C=np.float64(0.9), max_iter=10000, solver=&#x27;sag&#x27;)</pre></div> </div></div><div class=\"sk-serial\"><div class=\"sk-item\"><div class=\"sk-estimator fitted sk-toggleable\"><input class=\"sk-toggleable__control sk-hidden--visually\" id=\"sk-estimator-id-10\" type=\"checkbox\" ><label for=\"sk-estimator-id-10\" class=\"sk-toggleable__label fitted sk-toggleable__label-arrow\"><div><div>LogisticRegression</div></div><div><a class=\"sk-estimator-doc-link fitted\" rel=\"noreferrer\" target=\"_blank\" href=\"https://scikit-learn.org/1.6/modules/generated/sklearn.linear_model.LogisticRegression.html\">?<span>Documentation for LogisticRegression</span></a></div></label><div class=\"sk-toggleable__content fitted\"><pre>LogisticRegression(C=np.float64(0.9), max_iter=10000, solver=&#x27;sag&#x27;)</pre></div> </div></div></div></div></div></div></div></div></div>"
      ],
      "text/plain": [
       "GridSearchCV(cv=2, estimator=LogisticRegression(max_iter=10000, solver='sag'),\n",
       "             param_grid={'C': array([1. , 0.9, 0.8, 0.7, 0.6, 0.5, 0.4, 0.3, 0.2, 0.1])},\n",
       "             scoring=make_scorer(fbeta_score, response_method='predict', beta=2))"
      ]
     },
     "execution_count": 113,
     "metadata": {},
     "output_type": "execute_result"
    }
   ],
   "source": [
    "gs = GridSearchCV(ridge_regr, cv=2, param_grid={'C': np.arange(1.0, 0, -0.1)},\n",
    "                  scoring=make_scorer(fbeta_score, beta=2))\n",
    "\n",
    "gs.fit(train_set, y_train)"
   ]
  },
  {
   "cell_type": "code",
   "execution_count": null,
   "metadata": {},
   "outputs": [
    {
     "data": {
      "text/plain": [
       "{'C': np.float64(0.9)}"
      ]
     },
     "execution_count": 114,
     "metadata": {},
     "output_type": "execute_result"
    }
   ],
   "source": [
    "gs.best_params_"
   ]
  },
  {
   "cell_type": "markdown",
   "metadata": {},
   "source": [
    "We find out that the best regularization term is 0.9, that is $\\frac{1}{0.9}=1,11$. Let's compute our scores:"
   ]
  },
  {
   "cell_type": "code",
   "execution_count": null,
   "metadata": {},
   "outputs": [
    {
     "data": {
      "text/html": [
       "<style>#sk-container-id-2 {\n",
       "  /* Definition of color scheme common for light and dark mode */\n",
       "  --sklearn-color-text: #000;\n",
       "  --sklearn-color-text-muted: #666;\n",
       "  --sklearn-color-line: gray;\n",
       "  /* Definition of color scheme for unfitted estimators */\n",
       "  --sklearn-color-unfitted-level-0: #fff5e6;\n",
       "  --sklearn-color-unfitted-level-1: #f6e4d2;\n",
       "  --sklearn-color-unfitted-level-2: #ffe0b3;\n",
       "  --sklearn-color-unfitted-level-3: chocolate;\n",
       "  /* Definition of color scheme for fitted estimators */\n",
       "  --sklearn-color-fitted-level-0: #f0f8ff;\n",
       "  --sklearn-color-fitted-level-1: #d4ebff;\n",
       "  --sklearn-color-fitted-level-2: #b3dbfd;\n",
       "  --sklearn-color-fitted-level-3: cornflowerblue;\n",
       "\n",
       "  /* Specific color for light theme */\n",
       "  --sklearn-color-text-on-default-background: var(--sg-text-color, var(--theme-code-foreground, var(--jp-content-font-color1, black)));\n",
       "  --sklearn-color-background: var(--sg-background-color, var(--theme-background, var(--jp-layout-color0, white)));\n",
       "  --sklearn-color-border-box: var(--sg-text-color, var(--theme-code-foreground, var(--jp-content-font-color1, black)));\n",
       "  --sklearn-color-icon: #696969;\n",
       "\n",
       "  @media (prefers-color-scheme: dark) {\n",
       "    /* Redefinition of color scheme for dark theme */\n",
       "    --sklearn-color-text-on-default-background: var(--sg-text-color, var(--theme-code-foreground, var(--jp-content-font-color1, white)));\n",
       "    --sklearn-color-background: var(--sg-background-color, var(--theme-background, var(--jp-layout-color0, #111)));\n",
       "    --sklearn-color-border-box: var(--sg-text-color, var(--theme-code-foreground, var(--jp-content-font-color1, white)));\n",
       "    --sklearn-color-icon: #878787;\n",
       "  }\n",
       "}\n",
       "\n",
       "#sk-container-id-2 {\n",
       "  color: var(--sklearn-color-text);\n",
       "}\n",
       "\n",
       "#sk-container-id-2 pre {\n",
       "  padding: 0;\n",
       "}\n",
       "\n",
       "#sk-container-id-2 input.sk-hidden--visually {\n",
       "  border: 0;\n",
       "  clip: rect(1px 1px 1px 1px);\n",
       "  clip: rect(1px, 1px, 1px, 1px);\n",
       "  height: 1px;\n",
       "  margin: -1px;\n",
       "  overflow: hidden;\n",
       "  padding: 0;\n",
       "  position: absolute;\n",
       "  width: 1px;\n",
       "}\n",
       "\n",
       "#sk-container-id-2 div.sk-dashed-wrapped {\n",
       "  border: 1px dashed var(--sklearn-color-line);\n",
       "  margin: 0 0.4em 0.5em 0.4em;\n",
       "  box-sizing: border-box;\n",
       "  padding-bottom: 0.4em;\n",
       "  background-color: var(--sklearn-color-background);\n",
       "}\n",
       "\n",
       "#sk-container-id-2 div.sk-container {\n",
       "  /* jupyter's `normalize.less` sets `[hidden] { display: none; }`\n",
       "     but bootstrap.min.css set `[hidden] { display: none !important; }`\n",
       "     so we also need the `!important` here to be able to override the\n",
       "     default hidden behavior on the sphinx rendered scikit-learn.org.\n",
       "     See: https://github.com/scikit-learn/scikit-learn/issues/21755 */\n",
       "  display: inline-block !important;\n",
       "  position: relative;\n",
       "}\n",
       "\n",
       "#sk-container-id-2 div.sk-text-repr-fallback {\n",
       "  display: none;\n",
       "}\n",
       "\n",
       "div.sk-parallel-item,\n",
       "div.sk-serial,\n",
       "div.sk-item {\n",
       "  /* draw centered vertical line to link estimators */\n",
       "  background-image: linear-gradient(var(--sklearn-color-text-on-default-background), var(--sklearn-color-text-on-default-background));\n",
       "  background-size: 2px 100%;\n",
       "  background-repeat: no-repeat;\n",
       "  background-position: center center;\n",
       "}\n",
       "\n",
       "/* Parallel-specific style estimator block */\n",
       "\n",
       "#sk-container-id-2 div.sk-parallel-item::after {\n",
       "  content: \"\";\n",
       "  width: 100%;\n",
       "  border-bottom: 2px solid var(--sklearn-color-text-on-default-background);\n",
       "  flex-grow: 1;\n",
       "}\n",
       "\n",
       "#sk-container-id-2 div.sk-parallel {\n",
       "  display: flex;\n",
       "  align-items: stretch;\n",
       "  justify-content: center;\n",
       "  background-color: var(--sklearn-color-background);\n",
       "  position: relative;\n",
       "}\n",
       "\n",
       "#sk-container-id-2 div.sk-parallel-item {\n",
       "  display: flex;\n",
       "  flex-direction: column;\n",
       "}\n",
       "\n",
       "#sk-container-id-2 div.sk-parallel-item:first-child::after {\n",
       "  align-self: flex-end;\n",
       "  width: 50%;\n",
       "}\n",
       "\n",
       "#sk-container-id-2 div.sk-parallel-item:last-child::after {\n",
       "  align-self: flex-start;\n",
       "  width: 50%;\n",
       "}\n",
       "\n",
       "#sk-container-id-2 div.sk-parallel-item:only-child::after {\n",
       "  width: 0;\n",
       "}\n",
       "\n",
       "/* Serial-specific style estimator block */\n",
       "\n",
       "#sk-container-id-2 div.sk-serial {\n",
       "  display: flex;\n",
       "  flex-direction: column;\n",
       "  align-items: center;\n",
       "  background-color: var(--sklearn-color-background);\n",
       "  padding-right: 1em;\n",
       "  padding-left: 1em;\n",
       "}\n",
       "\n",
       "\n",
       "/* Toggleable style: style used for estimator/Pipeline/ColumnTransformer box that is\n",
       "clickable and can be expanded/collapsed.\n",
       "- Pipeline and ColumnTransformer use this feature and define the default style\n",
       "- Estimators will overwrite some part of the style using the `sk-estimator` class\n",
       "*/\n",
       "\n",
       "/* Pipeline and ColumnTransformer style (default) */\n",
       "\n",
       "#sk-container-id-2 div.sk-toggleable {\n",
       "  /* Default theme specific background. It is overwritten whether we have a\n",
       "  specific estimator or a Pipeline/ColumnTransformer */\n",
       "  background-color: var(--sklearn-color-background);\n",
       "}\n",
       "\n",
       "/* Toggleable label */\n",
       "#sk-container-id-2 label.sk-toggleable__label {\n",
       "  cursor: pointer;\n",
       "  display: flex;\n",
       "  width: 100%;\n",
       "  margin-bottom: 0;\n",
       "  padding: 0.5em;\n",
       "  box-sizing: border-box;\n",
       "  text-align: center;\n",
       "  align-items: start;\n",
       "  justify-content: space-between;\n",
       "  gap: 0.5em;\n",
       "}\n",
       "\n",
       "#sk-container-id-2 label.sk-toggleable__label .caption {\n",
       "  font-size: 0.6rem;\n",
       "  font-weight: lighter;\n",
       "  color: var(--sklearn-color-text-muted);\n",
       "}\n",
       "\n",
       "#sk-container-id-2 label.sk-toggleable__label-arrow:before {\n",
       "  /* Arrow on the left of the label */\n",
       "  content: \"▸\";\n",
       "  float: left;\n",
       "  margin-right: 0.25em;\n",
       "  color: var(--sklearn-color-icon);\n",
       "}\n",
       "\n",
       "#sk-container-id-2 label.sk-toggleable__label-arrow:hover:before {\n",
       "  color: var(--sklearn-color-text);\n",
       "}\n",
       "\n",
       "/* Toggleable content - dropdown */\n",
       "\n",
       "#sk-container-id-2 div.sk-toggleable__content {\n",
       "  max-height: 0;\n",
       "  max-width: 0;\n",
       "  overflow: hidden;\n",
       "  text-align: left;\n",
       "  /* unfitted */\n",
       "  background-color: var(--sklearn-color-unfitted-level-0);\n",
       "}\n",
       "\n",
       "#sk-container-id-2 div.sk-toggleable__content.fitted {\n",
       "  /* fitted */\n",
       "  background-color: var(--sklearn-color-fitted-level-0);\n",
       "}\n",
       "\n",
       "#sk-container-id-2 div.sk-toggleable__content pre {\n",
       "  margin: 0.2em;\n",
       "  border-radius: 0.25em;\n",
       "  color: var(--sklearn-color-text);\n",
       "  /* unfitted */\n",
       "  background-color: var(--sklearn-color-unfitted-level-0);\n",
       "}\n",
       "\n",
       "#sk-container-id-2 div.sk-toggleable__content.fitted pre {\n",
       "  /* unfitted */\n",
       "  background-color: var(--sklearn-color-fitted-level-0);\n",
       "}\n",
       "\n",
       "#sk-container-id-2 input.sk-toggleable__control:checked~div.sk-toggleable__content {\n",
       "  /* Expand drop-down */\n",
       "  max-height: 200px;\n",
       "  max-width: 100%;\n",
       "  overflow: auto;\n",
       "}\n",
       "\n",
       "#sk-container-id-2 input.sk-toggleable__control:checked~label.sk-toggleable__label-arrow:before {\n",
       "  content: \"▾\";\n",
       "}\n",
       "\n",
       "/* Pipeline/ColumnTransformer-specific style */\n",
       "\n",
       "#sk-container-id-2 div.sk-label input.sk-toggleable__control:checked~label.sk-toggleable__label {\n",
       "  color: var(--sklearn-color-text);\n",
       "  background-color: var(--sklearn-color-unfitted-level-2);\n",
       "}\n",
       "\n",
       "#sk-container-id-2 div.sk-label.fitted input.sk-toggleable__control:checked~label.sk-toggleable__label {\n",
       "  background-color: var(--sklearn-color-fitted-level-2);\n",
       "}\n",
       "\n",
       "/* Estimator-specific style */\n",
       "\n",
       "/* Colorize estimator box */\n",
       "#sk-container-id-2 div.sk-estimator input.sk-toggleable__control:checked~label.sk-toggleable__label {\n",
       "  /* unfitted */\n",
       "  background-color: var(--sklearn-color-unfitted-level-2);\n",
       "}\n",
       "\n",
       "#sk-container-id-2 div.sk-estimator.fitted input.sk-toggleable__control:checked~label.sk-toggleable__label {\n",
       "  /* fitted */\n",
       "  background-color: var(--sklearn-color-fitted-level-2);\n",
       "}\n",
       "\n",
       "#sk-container-id-2 div.sk-label label.sk-toggleable__label,\n",
       "#sk-container-id-2 div.sk-label label {\n",
       "  /* The background is the default theme color */\n",
       "  color: var(--sklearn-color-text-on-default-background);\n",
       "}\n",
       "\n",
       "/* On hover, darken the color of the background */\n",
       "#sk-container-id-2 div.sk-label:hover label.sk-toggleable__label {\n",
       "  color: var(--sklearn-color-text);\n",
       "  background-color: var(--sklearn-color-unfitted-level-2);\n",
       "}\n",
       "\n",
       "/* Label box, darken color on hover, fitted */\n",
       "#sk-container-id-2 div.sk-label.fitted:hover label.sk-toggleable__label.fitted {\n",
       "  color: var(--sklearn-color-text);\n",
       "  background-color: var(--sklearn-color-fitted-level-2);\n",
       "}\n",
       "\n",
       "/* Estimator label */\n",
       "\n",
       "#sk-container-id-2 div.sk-label label {\n",
       "  font-family: monospace;\n",
       "  font-weight: bold;\n",
       "  display: inline-block;\n",
       "  line-height: 1.2em;\n",
       "}\n",
       "\n",
       "#sk-container-id-2 div.sk-label-container {\n",
       "  text-align: center;\n",
       "}\n",
       "\n",
       "/* Estimator-specific */\n",
       "#sk-container-id-2 div.sk-estimator {\n",
       "  font-family: monospace;\n",
       "  border: 1px dotted var(--sklearn-color-border-box);\n",
       "  border-radius: 0.25em;\n",
       "  box-sizing: border-box;\n",
       "  margin-bottom: 0.5em;\n",
       "  /* unfitted */\n",
       "  background-color: var(--sklearn-color-unfitted-level-0);\n",
       "}\n",
       "\n",
       "#sk-container-id-2 div.sk-estimator.fitted {\n",
       "  /* fitted */\n",
       "  background-color: var(--sklearn-color-fitted-level-0);\n",
       "}\n",
       "\n",
       "/* on hover */\n",
       "#sk-container-id-2 div.sk-estimator:hover {\n",
       "  /* unfitted */\n",
       "  background-color: var(--sklearn-color-unfitted-level-2);\n",
       "}\n",
       "\n",
       "#sk-container-id-2 div.sk-estimator.fitted:hover {\n",
       "  /* fitted */\n",
       "  background-color: var(--sklearn-color-fitted-level-2);\n",
       "}\n",
       "\n",
       "/* Specification for estimator info (e.g. \"i\" and \"?\") */\n",
       "\n",
       "/* Common style for \"i\" and \"?\" */\n",
       "\n",
       ".sk-estimator-doc-link,\n",
       "a:link.sk-estimator-doc-link,\n",
       "a:visited.sk-estimator-doc-link {\n",
       "  float: right;\n",
       "  font-size: smaller;\n",
       "  line-height: 1em;\n",
       "  font-family: monospace;\n",
       "  background-color: var(--sklearn-color-background);\n",
       "  border-radius: 1em;\n",
       "  height: 1em;\n",
       "  width: 1em;\n",
       "  text-decoration: none !important;\n",
       "  margin-left: 0.5em;\n",
       "  text-align: center;\n",
       "  /* unfitted */\n",
       "  border: var(--sklearn-color-unfitted-level-1) 1pt solid;\n",
       "  color: var(--sklearn-color-unfitted-level-1);\n",
       "}\n",
       "\n",
       ".sk-estimator-doc-link.fitted,\n",
       "a:link.sk-estimator-doc-link.fitted,\n",
       "a:visited.sk-estimator-doc-link.fitted {\n",
       "  /* fitted */\n",
       "  border: var(--sklearn-color-fitted-level-1) 1pt solid;\n",
       "  color: var(--sklearn-color-fitted-level-1);\n",
       "}\n",
       "\n",
       "/* On hover */\n",
       "div.sk-estimator:hover .sk-estimator-doc-link:hover,\n",
       ".sk-estimator-doc-link:hover,\n",
       "div.sk-label-container:hover .sk-estimator-doc-link:hover,\n",
       ".sk-estimator-doc-link:hover {\n",
       "  /* unfitted */\n",
       "  background-color: var(--sklearn-color-unfitted-level-3);\n",
       "  color: var(--sklearn-color-background);\n",
       "  text-decoration: none;\n",
       "}\n",
       "\n",
       "div.sk-estimator.fitted:hover .sk-estimator-doc-link.fitted:hover,\n",
       ".sk-estimator-doc-link.fitted:hover,\n",
       "div.sk-label-container:hover .sk-estimator-doc-link.fitted:hover,\n",
       ".sk-estimator-doc-link.fitted:hover {\n",
       "  /* fitted */\n",
       "  background-color: var(--sklearn-color-fitted-level-3);\n",
       "  color: var(--sklearn-color-background);\n",
       "  text-decoration: none;\n",
       "}\n",
       "\n",
       "/* Span, style for the box shown on hovering the info icon */\n",
       ".sk-estimator-doc-link span {\n",
       "  display: none;\n",
       "  z-index: 9999;\n",
       "  position: relative;\n",
       "  font-weight: normal;\n",
       "  right: .2ex;\n",
       "  padding: .5ex;\n",
       "  margin: .5ex;\n",
       "  width: min-content;\n",
       "  min-width: 20ex;\n",
       "  max-width: 50ex;\n",
       "  color: var(--sklearn-color-text);\n",
       "  box-shadow: 2pt 2pt 4pt #999;\n",
       "  /* unfitted */\n",
       "  background: var(--sklearn-color-unfitted-level-0);\n",
       "  border: .5pt solid var(--sklearn-color-unfitted-level-3);\n",
       "}\n",
       "\n",
       ".sk-estimator-doc-link.fitted span {\n",
       "  /* fitted */\n",
       "  background: var(--sklearn-color-fitted-level-0);\n",
       "  border: var(--sklearn-color-fitted-level-3);\n",
       "}\n",
       "\n",
       ".sk-estimator-doc-link:hover span {\n",
       "  display: block;\n",
       "}\n",
       "\n",
       "/* \"?\"-specific style due to the `<a>` HTML tag */\n",
       "\n",
       "#sk-container-id-2 a.estimator_doc_link {\n",
       "  float: right;\n",
       "  font-size: 1rem;\n",
       "  line-height: 1em;\n",
       "  font-family: monospace;\n",
       "  background-color: var(--sklearn-color-background);\n",
       "  border-radius: 1rem;\n",
       "  height: 1rem;\n",
       "  width: 1rem;\n",
       "  text-decoration: none;\n",
       "  /* unfitted */\n",
       "  color: var(--sklearn-color-unfitted-level-1);\n",
       "  border: var(--sklearn-color-unfitted-level-1) 1pt solid;\n",
       "}\n",
       "\n",
       "#sk-container-id-2 a.estimator_doc_link.fitted {\n",
       "  /* fitted */\n",
       "  border: var(--sklearn-color-fitted-level-1) 1pt solid;\n",
       "  color: var(--sklearn-color-fitted-level-1);\n",
       "}\n",
       "\n",
       "/* On hover */\n",
       "#sk-container-id-2 a.estimator_doc_link:hover {\n",
       "  /* unfitted */\n",
       "  background-color: var(--sklearn-color-unfitted-level-3);\n",
       "  color: var(--sklearn-color-background);\n",
       "  text-decoration: none;\n",
       "}\n",
       "\n",
       "#sk-container-id-2 a.estimator_doc_link.fitted:hover {\n",
       "  /* fitted */\n",
       "  background-color: var(--sklearn-color-fitted-level-3);\n",
       "}\n",
       "</style><div id=\"sk-container-id-2\" class=\"sk-top-container\"><div class=\"sk-text-repr-fallback\"><pre>LogisticRegression(C=0.9, max_iter=10000, solver=&#x27;sag&#x27;)</pre><b>In a Jupyter environment, please rerun this cell to show the HTML representation or trust the notebook. <br />On GitHub, the HTML representation is unable to render, please try loading this page with nbviewer.org.</b></div><div class=\"sk-container\" hidden><div class=\"sk-item\"><div class=\"sk-estimator fitted sk-toggleable\"><input class=\"sk-toggleable__control sk-hidden--visually\" id=\"sk-estimator-id-4\" type=\"checkbox\" checked><label for=\"sk-estimator-id-4\" class=\"sk-toggleable__label fitted sk-toggleable__label-arrow\"><div><div>LogisticRegression</div></div><div><a class=\"sk-estimator-doc-link fitted\" rel=\"noreferrer\" target=\"_blank\" href=\"https://scikit-learn.org/1.6/modules/generated/sklearn.linear_model.LogisticRegression.html\">?<span>Documentation for LogisticRegression</span></a><span class=\"sk-estimator-doc-link fitted\">i<span>Fitted</span></span></div></label><div class=\"sk-toggleable__content fitted\"><pre>LogisticRegression(C=0.9, max_iter=10000, solver=&#x27;sag&#x27;)</pre></div> </div></div></div></div>"
      ],
      "text/plain": [
       "LogisticRegression(C=0.9, max_iter=10000, solver='sag')"
      ]
     },
     "execution_count": 123,
     "metadata": {},
     "output_type": "execute_result"
    }
   ],
   "source": [
    "ridge_regr.C = 0.9"
   ]
  },
  {
   "cell_type": "code",
   "execution_count": null,
   "metadata": {},
   "outputs": [],
   "source": [
    "ridge_regr = gs.best_estimator_"
   ]
  },
  {
   "cell_type": "code",
   "execution_count": 321,
   "metadata": {},
   "outputs": [
    {
     "name": "stdout",
     "output_type": "stream",
     "text": [
      "Optimal treshold:  0.3137336670256566\n"
     ]
    }
   ],
   "source": [
    "opt_tresh, y_pred_ridge = computePredictions(ridge_regr, test_set, y_test)\n",
    "print(\"Optimal treshold: \", opt_tresh)\n",
    "scores_df['LR_Ridge_OPT'] = [recall_score(y_true=y_test, y_pred=y_pred_ridge), precision_score(y_true=y_test, y_pred=y_pred_ridge),\n",
    "                    accuracy_score(y_true=y_test, y_pred=y_pred_ridge), f1_score(y_true=y_test, y_pred=y_pred_ridge), fbeta_score(y_true=y_test, y_pred=y_pred_ridge, beta=2)]"
   ]
  },
  {
   "cell_type": "code",
   "execution_count": 322,
   "metadata": {},
   "outputs": [
    {
     "data": {
      "text/html": [
       "<div>\n",
       "<style scoped>\n",
       "    .dataframe tbody tr th:only-of-type {\n",
       "        vertical-align: middle;\n",
       "    }\n",
       "\n",
       "    .dataframe tbody tr th {\n",
       "        vertical-align: top;\n",
       "    }\n",
       "\n",
       "    .dataframe thead th {\n",
       "        text-align: right;\n",
       "    }\n",
       "</style>\n",
       "<table border=\"1\" class=\"dataframe\">\n",
       "  <thead>\n",
       "    <tr style=\"text-align: right;\">\n",
       "      <th></th>\n",
       "      <th>LR</th>\n",
       "      <th>LR_OPT</th>\n",
       "      <th>LR_POL</th>\n",
       "      <th>LR_POL_OPT</th>\n",
       "      <th>LR_Ridge_OPT</th>\n",
       "      <th>LR_Lasso_OPT</th>\n",
       "      <th>PCR</th>\n",
       "      <th>LDA</th>\n",
       "      <th>QDA</th>\n",
       "      <th>KNN</th>\n",
       "      <th>MLP</th>\n",
       "    </tr>\n",
       "  </thead>\n",
       "  <tbody>\n",
       "    <tr>\n",
       "      <th>recall_score</th>\n",
       "      <td>0.404199</td>\n",
       "      <td>0.955698</td>\n",
       "      <td>0.407284</td>\n",
       "      <td>0.957669</td>\n",
       "      <td>0.955356</td>\n",
       "      <td>0.956213</td>\n",
       "      <td>0.939983</td>\n",
       "      <td>1.000000</td>\n",
       "      <td>0.999229</td>\n",
       "      <td>0.476350</td>\n",
       "      <td>0.467695</td>\n",
       "    </tr>\n",
       "    <tr>\n",
       "      <th>precision_score</th>\n",
       "      <td>0.638727</td>\n",
       "      <td>0.479184</td>\n",
       "      <td>0.641430</td>\n",
       "      <td>0.475130</td>\n",
       "      <td>0.479300</td>\n",
       "      <td>0.479050</td>\n",
       "      <td>0.481916</td>\n",
       "      <td>0.458781</td>\n",
       "      <td>0.458805</td>\n",
       "      <td>0.495897</td>\n",
       "      <td>0.617072</td>\n",
       "    </tr>\n",
       "    <tr>\n",
       "      <th>accuracy</th>\n",
       "      <td>0.621831</td>\n",
       "      <td>0.503203</td>\n",
       "      <td>0.623678</td>\n",
       "      <td>0.495303</td>\n",
       "      <td>0.503439</td>\n",
       "      <td>0.502928</td>\n",
       "      <td>0.508510</td>\n",
       "      <td>0.458866</td>\n",
       "      <td>0.458984</td>\n",
       "      <td>0.485927</td>\n",
       "      <td>0.622696</td>\n",
       "    </tr>\n",
       "    <tr>\n",
       "      <th>f1_score</th>\n",
       "      <td>0.495093</td>\n",
       "      <td>0.638317</td>\n",
       "      <td>0.498218</td>\n",
       "      <td>0.635144</td>\n",
       "      <td>0.638344</td>\n",
       "      <td>0.638314</td>\n",
       "      <td>0.637166</td>\n",
       "      <td>0.628992</td>\n",
       "      <td>0.628863</td>\n",
       "      <td>0.480135</td>\n",
       "      <td>0.532098</td>\n",
       "    </tr>\n",
       "    <tr>\n",
       "      <th>fbeta_score</th>\n",
       "      <td>0.436234</td>\n",
       "      <td>0.797155</td>\n",
       "      <td>0.439360</td>\n",
       "      <td>0.795989</td>\n",
       "      <td>0.797029</td>\n",
       "      <td>0.797368</td>\n",
       "      <td>0.789833</td>\n",
       "      <td>0.809102</td>\n",
       "      <td>0.808713</td>\n",
       "      <td>0.537675</td>\n",
       "      <td>0.491490</td>\n",
       "    </tr>\n",
       "  </tbody>\n",
       "</table>\n",
       "</div>"
      ],
      "text/plain": [
       "                       LR    LR_OPT    LR_POL  LR_POL_OPT  LR_Ridge_OPT  \\\n",
       "recall_score     0.404199  0.955698  0.407284    0.957669      0.955356   \n",
       "precision_score  0.638727  0.479184  0.641430    0.475130      0.479300   \n",
       "accuracy         0.621831  0.503203  0.623678    0.495303      0.503439   \n",
       "f1_score         0.495093  0.638317  0.498218    0.635144      0.638344   \n",
       "fbeta_score      0.436234  0.797155  0.439360    0.795989      0.797029   \n",
       "\n",
       "                 LR_Lasso_OPT       PCR       LDA       QDA       KNN  \\\n",
       "recall_score         0.956213  0.939983  1.000000  0.999229  0.476350   \n",
       "precision_score      0.479050  0.481916  0.458781  0.458805  0.495897   \n",
       "accuracy             0.502928  0.508510  0.458866  0.458984  0.485927   \n",
       "f1_score             0.638314  0.637166  0.628992  0.628863  0.480135   \n",
       "fbeta_score          0.797368  0.789833  0.809102  0.808713  0.537675   \n",
       "\n",
       "                      MLP  \n",
       "recall_score     0.467695  \n",
       "precision_score  0.617072  \n",
       "accuracy         0.622696  \n",
       "f1_score         0.532098  \n",
       "fbeta_score      0.491490  "
      ]
     },
     "execution_count": 322,
     "metadata": {},
     "output_type": "execute_result"
    }
   ],
   "source": [
    "scores_df"
   ]
  },
  {
   "cell_type": "markdown",
   "metadata": {},
   "source": [
    "We have obtained similar results to the first regressor, so let's see how many coefficients were set to 0:"
   ]
  },
  {
   "cell_type": "code",
   "execution_count": 323,
   "metadata": {},
   "outputs": [
    {
     "data": {
      "text/plain": [
       "(1, 74)"
      ]
     },
     "execution_count": 323,
     "metadata": {},
     "output_type": "execute_result"
    }
   ],
   "source": [
    "ridge_regr.coef_.shape"
   ]
  },
  {
   "cell_type": "markdown",
   "metadata": {},
   "source": [
    "No coefficients were set to zero! We can try to use Lasso regression."
   ]
  },
  {
   "cell_type": "markdown",
   "metadata": {},
   "source": [
    "### Lasso Regression"
   ]
  },
  {
   "cell_type": "code",
   "execution_count": null,
   "metadata": {},
   "outputs": [],
   "source": [
    "lasso_regr = LogisticRegression(penalty='l1', solver='liblinear')\n",
    "\n",
    "gs = GridSearchCV(lasso_regr, param_grid={'C': np.arange(1.0, 0, -0.1)},\n",
    "                  scoring=make_scorer(fbeta_score, beta=2),\n",
    "                  n_jobs=-1)\n",
    "\n",
    "gs.fit(train_set, y_train)"
   ]
  },
  {
   "cell_type": "code",
   "execution_count": null,
   "metadata": {},
   "outputs": [
    {
     "data": {
      "text/plain": [
       "{'C': np.float64(1.0)}"
      ]
     },
     "execution_count": 108,
     "metadata": {},
     "output_type": "execute_result"
    }
   ],
   "source": [
    "gs.best_params_"
   ]
  },
  {
   "cell_type": "code",
   "execution_count": 419,
   "metadata": {},
   "outputs": [],
   "source": [
    "lasso_regr = LogisticRegression(penalty='l1', solver='liblinear', C=1)"
   ]
  },
  {
   "cell_type": "code",
   "execution_count": null,
   "metadata": {},
   "outputs": [],
   "source": [
    "lasso_regr = gs.best_estimator_"
   ]
  },
  {
   "cell_type": "code",
   "execution_count": 420,
   "metadata": {},
   "outputs": [
    {
     "data": {
      "text/html": [
       "<style>#sk-container-id-7 {\n",
       "  /* Definition of color scheme common for light and dark mode */\n",
       "  --sklearn-color-text: #000;\n",
       "  --sklearn-color-text-muted: #666;\n",
       "  --sklearn-color-line: gray;\n",
       "  /* Definition of color scheme for unfitted estimators */\n",
       "  --sklearn-color-unfitted-level-0: #fff5e6;\n",
       "  --sklearn-color-unfitted-level-1: #f6e4d2;\n",
       "  --sklearn-color-unfitted-level-2: #ffe0b3;\n",
       "  --sklearn-color-unfitted-level-3: chocolate;\n",
       "  /* Definition of color scheme for fitted estimators */\n",
       "  --sklearn-color-fitted-level-0: #f0f8ff;\n",
       "  --sklearn-color-fitted-level-1: #d4ebff;\n",
       "  --sklearn-color-fitted-level-2: #b3dbfd;\n",
       "  --sklearn-color-fitted-level-3: cornflowerblue;\n",
       "\n",
       "  /* Specific color for light theme */\n",
       "  --sklearn-color-text-on-default-background: var(--sg-text-color, var(--theme-code-foreground, var(--jp-content-font-color1, black)));\n",
       "  --sklearn-color-background: var(--sg-background-color, var(--theme-background, var(--jp-layout-color0, white)));\n",
       "  --sklearn-color-border-box: var(--sg-text-color, var(--theme-code-foreground, var(--jp-content-font-color1, black)));\n",
       "  --sklearn-color-icon: #696969;\n",
       "\n",
       "  @media (prefers-color-scheme: dark) {\n",
       "    /* Redefinition of color scheme for dark theme */\n",
       "    --sklearn-color-text-on-default-background: var(--sg-text-color, var(--theme-code-foreground, var(--jp-content-font-color1, white)));\n",
       "    --sklearn-color-background: var(--sg-background-color, var(--theme-background, var(--jp-layout-color0, #111)));\n",
       "    --sklearn-color-border-box: var(--sg-text-color, var(--theme-code-foreground, var(--jp-content-font-color1, white)));\n",
       "    --sklearn-color-icon: #878787;\n",
       "  }\n",
       "}\n",
       "\n",
       "#sk-container-id-7 {\n",
       "  color: var(--sklearn-color-text);\n",
       "}\n",
       "\n",
       "#sk-container-id-7 pre {\n",
       "  padding: 0;\n",
       "}\n",
       "\n",
       "#sk-container-id-7 input.sk-hidden--visually {\n",
       "  border: 0;\n",
       "  clip: rect(1px 1px 1px 1px);\n",
       "  clip: rect(1px, 1px, 1px, 1px);\n",
       "  height: 1px;\n",
       "  margin: -1px;\n",
       "  overflow: hidden;\n",
       "  padding: 0;\n",
       "  position: absolute;\n",
       "  width: 1px;\n",
       "}\n",
       "\n",
       "#sk-container-id-7 div.sk-dashed-wrapped {\n",
       "  border: 1px dashed var(--sklearn-color-line);\n",
       "  margin: 0 0.4em 0.5em 0.4em;\n",
       "  box-sizing: border-box;\n",
       "  padding-bottom: 0.4em;\n",
       "  background-color: var(--sklearn-color-background);\n",
       "}\n",
       "\n",
       "#sk-container-id-7 div.sk-container {\n",
       "  /* jupyter's `normalize.less` sets `[hidden] { display: none; }`\n",
       "     but bootstrap.min.css set `[hidden] { display: none !important; }`\n",
       "     so we also need the `!important` here to be able to override the\n",
       "     default hidden behavior on the sphinx rendered scikit-learn.org.\n",
       "     See: https://github.com/scikit-learn/scikit-learn/issues/21755 */\n",
       "  display: inline-block !important;\n",
       "  position: relative;\n",
       "}\n",
       "\n",
       "#sk-container-id-7 div.sk-text-repr-fallback {\n",
       "  display: none;\n",
       "}\n",
       "\n",
       "div.sk-parallel-item,\n",
       "div.sk-serial,\n",
       "div.sk-item {\n",
       "  /* draw centered vertical line to link estimators */\n",
       "  background-image: linear-gradient(var(--sklearn-color-text-on-default-background), var(--sklearn-color-text-on-default-background));\n",
       "  background-size: 2px 100%;\n",
       "  background-repeat: no-repeat;\n",
       "  background-position: center center;\n",
       "}\n",
       "\n",
       "/* Parallel-specific style estimator block */\n",
       "\n",
       "#sk-container-id-7 div.sk-parallel-item::after {\n",
       "  content: \"\";\n",
       "  width: 100%;\n",
       "  border-bottom: 2px solid var(--sklearn-color-text-on-default-background);\n",
       "  flex-grow: 1;\n",
       "}\n",
       "\n",
       "#sk-container-id-7 div.sk-parallel {\n",
       "  display: flex;\n",
       "  align-items: stretch;\n",
       "  justify-content: center;\n",
       "  background-color: var(--sklearn-color-background);\n",
       "  position: relative;\n",
       "}\n",
       "\n",
       "#sk-container-id-7 div.sk-parallel-item {\n",
       "  display: flex;\n",
       "  flex-direction: column;\n",
       "}\n",
       "\n",
       "#sk-container-id-7 div.sk-parallel-item:first-child::after {\n",
       "  align-self: flex-end;\n",
       "  width: 50%;\n",
       "}\n",
       "\n",
       "#sk-container-id-7 div.sk-parallel-item:last-child::after {\n",
       "  align-self: flex-start;\n",
       "  width: 50%;\n",
       "}\n",
       "\n",
       "#sk-container-id-7 div.sk-parallel-item:only-child::after {\n",
       "  width: 0;\n",
       "}\n",
       "\n",
       "/* Serial-specific style estimator block */\n",
       "\n",
       "#sk-container-id-7 div.sk-serial {\n",
       "  display: flex;\n",
       "  flex-direction: column;\n",
       "  align-items: center;\n",
       "  background-color: var(--sklearn-color-background);\n",
       "  padding-right: 1em;\n",
       "  padding-left: 1em;\n",
       "}\n",
       "\n",
       "\n",
       "/* Toggleable style: style used for estimator/Pipeline/ColumnTransformer box that is\n",
       "clickable and can be expanded/collapsed.\n",
       "- Pipeline and ColumnTransformer use this feature and define the default style\n",
       "- Estimators will overwrite some part of the style using the `sk-estimator` class\n",
       "*/\n",
       "\n",
       "/* Pipeline and ColumnTransformer style (default) */\n",
       "\n",
       "#sk-container-id-7 div.sk-toggleable {\n",
       "  /* Default theme specific background. It is overwritten whether we have a\n",
       "  specific estimator or a Pipeline/ColumnTransformer */\n",
       "  background-color: var(--sklearn-color-background);\n",
       "}\n",
       "\n",
       "/* Toggleable label */\n",
       "#sk-container-id-7 label.sk-toggleable__label {\n",
       "  cursor: pointer;\n",
       "  display: flex;\n",
       "  width: 100%;\n",
       "  margin-bottom: 0;\n",
       "  padding: 0.5em;\n",
       "  box-sizing: border-box;\n",
       "  text-align: center;\n",
       "  align-items: start;\n",
       "  justify-content: space-between;\n",
       "  gap: 0.5em;\n",
       "}\n",
       "\n",
       "#sk-container-id-7 label.sk-toggleable__label .caption {\n",
       "  font-size: 0.6rem;\n",
       "  font-weight: lighter;\n",
       "  color: var(--sklearn-color-text-muted);\n",
       "}\n",
       "\n",
       "#sk-container-id-7 label.sk-toggleable__label-arrow:before {\n",
       "  /* Arrow on the left of the label */\n",
       "  content: \"▸\";\n",
       "  float: left;\n",
       "  margin-right: 0.25em;\n",
       "  color: var(--sklearn-color-icon);\n",
       "}\n",
       "\n",
       "#sk-container-id-7 label.sk-toggleable__label-arrow:hover:before {\n",
       "  color: var(--sklearn-color-text);\n",
       "}\n",
       "\n",
       "/* Toggleable content - dropdown */\n",
       "\n",
       "#sk-container-id-7 div.sk-toggleable__content {\n",
       "  max-height: 0;\n",
       "  max-width: 0;\n",
       "  overflow: hidden;\n",
       "  text-align: left;\n",
       "  /* unfitted */\n",
       "  background-color: var(--sklearn-color-unfitted-level-0);\n",
       "}\n",
       "\n",
       "#sk-container-id-7 div.sk-toggleable__content.fitted {\n",
       "  /* fitted */\n",
       "  background-color: var(--sklearn-color-fitted-level-0);\n",
       "}\n",
       "\n",
       "#sk-container-id-7 div.sk-toggleable__content pre {\n",
       "  margin: 0.2em;\n",
       "  border-radius: 0.25em;\n",
       "  color: var(--sklearn-color-text);\n",
       "  /* unfitted */\n",
       "  background-color: var(--sklearn-color-unfitted-level-0);\n",
       "}\n",
       "\n",
       "#sk-container-id-7 div.sk-toggleable__content.fitted pre {\n",
       "  /* unfitted */\n",
       "  background-color: var(--sklearn-color-fitted-level-0);\n",
       "}\n",
       "\n",
       "#sk-container-id-7 input.sk-toggleable__control:checked~div.sk-toggleable__content {\n",
       "  /* Expand drop-down */\n",
       "  max-height: 200px;\n",
       "  max-width: 100%;\n",
       "  overflow: auto;\n",
       "}\n",
       "\n",
       "#sk-container-id-7 input.sk-toggleable__control:checked~label.sk-toggleable__label-arrow:before {\n",
       "  content: \"▾\";\n",
       "}\n",
       "\n",
       "/* Pipeline/ColumnTransformer-specific style */\n",
       "\n",
       "#sk-container-id-7 div.sk-label input.sk-toggleable__control:checked~label.sk-toggleable__label {\n",
       "  color: var(--sklearn-color-text);\n",
       "  background-color: var(--sklearn-color-unfitted-level-2);\n",
       "}\n",
       "\n",
       "#sk-container-id-7 div.sk-label.fitted input.sk-toggleable__control:checked~label.sk-toggleable__label {\n",
       "  background-color: var(--sklearn-color-fitted-level-2);\n",
       "}\n",
       "\n",
       "/* Estimator-specific style */\n",
       "\n",
       "/* Colorize estimator box */\n",
       "#sk-container-id-7 div.sk-estimator input.sk-toggleable__control:checked~label.sk-toggleable__label {\n",
       "  /* unfitted */\n",
       "  background-color: var(--sklearn-color-unfitted-level-2);\n",
       "}\n",
       "\n",
       "#sk-container-id-7 div.sk-estimator.fitted input.sk-toggleable__control:checked~label.sk-toggleable__label {\n",
       "  /* fitted */\n",
       "  background-color: var(--sklearn-color-fitted-level-2);\n",
       "}\n",
       "\n",
       "#sk-container-id-7 div.sk-label label.sk-toggleable__label,\n",
       "#sk-container-id-7 div.sk-label label {\n",
       "  /* The background is the default theme color */\n",
       "  color: var(--sklearn-color-text-on-default-background);\n",
       "}\n",
       "\n",
       "/* On hover, darken the color of the background */\n",
       "#sk-container-id-7 div.sk-label:hover label.sk-toggleable__label {\n",
       "  color: var(--sklearn-color-text);\n",
       "  background-color: var(--sklearn-color-unfitted-level-2);\n",
       "}\n",
       "\n",
       "/* Label box, darken color on hover, fitted */\n",
       "#sk-container-id-7 div.sk-label.fitted:hover label.sk-toggleable__label.fitted {\n",
       "  color: var(--sklearn-color-text);\n",
       "  background-color: var(--sklearn-color-fitted-level-2);\n",
       "}\n",
       "\n",
       "/* Estimator label */\n",
       "\n",
       "#sk-container-id-7 div.sk-label label {\n",
       "  font-family: monospace;\n",
       "  font-weight: bold;\n",
       "  display: inline-block;\n",
       "  line-height: 1.2em;\n",
       "}\n",
       "\n",
       "#sk-container-id-7 div.sk-label-container {\n",
       "  text-align: center;\n",
       "}\n",
       "\n",
       "/* Estimator-specific */\n",
       "#sk-container-id-7 div.sk-estimator {\n",
       "  font-family: monospace;\n",
       "  border: 1px dotted var(--sklearn-color-border-box);\n",
       "  border-radius: 0.25em;\n",
       "  box-sizing: border-box;\n",
       "  margin-bottom: 0.5em;\n",
       "  /* unfitted */\n",
       "  background-color: var(--sklearn-color-unfitted-level-0);\n",
       "}\n",
       "\n",
       "#sk-container-id-7 div.sk-estimator.fitted {\n",
       "  /* fitted */\n",
       "  background-color: var(--sklearn-color-fitted-level-0);\n",
       "}\n",
       "\n",
       "/* on hover */\n",
       "#sk-container-id-7 div.sk-estimator:hover {\n",
       "  /* unfitted */\n",
       "  background-color: var(--sklearn-color-unfitted-level-2);\n",
       "}\n",
       "\n",
       "#sk-container-id-7 div.sk-estimator.fitted:hover {\n",
       "  /* fitted */\n",
       "  background-color: var(--sklearn-color-fitted-level-2);\n",
       "}\n",
       "\n",
       "/* Specification for estimator info (e.g. \"i\" and \"?\") */\n",
       "\n",
       "/* Common style for \"i\" and \"?\" */\n",
       "\n",
       ".sk-estimator-doc-link,\n",
       "a:link.sk-estimator-doc-link,\n",
       "a:visited.sk-estimator-doc-link {\n",
       "  float: right;\n",
       "  font-size: smaller;\n",
       "  line-height: 1em;\n",
       "  font-family: monospace;\n",
       "  background-color: var(--sklearn-color-background);\n",
       "  border-radius: 1em;\n",
       "  height: 1em;\n",
       "  width: 1em;\n",
       "  text-decoration: none !important;\n",
       "  margin-left: 0.5em;\n",
       "  text-align: center;\n",
       "  /* unfitted */\n",
       "  border: var(--sklearn-color-unfitted-level-1) 1pt solid;\n",
       "  color: var(--sklearn-color-unfitted-level-1);\n",
       "}\n",
       "\n",
       ".sk-estimator-doc-link.fitted,\n",
       "a:link.sk-estimator-doc-link.fitted,\n",
       "a:visited.sk-estimator-doc-link.fitted {\n",
       "  /* fitted */\n",
       "  border: var(--sklearn-color-fitted-level-1) 1pt solid;\n",
       "  color: var(--sklearn-color-fitted-level-1);\n",
       "}\n",
       "\n",
       "/* On hover */\n",
       "div.sk-estimator:hover .sk-estimator-doc-link:hover,\n",
       ".sk-estimator-doc-link:hover,\n",
       "div.sk-label-container:hover .sk-estimator-doc-link:hover,\n",
       ".sk-estimator-doc-link:hover {\n",
       "  /* unfitted */\n",
       "  background-color: var(--sklearn-color-unfitted-level-3);\n",
       "  color: var(--sklearn-color-background);\n",
       "  text-decoration: none;\n",
       "}\n",
       "\n",
       "div.sk-estimator.fitted:hover .sk-estimator-doc-link.fitted:hover,\n",
       ".sk-estimator-doc-link.fitted:hover,\n",
       "div.sk-label-container:hover .sk-estimator-doc-link.fitted:hover,\n",
       ".sk-estimator-doc-link.fitted:hover {\n",
       "  /* fitted */\n",
       "  background-color: var(--sklearn-color-fitted-level-3);\n",
       "  color: var(--sklearn-color-background);\n",
       "  text-decoration: none;\n",
       "}\n",
       "\n",
       "/* Span, style for the box shown on hovering the info icon */\n",
       ".sk-estimator-doc-link span {\n",
       "  display: none;\n",
       "  z-index: 9999;\n",
       "  position: relative;\n",
       "  font-weight: normal;\n",
       "  right: .2ex;\n",
       "  padding: .5ex;\n",
       "  margin: .5ex;\n",
       "  width: min-content;\n",
       "  min-width: 20ex;\n",
       "  max-width: 50ex;\n",
       "  color: var(--sklearn-color-text);\n",
       "  box-shadow: 2pt 2pt 4pt #999;\n",
       "  /* unfitted */\n",
       "  background: var(--sklearn-color-unfitted-level-0);\n",
       "  border: .5pt solid var(--sklearn-color-unfitted-level-3);\n",
       "}\n",
       "\n",
       ".sk-estimator-doc-link.fitted span {\n",
       "  /* fitted */\n",
       "  background: var(--sklearn-color-fitted-level-0);\n",
       "  border: var(--sklearn-color-fitted-level-3);\n",
       "}\n",
       "\n",
       ".sk-estimator-doc-link:hover span {\n",
       "  display: block;\n",
       "}\n",
       "\n",
       "/* \"?\"-specific style due to the `<a>` HTML tag */\n",
       "\n",
       "#sk-container-id-7 a.estimator_doc_link {\n",
       "  float: right;\n",
       "  font-size: 1rem;\n",
       "  line-height: 1em;\n",
       "  font-family: monospace;\n",
       "  background-color: var(--sklearn-color-background);\n",
       "  border-radius: 1rem;\n",
       "  height: 1rem;\n",
       "  width: 1rem;\n",
       "  text-decoration: none;\n",
       "  /* unfitted */\n",
       "  color: var(--sklearn-color-unfitted-level-1);\n",
       "  border: var(--sklearn-color-unfitted-level-1) 1pt solid;\n",
       "}\n",
       "\n",
       "#sk-container-id-7 a.estimator_doc_link.fitted {\n",
       "  /* fitted */\n",
       "  border: var(--sklearn-color-fitted-level-1) 1pt solid;\n",
       "  color: var(--sklearn-color-fitted-level-1);\n",
       "}\n",
       "\n",
       "/* On hover */\n",
       "#sk-container-id-7 a.estimator_doc_link:hover {\n",
       "  /* unfitted */\n",
       "  background-color: var(--sklearn-color-unfitted-level-3);\n",
       "  color: var(--sklearn-color-background);\n",
       "  text-decoration: none;\n",
       "}\n",
       "\n",
       "#sk-container-id-7 a.estimator_doc_link.fitted:hover {\n",
       "  /* fitted */\n",
       "  background-color: var(--sklearn-color-fitted-level-3);\n",
       "}\n",
       "</style><div id=\"sk-container-id-7\" class=\"sk-top-container\"><div class=\"sk-text-repr-fallback\"><pre>LogisticRegression(C=1, penalty=&#x27;l1&#x27;, solver=&#x27;liblinear&#x27;)</pre><b>In a Jupyter environment, please rerun this cell to show the HTML representation or trust the notebook. <br />On GitHub, the HTML representation is unable to render, please try loading this page with nbviewer.org.</b></div><div class=\"sk-container\" hidden><div class=\"sk-item\"><div class=\"sk-estimator fitted sk-toggleable\"><input class=\"sk-toggleable__control sk-hidden--visually\" id=\"sk-estimator-id-9\" type=\"checkbox\" checked><label for=\"sk-estimator-id-9\" class=\"sk-toggleable__label fitted sk-toggleable__label-arrow\"><div><div>LogisticRegression</div></div><div><a class=\"sk-estimator-doc-link fitted\" rel=\"noreferrer\" target=\"_blank\" href=\"https://scikit-learn.org/1.6/modules/generated/sklearn.linear_model.LogisticRegression.html\">?<span>Documentation for LogisticRegression</span></a><span class=\"sk-estimator-doc-link fitted\">i<span>Fitted</span></span></div></label><div class=\"sk-toggleable__content fitted\"><pre>LogisticRegression(C=1, penalty=&#x27;l1&#x27;, solver=&#x27;liblinear&#x27;)</pre></div> </div></div></div></div>"
      ],
      "text/plain": [
       "LogisticRegression(C=1, penalty='l1', solver='liblinear')"
      ]
     },
     "execution_count": 420,
     "metadata": {},
     "output_type": "execute_result"
    }
   ],
   "source": [
    "lasso_regr.fit(train_set, y_train)"
   ]
  },
  {
   "cell_type": "code",
   "execution_count": 421,
   "metadata": {},
   "outputs": [
    {
     "name": "stdout",
     "output_type": "stream",
     "text": [
      "Optimal treshold:  0.31341542329195476\n"
     ]
    }
   ],
   "source": [
    "opt_tresh, y_pred_lasso = computePredictions(lasso_regr, test_set, y_test)\n",
    "print(\"Optimal treshold: \", opt_tresh)\n",
    "\n",
    "scores_df['LR_Lasso_OPT'] = [recall_score(y_true=y_test, y_pred=y_pred_lasso), precision_score(y_true=y_test, y_pred=y_pred_lasso),\n",
    "                    accuracy_score(y_true=y_test, y_pred=y_pred_lasso), f1_score(y_true=y_test, y_pred=y_pred_lasso), fbeta_score(y_true=y_test, y_pred=y_pred_lasso, beta=2)]"
   ]
  },
  {
   "cell_type": "code",
   "execution_count": 422,
   "metadata": {},
   "outputs": [
    {
     "data": {
      "text/html": [
       "<div>\n",
       "<style scoped>\n",
       "    .dataframe tbody tr th:only-of-type {\n",
       "        vertical-align: middle;\n",
       "    }\n",
       "\n",
       "    .dataframe tbody tr th {\n",
       "        vertical-align: top;\n",
       "    }\n",
       "\n",
       "    .dataframe thead th {\n",
       "        text-align: right;\n",
       "    }\n",
       "</style>\n",
       "<table border=\"1\" class=\"dataframe\">\n",
       "  <thead>\n",
       "    <tr style=\"text-align: right;\">\n",
       "      <th></th>\n",
       "      <th>LR</th>\n",
       "      <th>LR_OPT</th>\n",
       "      <th>LR_POL</th>\n",
       "      <th>LR_POL_OPT</th>\n",
       "      <th>LR_Ridge_OPT</th>\n",
       "      <th>LR_Lasso_OPT</th>\n",
       "      <th>PCR</th>\n",
       "      <th>LDA</th>\n",
       "      <th>QDA</th>\n",
       "      <th>KNN</th>\n",
       "      <th>MLP</th>\n",
       "      <th>GB</th>\n",
       "    </tr>\n",
       "  </thead>\n",
       "  <tbody>\n",
       "    <tr>\n",
       "      <th>recall_score</th>\n",
       "      <td>0.404199</td>\n",
       "      <td>0.955698</td>\n",
       "      <td>0.407284</td>\n",
       "      <td>0.957669</td>\n",
       "      <td>0.955356</td>\n",
       "      <td>0.955870</td>\n",
       "      <td>0.939983</td>\n",
       "      <td>0.954413</td>\n",
       "      <td>0.909683</td>\n",
       "      <td>0.476350</td>\n",
       "      <td>0.909683</td>\n",
       "      <td>0.995373</td>\n",
       "    </tr>\n",
       "    <tr>\n",
       "      <th>precision_score</th>\n",
       "      <td>0.638727</td>\n",
       "      <td>0.479184</td>\n",
       "      <td>0.641430</td>\n",
       "      <td>0.475130</td>\n",
       "      <td>0.479300</td>\n",
       "      <td>0.479064</td>\n",
       "      <td>0.481916</td>\n",
       "      <td>0.479631</td>\n",
       "      <td>0.491163</td>\n",
       "      <td>0.495897</td>\n",
       "      <td>0.497167</td>\n",
       "      <td>0.459930</td>\n",
       "    </tr>\n",
       "    <tr>\n",
       "      <th>accuracy</th>\n",
       "      <td>0.621831</td>\n",
       "      <td>0.503203</td>\n",
       "      <td>0.623678</td>\n",
       "      <td>0.495303</td>\n",
       "      <td>0.503439</td>\n",
       "      <td>0.502968</td>\n",
       "      <td>0.508510</td>\n",
       "      <td>0.504108</td>\n",
       "      <td>0.526276</td>\n",
       "      <td>0.485927</td>\n",
       "      <td>0.536536</td>\n",
       "      <td>0.461735</td>\n",
       "    </tr>\n",
       "    <tr>\n",
       "      <th>f1_score</th>\n",
       "      <td>0.495093</td>\n",
       "      <td>0.638317</td>\n",
       "      <td>0.498218</td>\n",
       "      <td>0.635144</td>\n",
       "      <td>0.638344</td>\n",
       "      <td>0.638249</td>\n",
       "      <td>0.637166</td>\n",
       "      <td>0.638427</td>\n",
       "      <td>0.637904</td>\n",
       "      <td>0.480135</td>\n",
       "      <td>0.642946</td>\n",
       "      <td>0.629150</td>\n",
       "    </tr>\n",
       "    <tr>\n",
       "      <th>fbeta_score</th>\n",
       "      <td>0.436234</td>\n",
       "      <td>0.797155</td>\n",
       "      <td>0.439360</td>\n",
       "      <td>0.795989</td>\n",
       "      <td>0.797029</td>\n",
       "      <td>0.797184</td>\n",
       "      <td>0.789833</td>\n",
       "      <td>0.780210</td>\n",
       "      <td>0.777228</td>\n",
       "      <td>0.537675</td>\n",
       "      <td>0.780210</td>\n",
       "      <td>0.807384</td>\n",
       "    </tr>\n",
       "  </tbody>\n",
       "</table>\n",
       "</div>"
      ],
      "text/plain": [
       "                       LR    LR_OPT    LR_POL  LR_POL_OPT  LR_Ridge_OPT  \\\n",
       "recall_score     0.404199  0.955698  0.407284    0.957669      0.955356   \n",
       "precision_score  0.638727  0.479184  0.641430    0.475130      0.479300   \n",
       "accuracy         0.621831  0.503203  0.623678    0.495303      0.503439   \n",
       "f1_score         0.495093  0.638317  0.498218    0.635144      0.638344   \n",
       "fbeta_score      0.436234  0.797155  0.439360    0.795989      0.797029   \n",
       "\n",
       "                 LR_Lasso_OPT       PCR       LDA       QDA       KNN  \\\n",
       "recall_score         0.955870  0.939983  0.954413  0.909683  0.476350   \n",
       "precision_score      0.479064  0.481916  0.479631  0.491163  0.495897   \n",
       "accuracy             0.502968  0.508510  0.504108  0.526276  0.485927   \n",
       "f1_score             0.638249  0.637166  0.638427  0.637904  0.480135   \n",
       "fbeta_score          0.797184  0.789833  0.780210  0.777228  0.537675   \n",
       "\n",
       "                      MLP        GB  \n",
       "recall_score     0.909683  0.995373  \n",
       "precision_score  0.497167  0.459930  \n",
       "accuracy         0.536536  0.461735  \n",
       "f1_score         0.642946  0.629150  \n",
       "fbeta_score      0.780210  0.807384  "
      ]
     },
     "execution_count": 422,
     "metadata": {},
     "output_type": "execute_result"
    }
   ],
   "source": [
    "scores_df"
   ]
  },
  {
   "cell_type": "markdown",
   "metadata": {},
   "source": [
    "Let's see how many variables were set to zero:"
   ]
  },
  {
   "cell_type": "code",
   "execution_count": null,
   "metadata": {},
   "outputs": [
    {
     "data": {
      "text/plain": [
       "(1, 74)"
      ]
     },
     "execution_count": 136,
     "metadata": {},
     "output_type": "execute_result"
    }
   ],
   "source": [
    "lasso_regr.coef_.shape"
   ]
  },
  {
   "cell_type": "markdown",
   "metadata": {},
   "source": [
    "None! With GridSearchCV we found out that the best penalty coefficient is 1, that is the one that maximize our $F_2$ score. Setting coefficients to 0 does not lead in an increase in $F_2$."
   ]
  },
  {
   "cell_type": "markdown",
   "metadata": {},
   "source": [
    "## Dimensionality reduction using PCA"
   ]
  },
  {
   "cell_type": "code",
   "execution_count": 137,
   "metadata": {},
   "outputs": [],
   "source": [
    "from sklearn.linear_model import LogisticRegression\n",
    "from sklearn.decomposition import PCA"
   ]
  },
  {
   "cell_type": "code",
   "execution_count": 138,
   "metadata": {},
   "outputs": [],
   "source": [
    "pca = PCA()\n",
    "components = pca.fit(X=view.drop(columns='readmitted'))"
   ]
  },
  {
   "cell_type": "markdown",
   "metadata": {},
   "source": [
    "### Choosing the right number of components"
   ]
  },
  {
   "cell_type": "code",
   "execution_count": 139,
   "metadata": {},
   "outputs": [
    {
     "data": {
      "image/png": "[encoded data removed]",
      "text/plain": [
       "<Figure size 1200x600 with 1 Axes>"
      ]
     },
     "metadata": {},
     "output_type": "display_data"
    }
   ],
   "source": [
    "plt.figure(figsize=(12, 6))\n",
    "plt.plot( components.explained_variance_ratio_)\n",
    "plt.plot(np.cumsum(components.explained_variance_ratio_))\n",
    "plt.xlabel(\"Number of principal components\")\n",
    "plt.xticks(ticks=range(0, 61, 10))\n",
    "plt.legend(['Variance Ratio', 'Cumulative Explaine Variance'])\n",
    "plt.grid()"
   ]
  },
  {
   "cell_type": "code",
   "execution_count": 142,
   "metadata": {},
   "outputs": [
    {
     "name": "stdout",
     "output_type": "stream",
     "text": [
      "[0.54278455 0.89248216 0.97814418 0.98694693 0.99043732 0.99289522\n",
      " 0.99487688 0.99590204 0.99661112 0.9970913 ]\n"
     ]
    }
   ],
   "source": [
    "print(np.cumsum(components.explained_variance_ratio_)[:10])"
   ]
  },
  {
   "cell_type": "markdown",
   "metadata": {},
   "source": [
    "The first 10 components almost explain all the variance (99,7%)"
   ]
  },
  {
   "cell_type": "code",
   "execution_count": 143,
   "metadata": {},
   "outputs": [],
   "source": [
    "pca = PCA(n_components=10)\n",
    "X = pca.fit_transform(view.drop(columns='readmitted'))"
   ]
  },
  {
   "cell_type": "markdown",
   "metadata": {},
   "source": [
    "## Principal Component Logit Regression"
   ]
  },
  {
   "cell_type": "markdown",
   "metadata": {},
   "source": [
    "Let's split our new data in train set and test set."
   ]
  },
  {
   "cell_type": "code",
   "execution_count": null,
   "metadata": {},
   "outputs": [],
   "source": [
    "train_set_pca, test_set_pca, y_train_pca, y_test_pca = train_test_split(X, view['readmitted'], test_size=0.25)  "
   ]
  },
  {
   "cell_type": "markdown",
   "metadata": {},
   "source": [
    "Let's fit a logit regressor as before:"
   ]
  },
  {
   "cell_type": "code",
   "execution_count": null,
   "metadata": {},
   "outputs": [],
   "source": [
    "pcr = LogisticRegression(penalty=None, max_iter=10000).fit(train_set_pca, y_train_pca)"
   ]
  },
  {
   "cell_type": "markdown",
   "metadata": {},
   "source": [
    "Let's compute the best treshold and our scores:"
   ]
  },
  {
   "cell_type": "code",
   "execution_count": null,
   "metadata": {},
   "outputs": [
    {
     "name": "stdout",
     "output_type": "stream",
     "text": [
      "[0.39307463 0.36225846 0.40245452 ... 0.59063498 0.36774196 0.56864708]\n",
      "Optimal treshold for PCR:  0.34890714049505817\n"
     ]
    }
   ],
   "source": [
    "tresh, y_pred_pcr = computePredictions(pcr, test_set, y_train)\n",
    "\n",
    "print(\"Optimal treshold for PCR: \", tresh)"
   ]
  },
  {
   "cell_type": "code",
   "execution_count": 208,
   "metadata": {},
   "outputs": [],
   "source": [
    "scores_df['PCR'] = [recall_score(y_true=y_test_pca, y_pred=y_pred_pcr), precision_score(y_true=y_test_pca, y_pred=y_pred_pcr),\n",
    "                    accuracy_score(y_true=y_test_pca, y_pred=y_pred_pcr), f1_score(y_true=y_test_pca, y_pred=y_pred_pcr), fbeta_score(y_true=y_test_pca, y_pred=y_pred_pcr, beta=2)]"
   ]
  },
  {
   "cell_type": "code",
   "execution_count": 209,
   "metadata": {},
   "outputs": [
    {
     "data": {
      "text/html": [
       "<div>\n",
       "<style scoped>\n",
       "    .dataframe tbody tr th:only-of-type {\n",
       "        vertical-align: middle;\n",
       "    }\n",
       "\n",
       "    .dataframe tbody tr th {\n",
       "        vertical-align: top;\n",
       "    }\n",
       "\n",
       "    .dataframe thead th {\n",
       "        text-align: right;\n",
       "    }\n",
       "</style>\n",
       "<table border=\"1\" class=\"dataframe\">\n",
       "  <thead>\n",
       "    <tr style=\"text-align: right;\">\n",
       "      <th></th>\n",
       "      <th>LR</th>\n",
       "      <th>LR_OPT</th>\n",
       "      <th>LR_POL</th>\n",
       "      <th>LR_POL_OPT</th>\n",
       "      <th>LR_Ridge_OPT</th>\n",
       "      <th>LR_Lasso_OPT</th>\n",
       "      <th>PCR</th>\n",
       "    </tr>\n",
       "  </thead>\n",
       "  <tbody>\n",
       "    <tr>\n",
       "      <th>recall_score</th>\n",
       "      <td>0.404199</td>\n",
       "      <td>0.955698</td>\n",
       "      <td>0.407284</td>\n",
       "      <td>0.957069</td>\n",
       "      <td>0.955356</td>\n",
       "      <td>0.956213</td>\n",
       "      <td>0.939983</td>\n",
       "    </tr>\n",
       "    <tr>\n",
       "      <th>precision_score</th>\n",
       "      <td>0.638727</td>\n",
       "      <td>0.479184</td>\n",
       "      <td>0.641430</td>\n",
       "      <td>0.475155</td>\n",
       "      <td>0.479300</td>\n",
       "      <td>0.479050</td>\n",
       "      <td>0.481916</td>\n",
       "    </tr>\n",
       "    <tr>\n",
       "      <th>accuracy</th>\n",
       "      <td>0.621831</td>\n",
       "      <td>0.503203</td>\n",
       "      <td>0.623678</td>\n",
       "      <td>0.495381</td>\n",
       "      <td>0.503439</td>\n",
       "      <td>0.502928</td>\n",
       "      <td>0.508510</td>\n",
       "    </tr>\n",
       "    <tr>\n",
       "      <th>f1_score</th>\n",
       "      <td>0.495093</td>\n",
       "      <td>0.638317</td>\n",
       "      <td>0.498218</td>\n",
       "      <td>0.635035</td>\n",
       "      <td>0.638344</td>\n",
       "      <td>0.638314</td>\n",
       "      <td>0.637166</td>\n",
       "    </tr>\n",
       "    <tr>\n",
       "      <th>fbeta_score</th>\n",
       "      <td>0.436234</td>\n",
       "      <td>0.797155</td>\n",
       "      <td>0.439360</td>\n",
       "      <td>0.795672</td>\n",
       "      <td>0.797029</td>\n",
       "      <td>0.797368</td>\n",
       "      <td>0.789833</td>\n",
       "    </tr>\n",
       "  </tbody>\n",
       "</table>\n",
       "</div>"
      ],
      "text/plain": [
       "                       LR    LR_OPT    LR_POL  LR_POL_OPT  LR_Ridge_OPT  \\\n",
       "recall_score     0.404199  0.955698  0.407284    0.957069      0.955356   \n",
       "precision_score  0.638727  0.479184  0.641430    0.475155      0.479300   \n",
       "accuracy         0.621831  0.503203  0.623678    0.495381      0.503439   \n",
       "f1_score         0.495093  0.638317  0.498218    0.635035      0.638344   \n",
       "fbeta_score      0.436234  0.797155  0.439360    0.795672      0.797029   \n",
       "\n",
       "                 LR_Lasso_OPT       PCR  \n",
       "recall_score         0.956213  0.939983  \n",
       "precision_score      0.479050  0.481916  \n",
       "accuracy             0.502928  0.508510  \n",
       "f1_score             0.638314  0.637166  \n",
       "fbeta_score          0.797368  0.789833  "
      ]
     },
     "execution_count": 209,
     "metadata": {},
     "output_type": "execute_result"
    }
   ],
   "source": [
    "scores_df"
   ]
  },
  {
   "cell_type": "markdown",
   "metadata": {},
   "source": [
    "## Comparison of regression models"
   ]
  },
  {
   "cell_type": "markdown",
   "metadata": {},
   "source": [
    "Let's plot our scores for each regressor and see which one performs better."
   ]
  },
  {
   "cell_type": "code",
   "execution_count": 424,
   "metadata": {},
   "outputs": [
    {
     "data": {
      "text/plain": [
       "Text(0.5, 1.0, 'Logit Regressors comparison')"
      ]
     },
     "execution_count": 424,
     "metadata": {},
     "output_type": "execute_result"
    },
    {
     "data": {
      "image/png": "[encoded data removed]",
      "text/plain": [
       "<Figure size 1200x600 with 1 Axes>"
      ]
     },
     "metadata": {},
     "output_type": "display_data"
    }
   ],
   "source": [
    "scores_view = scores_df.drop(columns=['LR', 'LR_POL', 'QDA', 'LDA', 'GB', 'MLP', 'KNN'], index='f1_score')\n",
    "\n",
    "scores_view = scores_view.plot.barh(figsize=(12, 6), width=0.8, cmap='Paired')\n",
    "plt.title(\"Logit Regressors comparison\")"
   ]
  },
  {
   "cell_type": "markdown",
   "metadata": {},
   "source": [
    "From the plot above we see that:\n",
    "- the model with the highest $F_2$ score is the lasso logit regressor;\n",
    "- the model with the highest accuracy and precision is the principal component regressor;\n",
    "- the model with the highest recall is the polynomial logit regressor (degree 2)\n",
    "\n",
    "We want to maximize $F_2$, so we can say that the better model in this context is the **lasso logit regressor**.\n",
    "However all regressors have a similar behaviour: let's see AUCs for each one."
   ]
  },
  {
   "cell_type": "code",
   "execution_count": 430,
   "metadata": {},
   "outputs": [
    {
     "data": {
      "text/plain": [
       "(np.int64(2), np.float64(0.6596377756194061))"
      ]
     },
     "execution_count": 430,
     "metadata": {},
     "output_type": "execute_result"
    }
   ],
   "source": [
    "lr_auc = roc_auc_score(y_true=y_test, y_score=log_regr.predict_proba(test_set)[:, 1])\n",
    "pol_auc= roc_auc_score(y_true=y_test, y_score=pol_regr.predict_proba(test_set)[:, 1])\n",
    "ridge_auc = roc_auc_score(y_true=y_test, y_score=ridge_regr.predict_proba(test_set)[:, 1])\n",
    "lasso_auc = roc_auc_score(y_true=y_test, y_score=lasso_regr.predict_proba(test_set)[:, 1])\n",
    "pcr_auc = roc_auc_score(y_true=y_test, y_score=pcr.predict_proba(test_set_pca)[:, 1])\n",
    "\n",
    "aucs = [lr_auc, pol_auc,lasso_auc, ridge_auc, pcr_auc]\n",
    "np.argmax(aucs), np.max(aucs)"
   ]
  },
  {
   "cell_type": "markdown",
   "metadata": {},
   "source": [
    "The regressor with the highest AUC is the Lasso regressor with the following final metrics:"
   ]
  },
  {
   "cell_type": "code",
   "execution_count": 429,
   "metadata": {},
   "outputs": [
    {
     "data": {
      "text/plain": [
       "recall_score       0.955870\n",
       "precision_score    0.479064\n",
       "accuracy           0.502968\n",
       "f1_score           0.638249\n",
       "fbeta_score        0.797184\n",
       "Name: LR_Lasso_OPT, dtype: float64"
      ]
     },
     "execution_count": 429,
     "metadata": {},
     "output_type": "execute_result"
    }
   ],
   "source": [
    "scores_df['LR_Lasso_OPT']"
   ]
  },
  {
   "cell_type": "code",
   "execution_count": 345,
   "metadata": {},
   "outputs": [
    {
     "data": {
      "text/plain": [
       "np.float64(0.7973675936776518)"
      ]
     },
     "execution_count": 345,
     "metadata": {},
     "output_type": "execute_result"
    }
   ],
   "source": [
    "scores_df.loc[\"fbeta_score\", \"LR_Lasso_OPT\"]"
   ]
  },
  {
   "cell_type": "code",
   "execution_count": null,
   "metadata": {},
   "outputs": [],
   "source": [
    "print(\"AUC: \"; lasso_auc)\n",
    "\n",
    "print(\"F2 Score: \", scores_df.loc[\"fbeta_score\", \"LR_Lasso_OPT\"])"
   ]
  },
  {
   "cell_type": "markdown",
   "metadata": {},
   "source": [
    "Let's train some more classifiers to see if we can do better."
   ]
  },
  {
   "cell_type": "markdown",
   "metadata": {},
   "source": [
    "## Linear Discriminant Analysis\n"
   ]
  },
  {
   "cell_type": "code",
   "execution_count": 389,
   "metadata": {},
   "outputs": [],
   "source": [
    "from sklearn.discriminant_analysis import LinearDiscriminantAnalysis as LDA\n",
    "\n",
    "lda = LDA()\n",
    "lda = lda.fit(train_set, y_train)"
   ]
  },
  {
   "cell_type": "markdown",
   "metadata": {},
   "source": [
    "Let's compute the best treshold"
   ]
  },
  {
   "cell_type": "code",
   "execution_count": 390,
   "metadata": {},
   "outputs": [
    {
     "name": "stdout",
     "output_type": "stream",
     "text": [
      "Optimal treshold:  2.666206798586177e-19\n"
     ]
    }
   ],
   "source": [
    "tresh, y_pred_lda = computePredictions(lda, test_set, y_test)\n",
    "\n",
    "print(\"Optimal treshold: \", opt_tresh)"
   ]
  },
  {
   "cell_type": "code",
   "execution_count": 431,
   "metadata": {},
   "outputs": [],
   "source": [
    "scores_df['LDA'] = [recall_score(y_true=y_test, y_pred=y_pred_lda), precision_score(y_true=y_test, y_pred=y_pred_lda),\n",
    "                    accuracy_score(y_true=y_test, y_pred=y_pred_lda), f1_score(y_true=y_test, y_pred=y_pred_lda), fbeta_score(y_true=y_test, y_pred=y_pred_lda, beta=2)]"
   ]
  },
  {
   "cell_type": "code",
   "execution_count": 432,
   "metadata": {},
   "outputs": [
    {
     "data": {
      "text/plain": [
       "np.float64(0.31341542329195476)"
      ]
     },
     "execution_count": 432,
     "metadata": {},
     "output_type": "execute_result"
    }
   ],
   "source": [
    "opt_tresh"
   ]
  },
  {
   "cell_type": "code",
   "execution_count": 433,
   "metadata": {},
   "outputs": [
    {
     "data": {
      "text/plain": [
       "recall_score       0.954413\n",
       "precision_score    0.479631\n",
       "accuracy           0.504108\n",
       "f1_score           0.638427\n",
       "fbeta_score        0.796687\n",
       "Name: LDA, dtype: float64"
      ]
     },
     "execution_count": 433,
     "metadata": {},
     "output_type": "execute_result"
    }
   ],
   "source": [
    "scores_df['LDA']"
   ]
  },
  {
   "cell_type": "code",
   "execution_count": 394,
   "metadata": {},
   "outputs": [
    {
     "data": {
      "image/png": "[encoded data removed]",
      "text/plain": [
       "<Figure size 800x600 with 1 Axes>"
      ]
     },
     "metadata": {},
     "output_type": "display_data"
    },
    {
     "name": "stdout",
     "output_type": "stream",
     "text": [
      "AUC:  0.6562758773591063\n"
     ]
    },
    {
     "data": {
      "text/plain": [
       "(array([0.        , 0.        , 0.        , ..., 0.99891075, 0.99891075,\n",
       "        1.        ]),\n",
       " array([0.00000000e+00, 8.56898029e-05, 1.02827763e-03, ...,\n",
       "        9.99914310e-01, 1.00000000e+00, 1.00000000e+00]),\n",
       " array([       inf, 0.99904405, 0.9821176 , ..., 0.20638172, 0.20559897,\n",
       "        0.0877322 ]))"
      ]
     },
     "execution_count": 394,
     "metadata": {},
     "output_type": "execute_result"
    }
   ],
   "source": [
    "plot_roc_curves(y_test, lda.predict_proba(test_set))"
   ]
  },
  {
   "cell_type": "markdown",
   "metadata": {},
   "source": [
    "This curve is very similar to the logit regressor one."
   ]
  },
  {
   "cell_type": "code",
   "execution_count": 396,
   "metadata": {},
   "outputs": [
    {
     "data": {
      "text/plain": [
       "<sklearn.metrics._plot.confusion_matrix.ConfusionMatrixDisplay at 0x1aef61ce3c0>"
      ]
     },
     "execution_count": 396,
     "metadata": {},
     "output_type": "execute_result"
    },
    {
     "data": {
      "image/png": "[encoded data removed]",
      "text/plain": [
       "<Figure size 640x480 with 2 Axes>"
      ]
     },
     "metadata": {},
     "output_type": "display_data"
    }
   ],
   "source": [
    "ConfusionMatrixDisplay(confusion_matrix(y_test, y_pred_lda)).plot()"
   ]
  },
  {
   "cell_type": "markdown",
   "metadata": {},
   "source": [
    "Using PCA:"
   ]
  },
  {
   "cell_type": "code",
   "execution_count": 442,
   "metadata": {},
   "outputs": [
    {
     "name": "stdout",
     "output_type": "stream",
     "text": [
      "Optimal treshold:  0.3536382391669075\n"
     ]
    }
   ],
   "source": [
    "lda_pca = LDA()\n",
    "lda_pca = lda_pca.fit(train_set_pca, y_train_pca)\n",
    "opt_tresh, y_pred_lda_pca = computePredictions(lda, test_set_pca, y_test_pca)\n",
    "\n",
    "print(\"Optimal treshold: \", opt_tresh)\n",
    "scores_df['LDA_PCA'] = [recall_score(y_true=y_test, y_pred=y_pred_lda_pca), precision_score(y_true=y_test, y_pred=y_pred_lda_pca),\n",
    "                    accuracy_score(y_true=y_test, y_pred=y_pred_lda_pca), f1_score(y_true=y_test, y_pred=y_pred_lda_pca), fbeta_score(y_true=y_test, y_pred=y_pred_lda_pca, beta=2)]"
   ]
  },
  {
   "cell_type": "code",
   "execution_count": 443,
   "metadata": {},
   "outputs": [
    {
     "data": {
      "text/plain": [
       "recall_score       0.897001\n",
       "precision_score    0.459526\n",
       "accuracy           0.468810\n",
       "f1_score           0.607721\n",
       "fbeta_score        0.753527\n",
       "Name: LDA_PCA, dtype: float64"
      ]
     },
     "execution_count": 443,
     "metadata": {},
     "output_type": "execute_result"
    }
   ],
   "source": [
    "scores_df['LDA_PCA']"
   ]
  },
  {
   "cell_type": "markdown",
   "metadata": {},
   "source": [
    "## Quadratic Discriminant Analysis"
   ]
  },
  {
   "cell_type": "code",
   "execution_count": 261,
   "metadata": {},
   "outputs": [],
   "source": [
    "from sklearn.discriminant_analysis import QuadraticDiscriminantAnalysis as QDA"
   ]
  },
  {
   "cell_type": "code",
   "execution_count": 398,
   "metadata": {},
   "outputs": [
    {
     "name": "stdout",
     "output_type": "stream",
     "text": [
      "Optimal treshold:  2.666206798586177e-19\n"
     ]
    }
   ],
   "source": [
    "qda = QDA(reg_param=0.3)\n",
    "qua = qda.fit(train_set, y_train)\n",
    "\n",
    "tresh, y_pred= computePredictions(qda, test_set, y_test)\n",
    "print(\"Optimal treshold: \", opt_tresh)"
   ]
  },
  {
   "cell_type": "code",
   "execution_count": 399,
   "metadata": {},
   "outputs": [],
   "source": [
    "scores_df['QDA'] = [recall_score(y_true=y_test, y_pred=y_pred), precision_score(y_true=y_test, y_pred=y_pred),\n",
    "                    accuracy_score(y_true=y_test, y_pred=y_pred), f1_score(y_true=y_test, y_pred=y_pred), fbeta_score(y_true=y_test, y_pred=y_pred, beta=2)]"
   ]
  },
  {
   "cell_type": "code",
   "execution_count": 400,
   "metadata": {},
   "outputs": [
    {
     "data": {
      "text/plain": [
       "recall_score       0.909683\n",
       "precision_score    0.491163\n",
       "accuracy           0.526276\n",
       "f1_score           0.637904\n",
       "fbeta_score        0.777228\n",
       "Name: QDA, dtype: float64"
      ]
     },
     "execution_count": 400,
     "metadata": {},
     "output_type": "execute_result"
    }
   ],
   "source": [
    "scores_df['QDA']"
   ]
  },
  {
   "cell_type": "markdown",
   "metadata": {},
   "source": [
    "Using PCA:"
   ]
  },
  {
   "cell_type": "code",
   "execution_count": 445,
   "metadata": {},
   "outputs": [
    {
     "name": "stdout",
     "output_type": "stream",
     "text": [
      "Optimal treshold:  0.08316528178535751\n"
     ]
    }
   ],
   "source": [
    "qda_pca = QDA()\n",
    "qda_pca = qda_pca.fit(train_set_pca, y_train_pca)\n",
    "opt_tresh, y_pred_qda_pca = computePredictions(qda_pca, test_set_pca, y_test_pca)\n",
    "\n",
    "print(\"Optimal treshold: \", opt_tresh)\n",
    "scores_df['qda_PCA'] = [recall_score(y_true=y_test, y_pred=y_pred_qda_pca), precision_score(y_true=y_test, y_pred=y_pred_qda_pca),\n",
    "                    accuracy_score(y_true=y_test, y_pred=y_pred_qda_pca), f1_score(y_true=y_test, y_pred=y_pred_qda_pca), fbeta_score(y_true=y_test, y_pred=y_pred_qda_pca, beta=2)]"
   ]
  },
  {
   "cell_type": "code",
   "execution_count": 446,
   "metadata": {},
   "outputs": [
    {
     "data": {
      "text/plain": [
       "recall_score       0.897172\n",
       "precision_score    0.458728\n",
       "accuracy           0.467238\n",
       "f1_score           0.607062\n",
       "fbeta_score        0.753194\n",
       "Name: qda_PCA, dtype: float64"
      ]
     },
     "execution_count": 446,
     "metadata": {},
     "output_type": "execute_result"
    }
   ],
   "source": [
    "scores_df['qda_PCA']"
   ]
  },
  {
   "cell_type": "markdown",
   "metadata": {},
   "source": [
    "## K-Nearest Neighbor classification"
   ]
  },
  {
   "cell_type": "code",
   "execution_count": 265,
   "metadata": {},
   "outputs": [],
   "source": [
    "from sklearn.neighbors import KNeighborsClassifier as KNN\n",
    "from sklearn.model_selection import GridSearchCV\n",
    "from sklearn.metrics import make_scorer"
   ]
  },
  {
   "cell_type": "markdown",
   "metadata": {},
   "source": [
    "Let's use GridSearchCV to find the best K:"
   ]
  },
  {
   "cell_type": "code",
   "execution_count": null,
   "metadata": {},
   "outputs": [
    {
     "data": {
      "text/html": [
       "<style>#sk-container-id-1 {\n",
       "  /* Definition of color scheme common for light and dark mode */\n",
       "  --sklearn-color-text: #000;\n",
       "  --sklearn-color-text-muted: #666;\n",
       "  --sklearn-color-line: gray;\n",
       "  /* Definition of color scheme for unfitted estimators */\n",
       "  --sklearn-color-unfitted-level-0: #fff5e6;\n",
       "  --sklearn-color-unfitted-level-1: #f6e4d2;\n",
       "  --sklearn-color-unfitted-level-2: #ffe0b3;\n",
       "  --sklearn-color-unfitted-level-3: chocolate;\n",
       "  /* Definition of color scheme for fitted estimators */\n",
       "  --sklearn-color-fitted-level-0: #f0f8ff;\n",
       "  --sklearn-color-fitted-level-1: #d4ebff;\n",
       "  --sklearn-color-fitted-level-2: #b3dbfd;\n",
       "  --sklearn-color-fitted-level-3: cornflowerblue;\n",
       "\n",
       "  /* Specific color for light theme */\n",
       "  --sklearn-color-text-on-default-background: var(--sg-text-color, var(--theme-code-foreground, var(--jp-content-font-color1, black)));\n",
       "  --sklearn-color-background: var(--sg-background-color, var(--theme-background, var(--jp-layout-color0, white)));\n",
       "  --sklearn-color-border-box: var(--sg-text-color, var(--theme-code-foreground, var(--jp-content-font-color1, black)));\n",
       "  --sklearn-color-icon: #696969;\n",
       "\n",
       "  @media (prefers-color-scheme: dark) {\n",
       "    /* Redefinition of color scheme for dark theme */\n",
       "    --sklearn-color-text-on-default-background: var(--sg-text-color, var(--theme-code-foreground, var(--jp-content-font-color1, white)));\n",
       "    --sklearn-color-background: var(--sg-background-color, var(--theme-background, var(--jp-layout-color0, #111)));\n",
       "    --sklearn-color-border-box: var(--sg-text-color, var(--theme-code-foreground, var(--jp-content-font-color1, white)));\n",
       "    --sklearn-color-icon: #878787;\n",
       "  }\n",
       "}\n",
       "\n",
       "#sk-container-id-1 {\n",
       "  color: var(--sklearn-color-text);\n",
       "}\n",
       "\n",
       "#sk-container-id-1 pre {\n",
       "  padding: 0;\n",
       "}\n",
       "\n",
       "#sk-container-id-1 input.sk-hidden--visually {\n",
       "  border: 0;\n",
       "  clip: rect(1px 1px 1px 1px);\n",
       "  clip: rect(1px, 1px, 1px, 1px);\n",
       "  height: 1px;\n",
       "  margin: -1px;\n",
       "  overflow: hidden;\n",
       "  padding: 0;\n",
       "  position: absolute;\n",
       "  width: 1px;\n",
       "}\n",
       "\n",
       "#sk-container-id-1 div.sk-dashed-wrapped {\n",
       "  border: 1px dashed var(--sklearn-color-line);\n",
       "  margin: 0 0.4em 0.5em 0.4em;\n",
       "  box-sizing: border-box;\n",
       "  padding-bottom: 0.4em;\n",
       "  background-color: var(--sklearn-color-background);\n",
       "}\n",
       "\n",
       "#sk-container-id-1 div.sk-container {\n",
       "  /* jupyter's `normalize.less` sets `[hidden] { display: none; }`\n",
       "     but bootstrap.min.css set `[hidden] { display: none !important; }`\n",
       "     so we also need the `!important` here to be able to override the\n",
       "     default hidden behavior on the sphinx rendered scikit-learn.org.\n",
       "     See: https://github.com/scikit-learn/scikit-learn/issues/21755 */\n",
       "  display: inline-block !important;\n",
       "  position: relative;\n",
       "}\n",
       "\n",
       "#sk-container-id-1 div.sk-text-repr-fallback {\n",
       "  display: none;\n",
       "}\n",
       "\n",
       "div.sk-parallel-item,\n",
       "div.sk-serial,\n",
       "div.sk-item {\n",
       "  /* draw centered vertical line to link estimators */\n",
       "  background-image: linear-gradient(var(--sklearn-color-text-on-default-background), var(--sklearn-color-text-on-default-background));\n",
       "  background-size: 2px 100%;\n",
       "  background-repeat: no-repeat;\n",
       "  background-position: center center;\n",
       "}\n",
       "\n",
       "/* Parallel-specific style estimator block */\n",
       "\n",
       "#sk-container-id-1 div.sk-parallel-item::after {\n",
       "  content: \"\";\n",
       "  width: 100%;\n",
       "  border-bottom: 2px solid var(--sklearn-color-text-on-default-background);\n",
       "  flex-grow: 1;\n",
       "}\n",
       "\n",
       "#sk-container-id-1 div.sk-parallel {\n",
       "  display: flex;\n",
       "  align-items: stretch;\n",
       "  justify-content: center;\n",
       "  background-color: var(--sklearn-color-background);\n",
       "  position: relative;\n",
       "}\n",
       "\n",
       "#sk-container-id-1 div.sk-parallel-item {\n",
       "  display: flex;\n",
       "  flex-direction: column;\n",
       "}\n",
       "\n",
       "#sk-container-id-1 div.sk-parallel-item:first-child::after {\n",
       "  align-self: flex-end;\n",
       "  width: 50%;\n",
       "}\n",
       "\n",
       "#sk-container-id-1 div.sk-parallel-item:last-child::after {\n",
       "  align-self: flex-start;\n",
       "  width: 50%;\n",
       "}\n",
       "\n",
       "#sk-container-id-1 div.sk-parallel-item:only-child::after {\n",
       "  width: 0;\n",
       "}\n",
       "\n",
       "/* Serial-specific style estimator block */\n",
       "\n",
       "#sk-container-id-1 div.sk-serial {\n",
       "  display: flex;\n",
       "  flex-direction: column;\n",
       "  align-items: center;\n",
       "  background-color: var(--sklearn-color-background);\n",
       "  padding-right: 1em;\n",
       "  padding-left: 1em;\n",
       "}\n",
       "\n",
       "\n",
       "/* Toggleable style: style used for estimator/Pipeline/ColumnTransformer box that is\n",
       "clickable and can be expanded/collapsed.\n",
       "- Pipeline and ColumnTransformer use this feature and define the default style\n",
       "- Estimators will overwrite some part of the style using the `sk-estimator` class\n",
       "*/\n",
       "\n",
       "/* Pipeline and ColumnTransformer style (default) */\n",
       "\n",
       "#sk-container-id-1 div.sk-toggleable {\n",
       "  /* Default theme specific background. It is overwritten whether we have a\n",
       "  specific estimator or a Pipeline/ColumnTransformer */\n",
       "  background-color: var(--sklearn-color-background);\n",
       "}\n",
       "\n",
       "/* Toggleable label */\n",
       "#sk-container-id-1 label.sk-toggleable__label {\n",
       "  cursor: pointer;\n",
       "  display: flex;\n",
       "  width: 100%;\n",
       "  margin-bottom: 0;\n",
       "  padding: 0.5em;\n",
       "  box-sizing: border-box;\n",
       "  text-align: center;\n",
       "  align-items: start;\n",
       "  justify-content: space-between;\n",
       "  gap: 0.5em;\n",
       "}\n",
       "\n",
       "#sk-container-id-1 label.sk-toggleable__label .caption {\n",
       "  font-size: 0.6rem;\n",
       "  font-weight: lighter;\n",
       "  color: var(--sklearn-color-text-muted);\n",
       "}\n",
       "\n",
       "#sk-container-id-1 label.sk-toggleable__label-arrow:before {\n",
       "  /* Arrow on the left of the label */\n",
       "  content: \"▸\";\n",
       "  float: left;\n",
       "  margin-right: 0.25em;\n",
       "  color: var(--sklearn-color-icon);\n",
       "}\n",
       "\n",
       "#sk-container-id-1 label.sk-toggleable__label-arrow:hover:before {\n",
       "  color: var(--sklearn-color-text);\n",
       "}\n",
       "\n",
       "/* Toggleable content - dropdown */\n",
       "\n",
       "#sk-container-id-1 div.sk-toggleable__content {\n",
       "  max-height: 0;\n",
       "  max-width: 0;\n",
       "  overflow: hidden;\n",
       "  text-align: left;\n",
       "  /* unfitted */\n",
       "  background-color: var(--sklearn-color-unfitted-level-0);\n",
       "}\n",
       "\n",
       "#sk-container-id-1 div.sk-toggleable__content.fitted {\n",
       "  /* fitted */\n",
       "  background-color: var(--sklearn-color-fitted-level-0);\n",
       "}\n",
       "\n",
       "#sk-container-id-1 div.sk-toggleable__content pre {\n",
       "  margin: 0.2em;\n",
       "  border-radius: 0.25em;\n",
       "  color: var(--sklearn-color-text);\n",
       "  /* unfitted */\n",
       "  background-color: var(--sklearn-color-unfitted-level-0);\n",
       "}\n",
       "\n",
       "#sk-container-id-1 div.sk-toggleable__content.fitted pre {\n",
       "  /* unfitted */\n",
       "  background-color: var(--sklearn-color-fitted-level-0);\n",
       "}\n",
       "\n",
       "#sk-container-id-1 input.sk-toggleable__control:checked~div.sk-toggleable__content {\n",
       "  /* Expand drop-down */\n",
       "  max-height: 200px;\n",
       "  max-width: 100%;\n",
       "  overflow: auto;\n",
       "}\n",
       "\n",
       "#sk-container-id-1 input.sk-toggleable__control:checked~label.sk-toggleable__label-arrow:before {\n",
       "  content: \"▾\";\n",
       "}\n",
       "\n",
       "/* Pipeline/ColumnTransformer-specific style */\n",
       "\n",
       "#sk-container-id-1 div.sk-label input.sk-toggleable__control:checked~label.sk-toggleable__label {\n",
       "  color: var(--sklearn-color-text);\n",
       "  background-color: var(--sklearn-color-unfitted-level-2);\n",
       "}\n",
       "\n",
       "#sk-container-id-1 div.sk-label.fitted input.sk-toggleable__control:checked~label.sk-toggleable__label {\n",
       "  background-color: var(--sklearn-color-fitted-level-2);\n",
       "}\n",
       "\n",
       "/* Estimator-specific style */\n",
       "\n",
       "/* Colorize estimator box */\n",
       "#sk-container-id-1 div.sk-estimator input.sk-toggleable__control:checked~label.sk-toggleable__label {\n",
       "  /* unfitted */\n",
       "  background-color: var(--sklearn-color-unfitted-level-2);\n",
       "}\n",
       "\n",
       "#sk-container-id-1 div.sk-estimator.fitted input.sk-toggleable__control:checked~label.sk-toggleable__label {\n",
       "  /* fitted */\n",
       "  background-color: var(--sklearn-color-fitted-level-2);\n",
       "}\n",
       "\n",
       "#sk-container-id-1 div.sk-label label.sk-toggleable__label,\n",
       "#sk-container-id-1 div.sk-label label {\n",
       "  /* The background is the default theme color */\n",
       "  color: var(--sklearn-color-text-on-default-background);\n",
       "}\n",
       "\n",
       "/* On hover, darken the color of the background */\n",
       "#sk-container-id-1 div.sk-label:hover label.sk-toggleable__label {\n",
       "  color: var(--sklearn-color-text);\n",
       "  background-color: var(--sklearn-color-unfitted-level-2);\n",
       "}\n",
       "\n",
       "/* Label box, darken color on hover, fitted */\n",
       "#sk-container-id-1 div.sk-label.fitted:hover label.sk-toggleable__label.fitted {\n",
       "  color: var(--sklearn-color-text);\n",
       "  background-color: var(--sklearn-color-fitted-level-2);\n",
       "}\n",
       "\n",
       "/* Estimator label */\n",
       "\n",
       "#sk-container-id-1 div.sk-label label {\n",
       "  font-family: monospace;\n",
       "  font-weight: bold;\n",
       "  display: inline-block;\n",
       "  line-height: 1.2em;\n",
       "}\n",
       "\n",
       "#sk-container-id-1 div.sk-label-container {\n",
       "  text-align: center;\n",
       "}\n",
       "\n",
       "/* Estimator-specific */\n",
       "#sk-container-id-1 div.sk-estimator {\n",
       "  font-family: monospace;\n",
       "  border: 1px dotted var(--sklearn-color-border-box);\n",
       "  border-radius: 0.25em;\n",
       "  box-sizing: border-box;\n",
       "  margin-bottom: 0.5em;\n",
       "  /* unfitted */\n",
       "  background-color: var(--sklearn-color-unfitted-level-0);\n",
       "}\n",
       "\n",
       "#sk-container-id-1 div.sk-estimator.fitted {\n",
       "  /* fitted */\n",
       "  background-color: var(--sklearn-color-fitted-level-0);\n",
       "}\n",
       "\n",
       "/* on hover */\n",
       "#sk-container-id-1 div.sk-estimator:hover {\n",
       "  /* unfitted */\n",
       "  background-color: var(--sklearn-color-unfitted-level-2);\n",
       "}\n",
       "\n",
       "#sk-container-id-1 div.sk-estimator.fitted:hover {\n",
       "  /* fitted */\n",
       "  background-color: var(--sklearn-color-fitted-level-2);\n",
       "}\n",
       "\n",
       "/* Specification for estimator info (e.g. \"i\" and \"?\") */\n",
       "\n",
       "/* Common style for \"i\" and \"?\" */\n",
       "\n",
       ".sk-estimator-doc-link,\n",
       "a:link.sk-estimator-doc-link,\n",
       "a:visited.sk-estimator-doc-link {\n",
       "  float: right;\n",
       "  font-size: smaller;\n",
       "  line-height: 1em;\n",
       "  font-family: monospace;\n",
       "  background-color: var(--sklearn-color-background);\n",
       "  border-radius: 1em;\n",
       "  height: 1em;\n",
       "  width: 1em;\n",
       "  text-decoration: none !important;\n",
       "  margin-left: 0.5em;\n",
       "  text-align: center;\n",
       "  /* unfitted */\n",
       "  border: var(--sklearn-color-unfitted-level-1) 1pt solid;\n",
       "  color: var(--sklearn-color-unfitted-level-1);\n",
       "}\n",
       "\n",
       ".sk-estimator-doc-link.fitted,\n",
       "a:link.sk-estimator-doc-link.fitted,\n",
       "a:visited.sk-estimator-doc-link.fitted {\n",
       "  /* fitted */\n",
       "  border: var(--sklearn-color-fitted-level-1) 1pt solid;\n",
       "  color: var(--sklearn-color-fitted-level-1);\n",
       "}\n",
       "\n",
       "/* On hover */\n",
       "div.sk-estimator:hover .sk-estimator-doc-link:hover,\n",
       ".sk-estimator-doc-link:hover,\n",
       "div.sk-label-container:hover .sk-estimator-doc-link:hover,\n",
       ".sk-estimator-doc-link:hover {\n",
       "  /* unfitted */\n",
       "  background-color: var(--sklearn-color-unfitted-level-3);\n",
       "  color: var(--sklearn-color-background);\n",
       "  text-decoration: none;\n",
       "}\n",
       "\n",
       "div.sk-estimator.fitted:hover .sk-estimator-doc-link.fitted:hover,\n",
       ".sk-estimator-doc-link.fitted:hover,\n",
       "div.sk-label-container:hover .sk-estimator-doc-link.fitted:hover,\n",
       ".sk-estimator-doc-link.fitted:hover {\n",
       "  /* fitted */\n",
       "  background-color: var(--sklearn-color-fitted-level-3);\n",
       "  color: var(--sklearn-color-background);\n",
       "  text-decoration: none;\n",
       "}\n",
       "\n",
       "/* Span, style for the box shown on hovering the info icon */\n",
       ".sk-estimator-doc-link span {\n",
       "  display: none;\n",
       "  z-index: 9999;\n",
       "  position: relative;\n",
       "  font-weight: normal;\n",
       "  right: .2ex;\n",
       "  padding: .5ex;\n",
       "  margin: .5ex;\n",
       "  width: min-content;\n",
       "  min-width: 20ex;\n",
       "  max-width: 50ex;\n",
       "  color: var(--sklearn-color-text);\n",
       "  box-shadow: 2pt 2pt 4pt #999;\n",
       "  /* unfitted */\n",
       "  background: var(--sklearn-color-unfitted-level-0);\n",
       "  border: .5pt solid var(--sklearn-color-unfitted-level-3);\n",
       "}\n",
       "\n",
       ".sk-estimator-doc-link.fitted span {\n",
       "  /* fitted */\n",
       "  background: var(--sklearn-color-fitted-level-0);\n",
       "  border: var(--sklearn-color-fitted-level-3);\n",
       "}\n",
       "\n",
       ".sk-estimator-doc-link:hover span {\n",
       "  display: block;\n",
       "}\n",
       "\n",
       "/* \"?\"-specific style due to the `<a>` HTML tag */\n",
       "\n",
       "#sk-container-id-1 a.estimator_doc_link {\n",
       "  float: right;\n",
       "  font-size: 1rem;\n",
       "  line-height: 1em;\n",
       "  font-family: monospace;\n",
       "  background-color: var(--sklearn-color-background);\n",
       "  border-radius: 1rem;\n",
       "  height: 1rem;\n",
       "  width: 1rem;\n",
       "  text-decoration: none;\n",
       "  /* unfitted */\n",
       "  color: var(--sklearn-color-unfitted-level-1);\n",
       "  border: var(--sklearn-color-unfitted-level-1) 1pt solid;\n",
       "}\n",
       "\n",
       "#sk-container-id-1 a.estimator_doc_link.fitted {\n",
       "  /* fitted */\n",
       "  border: var(--sklearn-color-fitted-level-1) 1pt solid;\n",
       "  color: var(--sklearn-color-fitted-level-1);\n",
       "}\n",
       "\n",
       "/* On hover */\n",
       "#sk-container-id-1 a.estimator_doc_link:hover {\n",
       "  /* unfitted */\n",
       "  background-color: var(--sklearn-color-unfitted-level-3);\n",
       "  color: var(--sklearn-color-background);\n",
       "  text-decoration: none;\n",
       "}\n",
       "\n",
       "#sk-container-id-1 a.estimator_doc_link.fitted:hover {\n",
       "  /* fitted */\n",
       "  background-color: var(--sklearn-color-fitted-level-3);\n",
       "}\n",
       "</style><div id=\"sk-container-id-1\" class=\"sk-top-container\"><div class=\"sk-text-repr-fallback\"><pre>GridSearchCV(estimator=KNeighborsClassifier(), n_jobs=-1,\n",
       "             param_grid=[{&#x27;n_neighbors&#x27;: range(1, 10)}],\n",
       "             scoring=make_scorer(fbeta_score, response_method=&#x27;predict&#x27;, beta=2))</pre><b>In a Jupyter environment, please rerun this cell to show the HTML representation or trust the notebook. <br />On GitHub, the HTML representation is unable to render, please try loading this page with nbviewer.org.</b></div><div class=\"sk-container\" hidden><div class=\"sk-item sk-dashed-wrapped\"><div class=\"sk-label-container\"><div class=\"sk-label fitted sk-toggleable\"><input class=\"sk-toggleable__control sk-hidden--visually\" id=\"sk-estimator-id-1\" type=\"checkbox\" ><label for=\"sk-estimator-id-1\" class=\"sk-toggleable__label fitted sk-toggleable__label-arrow\"><div><div>GridSearchCV</div></div><div><a class=\"sk-estimator-doc-link fitted\" rel=\"noreferrer\" target=\"_blank\" href=\"https://scikit-learn.org/1.6/modules/generated/sklearn.model_selection.GridSearchCV.html\">?<span>Documentation for GridSearchCV</span></a><span class=\"sk-estimator-doc-link fitted\">i<span>Fitted</span></span></div></label><div class=\"sk-toggleable__content fitted\"><pre>GridSearchCV(estimator=KNeighborsClassifier(), n_jobs=-1,\n",
       "             param_grid=[{&#x27;n_neighbors&#x27;: range(1, 10)}],\n",
       "             scoring=make_scorer(fbeta_score, response_method=&#x27;predict&#x27;, beta=2))</pre></div> </div></div><div class=\"sk-parallel\"><div class=\"sk-parallel-item\"><div class=\"sk-item\"><div class=\"sk-label-container\"><div class=\"sk-label fitted sk-toggleable\"><input class=\"sk-toggleable__control sk-hidden--visually\" id=\"sk-estimator-id-2\" type=\"checkbox\" ><label for=\"sk-estimator-id-2\" class=\"sk-toggleable__label fitted sk-toggleable__label-arrow\"><div><div>best_estimator_: KNeighborsClassifier</div></div></label><div class=\"sk-toggleable__content fitted\"><pre>KNeighborsClassifier(n_neighbors=1)</pre></div> </div></div><div class=\"sk-serial\"><div class=\"sk-item\"><div class=\"sk-estimator fitted sk-toggleable\"><input class=\"sk-toggleable__control sk-hidden--visually\" id=\"sk-estimator-id-3\" type=\"checkbox\" ><label for=\"sk-estimator-id-3\" class=\"sk-toggleable__label fitted sk-toggleable__label-arrow\"><div><div>KNeighborsClassifier</div></div><div><a class=\"sk-estimator-doc-link fitted\" rel=\"noreferrer\" target=\"_blank\" href=\"https://scikit-learn.org/1.6/modules/generated/sklearn.neighbors.KNeighborsClassifier.html\">?<span>Documentation for KNeighborsClassifier</span></a></div></label><div class=\"sk-toggleable__content fitted\"><pre>KNeighborsClassifier(n_neighbors=1)</pre></div> </div></div></div></div></div></div></div></div></div>"
      ],
      "text/plain": [
       "GridSearchCV(estimator=KNeighborsClassifier(), n_jobs=-1,\n",
       "             param_grid=[{'n_neighbors': range(1, 10)}],\n",
       "             scoring=make_scorer(fbeta_score, response_method='predict', beta=2))"
      ]
     },
     "execution_count": 96,
     "metadata": {},
     "output_type": "execute_result"
    }
   ],
   "source": [
    "param_grid = [ {'n_neighbors':range(1, 10)}]\n",
    "\n",
    "gs = GridSearchCV(KNN(), param_grid, scoring=make_scorer(fbeta_score, beta=2), n_jobs=-1, refit=True)\n",
    "\n",
    "gs.fit(X=train_set, y=y_train)"
   ]
  },
  {
   "cell_type": "markdown",
   "metadata": {},
   "source": [
    "We find out that the best K is 1! Let's see how well our KNN performs:"
   ]
  },
  {
   "cell_type": "code",
   "execution_count": null,
   "metadata": {},
   "outputs": [],
   "source": [
    "knn = gs.best_estimator_  "
   ]
  },
  {
   "cell_type": "code",
   "execution_count": null,
   "metadata": {},
   "outputs": [
    {
     "data": {
      "text/html": [
       "<style>#sk-container-id-4 {\n",
       "  /* Definition of color scheme common for light and dark mode */\n",
       "  --sklearn-color-text: #000;\n",
       "  --sklearn-color-text-muted: #666;\n",
       "  --sklearn-color-line: gray;\n",
       "  /* Definition of color scheme for unfitted estimators */\n",
       "  --sklearn-color-unfitted-level-0: #fff5e6;\n",
       "  --sklearn-color-unfitted-level-1: #f6e4d2;\n",
       "  --sklearn-color-unfitted-level-2: #ffe0b3;\n",
       "  --sklearn-color-unfitted-level-3: chocolate;\n",
       "  /* Definition of color scheme for fitted estimators */\n",
       "  --sklearn-color-fitted-level-0: #f0f8ff;\n",
       "  --sklearn-color-fitted-level-1: #d4ebff;\n",
       "  --sklearn-color-fitted-level-2: #b3dbfd;\n",
       "  --sklearn-color-fitted-level-3: cornflowerblue;\n",
       "\n",
       "  /* Specific color for light theme */\n",
       "  --sklearn-color-text-on-default-background: var(--sg-text-color, var(--theme-code-foreground, var(--jp-content-font-color1, black)));\n",
       "  --sklearn-color-background: var(--sg-background-color, var(--theme-background, var(--jp-layout-color0, white)));\n",
       "  --sklearn-color-border-box: var(--sg-text-color, var(--theme-code-foreground, var(--jp-content-font-color1, black)));\n",
       "  --sklearn-color-icon: #696969;\n",
       "\n",
       "  @media (prefers-color-scheme: dark) {\n",
       "    /* Redefinition of color scheme for dark theme */\n",
       "    --sklearn-color-text-on-default-background: var(--sg-text-color, var(--theme-code-foreground, var(--jp-content-font-color1, white)));\n",
       "    --sklearn-color-background: var(--sg-background-color, var(--theme-background, var(--jp-layout-color0, #111)));\n",
       "    --sklearn-color-border-box: var(--sg-text-color, var(--theme-code-foreground, var(--jp-content-font-color1, white)));\n",
       "    --sklearn-color-icon: #878787;\n",
       "  }\n",
       "}\n",
       "\n",
       "#sk-container-id-4 {\n",
       "  color: var(--sklearn-color-text);\n",
       "}\n",
       "\n",
       "#sk-container-id-4 pre {\n",
       "  padding: 0;\n",
       "}\n",
       "\n",
       "#sk-container-id-4 input.sk-hidden--visually {\n",
       "  border: 0;\n",
       "  clip: rect(1px 1px 1px 1px);\n",
       "  clip: rect(1px, 1px, 1px, 1px);\n",
       "  height: 1px;\n",
       "  margin: -1px;\n",
       "  overflow: hidden;\n",
       "  padding: 0;\n",
       "  position: absolute;\n",
       "  width: 1px;\n",
       "}\n",
       "\n",
       "#sk-container-id-4 div.sk-dashed-wrapped {\n",
       "  border: 1px dashed var(--sklearn-color-line);\n",
       "  margin: 0 0.4em 0.5em 0.4em;\n",
       "  box-sizing: border-box;\n",
       "  padding-bottom: 0.4em;\n",
       "  background-color: var(--sklearn-color-background);\n",
       "}\n",
       "\n",
       "#sk-container-id-4 div.sk-container {\n",
       "  /* jupyter's `normalize.less` sets `[hidden] { display: none; }`\n",
       "     but bootstrap.min.css set `[hidden] { display: none !important; }`\n",
       "     so we also need the `!important` here to be able to override the\n",
       "     default hidden behavior on the sphinx rendered scikit-learn.org.\n",
       "     See: https://github.com/scikit-learn/scikit-learn/issues/21755 */\n",
       "  display: inline-block !important;\n",
       "  position: relative;\n",
       "}\n",
       "\n",
       "#sk-container-id-4 div.sk-text-repr-fallback {\n",
       "  display: none;\n",
       "}\n",
       "\n",
       "div.sk-parallel-item,\n",
       "div.sk-serial,\n",
       "div.sk-item {\n",
       "  /* draw centered vertical line to link estimators */\n",
       "  background-image: linear-gradient(var(--sklearn-color-text-on-default-background), var(--sklearn-color-text-on-default-background));\n",
       "  background-size: 2px 100%;\n",
       "  background-repeat: no-repeat;\n",
       "  background-position: center center;\n",
       "}\n",
       "\n",
       "/* Parallel-specific style estimator block */\n",
       "\n",
       "#sk-container-id-4 div.sk-parallel-item::after {\n",
       "  content: \"\";\n",
       "  width: 100%;\n",
       "  border-bottom: 2px solid var(--sklearn-color-text-on-default-background);\n",
       "  flex-grow: 1;\n",
       "}\n",
       "\n",
       "#sk-container-id-4 div.sk-parallel {\n",
       "  display: flex;\n",
       "  align-items: stretch;\n",
       "  justify-content: center;\n",
       "  background-color: var(--sklearn-color-background);\n",
       "  position: relative;\n",
       "}\n",
       "\n",
       "#sk-container-id-4 div.sk-parallel-item {\n",
       "  display: flex;\n",
       "  flex-direction: column;\n",
       "}\n",
       "\n",
       "#sk-container-id-4 div.sk-parallel-item:first-child::after {\n",
       "  align-self: flex-end;\n",
       "  width: 50%;\n",
       "}\n",
       "\n",
       "#sk-container-id-4 div.sk-parallel-item:last-child::after {\n",
       "  align-self: flex-start;\n",
       "  width: 50%;\n",
       "}\n",
       "\n",
       "#sk-container-id-4 div.sk-parallel-item:only-child::after {\n",
       "  width: 0;\n",
       "}\n",
       "\n",
       "/* Serial-specific style estimator block */\n",
       "\n",
       "#sk-container-id-4 div.sk-serial {\n",
       "  display: flex;\n",
       "  flex-direction: column;\n",
       "  align-items: center;\n",
       "  background-color: var(--sklearn-color-background);\n",
       "  padding-right: 1em;\n",
       "  padding-left: 1em;\n",
       "}\n",
       "\n",
       "\n",
       "/* Toggleable style: style used for estimator/Pipeline/ColumnTransformer box that is\n",
       "clickable and can be expanded/collapsed.\n",
       "- Pipeline and ColumnTransformer use this feature and define the default style\n",
       "- Estimators will overwrite some part of the style using the `sk-estimator` class\n",
       "*/\n",
       "\n",
       "/* Pipeline and ColumnTransformer style (default) */\n",
       "\n",
       "#sk-container-id-4 div.sk-toggleable {\n",
       "  /* Default theme specific background. It is overwritten whether we have a\n",
       "  specific estimator or a Pipeline/ColumnTransformer */\n",
       "  background-color: var(--sklearn-color-background);\n",
       "}\n",
       "\n",
       "/* Toggleable label */\n",
       "#sk-container-id-4 label.sk-toggleable__label {\n",
       "  cursor: pointer;\n",
       "  display: flex;\n",
       "  width: 100%;\n",
       "  margin-bottom: 0;\n",
       "  padding: 0.5em;\n",
       "  box-sizing: border-box;\n",
       "  text-align: center;\n",
       "  align-items: start;\n",
       "  justify-content: space-between;\n",
       "  gap: 0.5em;\n",
       "}\n",
       "\n",
       "#sk-container-id-4 label.sk-toggleable__label .caption {\n",
       "  font-size: 0.6rem;\n",
       "  font-weight: lighter;\n",
       "  color: var(--sklearn-color-text-muted);\n",
       "}\n",
       "\n",
       "#sk-container-id-4 label.sk-toggleable__label-arrow:before {\n",
       "  /* Arrow on the left of the label */\n",
       "  content: \"▸\";\n",
       "  float: left;\n",
       "  margin-right: 0.25em;\n",
       "  color: var(--sklearn-color-icon);\n",
       "}\n",
       "\n",
       "#sk-container-id-4 label.sk-toggleable__label-arrow:hover:before {\n",
       "  color: var(--sklearn-color-text);\n",
       "}\n",
       "\n",
       "/* Toggleable content - dropdown */\n",
       "\n",
       "#sk-container-id-4 div.sk-toggleable__content {\n",
       "  max-height: 0;\n",
       "  max-width: 0;\n",
       "  overflow: hidden;\n",
       "  text-align: left;\n",
       "  /* unfitted */\n",
       "  background-color: var(--sklearn-color-unfitted-level-0);\n",
       "}\n",
       "\n",
       "#sk-container-id-4 div.sk-toggleable__content.fitted {\n",
       "  /* fitted */\n",
       "  background-color: var(--sklearn-color-fitted-level-0);\n",
       "}\n",
       "\n",
       "#sk-container-id-4 div.sk-toggleable__content pre {\n",
       "  margin: 0.2em;\n",
       "  border-radius: 0.25em;\n",
       "  color: var(--sklearn-color-text);\n",
       "  /* unfitted */\n",
       "  background-color: var(--sklearn-color-unfitted-level-0);\n",
       "}\n",
       "\n",
       "#sk-container-id-4 div.sk-toggleable__content.fitted pre {\n",
       "  /* unfitted */\n",
       "  background-color: var(--sklearn-color-fitted-level-0);\n",
       "}\n",
       "\n",
       "#sk-container-id-4 input.sk-toggleable__control:checked~div.sk-toggleable__content {\n",
       "  /* Expand drop-down */\n",
       "  max-height: 200px;\n",
       "  max-width: 100%;\n",
       "  overflow: auto;\n",
       "}\n",
       "\n",
       "#sk-container-id-4 input.sk-toggleable__control:checked~label.sk-toggleable__label-arrow:before {\n",
       "  content: \"▾\";\n",
       "}\n",
       "\n",
       "/* Pipeline/ColumnTransformer-specific style */\n",
       "\n",
       "#sk-container-id-4 div.sk-label input.sk-toggleable__control:checked~label.sk-toggleable__label {\n",
       "  color: var(--sklearn-color-text);\n",
       "  background-color: var(--sklearn-color-unfitted-level-2);\n",
       "}\n",
       "\n",
       "#sk-container-id-4 div.sk-label.fitted input.sk-toggleable__control:checked~label.sk-toggleable__label {\n",
       "  background-color: var(--sklearn-color-fitted-level-2);\n",
       "}\n",
       "\n",
       "/* Estimator-specific style */\n",
       "\n",
       "/* Colorize estimator box */\n",
       "#sk-container-id-4 div.sk-estimator input.sk-toggleable__control:checked~label.sk-toggleable__label {\n",
       "  /* unfitted */\n",
       "  background-color: var(--sklearn-color-unfitted-level-2);\n",
       "}\n",
       "\n",
       "#sk-container-id-4 div.sk-estimator.fitted input.sk-toggleable__control:checked~label.sk-toggleable__label {\n",
       "  /* fitted */\n",
       "  background-color: var(--sklearn-color-fitted-level-2);\n",
       "}\n",
       "\n",
       "#sk-container-id-4 div.sk-label label.sk-toggleable__label,\n",
       "#sk-container-id-4 div.sk-label label {\n",
       "  /* The background is the default theme color */\n",
       "  color: var(--sklearn-color-text-on-default-background);\n",
       "}\n",
       "\n",
       "/* On hover, darken the color of the background */\n",
       "#sk-container-id-4 div.sk-label:hover label.sk-toggleable__label {\n",
       "  color: var(--sklearn-color-text);\n",
       "  background-color: var(--sklearn-color-unfitted-level-2);\n",
       "}\n",
       "\n",
       "/* Label box, darken color on hover, fitted */\n",
       "#sk-container-id-4 div.sk-label.fitted:hover label.sk-toggleable__label.fitted {\n",
       "  color: var(--sklearn-color-text);\n",
       "  background-color: var(--sklearn-color-fitted-level-2);\n",
       "}\n",
       "\n",
       "/* Estimator label */\n",
       "\n",
       "#sk-container-id-4 div.sk-label label {\n",
       "  font-family: monospace;\n",
       "  font-weight: bold;\n",
       "  display: inline-block;\n",
       "  line-height: 1.2em;\n",
       "}\n",
       "\n",
       "#sk-container-id-4 div.sk-label-container {\n",
       "  text-align: center;\n",
       "}\n",
       "\n",
       "/* Estimator-specific */\n",
       "#sk-container-id-4 div.sk-estimator {\n",
       "  font-family: monospace;\n",
       "  border: 1px dotted var(--sklearn-color-border-box);\n",
       "  border-radius: 0.25em;\n",
       "  box-sizing: border-box;\n",
       "  margin-bottom: 0.5em;\n",
       "  /* unfitted */\n",
       "  background-color: var(--sklearn-color-unfitted-level-0);\n",
       "}\n",
       "\n",
       "#sk-container-id-4 div.sk-estimator.fitted {\n",
       "  /* fitted */\n",
       "  background-color: var(--sklearn-color-fitted-level-0);\n",
       "}\n",
       "\n",
       "/* on hover */\n",
       "#sk-container-id-4 div.sk-estimator:hover {\n",
       "  /* unfitted */\n",
       "  background-color: var(--sklearn-color-unfitted-level-2);\n",
       "}\n",
       "\n",
       "#sk-container-id-4 div.sk-estimator.fitted:hover {\n",
       "  /* fitted */\n",
       "  background-color: var(--sklearn-color-fitted-level-2);\n",
       "}\n",
       "\n",
       "/* Specification for estimator info (e.g. \"i\" and \"?\") */\n",
       "\n",
       "/* Common style for \"i\" and \"?\" */\n",
       "\n",
       ".sk-estimator-doc-link,\n",
       "a:link.sk-estimator-doc-link,\n",
       "a:visited.sk-estimator-doc-link {\n",
       "  float: right;\n",
       "  font-size: smaller;\n",
       "  line-height: 1em;\n",
       "  font-family: monospace;\n",
       "  background-color: var(--sklearn-color-background);\n",
       "  border-radius: 1em;\n",
       "  height: 1em;\n",
       "  width: 1em;\n",
       "  text-decoration: none !important;\n",
       "  margin-left: 0.5em;\n",
       "  text-align: center;\n",
       "  /* unfitted */\n",
       "  border: var(--sklearn-color-unfitted-level-1) 1pt solid;\n",
       "  color: var(--sklearn-color-unfitted-level-1);\n",
       "}\n",
       "\n",
       ".sk-estimator-doc-link.fitted,\n",
       "a:link.sk-estimator-doc-link.fitted,\n",
       "a:visited.sk-estimator-doc-link.fitted {\n",
       "  /* fitted */\n",
       "  border: var(--sklearn-color-fitted-level-1) 1pt solid;\n",
       "  color: var(--sklearn-color-fitted-level-1);\n",
       "}\n",
       "\n",
       "/* On hover */\n",
       "div.sk-estimator:hover .sk-estimator-doc-link:hover,\n",
       ".sk-estimator-doc-link:hover,\n",
       "div.sk-label-container:hover .sk-estimator-doc-link:hover,\n",
       ".sk-estimator-doc-link:hover {\n",
       "  /* unfitted */\n",
       "  background-color: var(--sklearn-color-unfitted-level-3);\n",
       "  color: var(--sklearn-color-background);\n",
       "  text-decoration: none;\n",
       "}\n",
       "\n",
       "div.sk-estimator.fitted:hover .sk-estimator-doc-link.fitted:hover,\n",
       ".sk-estimator-doc-link.fitted:hover,\n",
       "div.sk-label-container:hover .sk-estimator-doc-link.fitted:hover,\n",
       ".sk-estimator-doc-link.fitted:hover {\n",
       "  /* fitted */\n",
       "  background-color: var(--sklearn-color-fitted-level-3);\n",
       "  color: var(--sklearn-color-background);\n",
       "  text-decoration: none;\n",
       "}\n",
       "\n",
       "/* Span, style for the box shown on hovering the info icon */\n",
       ".sk-estimator-doc-link span {\n",
       "  display: none;\n",
       "  z-index: 9999;\n",
       "  position: relative;\n",
       "  font-weight: normal;\n",
       "  right: .2ex;\n",
       "  padding: .5ex;\n",
       "  margin: .5ex;\n",
       "  width: min-content;\n",
       "  min-width: 20ex;\n",
       "  max-width: 50ex;\n",
       "  color: var(--sklearn-color-text);\n",
       "  box-shadow: 2pt 2pt 4pt #999;\n",
       "  /* unfitted */\n",
       "  background: var(--sklearn-color-unfitted-level-0);\n",
       "  border: .5pt solid var(--sklearn-color-unfitted-level-3);\n",
       "}\n",
       "\n",
       ".sk-estimator-doc-link.fitted span {\n",
       "  /* fitted */\n",
       "  background: var(--sklearn-color-fitted-level-0);\n",
       "  border: var(--sklearn-color-fitted-level-3);\n",
       "}\n",
       "\n",
       ".sk-estimator-doc-link:hover span {\n",
       "  display: block;\n",
       "}\n",
       "\n",
       "/* \"?\"-specific style due to the `<a>` HTML tag */\n",
       "\n",
       "#sk-container-id-4 a.estimator_doc_link {\n",
       "  float: right;\n",
       "  font-size: 1rem;\n",
       "  line-height: 1em;\n",
       "  font-family: monospace;\n",
       "  background-color: var(--sklearn-color-background);\n",
       "  border-radius: 1rem;\n",
       "  height: 1rem;\n",
       "  width: 1rem;\n",
       "  text-decoration: none;\n",
       "  /* unfitted */\n",
       "  color: var(--sklearn-color-unfitted-level-1);\n",
       "  border: var(--sklearn-color-unfitted-level-1) 1pt solid;\n",
       "}\n",
       "\n",
       "#sk-container-id-4 a.estimator_doc_link.fitted {\n",
       "  /* fitted */\n",
       "  border: var(--sklearn-color-fitted-level-1) 1pt solid;\n",
       "  color: var(--sklearn-color-fitted-level-1);\n",
       "}\n",
       "\n",
       "/* On hover */\n",
       "#sk-container-id-4 a.estimator_doc_link:hover {\n",
       "  /* unfitted */\n",
       "  background-color: var(--sklearn-color-unfitted-level-3);\n",
       "  color: var(--sklearn-color-background);\n",
       "  text-decoration: none;\n",
       "}\n",
       "\n",
       "#sk-container-id-4 a.estimator_doc_link.fitted:hover {\n",
       "  /* fitted */\n",
       "  background-color: var(--sklearn-color-fitted-level-3);\n",
       "}\n",
       "</style><div id=\"sk-container-id-4\" class=\"sk-top-container\"><div class=\"sk-text-repr-fallback\"><pre>KNeighborsClassifier(n_neighbors=1)</pre><b>In a Jupyter environment, please rerun this cell to show the HTML representation or trust the notebook. <br />On GitHub, the HTML representation is unable to render, please try loading this page with nbviewer.org.</b></div><div class=\"sk-container\" hidden><div class=\"sk-item\"><div class=\"sk-estimator fitted sk-toggleable\"><input class=\"sk-toggleable__control sk-hidden--visually\" id=\"sk-estimator-id-6\" type=\"checkbox\" checked><label for=\"sk-estimator-id-6\" class=\"sk-toggleable__label fitted sk-toggleable__label-arrow\"><div><div>KNeighborsClassifier</div></div><div><a class=\"sk-estimator-doc-link fitted\" rel=\"noreferrer\" target=\"_blank\" href=\"https://scikit-learn.org/1.6/modules/generated/sklearn.neighbors.KNeighborsClassifier.html\">?<span>Documentation for KNeighborsClassifier</span></a><span class=\"sk-estimator-doc-link fitted\">i<span>Fitted</span></span></div></label><div class=\"sk-toggleable__content fitted\"><pre>KNeighborsClassifier(n_neighbors=1)</pre></div> </div></div></div></div>"
      ],
      "text/plain": [
       "KNeighborsClassifier(n_neighbors=1)"
      ]
     },
     "execution_count": 269,
     "metadata": {},
     "output_type": "execute_result"
    }
   ],
   "source": [
    "#knn.fit(train_set, y_train)"
   ]
  },
  {
   "cell_type": "markdown",
   "metadata": {},
   "source": [
    "In this case, using K = 1, it doesn't make sense to compute the best treshold:"
   ]
  },
  {
   "cell_type": "code",
   "execution_count": 349,
   "metadata": {},
   "outputs": [],
   "source": [
    "knn_scores = knn.predict_proba(test_set)"
   ]
  },
  {
   "cell_type": "code",
   "execution_count": 350,
   "metadata": {},
   "outputs": [
    {
     "data": {
      "text/plain": [
       "array([0., 1.])"
      ]
     },
     "execution_count": 350,
     "metadata": {},
     "output_type": "execute_result"
    }
   ],
   "source": [
    "np.unique(knn_scores)"
   ]
  },
  {
   "cell_type": "markdown",
   "metadata": {},
   "source": [
    "The optimal treshold would be 0. Let's use predict() to compute our scores."
   ]
  },
  {
   "cell_type": "code",
   "execution_count": 447,
   "metadata": {},
   "outputs": [],
   "source": [
    "y_pred_knn = knn.predict(test_set)\n",
    "scores_df['KNN'] = [recall_score(y_true=y_test, y_pred=y_pred_knn), precision_score(y_true=y_test, y_pred=y_pred_knn),\n",
    "                    f1_score(y_true=y_test, y_pred=y_pred_knn), fbeta_score(y_true=y_test, y_pred=y_pred_knn, beta=2), accuracy_score(y_true=y_test, y_pred=y_pred_knn)]"
   ]
  },
  {
   "cell_type": "code",
   "execution_count": 448,
   "metadata": {},
   "outputs": [
    {
     "data": {
      "text/plain": [
       "recall_score       0.476350\n",
       "precision_score    0.495897\n",
       "accuracy           0.485927\n",
       "f1_score           0.480135\n",
       "fbeta_score        0.537675\n",
       "Name: KNN, dtype: float64"
      ]
     },
     "execution_count": 448,
     "metadata": {},
     "output_type": "execute_result"
    }
   ],
   "source": [
    "scores_df['KNN']"
   ]
  },
  {
   "cell_type": "markdown",
   "metadata": {},
   "source": [
    "Using PCA:"
   ]
  },
  {
   "cell_type": "code",
   "execution_count": 451,
   "metadata": {},
   "outputs": [],
   "source": [
    "knn_pca = KNN()\n",
    "knn_pca = knn_pca.fit(train_set_pca, y_train_pca)\n",
    "y_pred_knn_pca = knn_pca.predict(test_set_pca)\n",
    "scores_df['KNN_PCA'] = [recall_score(y_true=y_test, y_pred=y_pred_knn_pca), precision_score(y_true=y_test, y_pred=y_pred_knn_pca),\n",
    "                    accuracy_score(y_true=y_test, y_pred=y_pred_knn_pca), f1_score(y_true=y_test, y_pred=y_pred_knn_pca), fbeta_score(y_true=y_test, y_pred=y_pred_knn_pca, beta=2)]"
   ]
  },
  {
   "cell_type": "code",
   "execution_count": 452,
   "metadata": {},
   "outputs": [
    {
     "data": {
      "text/plain": [
       "recall_score       0.398201\n",
       "precision_score    0.457562\n",
       "accuracy           0.507409\n",
       "f1_score           0.425822\n",
       "fbeta_score        0.408808\n",
       "Name: KNN_PCA, dtype: float64"
      ]
     },
     "execution_count": 452,
     "metadata": {},
     "output_type": "execute_result"
    }
   ],
   "source": [
    "scores_df['KNN_PCA']"
   ]
  },
  {
   "cell_type": "markdown",
   "metadata": {},
   "source": [
    "## Multi-Layer Perceptron classification"
   ]
  },
  {
   "cell_type": "code",
   "execution_count": 401,
   "metadata": {},
   "outputs": [],
   "source": [
    "from sklearn.neural_network import MLPClassifier"
   ]
  },
  {
   "cell_type": "code",
   "execution_count": 371,
   "metadata": {},
   "outputs": [
    {
     "name": "stderr",
     "output_type": "stream",
     "text": [
      "c:\\Users\\Raffaele\\miniconda3\\envs\\fad\\Lib\\site-packages\\sklearn\\neural_network\\_multilayer_perceptron.py:691: ConvergenceWarning: Stochastic Optimizer: Maximum iterations (200) reached and the optimization hasn't converged yet.\n",
      "  warnings.warn(\n"
     ]
    }
   ],
   "source": [
    "mlp = MLPClassifier().fit(train_set, y_train)"
   ]
  },
  {
   "cell_type": "code",
   "execution_count": 402,
   "metadata": {},
   "outputs": [
    {
     "name": "stdout",
     "output_type": "stream",
     "text": [
      "Optimal Treshold:  0.3056878005188242\n"
     ]
    }
   ],
   "source": [
    "tresh, y_pred_mlp = computePredictions(mlp, test_set, y_test)\n",
    "\n",
    "print(\"Optimal Treshold: \", tresh)"
   ]
  },
  {
   "cell_type": "code",
   "execution_count": 403,
   "metadata": {},
   "outputs": [],
   "source": [
    "mlp_prob = mlp.predict_proba(test_set)"
   ]
  },
  {
   "cell_type": "code",
   "execution_count": 404,
   "metadata": {},
   "outputs": [],
   "source": [
    "#y_pred = mlp.predict(test_set)\n",
    "scores_df['MLP'] = [recall_score(y_true=y_test, y_pred=y_pred_mlp), precision_score(y_true=y_test, y_pred=y_pred_mlp),\n",
    "                    accuracy_score(y_true=y_test, y_pred=y_pred_mlp), f1_score(y_true=y_test, y_pred=y_pred_mlp), fbeta_score(y_true=y_test, y_pred=y_pred_mlp, beta=2)]"
   ]
  },
  {
   "cell_type": "code",
   "execution_count": 405,
   "metadata": {},
   "outputs": [
    {
     "data": {
      "text/plain": [
       "recall_score       0.909683\n",
       "precision_score    0.497167\n",
       "accuracy           0.536536\n",
       "f1_score           0.642946\n",
       "fbeta_score        0.780210\n",
       "Name: MLP, dtype: float64"
      ]
     },
     "execution_count": 405,
     "metadata": {},
     "output_type": "execute_result"
    }
   ],
   "source": [
    "scores_df['MLP']"
   ]
  },
  {
   "cell_type": "markdown",
   "metadata": {},
   "source": [
    "Using PCA:"
   ]
  },
  {
   "cell_type": "markdown",
   "metadata": {},
   "source": [
    "## Naive Bayes"
   ]
  },
  {
   "cell_type": "code",
   "execution_count": 407,
   "metadata": {},
   "outputs": [],
   "source": [
    "from sklearn.naive_bayes import GaussianNB"
   ]
  },
  {
   "cell_type": "code",
   "execution_count": 408,
   "metadata": {},
   "outputs": [
    {
     "data": {
      "text/html": [
       "<style>#sk-container-id-6 {\n",
       "  /* Definition of color scheme common for light and dark mode */\n",
       "  --sklearn-color-text: #000;\n",
       "  --sklearn-color-text-muted: #666;\n",
       "  --sklearn-color-line: gray;\n",
       "  /* Definition of color scheme for unfitted estimators */\n",
       "  --sklearn-color-unfitted-level-0: #fff5e6;\n",
       "  --sklearn-color-unfitted-level-1: #f6e4d2;\n",
       "  --sklearn-color-unfitted-level-2: #ffe0b3;\n",
       "  --sklearn-color-unfitted-level-3: chocolate;\n",
       "  /* Definition of color scheme for fitted estimators */\n",
       "  --sklearn-color-fitted-level-0: #f0f8ff;\n",
       "  --sklearn-color-fitted-level-1: #d4ebff;\n",
       "  --sklearn-color-fitted-level-2: #b3dbfd;\n",
       "  --sklearn-color-fitted-level-3: cornflowerblue;\n",
       "\n",
       "  /* Specific color for light theme */\n",
       "  --sklearn-color-text-on-default-background: var(--sg-text-color, var(--theme-code-foreground, var(--jp-content-font-color1, black)));\n",
       "  --sklearn-color-background: var(--sg-background-color, var(--theme-background, var(--jp-layout-color0, white)));\n",
       "  --sklearn-color-border-box: var(--sg-text-color, var(--theme-code-foreground, var(--jp-content-font-color1, black)));\n",
       "  --sklearn-color-icon: #696969;\n",
       "\n",
       "  @media (prefers-color-scheme: dark) {\n",
       "    /* Redefinition of color scheme for dark theme */\n",
       "    --sklearn-color-text-on-default-background: var(--sg-text-color, var(--theme-code-foreground, var(--jp-content-font-color1, white)));\n",
       "    --sklearn-color-background: var(--sg-background-color, var(--theme-background, var(--jp-layout-color0, #111)));\n",
       "    --sklearn-color-border-box: var(--sg-text-color, var(--theme-code-foreground, var(--jp-content-font-color1, white)));\n",
       "    --sklearn-color-icon: #878787;\n",
       "  }\n",
       "}\n",
       "\n",
       "#sk-container-id-6 {\n",
       "  color: var(--sklearn-color-text);\n",
       "}\n",
       "\n",
       "#sk-container-id-6 pre {\n",
       "  padding: 0;\n",
       "}\n",
       "\n",
       "#sk-container-id-6 input.sk-hidden--visually {\n",
       "  border: 0;\n",
       "  clip: rect(1px 1px 1px 1px);\n",
       "  clip: rect(1px, 1px, 1px, 1px);\n",
       "  height: 1px;\n",
       "  margin: -1px;\n",
       "  overflow: hidden;\n",
       "  padding: 0;\n",
       "  position: absolute;\n",
       "  width: 1px;\n",
       "}\n",
       "\n",
       "#sk-container-id-6 div.sk-dashed-wrapped {\n",
       "  border: 1px dashed var(--sklearn-color-line);\n",
       "  margin: 0 0.4em 0.5em 0.4em;\n",
       "  box-sizing: border-box;\n",
       "  padding-bottom: 0.4em;\n",
       "  background-color: var(--sklearn-color-background);\n",
       "}\n",
       "\n",
       "#sk-container-id-6 div.sk-container {\n",
       "  /* jupyter's `normalize.less` sets `[hidden] { display: none; }`\n",
       "     but bootstrap.min.css set `[hidden] { display: none !important; }`\n",
       "     so we also need the `!important` here to be able to override the\n",
       "     default hidden behavior on the sphinx rendered scikit-learn.org.\n",
       "     See: https://github.com/scikit-learn/scikit-learn/issues/21755 */\n",
       "  display: inline-block !important;\n",
       "  position: relative;\n",
       "}\n",
       "\n",
       "#sk-container-id-6 div.sk-text-repr-fallback {\n",
       "  display: none;\n",
       "}\n",
       "\n",
       "div.sk-parallel-item,\n",
       "div.sk-serial,\n",
       "div.sk-item {\n",
       "  /* draw centered vertical line to link estimators */\n",
       "  background-image: linear-gradient(var(--sklearn-color-text-on-default-background), var(--sklearn-color-text-on-default-background));\n",
       "  background-size: 2px 100%;\n",
       "  background-repeat: no-repeat;\n",
       "  background-position: center center;\n",
       "}\n",
       "\n",
       "/* Parallel-specific style estimator block */\n",
       "\n",
       "#sk-container-id-6 div.sk-parallel-item::after {\n",
       "  content: \"\";\n",
       "  width: 100%;\n",
       "  border-bottom: 2px solid var(--sklearn-color-text-on-default-background);\n",
       "  flex-grow: 1;\n",
       "}\n",
       "\n",
       "#sk-container-id-6 div.sk-parallel {\n",
       "  display: flex;\n",
       "  align-items: stretch;\n",
       "  justify-content: center;\n",
       "  background-color: var(--sklearn-color-background);\n",
       "  position: relative;\n",
       "}\n",
       "\n",
       "#sk-container-id-6 div.sk-parallel-item {\n",
       "  display: flex;\n",
       "  flex-direction: column;\n",
       "}\n",
       "\n",
       "#sk-container-id-6 div.sk-parallel-item:first-child::after {\n",
       "  align-self: flex-end;\n",
       "  width: 50%;\n",
       "}\n",
       "\n",
       "#sk-container-id-6 div.sk-parallel-item:last-child::after {\n",
       "  align-self: flex-start;\n",
       "  width: 50%;\n",
       "}\n",
       "\n",
       "#sk-container-id-6 div.sk-parallel-item:only-child::after {\n",
       "  width: 0;\n",
       "}\n",
       "\n",
       "/* Serial-specific style estimator block */\n",
       "\n",
       "#sk-container-id-6 div.sk-serial {\n",
       "  display: flex;\n",
       "  flex-direction: column;\n",
       "  align-items: center;\n",
       "  background-color: var(--sklearn-color-background);\n",
       "  padding-right: 1em;\n",
       "  padding-left: 1em;\n",
       "}\n",
       "\n",
       "\n",
       "/* Toggleable style: style used for estimator/Pipeline/ColumnTransformer box that is\n",
       "clickable and can be expanded/collapsed.\n",
       "- Pipeline and ColumnTransformer use this feature and define the default style\n",
       "- Estimators will overwrite some part of the style using the `sk-estimator` class\n",
       "*/\n",
       "\n",
       "/* Pipeline and ColumnTransformer style (default) */\n",
       "\n",
       "#sk-container-id-6 div.sk-toggleable {\n",
       "  /* Default theme specific background. It is overwritten whether we have a\n",
       "  specific estimator or a Pipeline/ColumnTransformer */\n",
       "  background-color: var(--sklearn-color-background);\n",
       "}\n",
       "\n",
       "/* Toggleable label */\n",
       "#sk-container-id-6 label.sk-toggleable__label {\n",
       "  cursor: pointer;\n",
       "  display: flex;\n",
       "  width: 100%;\n",
       "  margin-bottom: 0;\n",
       "  padding: 0.5em;\n",
       "  box-sizing: border-box;\n",
       "  text-align: center;\n",
       "  align-items: start;\n",
       "  justify-content: space-between;\n",
       "  gap: 0.5em;\n",
       "}\n",
       "\n",
       "#sk-container-id-6 label.sk-toggleable__label .caption {\n",
       "  font-size: 0.6rem;\n",
       "  font-weight: lighter;\n",
       "  color: var(--sklearn-color-text-muted);\n",
       "}\n",
       "\n",
       "#sk-container-id-6 label.sk-toggleable__label-arrow:before {\n",
       "  /* Arrow on the left of the label */\n",
       "  content: \"▸\";\n",
       "  float: left;\n",
       "  margin-right: 0.25em;\n",
       "  color: var(--sklearn-color-icon);\n",
       "}\n",
       "\n",
       "#sk-container-id-6 label.sk-toggleable__label-arrow:hover:before {\n",
       "  color: var(--sklearn-color-text);\n",
       "}\n",
       "\n",
       "/* Toggleable content - dropdown */\n",
       "\n",
       "#sk-container-id-6 div.sk-toggleable__content {\n",
       "  max-height: 0;\n",
       "  max-width: 0;\n",
       "  overflow: hidden;\n",
       "  text-align: left;\n",
       "  /* unfitted */\n",
       "  background-color: var(--sklearn-color-unfitted-level-0);\n",
       "}\n",
       "\n",
       "#sk-container-id-6 div.sk-toggleable__content.fitted {\n",
       "  /* fitted */\n",
       "  background-color: var(--sklearn-color-fitted-level-0);\n",
       "}\n",
       "\n",
       "#sk-container-id-6 div.sk-toggleable__content pre {\n",
       "  margin: 0.2em;\n",
       "  border-radius: 0.25em;\n",
       "  color: var(--sklearn-color-text);\n",
       "  /* unfitted */\n",
       "  background-color: var(--sklearn-color-unfitted-level-0);\n",
       "}\n",
       "\n",
       "#sk-container-id-6 div.sk-toggleable__content.fitted pre {\n",
       "  /* unfitted */\n",
       "  background-color: var(--sklearn-color-fitted-level-0);\n",
       "}\n",
       "\n",
       "#sk-container-id-6 input.sk-toggleable__control:checked~div.sk-toggleable__content {\n",
       "  /* Expand drop-down */\n",
       "  max-height: 200px;\n",
       "  max-width: 100%;\n",
       "  overflow: auto;\n",
       "}\n",
       "\n",
       "#sk-container-id-6 input.sk-toggleable__control:checked~label.sk-toggleable__label-arrow:before {\n",
       "  content: \"▾\";\n",
       "}\n",
       "\n",
       "/* Pipeline/ColumnTransformer-specific style */\n",
       "\n",
       "#sk-container-id-6 div.sk-label input.sk-toggleable__control:checked~label.sk-toggleable__label {\n",
       "  color: var(--sklearn-color-text);\n",
       "  background-color: var(--sklearn-color-unfitted-level-2);\n",
       "}\n",
       "\n",
       "#sk-container-id-6 div.sk-label.fitted input.sk-toggleable__control:checked~label.sk-toggleable__label {\n",
       "  background-color: var(--sklearn-color-fitted-level-2);\n",
       "}\n",
       "\n",
       "/* Estimator-specific style */\n",
       "\n",
       "/* Colorize estimator box */\n",
       "#sk-container-id-6 div.sk-estimator input.sk-toggleable__control:checked~label.sk-toggleable__label {\n",
       "  /* unfitted */\n",
       "  background-color: var(--sklearn-color-unfitted-level-2);\n",
       "}\n",
       "\n",
       "#sk-container-id-6 div.sk-estimator.fitted input.sk-toggleable__control:checked~label.sk-toggleable__label {\n",
       "  /* fitted */\n",
       "  background-color: var(--sklearn-color-fitted-level-2);\n",
       "}\n",
       "\n",
       "#sk-container-id-6 div.sk-label label.sk-toggleable__label,\n",
       "#sk-container-id-6 div.sk-label label {\n",
       "  /* The background is the default theme color */\n",
       "  color: var(--sklearn-color-text-on-default-background);\n",
       "}\n",
       "\n",
       "/* On hover, darken the color of the background */\n",
       "#sk-container-id-6 div.sk-label:hover label.sk-toggleable__label {\n",
       "  color: var(--sklearn-color-text);\n",
       "  background-color: var(--sklearn-color-unfitted-level-2);\n",
       "}\n",
       "\n",
       "/* Label box, darken color on hover, fitted */\n",
       "#sk-container-id-6 div.sk-label.fitted:hover label.sk-toggleable__label.fitted {\n",
       "  color: var(--sklearn-color-text);\n",
       "  background-color: var(--sklearn-color-fitted-level-2);\n",
       "}\n",
       "\n",
       "/* Estimator label */\n",
       "\n",
       "#sk-container-id-6 div.sk-label label {\n",
       "  font-family: monospace;\n",
       "  font-weight: bold;\n",
       "  display: inline-block;\n",
       "  line-height: 1.2em;\n",
       "}\n",
       "\n",
       "#sk-container-id-6 div.sk-label-container {\n",
       "  text-align: center;\n",
       "}\n",
       "\n",
       "/* Estimator-specific */\n",
       "#sk-container-id-6 div.sk-estimator {\n",
       "  font-family: monospace;\n",
       "  border: 1px dotted var(--sklearn-color-border-box);\n",
       "  border-radius: 0.25em;\n",
       "  box-sizing: border-box;\n",
       "  margin-bottom: 0.5em;\n",
       "  /* unfitted */\n",
       "  background-color: var(--sklearn-color-unfitted-level-0);\n",
       "}\n",
       "\n",
       "#sk-container-id-6 div.sk-estimator.fitted {\n",
       "  /* fitted */\n",
       "  background-color: var(--sklearn-color-fitted-level-0);\n",
       "}\n",
       "\n",
       "/* on hover */\n",
       "#sk-container-id-6 div.sk-estimator:hover {\n",
       "  /* unfitted */\n",
       "  background-color: var(--sklearn-color-unfitted-level-2);\n",
       "}\n",
       "\n",
       "#sk-container-id-6 div.sk-estimator.fitted:hover {\n",
       "  /* fitted */\n",
       "  background-color: var(--sklearn-color-fitted-level-2);\n",
       "}\n",
       "\n",
       "/* Specification for estimator info (e.g. \"i\" and \"?\") */\n",
       "\n",
       "/* Common style for \"i\" and \"?\" */\n",
       "\n",
       ".sk-estimator-doc-link,\n",
       "a:link.sk-estimator-doc-link,\n",
       "a:visited.sk-estimator-doc-link {\n",
       "  float: right;\n",
       "  font-size: smaller;\n",
       "  line-height: 1em;\n",
       "  font-family: monospace;\n",
       "  background-color: var(--sklearn-color-background);\n",
       "  border-radius: 1em;\n",
       "  height: 1em;\n",
       "  width: 1em;\n",
       "  text-decoration: none !important;\n",
       "  margin-left: 0.5em;\n",
       "  text-align: center;\n",
       "  /* unfitted */\n",
       "  border: var(--sklearn-color-unfitted-level-1) 1pt solid;\n",
       "  color: var(--sklearn-color-unfitted-level-1);\n",
       "}\n",
       "\n",
       ".sk-estimator-doc-link.fitted,\n",
       "a:link.sk-estimator-doc-link.fitted,\n",
       "a:visited.sk-estimator-doc-link.fitted {\n",
       "  /* fitted */\n",
       "  border: var(--sklearn-color-fitted-level-1) 1pt solid;\n",
       "  color: var(--sklearn-color-fitted-level-1);\n",
       "}\n",
       "\n",
       "/* On hover */\n",
       "div.sk-estimator:hover .sk-estimator-doc-link:hover,\n",
       ".sk-estimator-doc-link:hover,\n",
       "div.sk-label-container:hover .sk-estimator-doc-link:hover,\n",
       ".sk-estimator-doc-link:hover {\n",
       "  /* unfitted */\n",
       "  background-color: var(--sklearn-color-unfitted-level-3);\n",
       "  color: var(--sklearn-color-background);\n",
       "  text-decoration: none;\n",
       "}\n",
       "\n",
       "div.sk-estimator.fitted:hover .sk-estimator-doc-link.fitted:hover,\n",
       ".sk-estimator-doc-link.fitted:hover,\n",
       "div.sk-label-container:hover .sk-estimator-doc-link.fitted:hover,\n",
       ".sk-estimator-doc-link.fitted:hover {\n",
       "  /* fitted */\n",
       "  background-color: var(--sklearn-color-fitted-level-3);\n",
       "  color: var(--sklearn-color-background);\n",
       "  text-decoration: none;\n",
       "}\n",
       "\n",
       "/* Span, style for the box shown on hovering the info icon */\n",
       ".sk-estimator-doc-link span {\n",
       "  display: none;\n",
       "  z-index: 9999;\n",
       "  position: relative;\n",
       "  font-weight: normal;\n",
       "  right: .2ex;\n",
       "  padding: .5ex;\n",
       "  margin: .5ex;\n",
       "  width: min-content;\n",
       "  min-width: 20ex;\n",
       "  max-width: 50ex;\n",
       "  color: var(--sklearn-color-text);\n",
       "  box-shadow: 2pt 2pt 4pt #999;\n",
       "  /* unfitted */\n",
       "  background: var(--sklearn-color-unfitted-level-0);\n",
       "  border: .5pt solid var(--sklearn-color-unfitted-level-3);\n",
       "}\n",
       "\n",
       ".sk-estimator-doc-link.fitted span {\n",
       "  /* fitted */\n",
       "  background: var(--sklearn-color-fitted-level-0);\n",
       "  border: var(--sklearn-color-fitted-level-3);\n",
       "}\n",
       "\n",
       ".sk-estimator-doc-link:hover span {\n",
       "  display: block;\n",
       "}\n",
       "\n",
       "/* \"?\"-specific style due to the `<a>` HTML tag */\n",
       "\n",
       "#sk-container-id-6 a.estimator_doc_link {\n",
       "  float: right;\n",
       "  font-size: 1rem;\n",
       "  line-height: 1em;\n",
       "  font-family: monospace;\n",
       "  background-color: var(--sklearn-color-background);\n",
       "  border-radius: 1rem;\n",
       "  height: 1rem;\n",
       "  width: 1rem;\n",
       "  text-decoration: none;\n",
       "  /* unfitted */\n",
       "  color: var(--sklearn-color-unfitted-level-1);\n",
       "  border: var(--sklearn-color-unfitted-level-1) 1pt solid;\n",
       "}\n",
       "\n",
       "#sk-container-id-6 a.estimator_doc_link.fitted {\n",
       "  /* fitted */\n",
       "  border: var(--sklearn-color-fitted-level-1) 1pt solid;\n",
       "  color: var(--sklearn-color-fitted-level-1);\n",
       "}\n",
       "\n",
       "/* On hover */\n",
       "#sk-container-id-6 a.estimator_doc_link:hover {\n",
       "  /* unfitted */\n",
       "  background-color: var(--sklearn-color-unfitted-level-3);\n",
       "  color: var(--sklearn-color-background);\n",
       "  text-decoration: none;\n",
       "}\n",
       "\n",
       "#sk-container-id-6 a.estimator_doc_link.fitted:hover {\n",
       "  /* fitted */\n",
       "  background-color: var(--sklearn-color-fitted-level-3);\n",
       "}\n",
       "</style><div id=\"sk-container-id-6\" class=\"sk-top-container\"><div class=\"sk-text-repr-fallback\"><pre>GaussianNB()</pre><b>In a Jupyter environment, please rerun this cell to show the HTML representation or trust the notebook. <br />On GitHub, the HTML representation is unable to render, please try loading this page with nbviewer.org.</b></div><div class=\"sk-container\" hidden><div class=\"sk-item\"><div class=\"sk-estimator fitted sk-toggleable\"><input class=\"sk-toggleable__control sk-hidden--visually\" id=\"sk-estimator-id-8\" type=\"checkbox\" checked><label for=\"sk-estimator-id-8\" class=\"sk-toggleable__label fitted sk-toggleable__label-arrow\"><div><div>GaussianNB</div></div><div><a class=\"sk-estimator-doc-link fitted\" rel=\"noreferrer\" target=\"_blank\" href=\"https://scikit-learn.org/1.6/modules/generated/sklearn.naive_bayes.GaussianNB.html\">?<span>Documentation for GaussianNB</span></a><span class=\"sk-estimator-doc-link fitted\">i<span>Fitted</span></span></div></label><div class=\"sk-toggleable__content fitted\"><pre>GaussianNB()</pre></div> </div></div></div></div>"
      ],
      "text/plain": [
       "GaussianNB()"
      ]
     },
     "execution_count": 408,
     "metadata": {},
     "output_type": "execute_result"
    }
   ],
   "source": [
    "gb = GaussianNB()\n",
    "gb.fit(train_set, y_train)"
   ]
  },
  {
   "cell_type": "code",
   "execution_count": 409,
   "metadata": {},
   "outputs": [
    {
     "name": "stdout",
     "output_type": "stream",
     "text": [
      "Optimal treshold:  2.666206798586177e-19\n"
     ]
    }
   ],
   "source": [
    "opt_tresh, y_pred_gb = computePredictions(gb, test_set, y_test)\n",
    "print(\"Optimal treshold: \", opt_tresh)"
   ]
  },
  {
   "cell_type": "markdown",
   "metadata": {},
   "source": [
    "Like our MLP, the treshold is almost zero."
   ]
  },
  {
   "cell_type": "code",
   "execution_count": 410,
   "metadata": {},
   "outputs": [],
   "source": [
    "scores_df['GB'] = [recall_score(y_true=y_test, y_pred=y_pred_gb), precision_score(y_true=y_test, y_pred=y_pred_gb),\n",
    "                    accuracy_score(y_true=y_test, y_pred=y_pred_gb), f1_score(y_true=y_test, y_pred=y_pred_gb), fbeta_score(y_true=y_test, y_pred=y_pred_gb, beta=2)]"
   ]
  },
  {
   "cell_type": "code",
   "execution_count": 411,
   "metadata": {},
   "outputs": [
    {
     "data": {
      "text/plain": [
       "recall_score       0.995373\n",
       "precision_score    0.459930\n",
       "accuracy           0.461735\n",
       "f1_score           0.629150\n",
       "fbeta_score        0.807384\n",
       "Name: GB, dtype: float64"
      ]
     },
     "execution_count": 411,
     "metadata": {},
     "output_type": "execute_result"
    }
   ],
   "source": [
    "scores_df['GB']"
   ]
  },
  {
   "cell_type": "markdown",
   "metadata": {},
   "source": [
    "Using PCA:"
   ]
  },
  {
   "cell_type": "markdown",
   "metadata": {},
   "source": [
    "## Classifiers comparison"
   ]
  },
  {
   "cell_type": "markdown",
   "metadata": {},
   "source": [
    "Let's plot ROC curves for each classifiers to compare them. First, let's consider classifiers trained without using PCA before training."
   ]
  },
  {
   "cell_type": "code",
   "execution_count": null,
   "metadata": {},
   "outputs": [
    {
     "data": {
      "image/png": "[encoded data removed]",
      "text/plain": [
       "<Figure size 1200x900 with 1 Axes>"
      ]
     },
     "metadata": {},
     "output_type": "display_data"
    }
   ],
   "source": [
    "plt.figure(figsize=(12, 9))\n",
    "\n",
    "worst_curve = np.linspace(0,1,100)\n",
    "ideal_curve = np.ones(100)\n",
    "aucs = []\n",
    "\n",
    "plt.plot([0]+list(worst_curve),[0]+list(ideal_curve))\n",
    "plt.plot(worst_curve, worst_curve)\n",
    "\n",
    "plt.grid()\n",
    "plt.xlabel('False Positive Rate')\n",
    "plt.ylabel('True Positive Rate')\n",
    "plt.title('ROC Curves')\n",
    "\n",
    "models = [lda, qda, knn, mlp, gb]\n",
    "\n",
    "for model in models:\n",
    "    s = model.predict_proba(test_set)[:, 1]\n",
    "    fpr, tpr, t = roc_curve(y_true=y_test, y_score=s)\n",
    "    aucs.append(roc_auc_score(y_test, s))\n",
    "    plt.plot(fpr, tpr)\n",
    "\n",
    "plt.legend(['Ideal Curve','Worst Curve', 'LDA', 'QDA', 'KNN', 'MLP', 'GB'])\n",
    "\n",
    "plt.show()\n",
    "    "
   ]
  },
  {
   "cell_type": "code",
   "execution_count": 418,
   "metadata": {},
   "outputs": [
    {
     "data": {
      "text/plain": [
       "(np.int64(3), np.float64(0.6609115146224911))"
      ]
     },
     "execution_count": 418,
     "metadata": {},
     "output_type": "execute_result"
    }
   ],
   "source": [
    "np.argmax(aucs), np.max(aucs)"
   ]
  },
  {
   "cell_type": "markdown",
   "metadata": {},
   "source": [
    "From the plot above and the HORIZONTAL BARS we find that the best, final classifier is our MLP."
   ]
  },
  {
   "cell_type": "code",
   "execution_count": null,
   "metadata": {},
   "outputs": [],
   "source": [
    "plt.figure(figsize=(12, 9))\n",
    "\n",
    "worst_curve = np.linspace(0,1,100)\n",
    "ideal_curve = np.ones(100)\n",
    "aucs = []\n",
    "\n",
    "plt.plot([0]+list(worst_curve),[0]+list(ideal_curve))\n",
    "plt.plot(worst_curve, worst_curve)\n",
    "\n",
    "plt.grid()\n",
    "plt.xlabel('False Positive Rate')\n",
    "plt.ylabel('True Positive Rate')\n",
    "plt.title('ROC Curves')\n",
    "\n",
    "models = [lda_pca, qda_pca, knn_pca, mlp_pca, gb_pca]\n",
    "\n",
    "for model in models:\n",
    "    s = model.predict_proba(test_set)[:, 1]\n",
    "    fpr, tpr, t = roc_curve(y_true=y_test, y_score=s)\n",
    "    aucs.append(roc_auc_score(y_test, s))\n",
    "    plt.plot(fpr, tpr)\n",
    "\n",
    "plt.legend(['Ideal Curve','Worst Curve', 'LDA', 'QDA', 'KNN', 'MLP', 'GB'])\n",
    "\n",
    "plt.show()\n",
    "    "
   ]
  },
  {
   "cell_type": "markdown",
   "metadata": {},
   "source": [
    "The best classifier is still the MLP. However, using PCA we have an AUC of:"
   ]
  },
  {
   "cell_type": "markdown",
   "metadata": {},
   "source": [
    "Which is smaller than the AUC computed without using PCA before traning. "
   ]
  },
  {
   "cell_type": "markdown",
   "metadata": {},
   "source": [
    "## Conclusions"
   ]
  },
  {
   "cell_type": "markdown",
   "metadata": {},
   "source": [
    "We can say that the best classifier we have built is a Multi-Layer-Perceptron, with the following metrics:"
   ]
  },
  {
   "cell_type": "markdown",
   "metadata": {},
   "source": []
  }
 ],
 "metadata": {
  "kernelspec": {
   "display_name": "fad",
   "language": "python",
   "name": "python3"
  },
  "language_info": {
   "codemirror_mode": {
    "name": "ipython",
    "version": 3
   },
   "file_extension": ".py",
   "mimetype": "text/x-python",
   "name": "python",
   "nbconvert_exporter": "python",
   "pygments_lexer": "ipython3",
   "version": "3.12.7"
  }
 },
 "nbformat": 4,
 "nbformat_minor": 2
}
